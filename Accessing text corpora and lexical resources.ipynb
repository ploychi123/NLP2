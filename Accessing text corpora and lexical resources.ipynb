{
 "cells": [
  {
   "cell_type": "markdown",
   "metadata": {
    "id": "jFCaoAMK1pIJ"
   },
   "source": [
    "#2. Accessing text corpora and lexical resources\n",
    "\n",
    "## **คลังคำและคลังข้อความ**"
   ]
  },
  {
   "cell_type": "markdown",
   "metadata": {
    "id": "jqzqICY81pIM"
   },
   "source": [
    "### วัตถุประสงค์การเรียน\n",
    "\n",
    "-  รู้จักความหมายคลังคำและคลังข้อความ \n",
    "-  สามารถเข้าถึงคลังคำและคลังข้อความ และเลือกใช้ได้อย่างเหมาะสม \n",
    "-  ประยุกต์คลังคำและคลังข้อความ เพื่อประมวลผลหาสถิติที่น่าสนใจได้ \n",
    "-  สามารถใช้คำสั่งใน NLTK เพื่อใช้งานคลังคำและคลังข้อความใน NLTK ได้ \n",
    "-  รู้จักโครงสร้างของพจนานุกรม WordNet และสามารถเขียนคำสั่งเพื่อเรียกใช้งานได้"
   ]
  },
  {
   "cell_type": "markdown",
   "metadata": {
    "id": "m5k_OI181pIN"
   },
   "source": [
    "### **คลังข้อความ**\n",
    "\n",
    "คลังข้อความ (text corpora) คือ ข้อความปริมาณมากที่จัดเก็บไว้ด้วยกัน \n",
    "\n",
    "- ใน NLTK มีหลายคลังข้อความให้ใช้งาน \n",
    "- แต่ละคลังข้อความจะได้จากการรวบรวมเอกสารจำนวนมากไว้ด้วยกัน \n",
    "- ลักษณะของเอกสารในแต่ละคลังก็แตกต่างกันไป \n",
    "- บางคลังอาจจะมีการจัดแบ่งเป็นหมวดหมู่ย่อยไว้อยู่ภายในด้วย เช่น คลังข้อความข่าว แบ่งเป็นหมวดการเมือง กีฬา บันเทิง และอาชญากรรม \n",
    "\n",
    "ในบทที่ 1 เราได้ทดลองใช้คาสั่งเบื้องต้นกับ text1, text2, …, text9 จาก nltk.book ซึ่งข้อความเหล่านี้ก็เป็นตัวอย่างหนึ่งของคลังข้อความที่รวบรวมจากหนังสือหรือเอกสารจานวนมากไว้ให้ใช้ใน NLTK"
   ]
  },
  {
   "cell_type": "markdown",
   "metadata": {
    "id": "zz255_SK1pIN"
   },
   "source": [
    "### **คลังคำศัพท์**\n",
    "\n",
    "คลังคำศัพท์ (lexical resources) เป็นการรวบรวมคำศัพท์ที่เกี่ยวข้องกันเข้าไว้กัน ตัวอย่างเช่น \n",
    "\n",
    "- คลังคำหยุด (stop words) เป็นการรวบรวมคำหยุด ซึ่งเป็นคำที่พบได้ทั่วไป ไม่มีความหมายพิเศษ จึงเป็นกลุ่มคำที่ไม่นำมาประมวลผลการในงานค้นคืน และไม่นิยมนำมาประมวลผลในงานประมวลผลภาษาธรรมชาติหลายๆ งาน\n",
    "- พจนานุกรม เป็นการรวบรวมคำศัพท์และข้อมูลที่เกี่ยวข้องเข้าไว้ด้วยกัน เช่น พจนานุกรมภาษาอังกฤษ ที่เก็บคำศัพท์ พร้อมทั้งหน้าที่ของคำ และความหมายไว้ด้วยกัน"
   ]
  },
  {
   "cell_type": "markdown",
   "metadata": {
    "id": "5J5kFyDC1pIO"
   },
   "source": [
    "## 2.1 การเข้าถึงและใช้งานคลังข้อความ\n",
    "\n",
    "ใน NLTK มีหลายคลังข้อความให้ใช้งาน ในส่วนนี้จะแสดงตัวอย่างการเข้าถึงและใช้งานบางคลังข้อความดังต่อไปนี้ \n",
    "\n",
    "- Gutenberg corpus คลังหนังสืออิเล็กทรอนิกส์ขนาดใหญ่ ส่วนใหญ่จะเป็นวรรณกรรม \n",
    "- Web and Chat text คลังที่รวบรวมภาษาที่ปรากฏในเว็บหรือบทสนทนา \n",
    "- Brown corpus คลังที่รวบรวมคาจากหนังสือหรือวารสารต่างๆ โดยมีการจัดแบ่งเป็นหมวดหมู่ \n",
    "- Inaugural address คลังที่รวบรวมคำปราศรัยของประธานาธิบดีของสหรัฐอเมริกาในวันเข้ารับตำแหน่งอย่างเป็นทางการ โดยจัดเก็บเป็นไฟล์ตามปี ค.ศ.\n"
   ]
  },
  {
   "cell_type": "markdown",
   "metadata": {
    "id": "xZQ3BIhX1pIO"
   },
   "source": [
    "### โครงสร้างคลังข้อความ\n",
    "\n",
    "คลังข้อความแต่ละคลังใน NLTK มีโครงสร้างที่หลากหลากรูปแบบดังแสดงในรูป 2.1 \n",
    "\n",
    "- โครงสร้างแบบง่ายที่สุด คือ แบบที่ไม่มีโครงสร้างใดๆ เป็นการรวบรวมข้อความเข้าด้วยกันเท่านั้น \n",
    "- โครงสร้างแบบจัดกลุ่มแยกตามประเภท แหล่งที่มา ผู้แต่ง หรือภาษา \n",
    "- โครงสร้างแบบมีการจัดกลุ่มที่ทับซ้อน นั่นคือ ไฟล์หนึ่งๆ อาจจะจัดอยู่ได้หลายกลุ่ม \n",
    "- โครงสร้างแบบแยกตามช่วงเวลา\n",
    "\n",
    "<img src=\"https://www.nltk.org/images/text-corpus-structure.png\" alt=\"corpus structure\" title=\"Corpus Structure\" width=\"600\"  />\n",
    "             \n",
    "                               รูปที่ 2.1 โครงสร้างของคลังข้อความและตัวอย่างของคลังข้อความแบ่งตามโครงสร้าง\n",
    "                             \n",
    "การเข้าถึงข้อความในคลังต่างๆ จะมี nltk.corpus.reader ซึ่งเป็นโมดูลที่รวบรวมชุดคำสั่งที่ใช้สาหรับคลังข้อความ ซึ่งสามารถใช้กับคลังข้อความที่สร้างขึ้นใหม่ได้ ตัวอย่างฟังก์ชันที่ใช้งานแสดงในตาราง http://www.nltk.org/book/ch02.html#fig-text-corpus-structure\n",
    "\n",
    "(ดูรายละเอียดเพิ่มเติมโดยใช้คำสั่ง help(nltk.corpus.reader) หรืออ่านเพิ่มเติมที่ www.nltk.org/howto/corpus.html)"
   ]
  },
  {
   "cell_type": "code",
   "execution_count": null,
   "metadata": {
    "id": "LwHgYrks1pIS"
   },
   "outputs": [],
   "source": [
    "import nltk\n",
    "nltk.download('book')"
   ]
  },
  {
   "cell_type": "code",
   "execution_count": null,
   "metadata": {
    "colab": {
     "base_uri": "https://localhost:8080/"
    },
    "executionInfo": {
     "elapsed": 338,
     "status": "ok",
     "timestamp": 1639669484407,
     "user": {
      "displayName": "Tasanawan Soonklang",
      "photoUrl": "https://lh3.googleusercontent.com/a-/AOh14GhBB34ul0Gnc90lVKcRi2775F8xagUqJeiNKe5B=s64",
      "userId": "12824326183520981875"
     },
     "user_tz": -420
    },
    "id": "kvik3Vrc1pIQ",
    "outputId": "1e67f537-f144-4b41-d0b0-255955e91d36"
   },
   "outputs": [
    {
     "data": {
      "text/plain": [
       "['/root/nltk_data',\n",
       " '/usr/share/nltk_data',\n",
       " '/usr/local/share/nltk_data',\n",
       " '/usr/lib/nltk_data',\n",
       " '/usr/local/lib/nltk_data',\n",
       " '/usr/nltk_data',\n",
       " '/usr/lib/nltk_data']"
      ]
     },
     "execution_count": 2,
     "metadata": {},
     "output_type": "execute_result"
    }
   ],
   "source": [
    "# หา path ของ nltk_data\n",
    "nltk.data.path"
   ]
  },
  {
   "cell_type": "markdown",
   "metadata": {
    "id": "W1-QNnQ01pIR"
   },
   "source": [
    "### Gutenberg Corpus\n",
    "\n",
    "เป็นคลังข้อความที่รวบรวมข้อความบางส่วนจากหนังสืออิเล็กทรอนิกส์ในโครงการ Gutenberg ซึ่งเป็นแหล่งรวมไฟล์หนังสืออิเล็กทรอนิกส์ขนาดใหญ่กว่า 25,000 เล่มที่แจกให้ใช้ฟรี เนื่องจากหนังสือเหล่านั้นหมดลิขสิทธิ์และกลายเป็นสมบัติสาธารณะ โดยส่วนใหญ่จะเป็นหนังสือภาษาอังกฤษ และรวบรวมให้อยู่ในรูปไฟล์ข้อความที่ไม่มีรูปแบบ (plain text) ดูเพิ่มเติมได้ที่ http://www.gutenberg.org/ ถ้าต้องการทราบว่าในคลังนี้จะประกอบด้วยไฟล์ข้อความของหนังสือใดบ้าง จะใช้คาสั่งดังตัวอย่างด้านล่างนี้"
   ]
  },
  {
   "cell_type": "code",
   "execution_count": null,
   "metadata": {
    "id": "Sz_gHIKw1pIS"
   },
   "outputs": [],
   "source": [
    "print(nltk.corpus.gutenberg.readme())"
   ]
  },
  {
   "cell_type": "code",
   "execution_count": null,
   "metadata": {
    "colab": {
     "base_uri": "https://localhost:8080/"
    },
    "executionInfo": {
     "elapsed": 363,
     "status": "ok",
     "timestamp": 1639474601992,
     "user": {
      "displayName": "Tasanawan Soonklang",
      "photoUrl": "https://lh3.googleusercontent.com/a-/AOh14GhBB34ul0Gnc90lVKcRi2775F8xagUqJeiNKe5B=s64",
      "userId": "12824326183520981875"
     },
     "user_tz": -420
    },
    "id": "hOzIL0nW1pIT",
    "outputId": "48e0d4a8-0e6e-4aa6-e8c3-860c76b52aaf"
   },
   "outputs": [
    {
     "name": "stdout",
     "output_type": "stream",
     "text": [
      "['austen-emma.txt', 'austen-persuasion.txt', 'austen-sense.txt', 'bible-kjv.txt', 'blake-poems.txt', 'bryant-stories.txt', 'burgess-busterbrown.txt', 'carroll-alice.txt', 'chesterton-ball.txt', 'chesterton-brown.txt', 'chesterton-thursday.txt', 'edgeworth-parents.txt', 'melville-moby_dick.txt', 'milton-paradise.txt', 'shakespeare-caesar.txt', 'shakespeare-hamlet.txt', 'shakespeare-macbeth.txt', 'whitman-leaves.txt']\n",
      "18\n"
     ]
    }
   ],
   "source": [
    "print(nltk.corpus.gutenberg.fileids())\n",
    "print(len(nltk.corpus.gutenberg.fileids()))"
   ]
  },
  {
   "cell_type": "code",
   "execution_count": null,
   "metadata": {
    "colab": {
     "base_uri": "https://localhost:8080/",
     "height": 34
    },
    "executionInfo": {
     "elapsed": 16,
     "status": "ok",
     "timestamp": 1639474582876,
     "user": {
      "displayName": "Tasanawan Soonklang",
      "photoUrl": "https://lh3.googleusercontent.com/a-/AOh14GhBB34ul0Gnc90lVKcRi2775F8xagUqJeiNKe5B=s64",
      "userId": "12824326183520981875"
     },
     "user_tz": -420
    },
    "id": "I7khxx-B1pIT",
    "outputId": "e30de8a1-922b-4e54-ff8c-04510028d9c7"
   },
   "outputs": [
    {
     "data": {
      "application/vnd.google.colaboratory.intrinsic+json": {
       "type": "string"
      },
      "text/plain": [
       "FileSystemPathPointer('/root/nltk_data/corpora/gutenberg/austen-emma.txt')"
      ]
     },
     "execution_count": 16,
     "metadata": {},
     "output_type": "execute_result"
    }
   ],
   "source": [
    "nltk.corpus.gutenberg.abspath('austen-emma.txt')"
   ]
  },
  {
   "cell_type": "code",
   "execution_count": null,
   "metadata": {
    "id": "DLmy8naG1pIT"
   },
   "outputs": [],
   "source": [
    "from nltk.corpus import *\n",
    "\n",
    "raw = gutenberg.raw(\"burgess-busterbrown.txt\")\n",
    "print(raw[:200])\n",
    "words = gutenberg.words(\"burgess-busterbrown.txt\")\n",
    "print(words[:100])\n",
    "sents = gutenberg.sents(\"burgess-busterbrown.txt\")\n",
    "print(sents[0:20])"
   ]
  },
  {
   "cell_type": "markdown",
   "metadata": {
    "id": "UH19PT761pIU"
   },
   "source": [
    "จากตัวอย่างจะเห็นข้อแตกต่างของผลที่ได้จาก 3 ฟังก์ชัน ดังนี้ \n",
    "- raw() ใช้ดึงข้อมูลดิบจากไฟล์ข้อความในคลังโดยไม่มีการประมวลผลใดๆ \n",
    "- words() แบ่งข้อความในคลังออกเป็นประโยคจัดเก็บในรูปลิสต์ของคำ\n",
    "- sents() แบ่งข้อความออกเป็นประโยค จัดเก็บอยู่ในรูปแบบลิสต์ของประโยค โดยในลิสต์ของแต่ละประโยคประกอบด้วยลิสต์ของคำในประโยคนั้น"
   ]
  },
  {
   "cell_type": "code",
   "execution_count": null,
   "metadata": {
    "colab": {
     "base_uri": "https://localhost:8080/"
    },
    "executionInfo": {
     "elapsed": 332,
     "status": "ok",
     "timestamp": 1639474663462,
     "user": {
      "displayName": "Tasanawan Soonklang",
      "photoUrl": "https://lh3.googleusercontent.com/a-/AOh14GhBB34ul0Gnc90lVKcRi2775F8xagUqJeiNKe5B=s64",
      "userId": "12824326183520981875"
     },
     "user_tz": -420
    },
    "id": "SApW65Fl1pIU",
    "outputId": "813ee6a5-c47f-4d67-bdf8-6524a45cb7c5"
   },
   "outputs": [
    {
     "data": {
      "text/plain": [
       "192427"
      ]
     },
     "execution_count": 21,
     "metadata": {},
     "output_type": "execute_result"
    }
   ],
   "source": [
    "emma = nltk.corpus.gutenberg.words('austen-emma.txt') \n",
    "len(emma)"
   ]
  },
  {
   "cell_type": "code",
   "execution_count": null,
   "metadata": {
    "colab": {
     "base_uri": "https://localhost:8080/"
    },
    "executionInfo": {
     "elapsed": 368,
     "status": "ok",
     "timestamp": 1639474720523,
     "user": {
      "displayName": "Tasanawan Soonklang",
      "photoUrl": "https://lh3.googleusercontent.com/a-/AOh14GhBB34ul0Gnc90lVKcRi2775F8xagUqJeiNKe5B=s64",
      "userId": "12824326183520981875"
     },
     "user_tz": -420
    },
    "id": "Js4_FcDy1pIU",
    "outputId": "5c0a3984-2285-4529-adf0-b36b30fff6c7"
   },
   "outputs": [
    {
     "data": {
      "text/plain": [
       "192427"
      ]
     },
     "execution_count": 24,
     "metadata": {},
     "output_type": "execute_result"
    }
   ],
   "source": [
    "from nltk.corpus import *\n",
    "emma = gutenberg.words('austen-emma.txt') \n",
    "len(emma)"
   ]
  },
  {
   "cell_type": "code",
   "execution_count": null,
   "metadata": {
    "id": "ockeF9J41pIU"
   },
   "outputs": [],
   "source": [
    "emma = nltk.Text(gutenberg.words('austen-emma.txt'))\n",
    "emma.concordance(\"little\")"
   ]
  },
  {
   "cell_type": "markdown",
   "metadata": {
    "id": "-QdoTASi1pIV"
   },
   "source": [
    "#### แบบฝึกหัด\n",
    "\n",
    "คำสั่งวนซ้ำร่วมกับฟังก์ชันต่างๆ ของ gutenberg เพื่อแสดงข้อมูลและสถิติของไฟล์ต่างๆ ในคลัง Gutenberg เช่น \n",
    "- ความยาวเฉลี่ยของคำ \n",
    "- ความยาวเฉลี่ยของประโยค \n",
    "- จำนวนครั้งเฉลี่ยของการใช้คำศัพท์"
   ]
  },
  {
   "cell_type": "code",
   "execution_count": null,
   "metadata": {
    "colab": {
     "base_uri": "https://localhost:8080/"
    },
    "executionInfo": {
     "elapsed": 408,
     "status": "ok",
     "timestamp": 1639474956700,
     "user": {
      "displayName": "Tasanawan Soonklang",
      "photoUrl": "https://lh3.googleusercontent.com/a-/AOh14GhBB34ul0Gnc90lVKcRi2775F8xagUqJeiNKe5B=s64",
      "userId": "12824326183520981875"
     },
     "user_tz": -420
    },
    "id": "W68cc0o01pIV",
    "outputId": "a0aa5f74-9aec-4247-9b3f-61039f53b7da"
   },
   "outputs": [
    {
     "name": "stdout",
     "output_type": "stream",
     "text": [
      "[['[', 'The', 'Tragedie', 'of', 'Macbeth', 'by', 'William', 'Shakespeare', '1603', ']'], ['Actus', 'Primus', '.'], ...]\n",
      "['Double', ',', 'double', ',', 'toile', 'and', 'trouble', ';', 'Fire', 'burne', ',', 'and', 'Cauldron', 'bubble']\n",
      "[10, 3, 3, 4, 4, 2, 7, 9, 2, 18, 2, 8, 2, 4, 2, 3, 2, 5, 2, 6, 2, 21, 2, 3, 3, 16, 2, 6, 16, 2, 38, 2, 158, 2, 6, 2, 83, 2, 12, 2, 72, 2, 22, 5, 4, 2, 5, 2, 8, 11, 2, 4, 2, 9, 2, 20, 66, 2, 2, 2, 38, 2, 25, 2, 4, 2, 10, 2, 3, 2, 5, 2, 7, 2, 2, 2, 5, 2, 36, 40, 2, 5, 2, 4, 2, 3, 2, 31, 61, 4, 2, 5, 2, 15, 3, 2, 9, 2, 41, 9, 5, 2, 10, 2, 11, 36, 12, 36, 2, 9, 2, 10, 2, 10, 2, 9, 2, 19, 19, 33, 40, 2, 1, 2, 1, 2, 1, 2, 6, 2, 7, 2, 17, 2, 7, 2, 27, 29, 24, 6, 3, 2, 25, 2, 19, 6, 2, 11, 15, 2, 5, 2, 4, 2, 11, 2, 14, 5, 2, 118, 2, 24, 2, 35, 2, 8, 2, 15, 2, 22, 56, 2, 12, 5, 28, 2, 18, 37, 8, 2, 17, 16, 3, 14, 6, 3, 32, 43, 2, 7, 2, 16, 2, 22, 2, 16, 2, 8, 2, 14, 20, 36, 2, 2, 2, 7, 2, 3, 2, 12, 2, 6, 10, 2, 10, 51, 32, 2, 15, 13, 10, 16, 18, 41, 2, 17, 43, 2, 20, 33, 2, 10, 2, 17, 61, 11, 2, 39, 2, 3, 2, 32, 39, 2, 2, 26, 23, 2, 2, 3, 8, 2, 32, 22, 57, 38, 8, 43, 20, 29, 40, 46, 3, 5, 2, 6, 2, 8, 7, 14, 2, 38, 2, 9, 3, 17, 69, 34, 14, 28, 3, 36, 2, 9, 2, 5, 2, 6, 2, 9, 23, 32, 42, 2, 7, 21, 2, 3, 5, 20, 2, 19, 2, 68, 3, 2, 27, 23, 2, 60, 2, 8, 50, 2, 30, 2, 24, 5, 2, 3, 2, 2, 15, 3, 2, 53, 22, 49, 48, 89, 31, 3, 3, 3, 2, 12, 2, 8, 2, 9, 2, 45, 2, 11, 5, 19, 10, 23, 25, 19, 2, 20, 2, 15, 30, 32, 55, 2, 5, 2, 3, 97, 8, 9, 2, 17, 39, 2, 20, 2, 15, 21, 2, 3, 3, 12, 2, 7, 2, 11, 2, 6, 2, 10, 2, 24, 33, 10, 10, 2, 2, 2, 8, 7, 16, 22, 2, 19, 2, 5, 19, 2, 33, 2, 6, 2, 18, 2, 30, 2, 4, 2, 8, 3, 2, 17, 5, 2, 17, 19, 14, 22, 17, 21, 43, 20, 70, 44, 18, 4, 13, 22, 2, 3, 3, 2, 27, 29, 21, 24, 3, 2, 5, 3, 2, 46, 16, 3, 2, 13, 2, 11, 5, 2, 2, 2, 1, 2, 4, 2, 1, 2, 11, 2, 1, 2, 5, 2, 9, 2, 45, 2, 7, 2, 40, 2, 5, 2, 8, 13, 2, 17, 2, 61, 2, 5, 2, 34, 2, 10, 34, 10, 16, 2, 25, 2, 34, 21, 2, 3, 2, 5, 13, 5, 8, 13, 19, 3, 2, 17, 2, 24, 6, 7, 2, 5, 27, 2, 5, 2, 8, 13, 2, 3, 4, 3, 2, 24, 2, 6, 12, 37, 2, 4, 11, 39, 2, 6, 5, 30, 2, 4, 8, 9, 31, 2, 11, 6, 2, 20, 2, 23, 2, 8, 2, 13, 22, 70, 2, 10, 2, 50, 3, 2, 5, 13, 2, 5, 2, 3, 2, 8, 2, 2, 2, 16, 2, 5, 2, 15, 2, 13, 2, 14, 3, 2, 7, 2, 7, 2, 63, 12, 11, 2, 5, 2, 10, 3, 2, 16, 2, 3, 6, 2, 30, 2, 10, 2, 5, 2, 13, 18, 2, 4, 66, 4, 3, 3, 2, 6, 14, 3, 2, 29, 3, 13, 2, 10, 2, 6, 17, 8, 2, 65, 5, 2, 4, 2, 31, 2, 8, 2, 5, 2, 62, 2, 16, 2, 5, 2, 25, 18, 85, 2, 5, 2, 4, 2, 16, 2, 22, 13, 2, 9, 2, 37, 30, 2, 4, 2, 2, 2, 17, 2, 3, 2, 2, 5, 26, 3, 2, 35, 2, 24, 40, 2, 3, 8, 3, 33, 2, 64, 3, 38, 2, 50, 3, 8, 2, 19, 3, 6, 8, 2, 5, 2, 12, 2, 5, 2, 10, 2, 26, 2, 29, 2, 14, 2, 5, 2, 18, 2, 5, 2, 6, 2, 5, 2, 19, 2, 3, 24, 2, 1, 3, 3, 3, 2, 61, 41, 6, 3, 15, 2, 6, 2, 22, 2, 14, 2, 21, 2, 5, 2, 5, 2, 34, 7, 2, 19, 23, 2, 4, 2, 6, 2, 29, 20, 13, 5, 2, 13, 2, 21, 2, 3, 39, 2, 2, 13, 2, 10, 2, 5, 3, 34, 31, 33, 23, 17, 101, 18, 5, 7, 13, 3, 8, 2, 7, 2, 41, 61, 4, 6, 2, 17, 19, 39, 4, 6, 2, 101, 69, 4, 34, 4, 35, 2, 8, 2, 4, 2, 112, 4, 11, 4, 6, 6, 116, 2, 8, 2, 31, 2, 3, 8, 2, 6, 2, 9, 2, 15, 2, 5, 2, 2, 10, 27, 3, 12, 40, 2, 36, 71, 41, 2, 24, 2, 57, 2, 4, 2, 23, 2, 10, 2, 57, 2, 7, 2, 50, 36, 29, 2, 3, 4, 2, 9, 2, 1, 2, 23, 2, 15, 21, 2, 5, 3, 7, 2, 23, 2, 4, 2, 25, 9, 2, 5, 2, 3, 2, 4, 2, 6, 2, 4, 2, 4, 16, 3, 9, 2, 7, 2, 11, 2, 8, 2, 14, 2, 3, 5, 14, 2, 17, 2, 4, 2, 28, 2, 20, 4, 2, 40, 7, 2, 6, 2, 10, 6, 2, 12, 2, 37, 2, 8, 2, 58, 6, 2, 27, 2, 32, 14, 3, 2, 59, 12, 2, 14, 2, 7, 2, 36, 2, 11, 13, 2, 5, 2, 8, 2, 2, 2, 5, 9, 2, 7, 2, 6, 2, 15, 2, 8, 2, 17, 19, 22, 5, 2, 17, 2, 29, 41, 11, 2, 27, 24, 2, 2, 6, 2, 8, 2, 3, 2, 41, 42, 9, 2, 9, 2, 29, 24, 42, 2, 6, 2, 35, 2, 25, 2, 41, 29, 10, 15, 2, 19, 2, 18, 39, 2, 6, 2, 20, 13, 2, 9, 2, 6, 3, 2, 50, 5, 2, 9, 2, 14, 2, 7, 2, 30, 15, 31, 46, 2, 9, 2, 31, 2, 3, 2, 8, 2, 9, 2, 11, 60, 38, 33, 36, 8, 56, 32, 6, 22, 3, 9, 17, 2, 3, 7, 2, 23, 51, 22, 9, 25, 6, 24, 55, 28, 10, 2, 49, 78, 17, 2, 5, 2, 39, 2, 20, 37, 2, 7, 2, 3, 3, 2, 5, 9, 12, 11, 43, 2, 14, 64, 2, 14, 92, 13, 2, 14, 16, 9, 2, 41, 5, 6, 21, 3, 2, 11, 7, 2, 5, 2, 102, 2, 2, 5, 18, 2, 9, 27, 2, 12, 2, 2, 6, 2, 6, 14, 3, 18, 2, 3, 2, 20, 4, 17, 2, 7, 3, 5, 2, 10, 2, 25, 2, 2, 11, 40, 15, 28, 2, 8, 3, 44, 2, 2, 21, 41, 31, 2, 5, 2, 5, 16, 5, 6, 1, 2, 2, 2, 2, 16, 17, 2, 22, 24, 10, 4, 3, 14, 3, 3, 38, 29, 2, 4, 9, 7, 17, 32, 2, 7, 2, 4, 2, 12, 6, 3, 2, 6, 2, 6, 2, 3, 2, 6, 2, 4, 2, 18, 8, 7, 2, 18, 2, 4, 2, 5, 2, 27, 18, 25, 31, 21, 5, 7, 2, 3, 10, 2, 12, 2, 5, 2, 21, 2, 12, 2, 2, 28, 11, 50, 2, 11, 24, 54, 35, 7, 2, 14, 2, 21, 7, 3, 2, 13, 5, 2, 4, 2, 7, 2, 11, 2, 20, 2, 5, 17, 2, 14, 2, 9, 2, 9, 2, 10, 2, 18, 2, 8, 2, 5, 2, 5, 2, 7, 2, 8, 2, 18, 2, 14, 2, 2, 2, 5, 2, 5, 2, 26, 2, 17, 2, 31, 2, 9, 4, 2, 33, 24, 24, 10, 2, 2, 5, 6, 27, 21, 5, 3, 2, 5, 2, 17, 2, 5, 2, 11, 2, 4, 5, 2, 16, 4, 3, 5, 2, 15, 2, 58, 2, 30, 11, 32, 31, 2, 4, 2, 4, 12, 27, 17, 2, 5, 2, 10, 11, 15, 29, 2, 35, 35, 2, 41, 25, 49, 2, 5, 2, 55, 2, 22, 2, 28, 51, 9, 2, 26, 27, 36, 2, 75, 2, 46, 11, 2, 5, 55, 28, 2, 4, 2, 17, 2, 4, 5, 7, 17, 23, 36, 22, 8, 2, 33, 55, 19, 19, 25, 10, 54, 5, 2, 14, 4, 2, 5, 8, 2, 24, 17, 2, 2, 4, 2, 8, 2, 7, 83, 28, 3, 2, 4, 2, 9, 2, 7, 2, 5, 10, 2, 3, 2, 6, 2, 11, 85, 2, 10, 2, 7, 2, 17, 2, 7, 2, 2, 2, 5, 2, 2, 2, 13, 2, 16, 13, 2, 47, 25, 2, 36, 2, 10, 22, 2, 21, 2, 21, 2, 15, 2, 23, 2, 6, 2, 37, 2, 42, 2, 4, 2, 11, 2, 7, 7, 2, 3, 2, 3, 18, 2, 7, 5, 5, 5, 2, 15, 2, 5, 2, 41, 34, 2, 21, 2, 16, 37, 2, 25, 32, 2, 3, 3, 11, 2, 19, 9, 2, 63, 2, 22, 26, 2, 10, 2, 12, 2, 16, 7, 25, 2, 7, 2, 19, 2, 6, 2, 7, 2, 9, 6, 2, 29, 2, 6, 2, 21, 2, 8, 18, 15, 5, 29, 2, 5, 2, 14, 10, 20, 2, 13, 2, 24, 2, 22, 5, 2, 6, 7, 2, 18, 2, 5, 2, 5, 2, 26, 2, 34, 2, 3, 2, 36, 9, 3, 2, 7, 2, 1, 2, 42, 38, 7, 2, 5, 2, 3, 4, 11, 2, 20, 22, 2, 14, 2, 9, 2, 35, 2, 6, 2, 42, 2, 57, 2, 32, 2, 43, 2, 25, 2, 2, 3, 8, 2, 24, 7, 7, 34, 35, 3, 23, 2, 4, 2, 3, 2, 2, 2, 19, 5, 15, 6, 2, 7, 2, 5, 31, 78, 2, 3, 2, 7, 2, 4, 2, 11, 2, 13, 4, 2, 5, 2, 22, 14, 2, 21, 2, 55, 2, 7, 2, 11, 30, 42, 29, 2, 12, 2, 21, 2, 17, 2, 3, 4, 20, 2, 15, 2, 4, 2, 7, 2, 4, 2, 34, 2, 4, 2, 23, 2, 40, 2, 15, 2, 47, 2, 1, 3, 13, 2, 71, 5, 6, 2, 10, 2, 51, 18, 5, 2, 8, 2, 62, 36, 17, 4, 12, 2, 22, 2, 4, 2, 25, 2, 4, 2, 23, 6, 2, 37, 21, 19, 28, 26, 23, 2, 3, 4, 14, 2, 35, 20, 2, 23, 2, 22, 2, 3, 3, 3, 2, 22, 11, 11, 4, 4, 5, 2, 8, 4, 17, 2, 5, 4, 13, 2, 5, 4, 17, 7, 2, 32, 2, 2, 3, 2, 68, 19, 12, 2, 2, 5, 2, 42, 2, 9, 2, 6, 2, 1, 3, 2, 15, 12, 3, 2, 6, 2, 27, 2, 22, 3, 2, 46, 2, 26, 2, 58, 5, 2, 20, 27, 2, 22, 27, 28, 2, 2, 2, 7, 5, 17, 2, 12, 2, 21, 2, 8, 2, 51, 2, 5, 2, 28, 2, 6, 2, 5, 2, 37, 2, 13, 2, 25, 5, 7, 2, 8, 39, 4, 2, 5, 2, 2, 25, 90, 56, 2, 3, 2, 5]\n",
      "1907\n",
      "158\n",
      "[['Doubtfull', 'it', 'stood', ',', 'As', 'two', 'spent', 'Swimmers', ',', 'that', 'doe', 'cling', 'together', ',', 'And', 'choake', 'their', 'Art', ':', 'The', 'mercilesse', 'Macdonwald', '(', 'Worthie', 'to', 'be', 'a', 'Rebell', ',', 'for', 'to', 'that', 'The', 'multiplying', 'Villanies', 'of', 'Nature', 'Doe', 'swarme', 'vpon', 'him', ')', 'from', 'the', 'Westerne', 'Isles', 'Of', 'Kernes', 'and', 'Gallowgrosses', 'is', 'supply', \"'\", 'd', ',', 'And', 'Fortune', 'on', 'his', 'damned', 'Quarry', 'smiling', ',', 'Shew', \"'\", 'd', 'like', 'a', 'Rebells', 'Whore', ':', 'but', 'all', \"'\", 's', 'too', 'weake', ':', 'For', 'braue', 'Macbeth', '(', 'well', 'hee', 'deserues', 'that', 'Name', ')', 'Disdayning', 'Fortune', ',', 'with', 'his', 'brandisht', 'Steele', ',', 'Which', 'smoak', \"'\", 'd', 'with', 'bloody', 'execution', '(', 'Like', 'Valours', 'Minion', ')', 'caru', \"'\", 'd', 'out', 'his', 'passage', ',', 'Till', 'hee', 'fac', \"'\", 'd', 'the', 'Slaue', ':', 'Which', 'neu', \"'\", 'r', 'shooke', 'hands', ',', 'nor', 'bad', 'farwell', 'to', 'him', ',', 'Till', 'he', 'vnseam', \"'\", 'd', 'him', 'from', 'the', 'Naue', 'toth', \"'\", 'Chops', ',', 'And', 'fix', \"'\", 'd', 'his', 'Head', 'vpon', 'our', 'Battlements']]\n",
      "Doubtfull it stood , As two spent Swimmers , that doe cling together , And choake their Art : The mercilesse Macdonwald ( Worthie to be a Rebell , for to that The multiplying Villanies of Nature Doe swarme vpon him ) from the Westerne Isles Of Kernes and Gallowgrosses is supply ' d , And Fortune on his damned Quarry smiling , Shew ' d like a Rebells Whore : but all ' s too weake : For braue Macbeth ( well hee deserues that Name ) Disdayning Fortune , with his brandisht Steele , Which smoak ' d with bloody execution ( Like Valours Minion ) caru ' d out his passage , Till hee fac ' d the Slaue : Which neu ' r shooke hands , nor bad farwell to him , Till he vnseam ' d him from the Naue toth ' Chops , And fix ' d his Head vpon our Battlements\n"
     ]
    }
   ],
   "source": [
    "macbeth_sentences = gutenberg.sents('shakespeare-macbeth.txt') \n",
    "print(macbeth_sentences)\n",
    "print(macbeth_sentences[1116])\n",
    "#longest_len = []\n",
    "#for s in macbeth_sentences:\n",
    "#    longest_len.append(len(s))\n",
    "# list comprehension\n",
    "all_len_sents = [len(s) for s in macbeth_sentences] \n",
    "print(all_len_sents)\n",
    "print(len(all_len_sents))\n",
    "longest_len = max(all_len_sents)\n",
    "print(longest_len)\n",
    "\n",
    "#longest_sent = []\n",
    "#for s in macbeth_sentences:\n",
    "#    if len(s) == longest_len:\n",
    "#        longest_sent.append(s)\n",
    "longest_sent = [s for s in macbeth_sentences if len(s) == longest_len]\n",
    "print(longest_sent)\n",
    "print(\" \".join(longest_sent[0]))"
   ]
  },
  {
   "cell_type": "markdown",
   "metadata": {
    "id": "gJ5rV1d71pIW"
   },
   "source": [
    "### Web and Chat Text Corpus"
   ]
  },
  {
   "cell_type": "code",
   "execution_count": null,
   "metadata": {
    "colab": {
     "base_uri": "https://localhost:8080/"
    },
    "executionInfo": {
     "elapsed": 367,
     "status": "ok",
     "timestamp": 1639475147986,
     "user": {
      "displayName": "Tasanawan Soonklang",
      "photoUrl": "https://lh3.googleusercontent.com/a-/AOh14GhBB34ul0Gnc90lVKcRi2775F8xagUqJeiNKe5B=s64",
      "userId": "12824326183520981875"
     },
     "user_tz": -420
    },
    "id": "oAyY1aqW1pIW",
    "outputId": "7f774f99-757d-4d6c-8dbd-8773457338f3"
   },
   "outputs": [
    {
     "name": "stdout",
     "output_type": "stream",
     "text": [
      "firefox.txt Cookie Manager: \"Don't allow sites that set removed cookies to se ...\n",
      "grail.txt SCENE 1: [wind] [clop clop clop] \n",
      "KING ARTHUR: Whoa there!  [clop ...\n",
      "overheard.txt White guy: So, do you have any plans for this evening?\n",
      "Asian girl ...\n",
      "pirates.txt PIRATES OF THE CARRIBEAN: DEAD MAN'S CHEST, by Ted Elliott & Terr ...\n",
      "singles.txt 25 SEXY MALE, seeks attrac older single lady, for discreet encoun ...\n",
      "wine.txt Lovely delicate, fragrant Rhone wine. Polished leather and strawb ...\n"
     ]
    }
   ],
   "source": [
    "from nltk.corpus import webtext\n",
    "for fileid in webtext.fileids():\n",
    "    print(fileid, webtext.raw(fileid)[:65], '...')"
   ]
  },
  {
   "cell_type": "code",
   "execution_count": null,
   "metadata": {
    "colab": {
     "base_uri": "https://localhost:8080/"
    },
    "executionInfo": {
     "elapsed": 1165,
     "status": "ok",
     "timestamp": 1639475460332,
     "user": {
      "displayName": "Tasanawan Soonklang",
      "photoUrl": "https://lh3.googleusercontent.com/a-/AOh14GhBB34ul0Gnc90lVKcRi2775F8xagUqJeiNKe5B=s64",
      "userId": "12824326183520981875"
     },
     "user_tz": -420
    },
    "id": "T38FeiSA1pIW",
    "outputId": "5d8b2a9f-4abc-463e-e344-5cb6b26b9c74"
   },
   "outputs": [
    {
     "name": "stdout",
     "output_type": "stream",
     "text": [
      "15\n",
      "['10-19-20s_706posts.xml', '10-19-30s_705posts.xml', '10-19-40s_686posts.xml', '10-19-adults_706posts.xml', '10-24-40s_706posts.xml', '10-26-teens_706posts.xml', '11-06-adults_706posts.xml', '11-08-20s_705posts.xml', '11-08-40s_706posts.xml', '11-08-adults_705posts.xml', '11-08-teens_706posts.xml', '11-09-20s_706posts.xml', '11-09-40s_706posts.xml', '11-09-adults_706posts.xml', '11-09-teens_706posts.xml']\n",
      "[['now', 'im', 'left', 'with', 'this', 'gay', 'name'], [':P'], ...]\n",
      "['i', 'do', \"n't\", 'want', 'hot', 'pics', 'of', 'a', 'female', ',', 'I', 'can', 'look', 'in', 'a', 'mirror', '.']\n",
      "['oooooooooooglyyyyyyyy']\n",
      "['.45']\n",
      "['cho-co-la-te']\n"
     ]
    }
   ],
   "source": [
    "from nltk.corpus import nps_chat\n",
    "import re  # library regular expression\n",
    "print(len(nps_chat.fileids()))\n",
    "print(nps_chat.fileids())\n",
    "chatroom = nps_chat.posts('10-19-20s_706posts.xml')\n",
    "print(chatroom)\n",
    "print(chatroom[123])\n",
    "\n",
    "chat_words = sorted(set(w for w in nps_chat.words()))\n",
    "repeat = [w for w in chat_words if re.search('^[eiou].*[ay]{3,}$', w)]\n",
    "print(repeat)\n",
    "\n",
    "digit = [w for w in chat_words if re.search('^\\.[0-9]+$', w)]\n",
    "print(digit)\n",
    "\n",
    "vowel = [w for w in chat_words if re.search('^[a-z]{2,}-[a-z]{2,}-[a-z]{2,}-[a-z]{2,}$', w)]\n",
    "print(vowel)\n"
   ]
  },
  {
   "cell_type": "markdown",
   "metadata": {
    "id": "Z8d37gK81pIX"
   },
   "source": [
    "### Inaugural Address Corpus"
   ]
  },
  {
   "cell_type": "code",
   "execution_count": null,
   "metadata": {
    "colab": {
     "base_uri": "https://localhost:8080/"
    },
    "executionInfo": {
     "elapsed": 412,
     "status": "ok",
     "timestamp": 1639475640686,
     "user": {
      "displayName": "Tasanawan Soonklang",
      "photoUrl": "https://lh3.googleusercontent.com/a-/AOh14GhBB34ul0Gnc90lVKcRi2775F8xagUqJeiNKe5B=s64",
      "userId": "12824326183520981875"
     },
     "user_tz": -420
    },
    "id": "KERdYFe_1pIX",
    "outputId": "77989703-e4f2-427d-c662-ac6fadcd29ab"
   },
   "outputs": [
    {
     "data": {
      "text/plain": [
       "['1789-Washington.txt',\n",
       " '1793-Washington.txt',\n",
       " '1797-Adams.txt',\n",
       " '1801-Jefferson.txt',\n",
       " '1805-Jefferson.txt',\n",
       " '1809-Madison.txt',\n",
       " '1813-Madison.txt',\n",
       " '1817-Monroe.txt',\n",
       " '1821-Monroe.txt',\n",
       " '1825-Adams.txt',\n",
       " '1829-Jackson.txt',\n",
       " '1833-Jackson.txt',\n",
       " '1837-VanBuren.txt',\n",
       " '1841-Harrison.txt',\n",
       " '1845-Polk.txt',\n",
       " '1849-Taylor.txt',\n",
       " '1853-Pierce.txt',\n",
       " '1857-Buchanan.txt',\n",
       " '1861-Lincoln.txt',\n",
       " '1865-Lincoln.txt',\n",
       " '1869-Grant.txt',\n",
       " '1873-Grant.txt',\n",
       " '1877-Hayes.txt',\n",
       " '1881-Garfield.txt',\n",
       " '1885-Cleveland.txt',\n",
       " '1889-Harrison.txt',\n",
       " '1893-Cleveland.txt',\n",
       " '1897-McKinley.txt',\n",
       " '1901-McKinley.txt',\n",
       " '1905-Roosevelt.txt',\n",
       " '1909-Taft.txt',\n",
       " '1913-Wilson.txt',\n",
       " '1917-Wilson.txt',\n",
       " '1921-Harding.txt',\n",
       " '1925-Coolidge.txt',\n",
       " '1929-Hoover.txt',\n",
       " '1933-Roosevelt.txt',\n",
       " '1937-Roosevelt.txt',\n",
       " '1941-Roosevelt.txt',\n",
       " '1945-Roosevelt.txt',\n",
       " '1949-Truman.txt',\n",
       " '1953-Eisenhower.txt',\n",
       " '1957-Eisenhower.txt',\n",
       " '1961-Kennedy.txt',\n",
       " '1965-Johnson.txt',\n",
       " '1969-Nixon.txt',\n",
       " '1973-Nixon.txt',\n",
       " '1977-Carter.txt',\n",
       " '1981-Reagan.txt',\n",
       " '1985-Reagan.txt',\n",
       " '1989-Bush.txt',\n",
       " '1993-Clinton.txt',\n",
       " '1997-Clinton.txt',\n",
       " '2001-Bush.txt',\n",
       " '2005-Bush.txt',\n",
       " '2009-Obama.txt',\n",
       " '2013-Obama.txt',\n",
       " '2017-Trump.txt',\n",
       " '2021-Biden.txt']"
      ]
     },
     "execution_count": 32,
     "metadata": {},
     "output_type": "execute_result"
    }
   ],
   "source": [
    "from nltk.corpus import inaugural \n",
    "inaugural.fileids() "
   ]
  },
  {
   "cell_type": "markdown",
   "metadata": {
    "id": "odvDw-uE1pIX"
   },
   "source": [
    "### Reuters Corpus"
   ]
  },
  {
   "cell_type": "code",
   "execution_count": null,
   "metadata": {
    "colab": {
     "base_uri": "https://localhost:8080/"
    },
    "executionInfo": {
     "elapsed": 2,
     "status": "ok",
     "timestamp": 1639670263911,
     "user": {
      "displayName": "Tasanawan Soonklang",
      "photoUrl": "https://lh3.googleusercontent.com/a-/AOh14GhBB34ul0Gnc90lVKcRi2775F8xagUqJeiNKe5B=s64",
      "userId": "12824326183520981875"
     },
     "user_tz": -420
    },
    "id": "_2jZDxcfX_3u",
    "outputId": "0e455181-b558-46dd-fb16-47e3cf644478"
   },
   "outputs": [
    {
     "name": "stdout",
     "output_type": "stream",
     "text": [
      "[nltk_data] Downloading package reuters to /root/nltk_data...\n",
      "[nltk_data]   Package reuters is already up-to-date!\n",
      "[nltk_data] Downloading package punkt to /root/nltk_data...\n",
      "[nltk_data]   Package punkt is already up-to-date!\n"
     ]
    },
    {
     "data": {
      "text/plain": [
       "True"
      ]
     },
     "execution_count": 14,
     "metadata": {},
     "output_type": "execute_result"
    }
   ],
   "source": [
    "import nltk\n",
    "nltk.download('reuters')\n",
    "nltk.download('punkt')"
   ]
  },
  {
   "cell_type": "code",
   "execution_count": null,
   "metadata": {
    "id": "RyEh4s1K9-TB"
   },
   "outputs": [],
   "source": [
    "!unzip /root/nltk_data/corpora/reuters.zip -d /root/nltk_data/corpora/"
   ]
  },
  {
   "cell_type": "code",
   "execution_count": null,
   "metadata": {
    "colab": {
     "base_uri": "https://localhost:8080/"
    },
    "executionInfo": {
     "elapsed": 11,
     "status": "ok",
     "timestamp": 1639670395459,
     "user": {
      "displayName": "Tasanawan Soonklang",
      "photoUrl": "https://lh3.googleusercontent.com/a-/AOh14GhBB34ul0Gnc90lVKcRi2775F8xagUqJeiNKe5B=s64",
      "userId": "12824326183520981875"
     },
     "user_tz": -420
    },
    "id": "3WFBAYc61pIX",
    "outputId": "34c89e7c-2e86-4fdc-8082-708192e1f47f"
   },
   "outputs": [
    {
     "name": "stdout",
     "output_type": "stream",
     "text": [
      "['female.txt', 'male.txt']\n",
      "['test/14826', 'test/14828', 'test/14829', 'test/14832', 'test/14833', 'test/14839', 'test/14840', 'test/14841', 'test/14842', 'test/14843', 'test/14844', 'test/14849', 'test/14852', 'test/14854', 'test/14858', 'test/14859', 'test/14860', 'test/14861', 'test/14862', 'test/14863', 'test/14865', 'test/14867', 'test/14872', 'test/14873', 'test/14875', 'test/14876', 'test/14877', 'test/14881', 'test/14882', 'test/14885', 'test/14886', 'test/14888', 'test/14890', 'test/14891', 'test/14892', 'test/14899', 'test/14900', 'test/14903', 'test/14904', 'test/14907', 'test/14909', 'test/14911', 'test/14912', 'test/14913', 'test/14918', 'test/14919', 'test/14921', 'test/14922', 'test/14923', 'test/14926', 'test/14928', 'test/14930', 'test/14931', 'test/14932', 'test/14933', 'test/14934', 'test/14941', 'test/14943', 'test/14949', 'test/14951', 'test/14954', 'test/14957', 'test/14958', 'test/14959', 'test/14960', 'test/14962', 'test/14963', 'test/14964', 'test/14965', 'test/14967', 'test/14968', 'test/14969', 'test/14970', 'test/14971', 'test/14974', 'test/14975', 'test/14978', 'test/14981', 'test/14982', 'test/14983', 'test/14984', 'test/14985', 'test/14986', 'test/14987', 'test/14988', 'test/14993', 'test/14995', 'test/14998', 'test/15000', 'test/15001', 'test/15002', 'test/15004', 'test/15005', 'test/15006', 'test/15011', 'test/15012', 'test/15013', 'test/15016', 'test/15017', 'test/15020', 'test/15023', 'test/15024', 'test/15026', 'test/15027', 'test/15028', 'test/15029', 'test/15031', 'test/15032', 'test/15033', 'test/15037', 'test/15038', 'test/15043', 'test/15045', 'test/15046', 'test/15048', 'test/15049', 'test/15052', 'test/15053', 'test/15055', 'test/15056', 'test/15060', 'test/15061', 'test/15062', 'test/15063', 'test/15065', 'test/15067', 'test/15069', 'test/15070', 'test/15074', 'test/15077', 'test/15078', 'test/15079', 'test/15082', 'test/15090', 'test/15091', 'test/15092', 'test/15093', 'test/15094', 'test/15095', 'test/15096', 'test/15097', 'test/15103', 'test/15104', 'test/15106', 'test/15107', 'test/15109', 'test/15110', 'test/15111', 'test/15112', 'test/15118', 'test/15119', 'test/15120', 'test/15121', 'test/15122', 'test/15124', 'test/15126', 'test/15128', 'test/15129', 'test/15130', 'test/15132', 'test/15136', 'test/15138', 'test/15141', 'test/15144', 'test/15145', 'test/15146', 'test/15149', 'test/15152', 'test/15153', 'test/15154', 'test/15156', 'test/15157', 'test/15161', 'test/15162', 'test/15171', 'test/15172', 'test/15175', 'test/15179', 'test/15180', 'test/15185', 'test/15188', 'test/15189', 'test/15190', 'test/15193', 'test/15194', 'test/15197', 'test/15198', 'test/15200', 'test/15204', 'test/15205', 'test/15206', 'test/15207', 'test/15208', 'test/15210', 'test/15211', 'test/15212', 'test/15213', 'test/15217', 'test/15219', 'test/15220', 'test/15221', 'test/15222', 'test/15223', 'test/15226', 'test/15227', 'test/15230', 'test/15233', 'test/15234', 'test/15237', 'test/15238', 'test/15239', 'test/15240', 'test/15242', 'test/15243', 'test/15244', 'test/15246', 'test/15247', 'test/15250', 'test/15253', 'test/15254', 'test/15255', 'test/15258', 'test/15259', 'test/15262', 'test/15263', 'test/15264', 'test/15265', 'test/15270', 'test/15271', 'test/15273', 'test/15274', 'test/15276', 'test/15278', 'test/15280', 'test/15281', 'test/15283', 'test/15287', 'test/15290', 'test/15292', 'test/15294', 'test/15295', 'test/15296', 'test/15299', 'test/15300', 'test/15302', 'test/15303', 'test/15306', 'test/15307', 'test/15308', 'test/15309', 'test/15310', 'test/15311', 'test/15312', 'test/15313', 'test/15314', 'test/15315', 'test/15321', 'test/15322', 'test/15324', 'test/15325', 'test/15326', 'test/15327', 'test/15329', 'test/15335', 'test/15336', 'test/15337', 'test/15339', 'test/15341', 'test/15344', 'test/15345', 'test/15348', 'test/15349', 'test/15351', 'test/15352', 'test/15354', 'test/15356', 'test/15357', 'test/15359', 'test/15363', 'test/15364', 'test/15365', 'test/15366', 'test/15367', 'test/15368', 'test/15372', 'test/15375', 'test/15378', 'test/15379', 'test/15380', 'test/15383', 'test/15384', 'test/15386', 'test/15387', 'test/15388', 'test/15389', 'test/15391', 'test/15394', 'test/15396', 'test/15397', 'test/15400', 'test/15404', 'test/15406', 'test/15409', 'test/15410', 'test/15411', 'test/15413', 'test/15415', 'test/15416', 'test/15417', 'test/15420', 'test/15421', 'test/15424', 'test/15425', 'test/15427', 'test/15428', 'test/15429', 'test/15430', 'test/15431', 'test/15432', 'test/15436', 'test/15438', 'test/15441', 'test/15442', 'test/15444', 'test/15446', 'test/15447', 'test/15448', 'test/15449', 'test/15450', 'test/15451', 'test/15452', 'test/15453', 'test/15454', 'test/15455', 'test/15457', 'test/15459', 'test/15460', 'test/15462', 'test/15464', 'test/15467', 'test/15468', 'test/15471', 'test/15472', 'test/15476', 'test/15477', 'test/15478', 'test/15479', 'test/15481', 'test/15482', 'test/15483', 'test/15484', 'test/15485', 'test/15487', 'test/15489', 'test/15494', 'test/15495', 'test/15496', 'test/15500', 'test/15501', 'test/15503', 'test/15504', 'test/15510', 'test/15511', 'test/15515', 'test/15520', 'test/15521', 'test/15522', 'test/15523', 'test/15527', 'test/15528', 'test/15531', 'test/15532', 'test/15535', 'test/15536', 'test/15539', 'test/15540', 'test/15542', 'test/15543', 'test/15544', 'test/15545', 'test/15547', 'test/15548', 'test/15549', 'test/15550', 'test/15551', 'test/15552', 'test/15553', 'test/15556', 'test/15558', 'test/15559', 'test/15560', 'test/15561', 'test/15562', 'test/15563', 'test/15565', 'test/15566', 'test/15567', 'test/15568', 'test/15569', 'test/15570', 'test/15571', 'test/15572', 'test/15573', 'test/15574', 'test/15575', 'test/15578', 'test/15579', 'test/15580', 'test/15581', 'test/15582', 'test/15583', 'test/15584', 'test/15585', 'test/15590', 'test/15591', 'test/15593', 'test/15594', 'test/15595', 'test/15596', 'test/15597', 'test/15598', 'test/15600', 'test/15601', 'test/15602', 'test/15603', 'test/15605', 'test/15607', 'test/15610', 'test/15613', 'test/15615', 'test/15616', 'test/15617', 'test/15618', 'test/15620', 'test/15621', 'test/15623', 'test/15624', 'test/15625', 'test/15626', 'test/15629', 'test/15632', 'test/15634', 'test/15636', 'test/15637', 'test/15639', 'test/15640', 'test/15641', 'test/15642', 'test/15643', 'test/15646', 'test/15648', 'test/15649', 'test/15651', 'test/15653', 'test/15655', 'test/15656', 'test/15664', 'test/15666', 'test/15667', 'test/15668', 'test/15669', 'test/15672', 'test/15674', 'test/15675', 'test/15676', 'test/15677', 'test/15679', 'test/15680', 'test/15682', 'test/15686', 'test/15688', 'test/15689', 'test/15691', 'test/15692', 'test/15694', 'test/15695', 'test/15696', 'test/15698', 'test/15702', 'test/15703', 'test/15704', 'test/15707', 'test/15708', 'test/15709', 'test/15710', 'test/15713', 'test/15715', 'test/15717', 'test/15719', 'test/15720', 'test/15721', 'test/15723', 'test/15725', 'test/15726', 'test/15727', 'test/15728', 'test/15729', 'test/15732', 'test/15733', 'test/15736', 'test/15737', 'test/15739', 'test/15742', 'test/15749', 'test/15751', 'test/15753', 'test/15757', 'test/15759', 'test/15762', 'test/15767', 'test/15768', 'test/15769', 'test/15772', 'test/15777', 'test/15778', 'test/15780', 'test/15782', 'test/15785', 'test/15790', 'test/15793', 'test/15797', 'test/15798', 'test/15800', 'test/15801', 'test/15803', 'test/15804', 'test/15805', 'test/15807', 'test/15808', 'test/15810', 'test/15811', 'test/15816', 'test/15817', 'test/15819', 'test/15821', 'test/15822', 'test/15823', 'test/15829', 'test/15831', 'test/15832', 'test/15833', 'test/15834', 'test/15836', 'test/15838', 'test/15840', 'test/15841', 'test/15842', 'test/15844', 'test/15845', 'test/15846', 'test/15847', 'test/15851', 'test/15852', 'test/15853', 'test/15854', 'test/15855', 'test/15856', 'test/15858', 'test/15859', 'test/15860', 'test/15861', 'test/15863', 'test/15864', 'test/15865', 'test/15866', 'test/15867', 'test/15868', 'test/15869', 'test/15870', 'test/15871', 'test/15872', 'test/15874', 'test/15875', 'test/15876', 'test/15877', 'test/15878', 'test/15879', 'test/15881', 'test/15885', 'test/15886', 'test/15888', 'test/15889', 'test/15890', 'test/15892', 'test/15893', 'test/15894', 'test/15895', 'test/15896', 'test/15897', 'test/15898', 'test/15899', 'test/15900', 'test/15901', 'test/15902', 'test/15903', 'test/15904', 'test/15906', 'test/15908', 'test/15909', 'test/15910', 'test/15911', 'test/15912', 'test/15913', 'test/15914', 'test/15916', 'test/15917', 'test/15918', 'test/15920', 'test/15921', 'test/15922', 'test/15923', 'test/15924', 'test/15925', 'test/15927', 'test/15928', 'test/15929', 'test/15930', 'test/15932', 'test/15933', 'test/15934', 'test/15937', 'test/15939', 'test/15942', 'test/15944', 'test/15949', 'test/15950', 'test/15951', 'test/15952', 'test/15953', 'test/15956', 'test/15959', 'test/15960', 'test/15961', 'test/15963', 'test/15964', 'test/15967', 'test/15968', 'test/15969', 'test/15970', 'test/15973', 'test/15975', 'test/15976', 'test/15977', 'test/15978', 'test/15979', 'test/15980', 'test/15981', 'test/15984', 'test/15985', 'test/15987', 'test/15988', 'test/15989', 'test/15993', 'test/15995', 'test/15996', 'test/15997', 'test/15999', 'test/16002', 'test/16003', 'test/16004', 'test/16005', 'test/16006', 'test/16007', 'test/16009', 'test/16012', 'test/16013', 'test/16014', 'test/16015', 'test/16016', 'test/16021', 'test/16022', 'test/16023', 'test/16026', 'test/16029', 'test/16030', 'test/16033', 'test/16037', 'test/16040', 'test/16041', 'test/16045', 'test/16052', 'test/16053', 'test/16055', 'test/16063', 'test/16066', 'test/16067', 'test/16068', 'test/16069', 'test/16071', 'test/16072', 'test/16074', 'test/16075', 'test/16076', 'test/16077', 'test/16079', 'test/16080', 'test/16083', 'test/16086', 'test/16088', 'test/16091', 'test/16093', 'test/16094', 'test/16095', 'test/16096', 'test/16097', 'test/16098', 'test/16099', 'test/16100', 'test/16103', 'test/16106', 'test/16107', 'test/16108', 'test/16110', 'test/16111', 'test/16112', 'test/16115', 'test/16117', 'test/16118', 'test/16119', 'test/16120', 'test/16122', 'test/16123', 'test/16125', 'test/16126', 'test/16130', 'test/16133', 'test/16134', 'test/16136', 'test/16139', 'test/16140', 'test/16141', 'test/16142', 'test/16143', 'test/16144', 'test/16145', 'test/16146', 'test/16147', 'test/16148', 'test/16149', 'test/16150', 'test/16152', 'test/16155', 'test/16158', 'test/16159', 'test/16161', 'test/16162', 'test/16163', 'test/16164', 'test/16166', 'test/16170', 'test/16171', 'test/16172', 'test/16173', 'test/16175', 'test/16176', 'test/16177', 'test/16179', 'test/16180', 'test/16185', 'test/16188', 'test/16189', 'test/16190', 'test/16193', 'test/16194', 'test/16195', 'test/16196', 'test/16197', 'test/16200', 'test/16201', 'test/16202', 'test/16203', 'test/16206', 'test/16207', 'test/16210', 'test/16211', 'test/16212', 'test/16213', 'test/16214', 'test/16215', 'test/16216', 'test/16219', 'test/16221', 'test/16223', 'test/16225', 'test/16226', 'test/16228', 'test/16230', 'test/16232', 'test/16233', 'test/16234', 'test/16236', 'test/16238', 'test/16241', 'test/16243', 'test/16244', 'test/16246', 'test/16247', 'test/16248', 'test/16250', 'test/16251', 'test/16252', 'test/16255', 'test/16256', 'test/16257', 'test/16258', 'test/16260', 'test/16262', 'test/16263', 'test/16264', 'test/16265', 'test/16266', 'test/16268', 'test/16269', 'test/16270', 'test/16271', 'test/16274', 'test/16275', 'test/16277', 'test/16278', 'test/16279', 'test/16281', 'test/16282', 'test/16283', 'test/16284', 'test/16285', 'test/16286', 'test/16287', 'test/16288', 'test/16289', 'test/16291', 'test/16294', 'test/16297', 'test/16298', 'test/16299', 'test/16300', 'test/16301', 'test/16302', 'test/16303', 'test/16304', 'test/16307', 'test/16310', 'test/16311', 'test/16312', 'test/16314', 'test/16315', 'test/16316', 'test/16317', 'test/16318', 'test/16319', 'test/16320', 'test/16324', 'test/16327', 'test/16331', 'test/16332', 'test/16336', 'test/16337', 'test/16339', 'test/16342', 'test/16343', 'test/16346', 'test/16347', 'test/16348', 'test/16350', 'test/16354', 'test/16357', 'test/16359', 'test/16360', 'test/16362', 'test/16363', 'test/16365', 'test/16366', 'test/16367', 'test/16369', 'test/16370', 'test/16371', 'test/16372', 'test/16374', 'test/16376', 'test/16377', 'test/16379', 'test/16380', 'test/16383', 'test/16385', 'test/16386', 'test/16388', 'test/16390', 'test/16392', 'test/16393', 'test/16394', 'test/16395', 'test/16396', 'test/16398', 'test/16399', 'test/16400', 'test/16401', 'test/16402', 'test/16403', 'test/16404', 'test/16405', 'test/16406', 'test/16407', 'test/16409', 'test/16410', 'test/16415', 'test/16417', 'test/16418', 'test/16419', 'test/16420', 'test/16421', 'test/16422', 'test/16424', 'test/16426', 'test/16427', 'test/16428', 'test/16429', 'test/16430', 'test/16432', 'test/16433', 'test/16434', 'test/16437', 'test/16438', 'test/16440', 'test/16441', 'test/16442', 'test/16443', 'test/16444', 'test/16448', 'test/16449', 'test/16450', 'test/16454', 'test/16457', 'test/16458', 'test/16459', 'test/16460', 'test/16461', 'test/16463', 'test/16465', 'test/16468', 'test/16469', 'test/16470', 'test/16471', 'test/16472', 'test/16473', 'test/16475', 'test/16476', 'test/16478', 'test/16479', 'test/16480', 'test/16481', 'test/16483', 'test/16486', 'test/16487', 'test/16488', 'test/16490', 'test/16492', 'test/16493', 'test/16495', 'test/16496', 'test/16499', 'test/16502', 'test/16505', 'test/16510', 'test/16512', 'test/16513', 'test/16518', 'test/16519', 'test/16521', 'test/16522', 'test/16523', 'test/16525', 'test/16527', 'test/16530', 'test/16531', 'test/16533', 'test/16538', 'test/16539', 'test/16545', 'test/16546', 'test/16549', 'test/16551', 'test/16554', 'test/16555', 'test/16561', 'test/16563', 'test/16564', 'test/16565', 'test/16568', 'test/16569', 'test/16570', 'test/16574', 'test/16577', 'test/16581', 'test/16583', 'test/16584', 'test/16585', 'test/16587', 'test/16588', 'test/16589', 'test/16590', 'test/16591', 'test/16592', 'test/16593', 'test/16597', 'test/16598', 'test/16599', 'test/16600', 'test/16601', 'test/16602', 'test/16604', 'test/16606', 'test/16607', 'test/16608', 'test/16610', 'test/16611', 'test/16615', 'test/16619', 'test/16621', 'test/16622', 'test/16623', 'test/16624', 'test/16625', 'test/16626', 'test/16627', 'test/16628', 'test/16630', 'test/16633', 'test/16635', 'test/16636', 'test/16638', 'test/16641', 'test/16642', 'test/16644', 'test/16645', 'test/16646', 'test/16648', 'test/16649', 'test/16650', 'test/16651', 'test/16652', 'test/16653', 'test/16654', 'test/16655', 'test/16656', 'test/16658', 'test/16662', 'test/16663', 'test/16664', 'test/16665', 'test/16667', 'test/16668', 'test/16670', 'test/16672', 'test/16675', 'test/16676', 'test/16677', 'test/16678', 'test/16679', 'test/16680', 'test/16681', 'test/16684', 'test/16685', 'test/16687', 'test/16688', 'test/16695', 'test/16698', 'test/16700', 'test/16705', 'test/16706', 'test/16707', 'test/16708', 'test/16710', 'test/16711', 'test/16714', 'test/16715', 'test/16717', 'test/16718', 'test/16719', 'test/16723', 'test/16725', 'test/16726', 'test/16727', 'test/16734', 'test/16735', 'test/16737', 'test/16739', 'test/16740', 'test/16743', 'test/16744', 'test/16745', 'test/16746', 'test/16747', 'test/16749', 'test/16750', 'test/16751', 'test/16752', 'test/16753', 'test/16754', 'test/16755', 'test/16759', 'test/16761', 'test/16762', 'test/16763', 'test/16765', 'test/16766', 'test/16767', 'test/16770', 'test/16772', 'test/16774', 'test/16775', 'test/16776', 'test/16777', 'test/16779', 'test/16783', 'test/16784', 'test/16787', 'test/16788', 'test/16790', 'test/16792', 'test/16794', 'test/16795', 'test/16796', 'test/16797', 'test/16798', 'test/16799', 'test/16800', 'test/16801', 'test/16802', 'test/16803', 'test/16804', 'test/16806', 'test/16807', 'test/16808', 'test/16809', 'test/16810', 'test/16811', 'test/16812', 'test/16813', 'test/16814', 'test/16815', 'test/16816', 'test/16817', 'test/16818', 'test/16819', 'test/16824', 'test/16825', 'test/16826', 'test/16833', 'test/16834', 'test/16835', 'test/16836', 'test/16837', 'test/16838', 'test/16839', 'test/16843', 'test/16848', 'test/16850', 'test/16851', 'test/16852', 'test/16853', 'test/16854', 'test/16856', 'test/16858', 'test/16865', 'test/16868', 'test/16871', 'test/16872', 'test/16873', 'test/16874', 'test/16875', 'test/16884', 'test/16885', 'test/16886', 'test/16888', 'test/16890', 'test/16893', 'test/16897', 'test/16903', 'test/16908', 'test/16909', 'test/16910', 'test/16911', 'test/16912', 'test/16913', 'test/16916', 'test/16917', 'test/16918', 'test/16921', 'test/16922', 'test/16923', 'test/16925', 'test/16926', 'test/16929', 'test/16932', 'test/17031', 'test/17032', 'test/17034', 'test/17035', 'test/17036', 'test/17037', 'test/17038', 'test/17039', 'test/17041', 'test/17042', 'test/17044', 'test/17045', 'test/17046', 'test/17047', 'test/17048', 'test/17051', 'test/17052', 'test/17053', 'test/17054', 'test/17436', 'test/17440', 'test/17441', 'test/17442', 'test/17443', 'test/17445', 'test/17446', 'test/17448', 'test/17449', 'test/17452', 'test/17455', 'test/17457', 'test/17462', 'test/17463', 'test/17470', 'test/17472', 'test/17473', 'test/17477', 'test/17478', 'test/17479', 'test/17480', 'test/17481', 'test/17484', 'test/17486', 'test/17487', 'test/17488', 'test/17489', 'test/17491', 'test/17492', 'test/17493', 'test/17494', 'test/17499', 'test/17501', 'test/17502', 'test/17503', 'test/17506', 'test/17507', 'test/17509', 'test/17511', 'test/17513', 'test/17516', 'test/17518', 'test/17519', 'test/17521', 'test/17523', 'test/17529', 'test/17534', 'test/17538', 'test/17540', 'test/17543', 'test/17544', 'test/17545', 'test/17547', 'test/17551', 'test/17554', 'test/17556', 'test/17558', 'test/17559', 'test/17562', 'test/17563', 'test/17567', 'test/17568', 'test/17569', 'test/17573', 'test/17574', 'test/17576', 'test/17577', 'test/17579', 'test/17580', 'test/17584', 'test/17585', 'test/17589', 'test/17593', 'test/17595', 'test/17596', 'test/17597', 'test/17601', 'test/17607', 'test/17612', 'test/17616', 'test/17617', 'test/17618', 'test/17619', 'test/17620', 'test/17622', 'test/17625', 'test/17630', 'test/17632', 'test/17633', 'test/17640', 'test/17643', 'test/17644', 'test/17651', 'test/17652', 'test/17654', 'test/17655', 'test/17658', 'test/17659', 'test/17660', 'test/17661', 'test/17662', 'test/17664', 'test/17666', 'test/17669', 'test/17670', 'test/17671', 'test/17672', 'test/17673', 'test/17674', 'test/17677', 'test/17682', 'test/17683', 'test/17685', 'test/17686', 'test/17687', 'test/17688', 'test/17694', 'test/17698', 'test/17700', 'test/17701', 'test/17702', 'test/17703', 'test/17706', 'test/17707', 'test/17710', 'test/17712', 'test/17714', 'test/17716', 'test/17719', 'test/17722', 'test/17723', 'test/17727', 'test/17728', 'test/17731', 'test/17733', 'test/17738', 'test/17742', 'test/17743', 'test/17746', 'test/17748', 'test/17749', 'test/17750', 'test/17751', 'test/17752', 'test/17753', 'test/17755', 'test/17757', 'test/17758', 'test/17759', 'test/17760', 'test/17762', 'test/17763', 'test/17766', 'test/17767', 'test/17769', 'test/17770', 'test/17771', 'test/17773', 'test/17775', 'test/17776', 'test/17777', 'test/17780', 'test/17782', 'test/17783', 'test/17784', 'test/17785', 'test/17787', 'test/17788', 'test/17791', 'test/17792', 'test/17795', 'test/17798', 'test/17802', 'test/17805', 'test/17808', 'test/17809', 'test/17810', 'test/17811', 'test/17812', 'test/17813', 'test/17816', 'test/17822', 'test/17823', 'test/17825', 'test/17827', 'test/17829', 'test/17834', 'test/17835', 'test/17837', 'test/17839', 'test/17847', 'test/17848', 'test/17849', 'test/17853', 'test/17857', 'test/17860', 'test/17863', 'test/17864', 'test/17866', 'test/17867', 'test/17870', 'test/17871', 'test/17872', 'test/17873', 'test/17874', 'test/17875', 'test/17876', 'test/17877', 'test/17878', 'test/17880', 'test/17881', 'test/17883', 'test/17886', 'test/17887', 'test/17888', 'test/17892', 'test/17894', 'test/17896', 'test/17897', 'test/17899', 'test/17900', 'test/17901', 'test/17906', 'test/17907', 'test/17911', 'test/17913', 'test/17915', 'test/17916', 'test/17922', 'test/17923', 'test/17924', 'test/17925', 'test/17926', 'test/17927', 'test/17929', 'test/17930', 'test/17932', 'test/17933', 'test/17939', 'test/17943', 'test/17948', 'test/17950', 'test/17952', 'test/17955', 'test/17956', 'test/17957', 'test/17958', 'test/17960', 'test/17962', 'test/17963', 'test/17964', 'test/17965', 'test/17966', 'test/17967', 'test/17968', 'test/17970', 'test/17972', 'test/17973', 'test/17975', 'test/17978', 'test/17979', 'test/17980', 'test/17981', 'test/17984', 'test/17986', 'test/17988', 'test/17993', 'test/18001', 'test/18009', 'test/18010', 'test/18011', 'test/18012', 'test/18013', 'test/18014', 'test/18017', 'test/18024', 'test/18028', 'test/18029', 'test/18034', 'test/18035', 'test/18036', 'test/18037', 'test/18038', 'test/18040', 'test/18048', 'test/18050', 'test/18051', 'test/18052', 'test/18061', 'test/18062', 'test/18065', 'test/18066', 'test/18068', 'test/18071', 'test/18075', 'test/18079', 'test/18080', 'test/18085', 'test/18086', 'test/18093', 'test/18095', 'test/18096', 'test/18099', 'test/18101', 'test/18104', 'test/18106', 'test/18108', 'test/18109', 'test/18111', 'test/18120', 'test/18128', 'test/18135', 'test/18136', 'test/18138', 'test/18142', 'test/18145', 'test/18146', 'test/18148', 'test/18149', 'test/18150', 'test/18152', 'test/18155', 'test/18157', 'test/18158', 'test/18160', 'test/18166', 'test/18176', 'test/18177', 'test/18180', 'test/18182', 'test/18185', 'test/18186', 'test/18187', 'test/18188', 'test/18191', 'test/18205', 'test/18210', 'test/18213', 'test/18217', 'test/18221', 'test/18222', 'test/18223', 'test/18225', 'test/18228', 'test/18229', 'test/18231', 'test/18232', 'test/18234', 'test/18236', 'test/18238', 'test/18239', 'test/18242', 'test/18243', 'test/18249', 'test/18252', 'test/18253', 'test/18254', 'test/18257', 'test/18258', 'test/18263', 'test/18271', 'test/18275', 'test/18276', 'test/18277', 'test/18280', 'test/18281', 'test/18283', 'test/18294', 'test/18296', 'test/18297', 'test/18300', 'test/18302', 'test/18303', 'test/18306', 'test/18307', 'test/18308', 'test/18309', 'test/18311', 'test/18313', 'test/18317', 'test/18321', 'test/18323', 'test/18325', 'test/18326', 'test/18328', 'test/18329', 'test/18332', 'test/18334', 'test/18336', 'test/18337', 'test/18339', 'test/18340', 'test/18342', 'test/18345', 'test/18347', 'test/18348', 'test/18351', 'test/18352', 'test/18354', 'test/18355', 'test/18356', 'test/18357', 'test/18360', 'test/18362', 'test/18363', 'test/18366', 'test/18367', 'test/18370', 'test/18465', 'test/18466', 'test/18467', 'test/18470', 'test/18472', 'test/18476', 'test/18479', 'test/18480', 'test/18481', 'test/18482', 'test/18483', 'test/18487', 'test/18488', 'test/18489', 'test/18490', 'test/18493', 'test/18495', 'test/18496', 'test/18497', 'test/18504', 'test/18509', 'test/18514', 'test/18519', 'test/18520', 'test/18521', 'test/18523', 'test/18524', 'test/18527', 'test/18530', 'test/18531', 'test/18533', 'test/18534', 'test/18536', 'test/18537', 'test/18538', 'test/18539', 'test/18540', 'test/18544', 'test/18549', 'test/18554', 'test/18557', 'test/18563', 'test/18564', 'test/18565', 'test/18566', 'test/18567', 'test/18569', 'test/18570', 'test/18571', 'test/18575', 'test/18576', 'test/18577', 'test/18585', 'test/18590', 'test/18591', 'test/18592', 'test/18595', 'test/18599', 'test/18600', 'test/18602', 'test/18604', 'test/18605', 'test/18606', 'test/18609', 'test/18610', 'test/18614', 'test/18616', 'test/18621', 'test/18625', 'test/18627', 'test/18638', 'test/18642', 'test/18643', 'test/18644', 'test/18646', 'test/18648', 'test/18651', 'test/18654', 'test/18655', 'test/18658', 'test/18660', 'test/18663', 'test/18664', 'test/18665', 'test/18667', 'test/18668', 'test/18670', 'test/18672', 'test/18674', 'test/18676', 'test/18678', 'test/18680', 'test/18682', 'test/18686', 'test/18688', 'test/18689', 'test/18692', 'test/18698', 'test/18699', 'test/18700', 'test/18701', 'test/18703', 'test/18704', 'test/18705', 'test/18706', 'test/18707', 'test/18708', 'test/18713', 'test/18718', 'test/18719', 'test/18721', 'test/18724', 'test/18728', 'test/18730', 'test/18732', 'test/18736', 'test/18738', 'test/18739', 'test/18743', 'test/18744', 'test/18746', 'test/18747', 'test/18748', 'test/18749', 'test/18750', 'test/18751', 'test/18752', 'test/18753', 'test/18754', 'test/18763', 'test/18765', 'test/18768', 'test/18769', 'test/18773', 'test/18774', 'test/18778', 'test/18779', 'test/18781', 'test/18782', 'test/18783', 'test/18789', 'test/18795', 'test/18798', 'test/18807', 'test/18810', 'test/18811', 'test/18816', 'test/18824', 'test/18828', 'test/18830', 'test/18832', 'test/18835', 'test/18840', 'test/18842', 'test/18849', 'test/18851', 'test/18852', 'test/18856', 'test/18857', 'test/18858', 'test/18859', 'test/18860', 'test/18861', 'test/18863', 'test/18865', 'test/18867', 'test/18870', 'test/18872', 'test/18873', 'test/18875', 'test/18882', 'test/18888', 'test/18895', 'test/18896', 'test/18898', 'test/18899', 'test/18902', 'test/18904', 'test/18906', 'test/18908', 'test/18910', 'test/18911', 'test/18917', 'test/18920', 'test/18921', 'test/18922', 'test/18924', 'test/18930', 'test/18932', 'test/18938', 'test/18943', 'test/18944', 'test/18945', 'test/18946', 'test/18951', 'test/18952', 'test/18953', 'test/18954', 'test/18955', 'test/18959', 'test/18962', 'test/18963', 'test/18973', 'test/18975', 'test/18985', 'test/18986', 'test/18987', 'test/18988', 'test/18990', 'test/18991', 'test/18992', 'test/18993', 'test/18994', 'test/18995', 'test/18996', 'test/18997', 'test/19000', 'test/19004', 'test/19005', 'test/19006', 'test/19009', 'test/19017', 'test/19020', 'test/19021', 'test/19022', 'test/19023', 'test/19028', 'test/19029', 'test/19033', 'test/19037', 'test/19040', 'test/19041', 'test/19042', 'test/19044', 'test/19045', 'test/19048', 'test/19050', 'test/19053', 'test/19055', 'test/19057', 'test/19059', 'test/19061', 'test/19062', 'test/19065', 'test/19069', 'test/19073', 'test/19075', 'test/19077', 'test/19079', 'test/19081', 'test/19082', 'test/19083', 'test/19087', 'test/19088', 'test/19092', 'test/19097', 'test/19101', 'test/19110', 'test/19113', 'test/19118', 'test/19121', 'test/19122', 'test/19127', 'test/19128', 'test/19136', 'test/19137', 'test/19142', 'test/19152', 'test/19155', 'test/19159', 'test/19163', 'test/19165', 'test/19167', 'test/19169', 'test/19170', 'test/19171', 'test/19174', 'test/19178', 'test/19180', 'test/19181', 'test/19182', 'test/19191', 'test/19193', 'test/19198', 'test/19199', 'test/19201', 'test/19202', 'test/19208', 'test/19213', 'test/19223', 'test/19229', 'test/19237', 'test/19238', 'test/19240', 'test/19241', 'test/19254', 'test/19255', 'test/19256', 'test/19258', 'test/19262', 'test/19263', 'test/19267', 'test/19269', 'test/19270', 'test/19271', 'test/19272', 'test/19273', 'test/19275', 'test/19277', 'test/19280', 'test/19281', 'test/19283', 'test/19284', 'test/19285', 'test/19286', 'test/19290', 'test/19291', 'test/19293', 'test/19294', 'test/19295', 'test/19297', 'test/19304', 'test/19307', 'test/19308', 'test/19312', 'test/19318', 'test/19322', 'test/19325', 'test/19327', 'test/19329', 'test/19331', 'test/19334', 'test/19341', 'test/19343', 'test/19344', 'test/19351', 'test/19352', 'test/19356', 'test/19357', 'test/19358', 'test/19359', 'test/19360', 'test/19364', 'test/19365', 'test/19367', 'test/19368', 'test/19369', 'test/19371', 'test/19373', 'test/19374', 'test/19375', 'test/19377', 'test/19378', 'test/19379', 'test/19380', 'test/19381', 'test/19383', 'test/19386', 'test/19387', 'test/19388', 'test/19397', 'test/19403', 'test/19406', 'test/19409', 'test/19410', 'test/19411', 'test/19412', 'test/19416', 'test/19418', 'test/19419', 'test/19420', 'test/19422', 'test/19424', 'test/19426', 'test/19427', 'test/19428', 'test/19431', 'test/19432', 'test/19433', 'test/19435', 'test/19440', 'test/19441', 'test/19444', 'test/19447', 'test/19448', 'test/19450', 'test/19451', 'test/19453', 'test/19458', 'test/19459', 'test/19461', 'test/19462', 'test/19463', 'test/19464', 'test/19466', 'test/19470', 'test/19471', 'test/19473', 'test/19474', 'test/19475', 'test/19477', 'test/19478', 'test/19480', 'test/19482', 'test/19483', 'test/19487', 'test/19489', 'test/19491', 'test/19492', 'test/19497', 'test/19499', 'test/19500', 'test/19501', 'test/19505', 'test/19506', 'test/19507', 'test/19509', 'test/19510', 'test/19511', 'test/19512', 'test/19513', 'test/19515', 'test/19529', 'test/19534', 'test/19537', 'test/19539', 'test/19540', 'test/19541', 'test/19545', 'test/19546', 'test/19547', 'test/19549', 'test/19551', 'test/19555', 'test/19556', 'test/19557', 'test/19559', 'test/19560', 'test/19561', 'test/19562', 'test/19568', 'test/19569', 'test/19570', 'test/19571', 'test/19572', 'test/19625', 'test/19630', 'test/19631', 'test/19635', 'test/19639', 'test/19642', 'test/19644', 'test/19645', 'test/19647', 'test/19648', 'test/19649', 'test/19650', 'test/19651', 'test/19653', 'test/19654', 'test/19655', 'test/19657', 'test/19658', 'test/19663', 'test/19664', 'test/19666', 'test/19667', 'test/19668', 'test/19672', 'test/19674', 'test/19675', 'test/19679', 'test/19680', 'test/19681', 'test/19683', 'test/19684', 'test/19689', 'test/19690', 'test/19692', 'test/19693', 'test/19697', 'test/19699', 'test/19702', 'test/19703', 'test/19704', 'test/19706', 'test/19710', 'test/19711', 'test/19712', 'test/19713', 'test/19719', 'test/19721', 'test/19723', 'test/19726', 'test/19727', 'test/19731', 'test/19732', 'test/19734', 'test/19737', 'test/19742', 'test/19744', 'test/19745', 'test/19748', 'test/19751', 'test/19756', 'test/19758', 'test/19760', 'test/19761', 'test/19762', 'test/19763', 'test/19764', 'test/19766', 'test/19767', 'test/19769', 'test/19773', 'test/19775', 'test/19780', 'test/19781', 'test/19784', 'test/19786', 'test/19787', 'test/19788', 'test/19790', 'test/19796', 'test/19799', 'test/19802', 'test/19803', 'test/19807', 'test/19808', 'test/19810', 'test/19812', 'test/19815', 'test/19821', 'test/19823', 'test/19826', 'test/19828', 'test/19830', 'test/19831', 'test/19832', 'test/19833', 'test/19835', 'test/19837', 'test/19839', 'test/19844', 'test/19850', 'test/19854', 'test/19856', 'test/19860', 'test/19862', 'test/19864', 'test/19865', 'test/19866', 'test/19867', 'test/19869', 'test/19870', 'test/19872', 'test/19874', 'test/19875', 'test/19880', 'test/19882', 'test/19887', 'test/19890', 'test/19892', 'test/19895', 'test/19900', 'test/19902', 'test/19903', 'test/19906', 'test/19912', 'test/19913', 'test/19915', 'test/19918', 'test/19921', 'test/19927', 'test/19930', 'test/19933', 'test/19935', 'test/19939', 'test/19943', 'test/19946', 'test/19947', 'test/19950', 'test/19955', 'test/19957', 'test/19959', 'test/19962', 'test/19963', 'test/19964', 'test/19965', 'test/19966', 'test/19968', 'test/19975', 'test/19978', 'test/19981', 'test/19982', 'test/19983', 'test/19984', 'test/19985', 'test/19986', 'test/19989', 'test/19991', 'test/19993', 'test/19996', 'test/19998', 'test/20001', 'test/20005', 'test/20008', 'test/20009', 'test/20012', 'test/20013', 'test/20016', 'test/20018', 'test/20019', 'test/20021', 'test/20025', 'test/20030', 'test/20031', 'test/20032', 'test/20034', 'test/20035', 'test/20037', 'test/20038', 'test/20039', 'test/20045', 'test/20048', 'test/20052', 'test/20055', 'test/20058', 'test/20062', 'test/20063', 'test/20068', 'test/20071', 'test/20079', 'test/20080', 'test/20081', 'test/20082', 'test/20083', 'test/20087', 'test/20089', 'test/20090', 'test/20092', 'test/20093', 'test/20095', 'test/20096', 'test/20101', 'test/20103', 'test/20105', 'test/20106', 'test/20112', 'test/20114', 'test/20116', 'test/20117', 'test/20118', 'test/20119', 'test/20127', 'test/20129', 'test/20132', 'test/20135', 'test/20137', 'test/20138', 'test/20140', 'test/20142', 'test/20145', 'test/20151', 'test/20153', 'test/20159', 'test/20161', 'test/20165', 'test/20166', 'test/20168', 'test/20170', 'test/20174', 'test/20176', 'test/20180', 'test/20181', 'test/20186', 'test/20187', 'test/20189', 'test/20191', 'test/20193', 'test/20195', 'test/20206', 'test/20207', 'test/20208', 'test/20210', 'test/20213', 'test/20214', 'test/20215', 'test/20216', 'test/20217', 'test/20220', 'test/20221', 'test/20223', 'test/20226', 'test/20228', 'test/20230', 'test/20231', 'test/20232', 'test/20233', 'test/20234', 'test/20235', 'test/20237', 'test/20239', 'test/20241', 'test/20247', 'test/20248', 'test/20249', 'test/20251', 'test/20252', 'test/20255', 'test/20256', 'test/20257', 'test/20258', 'test/20259', 'test/20261', 'test/20262', 'test/20263', 'test/20264', 'test/20265', 'test/20266', 'test/20267', 'test/20269', 'test/20270', 'test/20273', 'test/20274', 'test/20275', 'test/20278', 'test/20279', 'test/20284', 'test/20286', 'test/20291', 'test/20297', 'test/20298', 'test/20299', 'test/20300', 'test/20302', 'test/20304', 'test/20306', 'test/20308', 'test/20309', 'test/20310', 'test/20311', 'test/20314', 'test/20318', 'test/20319', 'test/20321', 'test/20324', 'test/20328', 'test/20332', 'test/20333', 'test/20334', 'test/20335', 'test/20337', 'test/20339', 'test/20340', 'test/20341', 'test/20343', 'test/20344', 'test/20347', 'test/20348', 'test/20352', 'test/20353', 'test/20357', 'test/20358', 'test/20363', 'test/20364', 'test/20365', 'test/20366', 'test/20367', 'test/20368', 'test/20370', 'test/20371', 'test/20372', 'test/20373', 'test/20374', 'test/20376', 'test/20377', 'test/20378', 'test/20379', 'test/20380', 'test/20381', 'test/20382', 'test/20384', 'test/20385', 'test/20386', 'test/20388', 'test/20389', 'test/20391', 'test/20392', 'test/20393', 'test/20395', 'test/20396', 'test/20398', 'test/20400', 'test/20401', 'test/20406', 'test/20407', 'test/20409', 'test/20412', 'test/20414', 'test/20415', 'test/20419', 'test/20420', 'test/20421', 'test/20432', 'test/20438', 'test/20439', 'test/20440', 'test/20441', 'test/20442', 'test/20443', 'test/20444', 'test/20446', 'test/20448', 'test/20450', 'test/20453', 'test/20455', 'test/20457', 'test/20458', 'test/20459', 'test/20461', 'test/20462', 'test/20463', 'test/20464', 'test/20465', 'test/20467', 'test/20468', 'test/20469', 'test/20470', 'test/20471', 'test/20473', 'test/20474', 'test/20476', 'test/20479', 'test/20480', 'test/20485', 'test/20488', 'test/20489', 'test/20490', 'test/20493', 'test/20494', 'test/20496', 'test/20497', 'test/20498', 'test/20499', 'test/20500', 'test/20502', 'test/20507', 'test/20511', 'test/20514', 'test/20515', 'test/20517', 'test/20523', 'test/20525', 'test/20527', 'test/20529', 'test/20531', 'test/20532', 'test/20533', 'test/20535', 'test/20545', 'test/20546', 'test/20548', 'test/20550', 'test/20552', 'test/20557', 'test/20558', 'test/20561', 'test/20562', 'test/20564', 'test/20566', 'test/20567', 'test/20569', 'test/20583', 'test/20584', 'test/20586', 'test/20593', 'test/20596', 'test/20598', 'test/20600', 'test/20605', 'test/20606', 'test/20611', 'test/20618', 'test/20620', 'test/20624', 'test/20628', 'test/20630', 'test/20631', 'test/20632', 'test/20634', 'test/20637', 'test/20639', 'test/20640', 'test/20641', 'test/20645', 'test/20646', 'test/20648', 'test/20649', 'test/20650', 'test/20651', 'test/20652', 'test/20653', 'test/20654', 'test/20655', 'test/20657', 'test/20658', 'test/20660', 'test/20662', 'test/20666', 'test/20667', 'test/20668', 'test/20669', 'test/20670', 'test/20671', 'test/20672', 'test/20673', 'test/20678', 'test/20679', 'test/20680', 'test/20682', 'test/20685', 'test/20692', 'test/20693', 'test/20695', 'test/20698', 'test/20699', 'test/20706', 'test/20708', 'test/20709', 'test/20710', 'test/20711', 'test/20712', 'test/20715', 'test/20719', 'test/20721', 'test/20723', 'test/20725', 'test/20728', 'test/20730', 'test/20734', 'test/20735', 'test/20736', 'test/20738', 'test/20744', 'test/20746', 'test/20747', 'test/20753', 'test/20754', 'test/20755', 'test/20756', 'test/20757', 'test/20759', 'test/20763', 'test/20764', 'test/20766', 'test/20767', 'test/20768', 'test/20769', 'test/20770', 'test/20771', 'test/20773', 'test/20774', 'test/20775', 'test/20776', 'test/20778', 'test/20779', 'test/20784', 'test/20787', 'test/20790', 'test/20791', 'test/20792', 'test/20793', 'test/20794', 'test/20795', 'test/20797', 'test/20798', 'test/20800', 'test/20801', 'test/20802', 'test/20803', 'test/20804', 'test/20807', 'test/20811', 'test/20812', 'test/20813', 'test/20814', 'test/20817', 'test/20822', 'test/20824', 'test/20825', 'test/20826', 'test/20828', 'test/20829', 'test/20833', 'test/20834', 'test/20835', 'test/20836', 'test/20837', 'test/20838', 'test/20840', 'test/20858', 'test/20862', 'test/20865', 'test/20868', 'test/20869', 'test/20878', 'test/20879', 'test/20881', 'test/20882', 'test/20883', 'test/20885', 'test/20887', 'test/20888', 'test/20890', 'test/20893', 'test/20894', 'test/20896', 'test/20898', 'test/20900', 'test/20901', 'test/20902', 'test/20904', 'test/20905', 'test/20907', 'test/20909', 'test/20910', 'test/20911', 'test/20913', 'test/20915', 'test/20917', 'test/20918', 'test/20919', 'test/20920', 'test/20921', 'test/20922', 'test/20925', 'test/20926', 'test/20927', 'test/20930', 'test/20931', 'test/20932', 'test/20936', 'test/20937', 'test/20938', 'test/20941', 'test/20943', 'test/20944', 'test/20945', 'test/20946', 'test/20947', 'test/20948', 'test/20949', 'test/20954', 'test/20958', 'test/20959', 'test/20968', 'test/20969', 'test/20972', 'test/20973', 'test/20974', 'test/20975', 'test/20976', 'test/20979', 'test/20981', 'test/20982', 'test/20983', 'test/20984', 'test/20988', 'test/20989', 'test/20991', 'test/20995', 'test/21000', 'test/21002', 'test/21003', 'test/21006', 'test/21007', 'test/21012', 'test/21013', 'test/21014', 'test/21016', 'test/21017', 'test/21018', 'test/21019', 'test/21022', 'test/21023', 'test/21028', 'test/21030', 'test/21031', 'test/21032', 'test/21034', 'test/21036', 'test/21037', 'test/21038', 'test/21039', 'test/21040', 'test/21041', 'test/21042', 'test/21044', 'test/21045', 'test/21046', 'test/21047', 'test/21049', 'test/21050', 'test/21051', 'test/21053', 'test/21055', 'test/21058', 'test/21059', 'test/21060', 'test/21061', 'test/21063', 'test/21065', 'test/21067', 'test/21071', 'test/21073', 'test/21076', 'test/21077', 'test/21078', 'test/21080', 'test/21081', 'test/21082', 'test/21091', 'test/21093', 'test/21095', 'test/21096', 'test/21097', 'test/21100', 'test/21103', 'test/21105', 'test/21106', 'test/21109', 'test/21112', 'test/21113', 'test/21114', 'test/21117', 'test/21122', 'test/21123', 'test/21124', 'test/21128', 'test/21129', 'test/21130', 'test/21131', 'test/21132', 'test/21133', 'test/21134', 'test/21135', 'test/21136', 'test/21138', 'test/21140', 'test/21142', 'test/21143', 'test/21146', 'test/21148', 'test/21149', 'test/21151', 'test/21152', 'test/21157', 'test/21163', 'test/21164', 'test/21165', 'test/21166', 'test/21168', 'test/21172', 'test/21173', 'test/21175', 'test/21176', 'test/21177', 'test/21178', 'test/21179', 'test/21181', 'test/21182', 'test/21187', 'test/21189', 'test/21190', 'test/21191', 'test/21192', 'test/21193', 'test/21194', 'test/21195', 'test/21196', 'test/21197', 'test/21199', 'test/21201', 'test/21202', 'test/21203', 'test/21205', 'test/21206', 'test/21207', 'test/21208', 'test/21209', 'test/21210', 'test/21211', 'test/21212', 'test/21214', 'test/21215', 'test/21216', 'test/21218', 'test/21219', 'test/21221', 'test/21222', 'test/21224', 'test/21227', 'test/21228', 'test/21230', 'test/21232', 'test/21233', 'test/21234', 'test/21236', 'test/21237', 'test/21238', 'test/21240', 'test/21242', 'test/21243', 'test/21244', 'test/21245', 'test/21248', 'test/21251', 'test/21252', 'test/21253', 'test/21255', 'test/21256', 'test/21257', 'test/21259', 'test/21260', 'test/21261', 'test/21262', 'test/21264', 'test/21265', 'test/21266', 'test/21267', 'test/21271', 'test/21272', 'test/21274', 'test/21275', 'test/21277', 'test/21278', 'test/21281', 'test/21282', 'test/21283', 'test/21285', 'test/21286', 'test/21287', 'test/21291', 'test/21292', 'test/21293', 'test/21295', 'test/21297', 'test/21298', 'test/21300', 'test/21301', 'test/21302', 'test/21303', 'test/21307', 'test/21308', 'test/21314', 'test/21315', 'test/21318', 'test/21319', 'test/21321', 'test/21322', 'test/21323', 'test/21324', 'test/21325', 'test/21330', 'test/21331', 'test/21333', 'test/21336', 'test/21337', 'test/21339', 'test/21342', 'test/21343', 'test/21346', 'test/21350', 'test/21352', 'test/21354', 'test/21356', 'test/21357', 'test/21358', 'test/21359', 'test/21360', 'test/21362', 'test/21363', 'test/21367', 'test/21368', 'test/21369', 'test/21371', 'test/21372', 'test/21373', 'test/21375', 'test/21376', 'test/21378', 'test/21380', 'test/21382', 'test/21385', 'test/21386', 'test/21387', 'test/21388', 'test/21391', 'test/21392', 'test/21393', 'test/21394', 'test/21401', 'test/21403', 'test/21404', 'test/21405', 'test/21406', 'test/21408', 'test/21410', 'test/21411', 'test/21412', 'test/21413', 'test/21414', 'test/21415', 'test/21416', 'test/21417', 'test/21419', 'test/21421', 'test/21423', 'test/21427', 'test/21429', 'test/21430', 'test/21431', 'test/21435', 'test/21436', 'test/21437', 'test/21440', 'test/21441', 'test/21443', 'test/21447', 'test/21448', 'test/21451', 'test/21453', 'test/21454', 'test/21455', 'test/21459', 'test/21460', 'test/21462', 'test/21465', 'test/21466', 'test/21468', 'test/21469', 'test/21473', 'test/21474', 'test/21475', 'test/21477', 'test/21478', 'test/21479', 'test/21480', 'test/21482', 'test/21484', 'test/21485', 'test/21486', 'test/21488', 'test/21489', 'test/21490', 'test/21492', 'test/21493', 'test/21496', 'test/21497', 'test/21501', 'test/21502', 'test/21503', 'test/21506', 'test/21508', 'test/21510', 'test/21511', 'test/21512', 'test/21517', 'test/21519', 'test/21521', 'test/21523', 'test/21525', 'test/21526', 'test/21530', 'test/21532', 'test/21535', 'test/21536', 'test/21538', 'test/21539', 'test/21541', 'test/21542', 'test/21550', 'test/21551', 'test/21553', 'test/21555', 'test/21556', 'test/21557', 'test/21561', 'test/21562', 'test/21565', 'test/21567', 'test/21568', 'test/21570', 'test/21571', 'test/21573', 'test/21574', 'test/21575', 'test/21576', 'training/1', 'training/10', 'training/100', 'training/1000', 'training/10000', 'training/10002', 'training/10005', 'training/10008', 'training/10011', 'training/10014', 'training/10015', 'training/10018', 'training/10023', 'training/10025', 'training/10027', 'training/1003', 'training/10032', 'training/10035', 'training/10037', 'training/10038', 'training/10040', 'training/10041', 'training/10042', 'training/10043', 'training/10046', 'training/10048', 'training/10049', 'training/10050', 'training/10052', 'training/10053', 'training/10054', 'training/10057', 'training/10058', 'training/10061', 'training/10062', 'training/10064', 'training/10065', 'training/10066', 'training/10067', 'training/10068', 'training/1007', 'training/10071', 'training/10073', 'training/10074', 'training/10075', 'training/10076', 'training/10078', 'training/10079', 'training/1008', 'training/10080', 'training/10081', 'training/10083', 'training/10085', 'training/10086', 'training/10088', 'training/10089', 'training/1009', 'training/10090', 'training/10091', 'training/10092', 'training/10094', 'training/10095', 'training/10096', 'training/10097', 'training/10098', 'training/10099', 'training/101', 'training/1010', 'training/10100', 'training/10102', 'training/10105', 'training/10106', 'training/10107', 'training/10108', 'training/10109', 'training/1011', 'training/10110', 'training/10112', 'training/10114', 'training/10115', 'training/10119', 'training/10120', 'training/10122', 'training/10124', 'training/10128', 'training/10129', 'training/1013', 'training/10130', 'training/10135', 'training/10136', 'training/10139', 'training/10140', 'training/10146', 'training/1015', 'training/10151', 'training/10153', 'training/10154', 'training/10155', 'training/10156', 'training/10158', 'training/1016', 'training/10162', 'training/10163', 'training/10165', 'training/10168', 'training/1017', 'training/10171', 'training/10172', 'training/10173', 'training/10174', 'training/10175', 'training/10176', 'training/10177', 'training/10178', 'training/10180', 'training/10181', 'training/10183', 'training/10185', 'training/10186', 'training/1019', 'training/10190', 'training/10191', 'training/10192', 'training/10196', 'training/10197', 'training/102', 'training/1020', 'training/10200', 'training/10201', 'training/10207', 'training/10208', 'training/10209', 'training/10211', 'training/10213', 'training/10214', 'training/10215', 'training/10216', 'training/10218', 'training/10219', 'training/1022', 'training/10222', 'training/10224', 'training/10225', 'training/10227', 'training/10228', 'training/1023', 'training/10230', 'training/10231', 'training/10233', 'training/10235', 'training/10237', 'training/10238', 'training/1024', 'training/10240', 'training/10242', 'training/10243', 'training/10245', 'training/10246', 'training/10253', 'training/10254', 'training/10255', 'training/10258', 'training/1026', 'training/10260', 'training/10261', 'training/10262', 'training/10263', 'training/10264', 'training/10265', 'training/10268', 'training/10272', 'training/10275', 'training/10277', 'training/10280', 'training/10281', 'training/10282', 'training/10283', 'training/10284', 'training/10285', 'training/10289', 'training/1029', 'training/10291', 'training/10292', 'training/10294', 'training/10295', 'training/10297', 'training/10299', 'training/103', 'training/1030', 'training/10300', 'training/10302', 'training/10305', 'training/10306', 'training/10308', 'training/10310', 'training/10311', 'training/10313', 'training/10314', 'training/10315', 'training/10318', 'training/10319', 'training/1032', 'training/10321', 'training/10322', 'training/10323', 'training/10324', 'training/10328', 'training/1033', 'training/10330', 'training/10332', 'training/10334', 'training/10335', 'training/10337', 'training/10338', 'training/10339', 'training/10340', 'training/10341', 'training/10342', 'training/10344', 'training/10347', 'training/10348', 'training/10349', 'training/1035', 'training/10352', 'training/10354', 'training/10355', 'training/10356', 'training/10357', 'training/10358', 'training/10359', 'training/1036', 'training/10361', 'training/10362', 'training/10364', 'training/10367', 'training/10368', 'training/10370', 'training/10371', 'training/10372', 'training/10373', 'training/10375', 'training/10376', 'training/10377', 'training/10381', 'training/10382', 'training/10384', 'training/10385', 'training/10387', 'training/10388', 'training/1039', 'training/10390', 'training/10391', 'training/10393', 'training/10394', 'training/10395', 'training/10397', 'training/10398', 'training/10399', 'training/104', 'training/1040', 'training/10401', 'training/10402', 'training/10403', 'training/10404', 'training/10406', 'training/10411', 'training/10412', 'training/10414', 'training/10416', 'training/10418', 'training/10419', 'training/10423', 'training/10427', 'training/10429', 'training/10430', 'training/10431', 'training/10432', 'training/10434', 'training/10435', 'training/10436', 'training/10439', 'training/1044', 'training/10440', 'training/10442', 'training/10444', 'training/10445', 'training/10446', 'training/10447', 'training/10449', 'training/10452', 'training/10453', 'training/10454', 'training/10455', 'training/10458', 'training/10459', 'training/10462', 'training/10464', 'training/10467', 'training/1047', 'training/10470', 'training/10471', 'training/10472', 'training/10473', 'training/10475', 'training/10478', 'training/10484', 'training/10485', 'training/10487', 'training/10489', 'training/1049', 'training/10491', 'training/10494', 'training/10498', 'training/10499', 'training/105', 'training/1050', 'training/10500', 'training/10503', 'training/10505', 'training/10506', 'training/10508', 'training/10509', 'training/10515', 'training/10518', 'training/10519', 'training/1052', 'training/10520', 'training/10521', 'training/10524', 'training/10527', 'training/10529', 'training/10530', 'training/10531', 'training/10532', 'training/10534', 'training/10536', 'training/10537', 'training/10538', 'training/10539', 'training/10541', 'training/10542', 'training/10544', 'training/10545', 'training/10546', 'training/10547', 'training/10548', 'training/10551', 'training/10553', 'training/10555', 'training/10556', 'training/10559', 'training/10561', 'training/10563', 'training/10564', 'training/10565', 'training/10566', 'training/10567', 'training/10569', 'training/1057', 'training/10573', 'training/10576', 'training/1058', 'training/10581', 'training/10582', 'training/10584', 'training/10585', 'training/10586', 'training/10587', 'training/10588', 'training/1059', 'training/10590', 'training/10592', 'training/10593', 'training/10594', 'training/10596', 'training/10597', 'training/10598', 'training/10599', 'training/106', 'training/10600', 'training/10601', 'training/10602', 'training/10604', 'training/10606', 'training/10608', 'training/10609', 'training/10610', 'training/10611', 'training/10612', 'training/10613', 'training/10615', 'training/10616', 'training/10617', 'training/10618', 'training/10619', 'training/10620', 'training/10621', 'training/10622', 'training/10623', 'training/10625', 'training/10627', 'training/1063', 'training/10632', 'training/10633', 'training/10634', 'training/10636', 'training/10638', 'training/10640', 'training/10641', 'training/10642', 'training/10643', 'training/10644', 'training/10648', 'training/1065', 'training/10650', 'training/10651', 'training/10652', 'training/10653', 'training/10654', 'training/10657', 'training/10658', 'training/10659', 'training/1066', 'training/10660', 'training/10661', 'training/10662', 'training/10665', 'training/10669', 'training/1067', 'training/10674', 'training/10676', 'training/10678', 'training/10679', 'training/1068', 'training/10681', 'training/10682', 'training/10684', 'training/10685', 'training/10687', 'training/10688', 'training/10689', 'training/1069', 'training/10692', 'training/10693', 'training/10694', 'training/10695', 'training/10696', 'training/10699', 'training/1070', 'training/10701', 'training/10702', 'training/10703', 'training/10704', 'training/10705', 'training/10708', 'training/10709', 'training/1071', 'training/10710', 'training/10712', 'training/10714', 'training/10715', 'training/10717', 'training/10718', 'training/1072', 'training/10720', 'training/10721', 'training/10724', 'training/10729', 'training/10731', 'training/10734', 'training/10736', 'training/10737', 'training/10738', 'training/1074', 'training/10742', 'training/10743', 'training/10744', 'training/10746', 'training/10748', 'training/10749', 'training/10750', 'training/10751', 'training/10752', 'training/10754', 'training/10755', 'training/10756', 'training/10757', 'training/10758', 'training/1076', 'training/10760', 'training/10762', 'training/10766', 'training/10767', 'training/10768', 'training/10769', 'training/1077', 'training/10770', 'training/10771', 'training/10773', 'training/10774', 'training/10779', 'training/1078', 'training/10780', 'training/10781', 'training/10782', 'training/10784', 'training/10786', 'training/10787', 'training/10788', 'training/1079', 'training/10790', 'training/10794', 'training/10796', 'training/10797', 'training/108', 'training/1080', 'training/10803', 'training/10804', 'training/10805', 'training/10807', 'training/10808', 'training/10809', 'training/10811', 'training/10815', 'training/10816', 'training/10817', 'training/1082', 'training/10822', 'training/10825', 'training/10826', 'training/10827', 'training/10830', 'training/10831', 'training/10832', 'training/10833', 'training/10834', 'training/10839', 'training/1084', 'training/10840', 'training/10841', 'training/10843', 'training/10844', 'training/10845', 'training/10847', 'training/10848', 'training/10849', 'training/1085', 'training/10851', 'training/10853', 'training/10855', 'training/10856', 'training/10857', 'training/10859', 'training/10860', 'training/10864', 'training/10867', 'training/10868', 'training/1087', 'training/10870', 'training/10871', 'training/10872', 'training/10873', 'training/10874', 'training/10876', 'training/10877', 'training/10879', 'training/1088', 'training/10882', 'training/10883', 'training/10884', 'training/10885', 'training/10886', 'training/10887', 'training/10891', 'training/10892', 'training/10893', 'training/10894', 'training/10895', 'training/10897', 'training/10899', 'training/109', 'training/1090', 'training/10901', 'training/10902', 'training/10903', 'training/10904', 'training/10905', 'training/10907', 'training/10908', 'training/10909', 'training/1091', 'training/10913', 'training/10917', 'training/10918', 'training/10919', 'training/10921', 'training/10922', 'training/10923', 'training/10924', 'training/10925', 'training/10926', 'training/10928', 'training/10931', 'training/1094', 'training/10941', 'training/10943', 'training/10944', 'training/10946', 'training/10947', 'training/10950', 'training/10956', 'training/10959', 'training/1096', 'training/10960', 'training/10961', 'training/10962', 'training/10963', 'training/10964', 'training/10966', 'training/10969', 'training/10971', 'training/10972', 'training/10973', 'training/10974', 'training/10978', 'training/10980', 'training/10983', 'training/10985', 'training/10988', 'training/10989', 'training/1099', 'training/10992', 'training/10994', 'training/10998', 'training/10999', 'training/11', 'training/110', 'training/1100', 'training/11000', 'training/11006', 'training/11007', 'training/1101', 'training/11012', 'training/11015', 'training/11018', 'training/11019', 'training/1102', 'training/11025', 'training/11027', 'training/11028', 'training/11029', 'training/1103', 'training/11030', 'training/11031', 'training/11034', 'training/11035', 'training/11036', 'training/11039', 'training/1104', 'training/11040', 'training/11041', 'training/11043', 'training/11046', 'training/11047', 'training/11048', 'training/11049', 'training/1105', 'training/11051', 'training/11052', 'training/11056', 'training/11057', 'training/11058', 'training/11059', 'training/11060', 'training/11063', 'training/11064', 'training/11065', 'training/11066', 'training/11070', 'training/11071', 'training/11074', 'training/11076', 'training/11078', 'training/1108', 'training/11083', 'training/11085', 'training/11086', 'training/11087', 'training/11088', 'training/1109', 'training/11090', 'training/11091', 'training/11093', 'training/11095', 'training/11098', 'training/111', 'training/1110', 'training/11100', 'training/11101', 'training/11102', 'training/11103', 'training/11104', 'training/11105', 'training/11106', 'training/11107', 'training/11109', 'training/1111', 'training/11111', 'training/11112', 'training/11113', 'training/11115', 'training/11118', 'training/11119', 'training/1112', 'training/11120', 'training/11121', 'training/11123', 'training/11124', 'training/11126', 'training/11127', 'training/11128', 'training/11132', 'training/11133', 'training/11134', 'training/11135', 'training/11136', 'training/11137', 'training/11139', 'training/11143', 'training/11144', 'training/11145', 'training/11149', 'training/11153', 'training/11154', 'training/11156', 'training/11158', 'training/11159', 'training/11160', 'training/11161', 'training/11162', 'training/11163', 'training/11164', 'training/11166', 'training/11168', 'training/1117', 'training/11170', 'training/11171', 'training/11173', 'training/11174', 'training/11175', 'training/11177', 'training/11179', 'training/1118', 'training/11181', 'training/11183', 'training/11185', 'training/11190', 'training/11191', 'training/11192', 'training/11193', 'training/11196', 'training/11197', 'training/11198', 'training/1120', 'training/11200', 'training/11201', 'training/11202', 'training/11203', 'training/11205', 'training/11208', 'training/11209', 'training/11210', 'training/11211', 'training/11212', 'training/11213', 'training/11216', 'training/1122', 'training/11220', 'training/11221', 'training/11222', 'training/11224', 'training/11225', 'training/11227', 'training/11228', 'training/11229', 'training/1123', 'training/11230', 'training/11231', 'training/11232', 'training/11233', 'training/11234', 'training/11236', 'training/11237', 'training/11238', 'training/11239', 'training/1124', 'training/11241', 'training/11242', 'training/11243', 'training/11244', 'training/11249', 'training/1125', 'training/11251', 'training/11252', 'training/11253', 'training/11254', 'training/11255', 'training/11256', 'training/11257', 'training/11259', 'training/11260', 'training/11261', 'training/11263', 'training/11265', 'training/11268', 'training/11269', 'training/11270', 'training/11271', 'training/11272', 'training/11273', 'training/11274', 'training/11276', 'training/11277', 'training/11278', 'training/11279', 'training/1128', 'training/11281', 'training/11282', 'training/11283', 'training/11284', 'training/11285', 'training/11287', 'training/11289', 'training/11291', 'training/11292', 'training/11295', 'training/11297', 'training/11299', 'training/113', 'training/11300', 'training/11301', 'training/11302', 'training/11305', 'training/11306', 'training/11307', 'training/11308', 'training/1131', 'training/11314', 'training/11315', 'training/11316', 'training/11317', 'training/11320', 'training/11322', 'training/11324', 'training/11327', 'training/11330', 'training/11333', 'training/11335', 'training/11336', 'training/11338', 'training/1134', 'training/11340', 'training/11341', 'training/11343', 'training/11344', 'training/11348', 'training/11349', 'training/1135', 'training/11350', 'training/11352', 'training/11354', 'training/11356', 'training/11357', 'training/11358', 'training/11359', 'training/11362', 'training/11365', 'training/11369', 'training/1137', 'training/11370', 'training/11371', 'training/11372', 'training/11373', 'training/11374', 'training/11377', 'training/11378', 'training/11379', 'training/1138', 'training/11380', 'training/11381', 'training/11384', 'training/11385', 'training/11386', 'training/11387', 'training/11388', 'training/11390', 'training/11392', 'training/11393', 'training/11394', 'training/11395', 'training/11396', 'training/11397', 'training/11399', 'training/11400', 'training/11402', 'training/11403', 'training/11405', 'training/11406', 'training/11407', 'training/11413', 'training/11415', 'training/11416', 'training/11417', 'training/11418', 'training/11420', 'training/11421', 'training/11422', 'training/11424', 'training/11425', 'training/11427', 'training/11428', 'training/11429', 'training/1143', 'training/11430', 'training/11431', 'training/11433', 'training/11435', 'training/11436', 'training/11437', 'training/11440', 'training/11441', 'training/11443', 'training/11444', 'training/11445', 'training/11446', 'training/11447', 'training/11449', 'training/11450', 'training/11451', 'training/11452', 'training/11455', 'training/11459', 'training/11460', 'training/11461', 'training/11462', 'training/11464', 'training/11465', 'training/11466', 'training/11468', 'training/11469', 'training/1147', 'training/11470', 'training/11475', 'training/11476', 'training/11477', 'training/11478', 'training/11479', 'training/1148', 'training/11481', 'training/11484', 'training/11487', 'training/11488', 'training/11490', 'training/11491', 'training/11492', 'training/11494', 'training/11496', 'training/11497', 'training/11498', 'training/11499', 'training/11500', 'training/11501', 'training/11503', 'training/11504', 'training/11505', 'training/11506', 'training/11507', 'training/11508', 'training/1151', 'training/11510', 'training/11514', 'training/11515', 'training/11519', 'training/1152', 'training/11522', 'training/11523', 'training/11526', 'training/11527', 'training/11528', 'training/11529', 'training/1153', 'training/11536', 'training/11539', 'training/1154', 'training/11540', 'training/11541', 'training/11543', 'training/11544', 'training/11545', 'training/11546', 'training/11549', 'training/11550', 'training/11551', 'training/11553', 'training/11554', 'training/11555', 'training/11558', 'training/11559', 'training/1156', 'training/11563', 'training/11564', 'training/11565', 'training/11566', 'training/11567', 'training/11568', 'training/11569', 'training/1157', 'training/11570', 'training/11571', 'training/11572', 'training/11574', 'training/11575', 'training/11578', 'training/11579', 'training/1158', 'training/11580', 'training/11584', 'training/11587', 'training/11588', 'training/1159', 'training/11597', 'training/11598', 'training/11599', 'training/1160', 'training/11602', 'training/11607', 'training/11608', 'training/11609', 'training/11610', 'training/11611', 'training/11612', 'training/11614', 'training/11617', 'training/11619', 'training/11621', 'training/11622', 'training/11623', 'training/11625', 'training/11627', 'training/11628', 'training/11629', 'training/11630', 'training/11632', 'training/11633', 'training/11634', 'training/11635', 'training/11636', 'training/11637', 'training/11638', 'training/11639', 'training/1164', 'training/11640', 'training/11643', 'training/11644', 'training/11645', 'training/11649', 'training/11655', 'training/11657', 'training/11658', 'training/11660', 'training/11661', 'training/11663', 'training/11664', 'training/11665', 'training/11666', 'training/11667', 'training/11668', 'training/1167', 'training/11671', 'training/11674', 'training/11679', 'training/11682', 'training/11683', 'training/11684', 'training/11685', 'training/11687', 'training/11689', 'training/1169', 'training/11690', 'training/11694', 'training/11696', 'training/11697', 'training/11699', 'training/1170', 'training/11700', 'training/11701', 'training/11702', 'training/11705', 'training/11706', 'training/11707', 'training/11708', 'training/11711', 'training/11713', 'training/11714', 'training/11716', 'training/11717', 'training/11721', 'training/11722', 'training/11723', 'training/11724', 'training/11725', 'training/11726', 'training/11727', 'training/11728', 'training/11729', 'training/1173', 'training/11730', 'training/11731', 'training/11733', 'training/11734', 'training/11736', 'training/11738', 'training/11739', 'training/1174', 'training/11743', 'training/11744', 'training/11746', 'training/11748', 'training/11750', 'training/11751', 'training/11752', 'training/11753', 'training/11754', 'training/11755', 'training/11756', 'training/11758', 'training/1176', 'training/11762', 'training/11763', 'training/11764', 'training/11765', 'training/11767', 'training/11768', 'training/11769', 'training/1177', 'training/11771', 'training/11772', 'training/11773', 'training/11774', 'training/11775', 'training/11776', 'training/11778', 'training/1178', 'training/11783', 'training/11787', 'training/11789', 'training/11790', 'training/11791', 'training/11793', 'training/11794', 'training/11795', 'training/11798', 'training/11801', 'training/11802', 'training/11808', 'training/1181', 'training/11811', 'training/11812', 'training/11813', 'training/11815', 'training/11816', 'training/11817', 'training/1182', 'training/11820', 'training/11821', 'training/11822', 'training/11825', 'training/11826', 'training/11829', 'training/11830', 'training/11831', 'training/11832', 'training/11833', 'training/11834', 'training/11836', 'training/11837', 'training/11839', 'training/1184', 'training/11840', 'training/11841', 'training/11843', 'training/11844', 'training/11847', 'training/11848', 'training/1185', 'training/11850', 'training/11852', 'training/11854', 'training/11855', 'training/11856', 'training/11858', 'training/11859', 'training/11860', 'training/11861', 'training/11862', 'training/11863', 'training/11864', 'training/11866', 'training/11867', 'training/11871', 'training/11872', 'training/11873', 'training/11876', 'training/11877', 'training/11878', 'training/11879', 'training/1188', 'training/11880', 'training/11882', 'training/11883', 'training/11884', 'training/11885', 'training/11886', 'training/11888', 'training/11891', 'training/11892', 'training/11893', 'training/11894', 'training/11895', 'training/11896', 'training/11898', 'training/11900', 'training/11903', 'training/11904', 'training/11905', 'training/11907', 'training/11908', 'training/11909', 'training/1191', 'training/11910', 'training/11911', 'training/11913', 'training/11914', 'training/11915', 'training/11916', 'training/11918', 'training/1192', 'training/11920', 'training/11923', 'training/11925', 'training/1193', 'training/11930', 'training/11932', 'training/11933', 'training/11934', 'training/11935', 'training/11936', 'training/11938', 'training/11939', 'training/11940', 'training/11941', 'training/11944', 'training/11945', 'training/11946', 'training/11947', 'training/11949', 'training/11953', 'training/11954', 'training/11957', 'training/11958', 'training/11960', 'training/11961', 'training/11962', 'training/11964', 'training/11966', 'training/11967', 'training/11968', 'training/1197', 'training/11970', 'training/11972', 'training/11976', 'training/11977', 'training/11978', 'training/11979', 'training/1198', 'training/11980', 'training/11981', 'training/11982', 'training/11983', 'training/11984', 'training/11989', 'training/11990', 'training/11993', 'training/11994', 'training/11996', 'training/11997', 'training/11999', 'training/12', 'training/1200', 'training/12001', 'training/12002', 'training/12003', 'training/12005', 'training/12007', 'training/12008', 'training/12009', 'training/1201', 'training/12010', 'training/12011', 'training/12014', 'training/12016', 'training/12017', 'training/12018', 'training/12019', 'training/12022', 'training/12024', 'training/12027', 'training/12028', 'training/1203', 'training/12031', 'training/12032', 'training/12033', 'training/12035', 'training/12036', 'training/12040', 'training/12042', 'training/12044', 'training/12045', 'training/12046', 'training/12048', 'training/12049', 'training/1205', 'training/12050', 'training/12052', 'training/12053', 'training/12054', 'training/12055', 'training/12059', 'training/12061', 'training/12063', 'training/12064', 'training/12067', 'training/12068', 'training/1207', 'training/12073', 'training/12076', 'training/12077', 'training/12078', 'training/12079', 'training/1208', 'training/12080', 'training/12081', 'training/12083', 'training/12084', 'training/12085', 'training/12087', 'training/1209', 'training/12091', 'training/12093', 'training/12094', 'training/12098', 'training/121', 'training/1210', 'training/12101', 'training/12102', 'training/12106', 'training/1211', 'training/12110', 'training/12112', 'training/12114', 'training/12115', 'training/12117', 'training/12119', 'training/1212', 'training/12121', 'training/12122', 'training/12125', 'training/12127', 'training/12128', 'training/1213', 'training/12131', 'training/12132', 'training/12133', 'training/12135', 'training/12136', 'training/12138', 'training/12139', 'training/12140', 'training/12145', 'training/12146', 'training/12147', 'training/12149', 'training/1215', 'training/12150', 'training/12152', 'training/12153', 'training/12154', 'training/12155', 'training/12156', 'training/12159', 'training/1216', 'training/12160', 'training/12161', 'training/12162', 'training/12163', 'training/12164', 'training/12166', 'training/12169', 'training/1217', 'training/12171', 'training/12172', 'training/12173', 'training/12174', 'training/12176', 'training/12177', 'training/12178', 'training/12179', 'training/12182', 'training/12183', 'training/12184', 'training/12185', 'training/12186', 'training/12187', 'training/12191', 'training/12192', 'training/12195', 'training/12197', 'training/1220', 'training/12201', 'training/12202', 'training/12203', 'training/12204', 'training/12205', 'training/12207', 'training/12208', 'training/12209', 'training/12211', 'training/12213', 'training/12215', 'training/12216', 'training/12219', 'training/12221', 'training/12222', 'training/12223', 'training/12224', 'training/12225', 'training/12226', 'training/12227', 'training/12229', 'training/12231', 'training/12235', 'training/12236', 'training/12237', 'training/12239', 'training/12240', 'training/12243', 'training/12244', 'training/12246', 'training/12249', 'training/1225', 'training/12250', 'training/12251', 'training/12254', 'training/12255', 'training/12257', 'training/12258', 'training/12259', 'training/1226', 'training/12260', 'training/12261', 'training/12266', 'training/12267', 'training/12269', 'training/12270', 'training/12271', 'training/12274', 'training/12275', 'training/12276', 'training/12278', 'training/1228', 'training/12281', 'training/12283', 'training/12285', 'training/12286', 'training/12288', 'training/1229', 'training/12293', 'training/12294', 'training/12296', 'training/12298', 'training/123', 'training/12301', 'training/12302', 'training/12303', 'training/12304', 'training/12305', 'training/12306', 'training/12309', 'training/12311', 'training/12312', 'training/12313', 'training/12315', 'training/12316', 'training/12317', 'training/12318', 'training/12321', 'training/12323', 'training/12325', 'training/12327', 'training/12331', 'training/12332', 'training/12333', 'training/12334', 'training/12336', 'training/12337', 'training/12338', 'training/12339', 'training/1234', 'training/12340', 'training/12341', 'training/12344', 'training/12345', 'training/12346', 'training/12348', 'training/12350', 'training/12351', 'training/12352', 'training/12353', 'training/12355', 'training/12356', 'training/12361', 'training/12362', 'training/12364', 'training/12366', 'training/12368', 'training/12371', 'training/12372', 'training/12374', 'training/12375', 'training/12376', 'training/12378', 'training/12379', 'training/1238', 'training/12380', 'training/12382', 'training/12383', 'training/12386', 'training/12389', 'training/1239', 'training/12390', 'training/12391', 'training/12394', 'training/12395', 'training/12396', 'training/12397', 'training/12398', 'training/12399', 'training/124', 'training/12400', 'training/12401', 'training/12403', 'training/12404', 'training/12406', 'training/12407', 'training/12408', 'training/12409', 'training/12410', 'training/12411', 'training/12413', 'training/12415', 'training/12416', 'training/12417', 'training/12418', 'training/12420', 'training/12421', 'training/12422', 'training/12423', 'training/12424', 'training/12425', 'training/12426', 'training/12428', 'training/12429', 'training/1243', 'training/12432', 'training/12433', 'training/12435', 'training/12436', 'training/12437', 'training/12439', 'training/1244', 'training/12441', 'training/12442', 'training/12443', 'training/12447', 'training/12448', 'training/12449', 'training/1245', 'training/12453', 'training/12454', 'training/12455', 'training/12456', 'training/12457', 'training/12458', 'training/1246', 'training/12460', 'training/12461', 'training/12462', 'training/12463', 'training/12464', 'training/12465', 'training/12466', 'training/12468', 'training/12469', 'training/12470', 'training/12471', 'training/12472', 'training/12473', 'training/12480', 'training/12483', 'training/12484', 'training/12485', 'training/12487', 'training/12488', 'training/12489', 'training/12490', 'training/12492', 'training/12494', 'training/12495', 'training/125', 'training/12500', 'training/12501', 'training/12503', 'training/12504', 'training/12505', 'training/12506', 'training/12507', 'training/12508', 'training/12509', 'training/1251', 'training/12511', 'training/12512', 'training/12514', 'training/12515', 'training/12516', 'training/12517', 'training/1252', 'training/12520', 'training/12521', 'training/12522', 'training/12523', 'training/12524', 'training/12525', 'training/12529', 'training/12530', 'training/12531', 'training/12532', 'training/12533', 'training/12534', 'training/12538', 'training/12540', 'training/12543', 'training/12545', 'training/12546', 'training/12549', 'training/12550', 'training/12551', 'training/12554', 'training/12555', 'training/12557', 'training/12558', 'training/12559', 'training/12562', 'training/12563', 'training/12564', 'training/12569', 'training/1257', 'training/12570', 'training/12571', 'training/12572', 'training/12573', 'training/12574', 'training/12576', 'training/12579', 'training/1258', 'training/12580', 'training/12583', 'training/12585', 'training/12587', 'training/12588', 'training/12592', 'training/12593', 'training/126', 'training/1260', 'training/1263', 'training/1264', 'training/1265', 'training/1268', 'training/1269', 'training/127', 'training/1271', 'training/1272', 'training/12728', 'training/1273', 'training/12731', 'training/12732', 'training/12737', 'training/12741', 'training/12743', 'training/12745', 'training/12746', 'training/12748', 'training/12751', 'training/12752', 'training/12753', 'training/12754', 'training/12755', 'training/12757', 'training/12758', 'training/12759', 'training/1276', 'training/12760', 'training/12761', 'training/12762', 'training/12763', 'training/12767', 'training/12768', 'training/1277', 'training/12770', 'training/12771', 'training/12772', 'training/12774', 'training/12775', 'training/12778', 'training/12780', 'training/12783', 'training/12785', 'training/12786', 'training/12787', 'training/12788', 'training/12789', 'training/12790', 'training/12791', 'training/12795', 'training/12796', 'training/12797', 'training/12799', 'training/128', 'training/1280', 'training/12801', 'training/12802', 'training/12803', 'training/12805', 'training/12806', 'training/12810', 'training/12812', 'training/12813', 'training/12814', 'training/12815', 'training/12817', 'training/12818', 'training/12819', 'training/12822', 'training/12823', 'training/12824', 'training/12827', 'training/12829', 'training/1283', 'training/12830', 'training/12831', 'training/12834', 'training/12836', 'training/12839', 'training/1284', 'training/12840', 'training/12841', 'training/12842', 'training/12843', 'training/12846', 'training/12848', 'training/12849', 'training/1285', 'training/12851', 'training/12852', 'training/12853', 'training/12857', 'training/12858', 'training/12860', 'training/12861', 'training/12862', 'training/12866', 'training/12869', 'training/1287', 'training/12872', 'training/12874', 'training/12875', 'training/12877', 'training/12878', 'training/1288', 'training/12880', 'training/12882', 'training/12883', 'training/12885', 'training/12886', 'training/12887', 'training/12888', 'training/12889', 'training/12890', 'training/12891', 'training/12893', 'training/12897', 'training/12898', 'training/129', 'training/12900', 'training/12901', 'training/12904', 'training/12905', 'training/12907', 'training/12908', 'training/1291', 'training/12910', 'training/12912', 'training/12914', 'training/12915', 'training/12917', 'training/12919', 'training/1292', 'training/12923', 'training/12924', 'training/12929', 'training/1293', 'training/12933', 'training/12935', 'training/12937', 'training/12940', 'training/12943', 'training/12948', 'training/12949', 'training/1295', 'training/12956', 'training/12959', 'training/12962', 'training/12963', 'training/12965', 'training/12969', 'training/12971', 'training/12973', 'training/12974', 'training/12978', 'training/1298', 'training/12980', 'training/12981', 'training/12982', 'training/12986', 'training/12987', 'training/12988', 'training/1299', 'training/12992', 'training/12995', 'training/12996', 'training/13', 'training/130', 'training/1300', 'training/13003', 'training/13005', 'training/13006', 'training/13007', 'training/13008', 'training/1301', 'training/13010', 'training/13011', 'training/13014', 'training/13019', 'training/13021', 'training/13023', 'training/13024', 'training/13025', 'training/13026', 'training/13027', 'training/1303', 'training/13031', 'training/13032', 'training/13036', 'training/13037', 'training/13039', 'training/13041', 'training/13043', 'training/13045', 'training/13046', 'training/13052', 'training/13053', 'training/13054', 'training/13059', 'training/1306', 'training/13060', 'training/13062', 'training/13064', 'training/13067', 'training/13070', 'training/13072', 'training/13077', 'training/13078', 'training/1308', 'training/13080', 'training/13085', 'training/13089', 'training/13090', 'training/13092', 'training/13093', 'training/13094', 'training/13095', 'training/13096', 'training/13097', 'training/13099', 'training/13102', 'training/13103', 'training/13105', 'training/1311', 'training/13110', 'training/13113', 'training/13114', 'training/13115', 'training/13116', 'training/13118', 'training/13119', 'training/1312', 'training/13120', 'training/13122', 'training/13123', 'training/13124', 'training/13126', 'training/13129', 'training/1313', 'training/13130', 'training/13131', 'training/13136', 'training/13138', 'training/13139', 'training/1314', 'training/13141', 'training/13142', 'training/13143', 'training/13144', 'training/13148', 'training/13149', 'training/1315', 'training/13151', 'training/13157', 'training/13158', 'training/13159', 'training/1316', 'training/13162', 'training/13163', 'training/13165', 'training/13168', 'training/1317', 'training/13170', 'training/13172', 'training/13173', 'training/13174', 'training/13175', 'training/13179', 'training/13180', 'training/13182', 'training/13184', 'training/13185', 'training/13186', 'training/13187', 'training/13188', 'training/13189', 'training/13190', 'training/13191', 'training/13192', 'training/13194', 'training/13195', 'training/13196', 'training/13197', 'training/13199', 'training/132', 'training/1320', 'training/13200', 'training/13201', 'training/13203', 'training/13204', 'training/13205', 'training/13206', 'training/13210', 'training/13211', 'training/13212', 'training/13214', 'training/1322', 'training/13223', 'training/13224', 'training/13225', 'training/13230', 'training/13231', 'training/13232', 'training/13238', 'training/1324', 'training/13242', 'training/13243', 'training/13244', 'training/13245', 'training/13247', 'training/13251', 'training/13255', 'training/13256', 'training/13258', 'training/1326', 'training/13261', 'training/13262', 'training/13263', 'training/13265', 'training/13266', 'training/13269', 'training/1327', 'training/13270', 'training/13271', 'training/13272', 'training/13274', 'training/1328', 'training/13294', 'training/133', 'training/1331', 'training/13313', 'training/13315', 'training/13317', 'training/1332', 'training/13320', 'training/13321', 'training/13333', 'training/13336', 'training/1335', 'training/13380', 'training/13382', 'training/1339', 'training/13393', 'training/13398', 'training/134', 'training/1340', 'training/13404', 'training/1341', 'training/1342', 'training/1343', 'training/13435', 'training/1344', 'training/1345', 'training/13458', 'training/13462', 'training/13468', 'training/1347', 'training/13471', 'training/13482', 'training/135', 'training/1350', 'training/13507', 'training/1351', 'training/13512', 'training/13524', 'training/13530', 'training/13531', 'training/13532', 'training/13539', 'training/1354', 'training/13542', 'training/13543', 'training/13544', 'training/1355', 'training/13552', 'training/13559', 'training/1356', 'training/1359', 'training/136', 'training/1360', 'training/1361', 'training/13611', 'training/13615', 'training/1363', 'training/13633', 'training/1364', 'training/13649', 'training/13656', 'training/1366', 'training/13660', 'training/1367', 'training/13688', 'training/1369', 'training/13690', 'training/13694', 'training/13695', 'training/13702', 'training/13704', 'training/13708', 'training/13709', 'training/13710', 'training/13711', 'training/13714', 'training/13715', 'training/13717', 'training/1372', 'training/13721', 'training/13729', 'training/13735', 'training/13738', 'training/13739', 'training/13744', 'training/1375', 'training/13753', 'training/13757', 'training/1377', 'training/13775', 'training/1378', 'training/13787', 'training/1379', 'training/13790', 'training/13791', 'training/13795', 'training/138', 'training/1381', 'training/1382', 'training/13831', 'training/13834', 'training/13836', 'training/1384', 'training/13842', 'training/13849', 'training/1385', 'training/13852', 'training/13854', 'training/13856', 'training/13869', 'training/1387', 'training/13870', 'training/13874', 'training/13877', 'training/1388', 'training/13889', 'training/13890', 'training/139', 'training/13900', 'training/13903', 'training/13904', 'training/13908', 'training/1391', 'training/13915', 'training/13919', 'training/1393', 'training/1394', 'training/13946', 'training/13949', 'training/1395', 'training/13950', 'training/13958', 'training/1396', 'training/13963', 'training/13966', 'training/1398', 'training/13988', 'training/1399', 'training/13994', 'training/14', 'training/140', 'training/14012', 'training/14028', 'training/14034', 'training/1404', 'training/1405', 'training/14055', 'training/1406', 'training/14069', 'training/1407', 'training/1409', 'training/14091', 'training/14093', 'training/14099', 'training/14103', 'training/14109', 'training/1412', 'training/14126', 'training/14131', 'training/1414', 'training/14146', 'training/14150', 'training/14154', 'training/14156', 'training/14166', 'training/14168', 'training/14177', 'training/14178', 'training/14180', 'training/14182', 'training/14199', 'training/142', 'training/1420', 'training/14201', 'training/14207', 'training/1421', 'training/14211', 'training/14212', 'training/14214', 'training/14220', 'training/1425', 'training/14263', 'training/1427', 'training/14270', 'training/1428', 'training/14282', 'training/14285', 'training/1429', 'training/14293', 'training/14297', 'training/14298', 'training/143', 'training/14300', 'training/14310', 'training/14313', 'training/14314', 'training/14315', 'training/14316', 'training/14324', 'training/1433', 'training/1434', 'training/14340', 'training/1435', 'training/14354', 'training/1436', 'training/14360', 'training/14376', 'training/1438', 'training/14388', 'training/14389', 'training/14393', 'training/14394', 'training/14395', 'training/144', 'training/1440', 'training/14402', 'training/14417', 'training/14418', 'training/14423', 'training/14427', 'training/14434', 'training/1444', 'training/14440', 'training/1445', 'training/1446', 'training/14469', 'training/14476', 'training/14483', 'training/14485', 'training/1449', 'training/14491', 'training/14499', 'training/145', 'training/14504', 'training/14506', 'training/14509', 'training/14512', 'training/14515', 'training/14516', 'training/14517', 'training/1452', 'training/14524', 'training/14525', 'training/14537', 'training/14539', 'training/14540', 'training/14542', 'training/14544', 'training/14545', 'training/14547', 'training/14549', 'training/14550', 'training/14551', 'training/14558', 'training/1456', 'training/14563', 'training/14566', 'training/14569', 'training/1457', 'training/14572', 'training/14573', 'training/14582', 'training/14586', 'training/14587', 'training/146', 'training/1460', 'training/14603', 'training/14604', 'training/1461', 'training/14612', 'training/14619', 'training/14622', 'training/14623', 'training/14626', 'training/14629', 'training/14630', 'training/14642', 'training/14646', 'training/14655', 'training/1466', 'training/14666', 'training/1467', 'training/14672', 'training/14679', 'training/14682', 'training/14686', 'training/14688', 'training/14689', 'training/1469', 'training/14697', 'training/14698', 'training/147', 'training/14701', 'training/14704', 'training/14706', 'training/14709', 'training/1471', 'training/14715', 'training/14718', 'training/14719', 'training/14721', 'training/14722', 'training/14729', 'training/14732', 'training/14736', 'training/14739', 'training/14744', 'training/14751', 'training/14752', 'training/14755', 'training/14757', 'training/14761', 'training/14767', 'training/1477', 'training/14770', 'training/14771', 'training/14777', 'training/14779', 'training/1478', 'training/14783', 'training/14785', 'training/1480', 'training/14805', 'training/14818', 'training/1483', 'training/1488', 'training/1492', 'training/1493', 'training/1494', 'training/1496', 'training/1497', 'training/1498', 'training/1499', 'training/1500', 'training/1502', 'training/1503', 'training/1506', 'training/1508', 'training/151', 'training/1512', 'training/1514', 'training/1519', 'training/152', 'training/1520', 'training/1521', 'training/1524', 'training/1525', 'training/1526', 'training/1527', 'training/1528', 'training/1529', 'training/153', 'training/1532', 'training/1533', 'training/1535', 'training/1536', 'training/1537', 'training/1541', 'training/1543', 'training/1545', 'training/1546', 'training/1550', 'training/1553', 'training/1554', 'training/1555', 'training/1556', 'training/1557', 'training/1560', 'training/1562', 'training/1563', 'training/1564', 'training/1566', 'training/1567', 'training/1568', 'training/1569', 'training/157', 'training/1570', 'training/1571', 'training/1572', 'training/1575', 'training/1577', 'training/1579', 'training/1581', 'training/1582', 'training/1584', 'training/1585', 'training/1586', 'training/1588', 'training/1590', 'training/1598', 'training/160', 'training/1601', 'training/1602', 'training/1606', 'training/1607', 'training/1608', 'training/1610', 'training/1611', 'training/1616', 'training/1619', 'training/162', 'training/1620', 'training/1622', 'training/1623', 'training/1626', 'training/1628', 'training/163', 'training/1631', 'training/1633', 'training/1634', 'training/1638', 'training/1639', 'training/164', 'training/1640', 'training/1642', 'training/1643', 'training/1644', 'training/1648', 'training/1649', 'training/165', 'training/1650', 'training/1651', 'training/1652', 'training/1653', 'training/1655', 'training/1656', 'training/1657', 'training/1658', 'training/1659', 'training/166', 'training/1660', 'training/1661', 'training/1665', 'training/1666', 'training/1667', 'training/167', 'training/1673', 'training/1674', 'training/1675', 'training/1676', 'training/1677', 'training/1678', 'training/1679', 'training/168', 'training/1680', 'training/1681', 'training/1682', 'training/1684', 'training/1686', 'training/1688', 'training/1689', 'training/169', 'training/1692', 'training/1693', 'training/1694', 'training/1696', 'training/1706', 'training/1708', 'training/1709', 'training/1711', 'training/1714', 'training/1715', 'training/1716', 'training/1718', 'training/1719', 'training/1722', 'training/1723', 'training/1724', 'training/1727', 'training/1729', 'training/1731', 'training/1732', 'training/1734', 'training/1735', 'training/1739', 'training/1740', 'training/1741', 'training/1747', 'training/1751', 'training/1752', 'training/1758', 'training/1759', 'training/176', 'training/1760', 'training/1761', 'training/1763', 'training/1764', 'training/1765', 'training/1767', 'training/1768', 'training/1769', 'training/1771', 'training/1772', 'training/1773', 'training/1777', 'training/1783', 'training/1785', 'training/1787', 'training/1789', 'training/179', 'training/1790', 'training/1792', 'training/1794', 'training/1797', 'training/1798', 'training/1799', 'training/18', 'training/180', 'training/1801', 'training/1803', 'training/1808', 'training/1809', 'training/1811', 'training/1814', 'training/1815', 'training/1816', 'training/1820', 'training/1824', 'training/183', 'training/1832', 'training/1835', 'training/1836', 'training/1837', 'training/1839', 'training/1842', 'training/1843', 'training/1845', 'training/1846', 'training/1847', 'training/1848', 'training/1849', 'training/185', 'training/1851', 'training/1853', 'training/1855', 'training/1856', 'training/1858', 'training/186', 'training/1860', 'training/1861', 'training/1862', 'training/1863', 'training/187', 'training/1871', 'training/1872', 'training/1873', 'training/1875', 'training/1877', 'training/1878', 'training/1880', 'training/1882', 'training/1885', 'training/1886', 'training/1889', 'training/189', 'training/1890', 'training/1897', 'training/1898', 'training/19', 'training/1901', 'training/1902', 'training/1904', 'training/1907', 'training/1909', 'training/191', 'training/1910', 'training/1912', 'training/1913', 'training/1915', 'training/1917', 'training/1918', 'training/1919', 'training/1920', 'training/1924', 'training/1926', 'training/1929', 'training/193', 'training/1931', 'training/1932', 'training/1933', 'training/1934', 'training/194', 'training/1940', 'training/1942', 'training/1943', 'training/1946', 'training/1948', 'training/1949', 'training/1951', 'training/1952', 'training/1959', 'training/196', 'training/1960', 'training/1961', 'training/1963', 'training/1964', 'training/1965', 'training/1966', 'training/1967', 'training/197', 'training/1970', 'training/1971', 'training/1975', 'training/1976', 'training/198', 'training/1980', 'training/1982', 'training/1983', 'training/1987', 'training/1989', 'training/199', 'training/1990', 'training/1994', 'training/1995', 'training/1996', 'training/200', 'training/2000', 'training/2001', 'training/2003', 'training/2004', 'training/2005', 'training/2006', 'training/2007', 'training/2008', 'training/201', 'training/2010', 'training/2012', 'training/2013', 'training/2016', 'training/202', 'training/2020', 'training/2022', 'training/2024', 'training/2025', 'training/2026', 'training/2027', 'training/2028', 'training/2029', 'training/203', 'training/2033', 'training/2035', 'training/2039', 'training/2042', 'training/2044', 'training/2046', 'training/2047', 'training/2048', 'training/2049', 'training/2054', 'training/2055', 'training/2056', 'training/2061', 'training/2064', 'training/2065', 'training/2067', 'training/2073', 'training/2074', 'training/2079', 'training/2080', 'training/2087', 'training/2089', 'training/209', 'training/2092', 'training/2095', 'training/2097', 'training/2098', 'training/2099', 'training/210', 'training/2101', 'training/2102', 'training/2107', 'training/2108', 'training/2109', 'training/211', 'training/2110', 'training/2112', 'training/2114', 'training/2115', 'training/2116', 'training/2118', 'training/212', 'training/2121', 'training/2122', 'training/2126', 'training/2128', 'training/213', 'training/2130', 'training/2133', 'training/2136', 'training/2137', 'training/214', 'training/2148', 'training/2149', 'training/2151', 'training/2153', 'training/2154', 'training/2155', 'training/2157', 'training/2159', 'training/216', 'training/2163', 'training/2166', 'training/2167', 'training/2168', 'training/2169', 'training/2171', 'training/2172', 'training/2173', 'training/2174', 'training/2175', 'training/2176', 'training/2178', 'training/2181', 'training/2182', 'training/2183', 'training/2186', 'training/2187', 'training/2188', 'training/2190', 'training/2191', 'training/2193', 'training/2194', 'training/2195', 'training/2196', 'training/2197', 'training/2198', 'training/22', 'training/220', 'training/2202', 'training/2203', 'training/2205', 'training/2206', 'training/2207', 'training/221', 'training/2211', 'training/2212', 'training/2213', 'training/2216', 'training/2217', 'training/2219', 'training/2220', 'training/2221', 'training/2223', 'training/2224', 'training/2225', 'training/2226', 'training/2227', 'training/2228', 'training/2230', 'training/2231', 'training/2232', 'training/2234', 'training/2236', 'training/2237', 'training/2238', 'training/2239', 'training/2240', 'training/2244', 'training/2246', 'training/2247', 'training/2249', 'training/225', 'training/2251', 'training/2252', 'training/2253', 'training/2257', 'training/2259', 'training/2260', 'training/2264', 'training/2265', 'training/2266', 'training/2268', 'training/2269', 'training/227', 'training/2270', 'training/2271', 'training/2273', 'training/2275', 'training/2276', 'training/2278', 'training/2279', 'training/228', 'training/2281', 'training/2286', 'training/229', 'training/2290', 'training/2291', 'training/2297', 'training/2298', 'training/23', 'training/2301', 'training/2303', 'training/2304', 'training/2307', 'training/2308', 'training/2309', 'training/2310', 'training/2312', 'training/2316', 'training/232', 'training/2320', 'training/2322', 'training/2323', 'training/2325', 'training/2326', 'training/2327', 'training/233', 'training/2332', 'training/2333', 'training/2335', 'training/2336', 'training/2337', 'training/2338', 'training/2339', 'training/2340', 'training/2342', 'training/2344', 'training/2346', 'training/2347', 'training/2348', 'training/235', 'training/2350', 'training/2352', 'training/2353', 'training/2354', 'training/2357', 'training/2358', 'training/2359', 'training/236', 'training/2365', 'training/2366', 'training/2367', 'training/237', 'training/2370', 'training/2371', 'training/2374', 'training/2375', 'training/2376', 'training/2377', 'training/2379', 'training/2380', 'training/2382', 'training/2383', 'training/2385', 'training/2386', 'training/2389', 'training/2390', 'training/2391', 'training/2393', 'training/2394', 'training/2396', 'training/2397', 'training/2398', 'training/24', 'training/2402', 'training/2403', 'training/2405', 'training/2406', 'training/2409', 'training/241', 'training/2410', 'training/2411', 'training/2417', 'training/2419', 'training/242', 'training/2420', 'training/2421', 'training/2425', 'training/2428', 'training/2429', 'training/2433', 'training/2434', 'training/2435', 'training/2436', 'training/2437', 'training/2440', 'training/2441', 'training/2442', 'training/2447', 'training/2448', 'training/2449', 'training/2452', 'training/2456', 'training/2458', 'training/2459', 'training/246', 'training/2460', 'training/2462', 'training/2465', 'training/2466', 'training/2467', 'training/2468', 'training/247', 'training/2470', 'training/2471', 'training/2474', 'training/2475', 'training/2476', 'training/2478', 'training/2479', 'training/248', 'training/2480', 'training/2482', 'training/2483', 'training/2484', 'training/2488', 'training/249', 'training/2490', 'training/2491', 'training/2492', 'training/2494', 'training/2495', 'training/2496', 'training/2497', 'training/2499', 'training/2500', 'training/2504', 'training/2505', 'training/2508', 'training/2511', 'training/2512', 'training/2513', 'training/2515', 'training/2517', 'training/2518', 'training/2519', 'training/2520', 'training/2521', 'training/2522', 'training/2524', 'training/2526', 'training/2528', 'training/2529', 'training/253', 'training/2530', 'training/2531', 'training/2532', 'training/2534', 'training/2535', 'training/2538', 'training/2539', 'training/254', 'training/2540', 'training/2542', 'training/2543', 'training/2544', 'training/2546', 'training/2548', 'training/2549', 'training/2550', 'training/2551', 'training/2552', 'training/2553', 'training/2554', 'training/2555', 'training/2557', 'training/2558', 'training/2559', 'training/256', 'training/2560', 'training/2561', 'training/2562', 'training/2564', 'training/2565', 'training/2566', 'training/2567', 'training/2568', 'training/2569', 'training/2570', 'training/2572', 'training/2574', 'training/2576', 'training/2577', 'training/2578', 'training/2579', 'training/2580', 'training/2582', 'training/2583', 'training/2584', 'training/2585', 'training/2587', 'training/259', 'training/2590', 'training/2591', 'training/2593', 'training/2594', 'training/2595', 'training/2596', 'training/2599', 'training/260', 'training/2601', 'training/2602', 'training/2604', 'training/2606', 'training/2608', 'training/2609', 'training/2611', 'training/2613', 'training/2617', 'training/2618', 'training/2619', 'training/2620', 'training/2622', 'training/2623', 'training/2626', 'training/2630', 'training/2633', 'training/2634', 'training/2635', 'training/2637', 'training/2638', 'training/2645', 'training/2647', 'training/2648', 'training/2649', 'training/2650', 'training/2652', 'training/2658', 'training/2659', 'training/2660', 'training/2663', 'training/2664', 'training/2666', 'training/2667', 'training/267', 'training/2671', 'training/2672', 'training/2674', 'training/2677', 'training/2678', 'training/2681', 'training/2683', 'training/2686', 'training/2687', 'training/2688', 'training/2691', 'training/2693', 'training/2695', 'training/2696', 'training/2697', 'training/2699', 'training/27', 'training/2700', 'training/2708', 'training/2709', 'training/271', 'training/2711', 'training/2714', 'training/2718', 'training/272', 'training/2720', 'training/2722', 'training/2723', 'training/2725', 'training/2727', 'training/2728', 'training/2729', 'training/273', 'training/2737', 'training/274', 'training/2741', 'training/2742', 'training/2743', 'training/2744', 'training/2746', 'training/2747', 'training/2748', 'training/2749', 'training/275', 'training/2750', 'training/2751', 'training/2752', 'training/2754', 'training/2756', 'training/2757', 'training/2760', 'training/2761', 'training/2762', 'training/2763', 'training/2764', 'training/2765', 'training/2767', 'training/2768', 'training/2769', 'training/2771', 'training/2772', 'training/2773', 'training/2775', 'training/2777', 'training/2779', 'training/2781', 'training/2782', 'training/2783', 'training/2784', 'training/2785', 'training/2787', 'training/2789', 'training/279', 'training/2791', 'training/2792', 'training/2793', 'training/2794', 'training/2797', 'training/2798', 'training/2799', 'training/2800', 'training/2801', 'training/2802', 'training/2803', 'training/2806', 'training/2807', 'training/2809', 'training/281', 'training/2810', 'training/2811', 'training/2813', 'training/2815', 'training/2818', 'training/2819', 'training/2820', 'training/2825', 'training/2826', 'training/2827', 'training/2828', 'training/283', 'training/2833', 'training/2834', 'training/2836', 'training/2838', 'training/2839', 'training/284', 'training/2843', 'training/2847', 'training/2848', 'training/2849', 'training/2850', 'training/2851', 'training/2853', 'training/2856', 'training/2857', 'training/2858', 'training/2862', 'training/2864', 'training/2866', 'training/2867', 'training/2870', 'training/2872', 'training/2873', 'training/2877', 'training/2880', 'training/2881', 'training/2884', 'training/2886', 'training/2887', 'training/2890', 'training/2896', 'training/2897', 'training/2898', 'training/29', 'training/290', 'training/2902', 'training/2907', 'training/2908', 'training/2909', 'training/2912', 'training/2913', 'training/2915', 'training/2916', 'training/2917', 'training/2918', 'training/2919', 'training/2920', 'training/2922', 'training/2923', 'training/2924', 'training/2925', 'training/2926', 'training/2927', 'training/2928', 'training/2929', 'training/293', 'training/2930', 'training/2933', 'training/2936', 'training/2938', 'training/2939', 'training/2940', 'training/2942', 'training/2944', 'training/2945', 'training/2946', 'training/2947', 'training/2948', 'training/2950', 'training/2951', 'training/2952', 'training/2953', 'training/2954', 'training/2955', 'training/2956', 'training/2957', 'training/2958', 'training/2959', 'training/296', 'training/2960', 'training/2961', 'training/2962', 'training/2963', 'training/2964', 'training/2965', 'training/2966', 'training/2968', 'training/297', 'training/2970', 'training/2971', 'training/2973', 'training/2974', 'training/2975', 'training/2976', 'training/2977', 'training/2978', 'training/2979', 'training/298', 'training/2982', 'training/2983', 'training/2985', 'training/299', 'training/2990', 'training/2993', 'training/2994', 'training/2995', 'training/2996', 'training/2998', 'training/2999', 'training/30', 'training/3001', 'training/3002', 'training/3003', 'training/3006', 'training/3007', 'training/3008', 'training/3009', 'training/3010', 'training/3013', 'training/3015', 'training/3016', 'training/3017', 'training/3019', 'training/302', 'training/3020', 'training/3023', 'training/3024', 'training/3025', 'training/3026', 'training/3028', 'training/303', 'training/3031', 'training/3034', 'training/3035', 'training/3036', 'training/3037', 'training/3038', 'training/3039', 'training/304', 'training/3040', 'training/3041', 'training/3042', 'training/3043', 'training/3044', 'training/3046', 'training/3047', 'training/3048', 'training/3049', 'training/3051', 'training/3053', 'training/3056', 'training/3057', 'training/3060', 'training/3061', 'training/3062', 'training/3063', 'training/3065', 'training/3067', 'training/3068', 'training/3069', 'training/307', 'training/3071', 'training/3072', 'training/3073', 'training/3074', 'training/3076', 'training/3077', 'training/3078', 'training/3080', 'training/3082', 'training/3083', 'training/3084', 'training/3085', 'training/3086', 'training/3087', 'training/3088', 'training/3089', 'training/309', 'training/3091', 'training/3092', 'training/3093', 'training/3094', 'training/3095', 'training/3096', 'training/3098', 'training/310', 'training/3100', 'training/3103', 'training/3104', 'training/3105', 'training/3107', 'training/3109', 'training/311', 'training/3110', 'training/3111', 'training/3114', 'training/3115', 'training/3117', 'training/3118', 'training/312', 'training/3120', 'training/3121', 'training/3122', 'training/3125', 'training/3128', 'training/3129', 'training/313', 'training/3131', 'training/3132', 'training/3133', 'training/3134', 'training/3135', 'training/3137', 'training/3138', 'training/3139', 'training/314', 'training/3142', 'training/3145', 'training/3146', 'training/3149', 'training/315', 'training/3152', 'training/3153', 'training/3154', 'training/3155', 'training/3157', 'training/3159', 'training/3161', 'training/3162', 'training/3163', 'training/3164', 'training/3166', 'training/3168', 'training/3169', 'training/317', 'training/3174', 'training/3176', 'training/3180', 'training/3181', 'training/3183', 'training/3184', 'training/3186', 'training/3187', 'training/3189', 'training/3190', 'training/3191', 'training/3192', 'training/3194', 'training/3198', 'training/3199', 'training/320', 'training/3204', 'training/3205', 'training/3206', 'training/3207', 'training/3210', 'training/3211', 'training/3216', 'training/3217', 'training/3219', 'training/322', 'training/3222', 'training/3223', 'training/3225', 'training/3228', 'training/3229', 'training/323', 'training/3235', 'training/3239', 'training/3241', 'training/3242', 'training/3243', 'training/3246', 'training/3247', 'training/3249', 'training/3251', 'training/3252', 'training/3253', 'training/3254', 'training/3256', 'training/3258', 'training/3259', 'training/3261', 'training/3263', 'training/3264', 'training/3266', 'training/3267', 'training/3269', 'training/327', 'training/3271', 'training/3272', 'training/3273', 'training/3275', 'training/3276', 'training/3277', 'training/3278', 'training/3282', 'training/3283', 'training/3285', 'training/3287', 'training/3290', 'training/3292', 'training/3295', 'training/3298', 'training/3299', 'training/330', 'training/3302', 'training/3303', 'training/3305', 'training/3306', 'training/3309', 'training/331', 'training/3310', 'training/3311', 'training/3312', 'training/3313', 'training/3314', 'training/3315', 'training/3317', 'training/3318', 'training/332', 'training/3320', 'training/3322', 'training/3323', 'training/3324', 'training/3327', 'training/3329', 'training/3330', 'training/3332', 'training/3333', 'training/3334', 'training/3335', 'training/3336', 'training/3337', 'training/3338', 'training/3339', 'training/334', 'training/3340', 'training/3341', 'training/3342', 'training/3343', 'training/3344', 'training/3345', 'training/3347', 'training/3348', 'training/3349', 'training/3351', 'training/3352', 'training/3353', 'training/3354', 'training/3356', 'training/3358', 'training/3359', 'training/336', 'training/3360', 'training/3363', 'training/3364', 'training/3365', 'training/3367', 'training/3370', 'training/3371', 'training/3372', 'training/3377', 'training/3378', 'training/338', 'training/3380', 'training/3381', 'training/3382', 'training/3384', 'training/3386', 'training/3387', 'training/3389', 'training/3390', 'training/3394', 'training/3395', 'training/3396', 'training/3399', 'training/3400', 'training/3401', 'training/3405', 'training/3406', 'training/3409', 'training/341', 'training/3411', 'training/3413', 'training/3415', 'training/3416', 'training/3417', 'training/3418', 'training/3419', 'training/342', 'training/3420', 'training/3421', 'training/3422', 'training/3425', 'training/3429', 'training/343', 'training/3430', 'training/3433', 'training/3435', 'training/3438', 'training/3440', 'training/3441', 'training/3442', 'training/3445', 'training/3446', 'training/3448', 'training/3449', 'training/345', 'training/3452', 'training/3453', 'training/3454', 'training/3455', 'training/3456', 'training/3458', 'training/3459', 'training/346', 'training/3460', 'training/3461', 'training/3463', 'training/3466', 'training/3467', 'training/3468', 'training/3469', 'training/3472', 'training/3473', 'training/3474', 'training/3476', 'training/3477', 'training/3480', 'training/3481', 'training/3482', 'training/3483', 'training/3486', 'training/3488', 'training/349', 'training/3490', 'training/3491', 'training/3492', 'training/3493', 'training/3497', 'training/3499', 'training/3504', 'training/3505', 'training/3507', 'training/3509', 'training/3511', 'training/3512', 'training/3514', 'training/3517', 'training/352', 'training/3520', 'training/3524', 'training/3526', 'training/3528', 'training/353', 'training/3531', 'training/3532', 'training/3533', 'training/3534', 'training/3535', 'training/3538', 'training/3539', 'training/354', 'training/3540', 'training/3541', 'training/3542', 'training/3543', 'training/3545', 'training/3547', 'training/3553', 'training/3554', 'training/3556', 'training/3557', 'training/3559', 'training/356', 'training/3563', 'training/3564', 'training/3565', 'training/3569', 'training/3570', 'training/3571', 'training/3572', 'training/3573', 'training/3574', 'training/3575', 'training/3577', 'training/3578', 'training/3579', 'training/3580', 'training/3582', 'training/3584', 'training/3585', 'training/3586', 'training/3587', 'training/3589', 'training/3591', 'training/3592', 'training/3593', 'training/3594', 'training/3595', 'training/3596', 'training/3597', 'training/3598', 'training/3599', 'training/36', 'training/3601', 'training/3602', 'training/3603', 'training/3604', 'training/3605', 'training/3607', 'training/3609', 'training/361', 'training/3610', 'training/3611', 'training/3612', 'training/3613', 'training/3615', 'training/3616', 'training/3619', 'training/362', 'training/3620', 'training/3621', 'training/3622', 'training/3623', 'training/3624', 'training/3625', 'training/3626', 'training/3629', 'training/3630', 'training/3631', 'training/3632', 'training/3633', 'training/3634', 'training/3637', 'training/3639', 'training/3640', 'training/3643', 'training/3645', 'training/3646', 'training/3647', 'training/3649', 'training/3651', 'training/3652', 'training/366', 'training/3660', 'training/3661', 'training/3666', 'training/3667', 'training/3668', 'training/3669', 'training/3672', 'training/3673', 'training/3674', 'training/3676', 'training/368', 'training/3680', 'training/3681', 'training/3684', 'training/3688', 'training/369', 'training/3690', 'training/3694', 'training/3695', 'training/3697', 'training/3699', 'training/37', 'training/3701', 'training/3702', 'training/3704', 'training/3707', 'training/3708', 'training/371', 'training/3711', 'training/3713', 'training/3717', 'training/372', 'training/3720', 'training/3721', 'training/3723', 'training/3729', 'training/3730', 'training/3734', 'training/3735', 'training/3737', 'training/3738', 'training/374', 'training/3740', 'training/3741', 'training/3742', 'training/3743', 'training/3744', 'training/3747', 'training/3748', 'training/3750', 'training/3751', 'training/3755', 'training/3757', 'training/3758', 'training/3759', 'training/376', 'training/3760', 'training/3762', 'training/3763', 'training/3764', 'training/3765', 'training/3766', 'training/3768', 'training/377', 'training/3770', 'training/3771', 'training/3772', 'training/3774', 'training/3775', 'training/3777', 'training/3779', 'training/378', 'training/3782', 'training/3784', 'training/3785', 'training/3786', 'training/3787', 'training/3788', 'training/379', 'training/3790', 'training/3792', 'training/3793', 'training/3795', 'training/3796', 'training/3797', 'training/3798', 'training/38', 'training/3800', 'training/3801', 'training/3806', 'training/3807', 'training/3808', 'training/381', 'training/3817', 'training/3821', 'training/3825', 'training/3828', 'training/383', 'training/3830', 'training/3831', 'training/3833', 'training/3838', 'training/3839', 'training/3840', 'training/3841', 'training/3843', 'training/3846', 'training/3847', 'training/3850', 'training/3851', 'training/3853', 'training/3855', 'training/3856', 'training/3857', 'training/3858', 'training/3860', 'training/3862', 'training/3864', 'training/3865', 'training/3867', 'training/3868', 'training/3869', 'training/387', 'training/3870', 'training/3872', 'training/3873', 'training/3874', 'training/3875', 'training/3879', 'training/388', 'training/3881', 'training/3884', 'training/3886', 'training/3888', 'training/389', 'training/3890', 'training/3892', 'training/3893', 'training/3894', 'training/3895', 'training/3897', 'training/3898', 'training/3899', 'training/390', 'training/3900', 'training/3901', 'training/3902', 'training/3903', 'training/3904', 'training/3905', 'training/3906', 'training/3908', 'training/3909', 'training/3910', 'training/3912', 'training/3913', 'training/3916', 'training/3917', 'training/3918', 'training/392', 'training/3920', 'training/3922', 'training/3926', 'training/3928', 'training/393', 'training/3930', 'training/3931', 'training/3933', 'training/3934', 'training/3937', 'training/3939', 'training/3942', 'training/3944', 'training/3946', 'training/3948', 'training/3949', 'training/395', 'training/3950', 'training/3951', 'training/3952', 'training/3954', 'training/3955', 'training/3957', 'training/3958', 'training/3959', 'training/396', 'training/3960', 'training/3961', 'training/3964', 'training/3968', 'training/3970', 'training/3971', 'training/3973', 'training/3976', 'training/3977', 'training/3979', 'training/398', 'training/3980', 'training/3981', 'training/3982', 'training/3983', 'training/3984', 'training/3985', 'training/3989', 'training/399', 'training/3990', 'training/3991', 'training/3993', 'training/3994', 'training/3995', 'training/3996', 'training/3997', 'training/3999', 'training/40', 'training/400', 'training/4000', 'training/4005', 'training/401', 'training/4012', 'training/4014', 'training/4015', 'training/4016', 'training/4019', 'training/402', 'training/4021', 'training/4022', 'training/4023', 'training/4025', 'training/4026', 'training/4027', 'training/4028', 'training/4029', 'training/4031', 'training/4032', 'training/4033', 'training/4035', 'training/4036', 'training/4038', 'training/4039', 'training/404', 'training/4040', 'training/4041', 'training/4043', 'training/4045', 'training/4047', 'training/4048', 'training/4049', 'training/405', 'training/4051', 'training/4052', 'training/4054', 'training/4055', 'training/4056', 'training/4057', 'training/4058', 'training/406', 'training/4061', 'training/4062', 'training/4063', 'training/4064', 'training/4065', 'training/4066', 'training/4067', 'training/4069', 'training/407', 'training/4071', 'training/4074', 'training/4075', 'training/4076', 'training/4077', 'training/4078', 'training/408', 'training/4080', 'training/4081', 'training/4083', 'training/4084', 'training/4085', 'training/4087', 'training/4088', 'training/4089', 'training/409', 'training/4090', 'training/4091', 'training/4092', 'training/4093', 'training/4094', 'training/4096', 'training/4097', 'training/4098', 'training/4099', 'training/41', 'training/410', 'training/4100', 'training/4101', 'training/4103', 'training/4105', 'training/4106', 'training/4107', 'training/411', 'training/4111', 'training/4113', 'training/4114', 'training/4115', 'training/4117', 'training/4120', 'training/4122', 'training/4123', 'training/4125', 'training/4127', 'training/4129', 'training/4131', 'training/4132', 'training/4133', 'training/4135', 'training/4138', 'training/4139', 'training/4141', 'training/4142', 'training/4143', 'training/4144', 'training/4145', 'training/4146', 'training/4147', 'training/4148', 'training/4149', 'training/4150', 'training/4152', 'training/4153', 'training/4155', 'training/4156', 'training/4157', 'training/4158', 'training/4159', 'training/416', 'training/4160', 'training/4161', 'training/4162', 'training/4164', 'training/4165', 'training/4167', 'training/4169', 'training/417', 'training/4170', 'training/4171', 'training/4172', 'training/4173', 'training/4174', 'training/4175', 'training/4176', 'training/4177', 'training/4178', 'training/418', 'training/4182', 'training/4184', 'training/4185', 'training/4188', 'training/4189', 'training/4192', 'training/4193', 'training/4194', 'training/4199', 'training/42', 'training/420', 'training/4201', 'training/4203', 'training/4204', 'training/4205', 'training/4206', 'training/4209', 'training/4210', 'training/4212', 'training/4215', 'training/4216', 'training/4218', 'training/4219', 'training/422', 'training/4220', 'training/4223', 'training/4227', 'training/4228', 'training/4229', 'training/423', 'training/4231', 'training/4232', 'training/4233', 'training/4235', 'training/4237', 'training/4238', 'training/4239', 'training/424', 'training/4240', 'training/4241', 'training/4245', 'training/4246', 'training/4249', 'training/425', 'training/4253', 'training/4255', 'training/4257', 'training/4258', 'training/4259', 'training/4261', 'training/4266', 'training/4267', 'training/4273', 'training/4275', 'training/4276', 'training/4277', 'training/4278', 'training/4279', 'training/4280', 'training/4281', 'training/4282', 'training/4284', 'training/4285', 'training/4286', 'training/4288', 'training/4289', 'training/4290', 'training/4291', 'training/4292', 'training/4293', 'training/4296', 'training/4297', 'training/4298', 'training/4301', 'training/4302', 'training/4303', 'training/4304', 'training/4305', 'training/4306', 'training/4307', 'training/4310', 'training/4313', 'training/4314', 'training/4315', 'training/4318', 'training/4323', 'training/4327', 'training/4328', 'training/4330', 'training/4331', 'training/4333', 'training/4337', 'training/4338', 'training/4339', 'training/4340', 'training/4341', 'training/4343', 'training/4344', 'training/4345', 'training/4346', 'training/4347', 'training/4349', 'training/435', 'training/4351', 'training/4353', 'training/4356', 'training/4357', 'training/4358', 'training/436', 'training/4360', 'training/4361', 'training/4363', 'training/4364', 'training/4365', 'training/4366', 'training/4367', 'training/4369', 'training/4370', 'training/4371', 'training/4372', 'training/4374', 'training/4376', 'training/4378', 'training/438', 'training/4380', 'training/4382', 'training/4384', 'training/4385', 'training/4386', 'training/4387', 'training/4388', 'training/4389', 'training/439', 'training/4392', 'training/4397', 'training/4398', 'training/4399', 'training/44', 'training/440', 'training/4401', 'training/4404', 'training/4405', 'training/4407', 'training/4408', 'training/4409', 'training/441', 'training/4410', 'training/4411', 'training/4412', 'training/4419', 'training/442', 'training/4420', 'training/4425', 'training/4429', 'training/443', 'training/4431', 'training/4433', 'training/4434', 'training/4436', 'training/4437', 'training/4438', 'training/4439', 'training/444', 'training/4440', 'training/4445', 'training/4446', 'training/4447', 'training/4449', 'training/4451', 'training/4452', 'training/4453', 'training/4454', 'training/4455', 'training/4457', 'training/4458', 'training/4459', 'training/4460', 'training/4462', 'training/4465', 'training/4466', 'training/4467', 'training/4468', 'training/447', 'training/4470', 'training/4472', 'training/4473', 'training/4474', 'training/4475', 'training/4476', 'training/4477', 'training/4478', 'training/448', 'training/4480', 'training/4481', 'training/4483', 'training/4484', 'training/4486', 'training/4487', 'training/4488', 'training/449', 'training/4490', 'training/4493', 'training/4494', 'training/4498', 'training/4499', 'training/45', 'training/450', 'training/4503', 'training/4504', 'training/4505', 'training/4507', 'training/4509', 'training/4510', 'training/4512', 'training/4513', 'training/4514', 'training/4515', 'training/4516', 'training/4517', 'training/4518', 'training/4519', 'training/4521', 'training/4523', 'training/4524', 'training/4525', 'training/4532', 'training/4533', 'training/4534', 'training/4536', 'training/4537', 'training/4541', 'training/4544', 'training/4548', 'training/4549', 'training/455', 'training/4551', 'training/4552', 'training/4554', 'training/4555', 'training/4558', 'training/456', 'training/4560', 'training/4562', 'training/4564', 'training/4569', 'training/4573', 'training/4574', 'training/4576', 'training/4577', 'training/4578', 'training/4579', 'training/4581', 'training/4583', 'training/4584', 'training/4585', 'training/4586', 'training/459', 'training/4590', 'training/4591', 'training/4592', 'training/4593', 'training/4595', 'training/4599', 'training/46', 'training/4600', 'training/4602', 'training/4603', 'training/4604', 'training/4605', 'training/4606', 'training/4609', 'training/461', 'training/4610', 'training/4613', 'training/4615', 'training/4616', 'training/4617', 'training/4620', 'training/4621', 'training/4622', 'training/4623', 'training/4625', 'training/4629', 'training/4630', 'training/4631', 'training/4632', 'training/4633', 'training/4634', 'training/4635', 'training/4636', 'training/4637', 'training/4638', 'training/464', 'training/4640', 'training/4641', 'training/4644', 'training/4648', 'training/4649', 'training/4650', 'training/4652', 'training/4654', 'training/4656', 'training/4657', 'training/4658', 'training/4659', 'training/466', 'training/4660', 'training/4662', 'training/4664', 'training/4665', 'training/4666', 'training/467', 'training/4671', 'training/4675', 'training/4678', 'training/4679', 'training/4680', 'training/4681', 'training/4682', 'training/4686', 'training/4687', 'training/4689', 'training/4690', 'training/4691', 'training/4692', 'training/4695', 'training/4696', 'training/4697', 'training/4698', 'training/47', 'training/470', 'training/4700', 'training/4703', 'training/4708', 'training/4709', 'training/4711', 'training/4712', 'training/4713', 'training/4714', 'training/4717', 'training/4719', 'training/4720', 'training/4729', 'training/473', 'training/4732', 'training/4733', 'training/4735', 'training/4739', 'training/474', 'training/4740', 'training/4741', 'training/4742', 'training/4743', 'training/4744', 'training/4745', 'training/4747', 'training/4748', 'training/475', 'training/4751', 'training/4755', 'training/4756', 'training/4758', 'training/4759', 'training/4761', 'training/4763', 'training/4765', 'training/4768', 'training/4769', 'training/4770', 'training/4771', 'training/4772', 'training/4773', 'training/4774', 'training/4775', 'training/4776', 'training/4777', 'training/4778', 'training/4779', 'training/478', 'training/4780', 'training/4781', 'training/4782', 'training/4783', 'training/4785', 'training/4787', 'training/4788', 'training/4791', 'training/4792', 'training/4794', 'training/4795', 'training/4796', 'training/4797', 'training/4798', 'training/48', 'training/480', 'training/4801', 'training/4803', 'training/4804', 'training/4805', 'training/4806', 'training/4807', 'training/4809', 'training/4810', 'training/4812', 'training/4814', 'training/4816', 'training/4818', 'training/4819', 'training/4820', 'training/4821', 'training/4822', 'training/4824', 'training/4825', 'training/4827', 'training/4829', 'training/483', 'training/4831', 'training/4832', 'training/4833', 'training/4835', 'training/484', 'training/4841', 'training/4843', 'training/4845', 'training/4848', 'training/4850', 'training/486', 'training/4867', 'training/488', 'training/4881', 'training/4882', 'training/4884', 'training/4887', 'training/4889', 'training/489', 'training/4890', 'training/4892', 'training/4893', 'training/4894', 'training/4898', 'training/49', 'training/490', 'training/4900', 'training/4901', 'training/4903', 'training/4904', 'training/4905', 'training/4908', 'training/4910', 'training/4911', 'training/4914', 'training/4918', 'training/4920', 'training/4922', 'training/4925', 'training/4929', 'training/4930', 'training/4933', 'training/4934', 'training/4937', 'training/4938', 'training/4939', 'training/494', 'training/4941', 'training/4944', 'training/4951', 'training/4952', 'training/4953', 'training/4954', 'training/4955', 'training/4956', 'training/4959', 'training/496', 'training/4960', 'training/4962', 'training/4963', 'training/4964', 'training/4965', 'training/497', 'training/4970', 'training/4972', 'training/4974', 'training/4976', 'training/498', 'training/4981', 'training/4983', 'training/4987', 'training/4988', 'training/4990', 'training/4991', 'training/4993', 'training/4998', 'training/4999', 'training/5', 'training/50', 'training/5001', 'training/5002', 'training/5003', 'training/5009', 'training/501', 'training/5012', 'training/5013', 'training/5015', 'training/5017', 'training/5018', 'training/502', 'training/5020', 'training/5021', 'training/5029', 'training/5031', 'training/5033', 'training/5034', 'training/5037', 'training/504', 'training/5040', 'training/5042', 'training/5043', 'training/5044', 'training/5046', 'training/5048', 'training/505', 'training/5050', 'training/5051', 'training/5052', 'training/5053', 'training/5054', 'training/5055', 'training/5056', 'training/5057', 'training/5058', 'training/5059', 'training/506', 'training/5060', 'training/5061', 'training/5062', 'training/5068', 'training/5070', 'training/5071', 'training/5072', 'training/5076', 'training/5077', 'training/5078', 'training/508', 'training/5080', 'training/5081', 'training/5082', 'training/5083', 'training/5084', 'training/5085', 'training/5086', 'training/5089', 'training/509', 'training/5090', 'training/5091', 'training/5092', 'training/5094', 'training/5095', 'training/5097', 'training/5100', 'training/5102', 'training/5105', 'training/5109', 'training/511', 'training/5112', 'training/5113', 'training/5114', 'training/5115', 'training/5116', 'training/5117', 'training/5118', 'training/5119', 'training/512', 'training/5121', 'training/5123', 'training/5125', 'training/5126', 'training/5127', 'training/5128', 'training/513', 'training/5132', 'training/5134', 'training/5138', 'training/5139', 'training/514', 'training/5141', 'training/5142', 'training/5145', 'training/5146', 'training/5148', 'training/5149', 'training/5150', 'training/5152', 'training/5153', 'training/5154', 'training/5156', 'training/516', 'training/5160', 'training/5162', 'training/5166', 'training/5167', 'training/5168', 'training/5169', 'training/517', 'training/5171', 'training/5172', 'training/5175', 'training/5176', 'training/5177', 'training/5178', 'training/518', 'training/5181', 'training/5183', 'training/5185', 'training/5188', 'training/5189', 'training/519', 'training/5190', 'training/5191', 'training/5192', 'training/5193', 'training/5194', 'training/5195', 'training/5196', 'training/5201', 'training/5203', 'training/5204', 'training/5205', 'training/5206', 'training/5207', 'training/5209', 'training/521', 'training/5210', 'training/5212', 'training/5214', 'training/5215', 'training/5216', 'training/5218', 'training/5219', 'training/522', 'training/5220', 'training/5222', 'training/5223', 'training/5226', 'training/5228', 'training/5231', 'training/5232', 'training/5234', 'training/5235', 'training/5236', 'training/5237', 'training/5238', 'training/524', 'training/5240', 'training/5241', 'training/5243', 'training/5244', 'training/5245', 'training/525', 'training/5250', 'training/5251', 'training/5253', 'training/5254', 'training/5255', 'training/5256', 'training/5257', 'training/5258', 'training/5260', 'training/5264', 'training/5266', 'training/5268', 'training/5269', 'training/5270', 'training/5271', 'training/5272', 'training/5273', 'training/5274', 'training/5276', 'training/5277', 'training/5278', 'training/5279', 'training/528', 'training/5280', 'training/5281', 'training/5283', 'training/5284', 'training/5285', 'training/5286', 'training/5287', 'training/5288', 'training/529', 'training/5290', 'training/5291', 'training/5292', 'training/5293', 'training/5295', 'training/5296', 'training/5297', 'training/5299', 'training/53', 'training/530', 'training/5300', 'training/5303', 'training/5304', 'training/5308', 'training/5309', 'training/531', 'training/5312', 'training/5313', 'training/5314', 'training/5315', 'training/5316', 'training/5317', 'training/5318', 'training/532', 'training/5320', 'training/5321', 'training/5323', 'training/5326', 'training/5327', 'training/5328', 'training/5329', 'training/533', 'training/5330', 'training/5331', 'training/5332', 'training/5333', 'training/5334', 'training/5335', 'training/5336', 'training/5338', 'training/5339', 'training/534', 'training/5340', 'training/5342', 'training/5344', 'training/5345', 'training/5346', 'training/5349', 'training/535', 'training/5350', 'training/5351', 'training/5352', 'training/5354', 'training/5355', 'training/5356', 'training/5357', 'training/5358', 'training/5359', 'training/536', 'training/5360', 'training/5362', 'training/5363', 'training/5366', 'training/5367', 'training/5371', 'training/5373', 'training/5375', 'training/5376', 'training/5377', 'training/5378', 'training/5379', 'training/538', 'training/5382', 'training/5383', 'training/5385', 'training/5388', 'training/5389', 'training/539', 'training/5390', 'training/5391', 'training/5392', 'training/5394', 'training/5396', 'training/5398', 'training/5400', 'training/5402', 'training/5404', 'training/5407', 'training/5408', 'training/5409', 'training/541', 'training/5410', 'training/5411', 'training/5412', 'training/5414', 'training/5415', 'training/5416', 'training/5417', 'training/5421', 'training/5422', 'training/5423', 'training/5426', 'training/5429', 'training/543', 'training/5431', 'training/5434', 'training/5435', 'training/5437', 'training/5438', 'training/5439', 'training/544', 'training/5440', 'training/5441', 'training/5442', 'training/5443', 'training/5444', 'training/5445', 'training/5447', 'training/545', 'training/5451', 'training/5452', 'training/5453', 'training/5454', 'training/5455', 'training/5456', 'training/5458', 'training/546', 'training/5460', 'training/5461', 'training/5464', 'training/5465', 'training/5467', 'training/5469', 'training/547', 'training/5470', 'training/5471', 'training/5472', 'training/5473', 'training/5474', 'training/5475', 'training/5476', 'training/5477', 'training/548', 'training/5481', 'training/5483', 'training/5485', 'training/5487', 'training/5490', 'training/5491', 'training/5492', 'training/5494', 'training/5495', 'training/5496', 'training/5498', 'training/5499', 'training/550', 'training/5500', 'training/5501', 'training/5502', 'training/5505', 'training/5506', 'training/5507', 'training/5508', 'training/551', 'training/5511', 'training/5516', 'training/5517', 'training/5518', 'training/552', 'training/5520', 'training/5522', 'training/5523', 'training/5525', 'training/5526', 'training/5528', 'training/553', 'training/5530', 'training/5531', 'training/5532', 'training/5533', 'training/5535', 'training/5537', 'training/5538', 'training/554', 'training/5540', 'training/5541', 'training/5542', 'training/5543', 'training/5544', 'training/5545', 'training/5546', 'training/5549', 'training/555', 'training/5553', 'training/5554', 'training/5555', 'training/5556', 'training/5558', 'training/5559', 'training/5561', 'training/5563', 'training/5564', 'training/5565', 'training/5566', 'training/5567', 'training/5568', 'training/557', 'training/5570', 'training/5571', 'training/5572', 'training/5573', 'training/5575', 'training/5576', 'training/5579', 'training/558', 'training/5582', 'training/5583', 'training/5585', 'training/5586', 'training/559', 'training/5592', 'training/5593', 'training/5594', 'training/5595', 'training/5596', 'training/5597', 'training/5598', 'training/56', 'training/560', 'training/5600', 'training/5602', 'training/5603', 'training/5604', 'training/5606', 'training/5608', 'training/5609', 'training/5610', 'training/5611', 'training/5615', 'training/5617', 'training/562', 'training/5620', 'training/5624', 'training/5627', 'training/5629', 'training/5630', 'training/5632', 'training/5634', 'training/5635', 'training/5636', 'training/5637', 'training/5639', 'training/5640', 'training/5641', 'training/5643', 'training/5644', 'training/5647', 'training/5648', 'training/5650', 'training/5652', 'training/5654', 'training/5655', 'training/5657', 'training/5658', 'training/5659', 'training/5660', 'training/5661', 'training/5662', 'training/5663', 'training/5664', 'training/5665', 'training/5667', 'training/5669', 'training/5670', 'training/5671', 'training/5672', 'training/5675', 'training/5677', 'training/5678', 'training/5679', 'training/5680', 'training/5682', 'training/5683', 'training/5684', 'training/5686', 'training/5687', 'training/5688', 'training/5689', 'training/5690', 'training/5692', 'training/5693', 'training/5694', 'training/57', 'training/5701', 'training/5702', 'training/5706', 'training/5707', 'training/5708', 'training/5710', 'training/5711', 'training/5712', 'training/5713', 'training/5715', 'training/5716', 'training/5717', 'training/5719', 'training/5720', 'training/5721', 'training/5722', 'training/5723', 'training/5724', 'training/5725', 'training/5727', 'training/5729', 'training/5731', 'training/5732', 'training/5734', 'training/5737', 'training/5738', 'training/5739', 'training/5740', 'training/5741', 'training/5742', 'training/5743', 'training/5744', 'training/5746', 'training/5749', 'training/5750', 'training/5751', 'training/5752', 'training/5754', 'training/5755', 'training/5756', 'training/5757', 'training/5758', 'training/5761', 'training/5762', 'training/5764', 'training/5765', 'training/5767', 'training/5768', 'training/5769', 'training/5778', 'training/5779', 'training/5780', 'training/5782', 'training/5783', 'training/5785', 'training/5786', 'training/5787', 'training/5788', 'training/5789', 'training/5791', 'training/5792', 'training/5793', 'training/5796', 'training/5797', 'training/5798', 'training/58', 'training/5800', 'training/5803', 'training/5804', 'training/5805', 'training/5807', 'training/5808', 'training/5810', 'training/5811', 'training/5812', 'training/5814', 'training/5815', 'training/5818', 'training/5819', 'training/5822', 'training/5826', 'training/5827', 'training/5830', 'training/5833', 'training/5835', 'training/5836', 'training/5838', 'training/5839', 'training/5841', 'training/5842', 'training/5845', 'training/5847', 'training/5848', 'training/5849', 'training/5850', 'training/5852', 'training/5854', 'training/5858', 'training/5861', 'training/5866', 'training/5868', 'training/5870', 'training/5873', 'training/5875', 'training/5876', 'training/5879', 'training/5880', 'training/5883', 'training/5886', 'training/5887', 'training/5888', 'training/5889', 'training/5894', 'training/5895', 'training/5896', 'training/5898', 'training/5899', 'training/59', 'training/5900', 'training/5901', 'training/5902', 'training/5905', 'training/5906', 'training/5908', 'training/5909', 'training/5910', 'training/5911', 'training/5912', 'training/5913', 'training/5914', 'training/5915', 'training/5919', 'training/5922', 'training/5925', 'training/5926', 'training/5930', 'training/5931', 'training/5932', 'training/5933', 'training/5934', 'training/5935', 'training/5937', 'training/5938', 'training/5939', 'training/5941', 'training/5945', 'training/5946', 'training/5947', 'training/5949', 'training/5950', 'training/5951', 'training/5954', 'training/5955', 'training/5957', 'training/5958', 'training/5960', 'training/5964', 'training/5965', 'training/5967', 'training/5968', 'training/5969', 'training/5972', 'training/5973', 'training/5974', 'training/5975', 'training/5976', 'training/5977', 'training/5980', 'training/5981', 'training/5982', 'training/5984', 'training/5985', 'training/5986', 'training/5991', 'training/5993', 'training/5994', 'training/5998', 'training/6', 'training/6000', 'training/6003', 'training/6005', 'training/6006', 'training/6010', 'training/6013', 'training/6014', 'training/6017', 'training/6018', 'training/6020', 'training/6023', 'training/6025', 'training/6026', 'training/6027', 'training/6030', 'training/6033', 'training/6034', 'training/6035', 'training/6037', 'training/6041', 'training/6042', 'training/6043', 'training/6044', 'training/6046', 'training/6047', 'training/6048', 'training/6051', 'training/6054', 'training/6055', 'training/6056', 'training/6058', 'training/6059', 'training/6060', 'training/6062', 'training/6063', 'training/6065', 'training/6067', 'training/6068', 'training/6069', 'training/6070', 'training/6073', 'training/6075', 'training/6078', 'training/6079', 'training/6081', 'training/6082', 'training/6083', 'training/6084', 'training/6085', 'training/6086', 'training/6088', 'training/6090', 'training/6091', 'training/6092', 'training/6093', 'training/6094', 'training/6096', 'training/6101', 'training/6102', 'training/6103', 'training/6104', 'training/6105', 'training/6106', 'training/6107', 'training/6108', 'training/6111', 'training/6113', 'training/6114', 'training/6115', 'training/6116', 'training/6119', 'training/6120', 'training/6121', 'training/6123', 'training/6124', 'training/6125', 'training/6127', 'training/6128', 'training/6129', 'training/6130', 'training/6134', 'training/6135', 'training/6137', 'training/6138', 'training/6142', 'training/6146', 'training/6147', 'training/6149', 'training/6153', 'training/6154', 'training/6155', 'training/6156', 'training/6157', 'training/6158', 'training/6159', 'training/6163', 'training/6165', 'training/6166', 'training/6169', 'training/6172', 'training/6173', 'training/6175', 'training/6176', 'training/6177', 'training/6178', 'training/6179', 'training/6180', 'training/6181', 'training/6184', 'training/6185', 'training/6186', 'training/6187', 'training/6188', 'training/6189', 'training/6197', 'training/6198', 'training/6199', 'training/6201', 'training/6202', 'training/6204', 'training/6205', 'training/6208', 'training/6209', 'training/6211', 'training/6212', 'training/6213', 'training/6214', 'training/6215', 'training/6217', 'training/6218', 'training/6220', 'training/6221', 'training/6222', 'training/6223', 'training/6225', 'training/6227', 'training/6231', 'training/6232', 'training/6233', 'training/6234', 'training/6235', 'training/6236', 'training/6239', 'training/6240', 'training/6242', 'training/6243', 'training/6244', 'training/6246', 'training/6248', 'training/6252', 'training/6253', 'training/6254', 'training/6257', 'training/6259', 'training/6264', 'training/6265', 'training/6267', 'training/6269', 'training/6271', 'training/6273', 'training/6274', 'training/6275', 'training/6276', 'training/6277', 'training/6278', 'training/6279', 'training/6280', 'training/6282', 'training/6283', 'training/6287', 'training/6288', 'training/6293', 'training/6294', 'training/6295', 'training/6296', 'training/6297', 'training/6298', 'training/6299', 'training/6301', 'training/6305', 'training/6306', 'training/6309', 'training/6310', 'training/6311', 'training/6312', 'training/6313', 'training/6315', 'training/6317', 'training/6323', 'training/6324', 'training/6325', 'training/6326', 'training/6331', 'training/6333', 'training/6335', 'training/6337', 'training/6338', 'training/6339', 'training/6340', 'training/6341', 'training/6342', 'training/6344', 'training/6346', 'training/6347', 'training/6348', 'training/6349', 'training/6350', 'training/6352', 'training/6353', 'training/6354', 'training/6355', 'training/6356', 'training/6357', 'training/6358', 'training/6359', 'training/6361', 'training/6362', 'training/6364', 'training/6365', 'training/6366', 'training/6368', 'training/6369', 'training/6371', 'training/6372', 'training/6373', 'training/6375', 'training/6376', 'training/6382', 'training/6384', 'training/6385', 'training/6386', 'training/6394', 'training/6398', 'training/6399', 'training/64', 'training/6400', 'training/6402', 'training/6404', 'training/6405', 'training/6406', 'training/6407', 'training/6410', 'training/6412', 'training/6413', 'training/6414', 'training/6416', 'training/6417', 'training/6419', 'training/6420', 'training/6421', 'training/6422', 'training/6425', 'training/6426', 'training/6427', 'training/6428', 'training/6430', 'training/6432', 'training/6433', 'training/6434', 'training/6435', 'training/6436', 'training/6437', 'training/6438', 'training/6440', 'training/6441', 'training/6442', 'training/6443', 'training/6445', 'training/6447', 'training/6449', 'training/6450', 'training/6451', 'training/6452', 'training/6453', 'training/6454', 'training/6455', 'training/6456', 'training/6457', 'training/6458', 'training/6459', 'training/6460', 'training/6461', 'training/6463', 'training/6464', 'training/6465', 'training/6466', 'training/6471', 'training/6473', 'training/6474', 'training/6475', 'training/6476', 'training/6477', 'training/6478', 'training/6481', 'training/6483', 'training/6484', 'training/6485', 'training/6486', 'training/6488', 'training/6491', 'training/6492', 'training/6493', 'training/6494', 'training/6495', 'training/6496', 'training/6497', 'training/6498', 'training/6499', 'training/65', 'training/6500', 'training/6502', 'training/6503', 'training/6504', 'training/6505', 'training/6506', 'training/6507', 'training/6509', 'training/6511', 'training/6514', 'training/6515', 'training/6520', 'training/6521', 'training/6522', 'training/6523', 'training/6524', 'training/6525', 'training/6527', 'training/6528', 'training/6529', 'training/6531', 'training/6532', 'training/6533', 'training/6534', 'training/6535', 'training/6537', 'training/6538', 'training/6539', 'training/6540', 'training/6541', 'training/6542', 'training/6543', 'training/6546', 'training/6547', 'training/6549', 'training/6551', 'training/6552', 'training/6556', 'training/6557', 'training/6559', 'training/6561', 'training/6562', 'training/6568', 'training/6572', 'training/6573', 'training/6575', 'training/6576', 'training/6577', 'training/6578', 'training/6581', 'training/6583', 'training/6584', 'training/6585', 'training/6586', 'training/6588', 'training/6590', 'training/6591', 'training/6592', 'training/6593', 'training/6594', 'training/6595', 'training/6596', 'training/6597', 'training/6598', 'training/66', 'training/6601', 'training/6603', 'training/6604', 'training/6606', 'training/6607', 'training/6609', 'training/6611', 'training/6612', 'training/6616', 'training/6619', 'training/6620', 'training/6621', 'training/6622', 'training/6623', 'training/6626', 'training/6629', 'training/6630', 'training/6632', 'training/6635', 'training/6636', 'training/6637', 'training/6638', 'training/6639', 'training/6641', 'training/6642', 'training/6647', 'training/6650', 'training/6652', 'training/6653', 'training/6654', 'training/6655', 'training/6656', 'training/6657', 'training/6658', 'training/6659', 'training/6660', 'training/6661', 'training/6665', 'training/6666', 'training/6668', 'training/6669', 'training/6670', 'training/6672', 'training/6673', 'training/6674', 'training/6675', 'training/6677', 'training/6679', 'training/6680', 'training/6681', 'training/6682', 'training/6683', 'training/6684', 'training/6685', 'training/6686', 'training/6687', 'training/6689', 'training/6694', 'training/6695', 'training/6696', 'training/6697', 'training/6699', 'training/6701', 'training/6702', 'training/6705', 'training/6707', 'training/6708', 'training/6709', 'training/6710', 'training/6711', 'training/6712', 'training/6713', 'training/6714', 'training/6716', 'training/6719', 'training/6720', 'training/6721', 'training/6722', 'training/6723', 'training/6725', 'training/6726', 'training/6729', 'training/6730', 'training/6731', 'training/6732', 'training/6733', 'training/6734', 'training/6735', 'training/6737', 'training/6738', 'training/6739', 'training/6740', 'training/6741', 'training/6742', 'training/6743', 'training/6744', 'training/6746', 'training/6747', 'training/6748', 'training/6751', 'training/6752', 'training/6757', 'training/6758', 'training/6759', 'training/6760', 'training/6761', 'training/6762', 'training/6763', 'training/6764', 'training/6765', 'training/6767', 'training/677', 'training/6770', 'training/6771', 'training/6773', 'training/6774', 'training/6776', 'training/6777', 'training/6778', 'training/6779', 'training/6783', 'training/6784', 'training/6785', 'training/6787', 'training/6788', 'training/6789', 'training/679', 'training/6790', 'training/6791', 'training/6794', 'training/6797', 'training/6798', 'training/6799', 'training/68', 'training/680', 'training/6801', 'training/6802', 'training/6804', 'training/6805', 'training/6807', 'training/6809', 'training/6810', 'training/6811', 'training/6813', 'training/6814', 'training/6815', 'training/6816', 'training/6817', 'training/6818', 'training/6819', 'training/682', 'training/6825', 'training/6827', 'training/6828', 'training/6830', 'training/6831', 'training/6836', 'training/6837', 'training/684', 'training/6840', 'training/6841', 'training/6844', 'training/6846', 'training/6848', 'training/6849', 'training/685', 'training/6850', 'training/6852', 'training/6853', 'training/6855', 'training/6856', 'training/6859', 'training/686', 'training/6860', 'training/6861', 'training/6862', 'training/6863', 'training/6864', 'training/6865', 'training/6866', 'training/6869', 'training/687', 'training/6871', 'training/6872', 'training/6873', 'training/6874', 'training/6875', 'training/6876', 'training/6877', 'training/688', 'training/6880', 'training/6881', 'training/6882', 'training/6884', 'training/6886', 'training/6887', 'training/6888', 'training/689', 'training/6890', 'training/6893', 'training/6894', 'training/6897', 'training/6898', 'training/69', 'training/690', 'training/6903', 'training/6905', 'training/6906', 'training/6907', 'training/6908', 'training/6909', 'training/691', 'training/6912', 'training/6913', 'training/6914', 'training/6917', 'training/692', 'training/6920', 'training/6922', 'training/6926', 'training/6927', 'training/6928', 'training/6929', 'training/693', 'training/6930', 'training/6931', 'training/6934', 'training/6935', 'training/6939', 'training/694', 'training/6941', 'training/6942', 'training/6943', 'training/6944', 'training/6945', 'training/6946', 'training/695', 'training/6951', 'training/6952', 'training/6953', 'training/6954', 'training/6955', 'training/6957', 'training/6959', 'training/696', 'training/6960', 'training/6961', 'training/6964', 'training/6965', 'training/6968', 'training/6969', 'training/697', 'training/6970', 'training/6972', 'training/6975', 'training/6976', 'training/698', 'training/6981', 'training/6982', 'training/6983', 'training/6985', 'training/6986', 'training/699', 'training/6993', 'training/6994', 'training/6995', 'training/6996', 'training/6998', 'training/6999', 'training/700', 'training/7000', 'training/7001', 'training/7003', 'training/7004', 'training/7005', 'training/7006', 'training/7007', 'training/7008', 'training/7009', 'training/701', 'training/7010', 'training/7011', 'training/7012', 'training/7013', 'training/7014', 'training/7015', 'training/702', 'training/7020', 'training/7023', 'training/7024', 'training/7027', 'training/7029', 'training/703', 'training/7030', 'training/7031', 'training/7032', 'training/7036', 'training/7037', 'training/7039', 'training/704', 'training/7041', 'training/7043', 'training/7045', 'training/7046', 'training/7047', 'training/7048', 'training/7049', 'training/7052', 'training/7057', 'training/7058', 'training/706', 'training/7060', 'training/7061', 'training/7062', 'training/7063', 'training/7064', 'training/7065', 'training/7066', 'training/7067', 'training/7068', 'training/707', 'training/7070', 'training/7071', 'training/7072', 'training/7073', 'training/7074', 'training/7075', 'training/7076', 'training/7077', 'training/7078', 'training/7079', 'training/708', 'training/7080', 'training/7083', 'training/7085', 'training/7087', 'training/7088', 'training/709', 'training/7090', 'training/7092', 'training/7093', 'training/7096', 'training/7097', 'training/7098', 'training/7099', 'training/71', 'training/7100', 'training/7101', 'training/7102', 'training/7103', 'training/7104', 'training/7106', 'training/7107', 'training/7109', 'training/7110', 'training/7111', 'training/7113', 'training/7115', 'training/7117', 'training/7119', 'training/712', 'training/7120', 'training/7123', 'training/7124', 'training/7126', 'training/7128', 'training/7129', 'training/7130', 'training/7132', 'training/7133', 'training/7135', 'training/7136', 'training/7139', 'training/714', 'training/7141', 'training/7143', 'training/7146', 'training/7148', 'training/7149', 'training/715', 'training/7150', 'training/7152', 'training/7154', 'training/7155', 'training/7157', 'training/7158', 'training/7159', 'training/7160', 'training/7161', 'training/7166', 'training/7167', 'training/7168', 'training/7174', 'training/7177', 'training/718', 'training/7184', 'training/7185', 'training/7188', 'training/7189', 'training/7190', 'training/7191', 'training/7192', 'training/7193', 'training/7196', 'training/7199', 'training/7204', 'training/7205', 'training/7207', 'training/7208', 'training/7209', 'training/7212', 'training/7215', 'training/7216', 'training/7217', 'training/7218', 'training/722', 'training/7220', 'training/7221', 'training/7222', 'training/7225', 'training/7226', 'training/7229', 'training/7234', 'training/7235', 'training/724', 'training/7240', 'training/7244', 'training/7245', 'training/7247', 'training/725', 'training/7250', 'training/7253', 'training/7256', 'training/7259', 'training/7260', 'training/7261', 'training/7263', 'training/7264', 'training/7266', 'training/7267', 'training/7272', 'training/7275', 'training/7276', 'training/7277', 'training/7278', 'training/7279', 'training/728', 'training/7286', 'training/7287', 'training/7296', 'training/7297', 'training/730', 'training/7302', 'training/7304', 'training/7305', 'training/7308', 'training/731', 'training/7310', 'training/7311', 'training/7312', 'training/7313', 'training/7314', 'training/7315', 'training/7317', 'training/7318', 'training/7319', 'training/732', 'training/7320', 'training/7321', 'training/7322', 'training/7323', 'training/7326', 'training/7329', 'training/733', 'training/7330', 'training/7331', 'training/7332', 'training/7336', 'training/7337', 'training/7338', 'training/7339', 'training/734', 'training/7341', 'training/7342', 'training/7344', 'training/7346', 'training/7349', 'training/735', 'training/7352', 'training/7353', 'training/7354', 'training/7355', 'training/7356', 'training/7357', 'training/7358', 'training/7359', 'training/736', 'training/7362', 'training/7363', 'training/7366', 'training/7367', 'training/7370', 'training/7375', 'training/7379', 'training/7381', 'training/7382', 'training/7385', 'training/7386', 'training/7387', 'training/7388', 'training/7389', 'training/739', 'training/7390', 'training/7391', 'training/7394', 'training/7395', 'training/7397', 'training/7398', 'training/74', 'training/7404', 'training/7406', 'training/7407', 'training/7408', 'training/741', 'training/7410', 'training/7413', 'training/7419', 'training/742', 'training/7420', 'training/7421', 'training/7423', 'training/7424', 'training/7425', 'training/7426', 'training/7427', 'training/7428', 'training/7429', 'training/743', 'training/7432', 'training/7433', 'training/7437', 'training/7438', 'training/7439', 'training/7441', 'training/7442', 'training/7443', 'training/7444', 'training/7447', 'training/7449', 'training/745', 'training/7452', 'training/7453', 'training/7455', 'training/7459', 'training/7460', 'training/7462', 'training/7464', 'training/7465', 'training/7466', 'training/7468', 'training/7469', 'training/7470', 'training/7471', 'training/7472', 'training/7474', 'training/7475', 'training/7476', 'training/7477', 'training/748', 'training/7481', 'training/7482', 'training/7483', 'training/7484', 'training/7487', 'training/7488', 'training/7490', 'training/7491', 'training/7494', 'training/7495', 'training/7496', 'training/7497', 'training/7498', 'training/7499', 'training/75', 'training/7500', 'training/7501', 'training/7504', 'training/7505', 'training/7508', 'training/7510', 'training/7512', 'training/7514', 'training/7515', 'training/7516', 'training/7517', 'training/7518', 'training/7519', 'training/7520', 'training/7521', 'training/7528', 'training/7529', 'training/7531', 'training/7533', 'training/7534', 'training/7537', 'training/7538', 'training/7539', 'training/754', 'training/7541', 'training/7543', 'training/7544', 'training/7545', 'training/7548', 'training/7552', 'training/7554', 'training/7555', 'training/7557', 'training/7558', 'training/7559', 'training/756', 'training/7562', 'training/7564', 'training/7565', 'training/7566', 'training/7568', 'training/7569', 'training/757', 'training/7570', 'training/7571', 'training/7574', 'training/7576', 'training/7577', 'training/7579', 'training/758', 'training/7580', 'training/7581', 'training/7583', 'training/7584', 'training/7585', 'training/7587', 'training/7590', 'training/7591', 'training/7592', 'training/7593', 'training/7596', 'training/7599', 'training/76', 'training/7600', 'training/7602', 'training/7603', 'training/7604', 'training/7605', 'training/7606', 'training/7609', 'training/7611', 'training/7614', 'training/7618', 'training/762', 'training/7620', 'training/7621', 'training/7622', 'training/7623', 'training/7625', 'training/7626', 'training/7627', 'training/7628', 'training/7629', 'training/7631', 'training/7632', 'training/7633', 'training/7634', 'training/7635', 'training/7636', 'training/7637', 'training/7638', 'training/7639', 'training/764', 'training/7640', 'training/7641', 'training/7642', 'training/7643', 'training/7644', 'training/7645', 'training/7647', 'training/7650', 'training/7652', 'training/7657', 'training/7659', 'training/7662', 'training/7669', 'training/767', 'training/7670', 'training/7671', 'training/7672', 'training/7673', 'training/7674', 'training/7676', 'training/7678', 'training/7679', 'training/768', 'training/7681', 'training/7682', 'training/7684', 'training/7686', 'training/7687', 'training/7690', 'training/7693', 'training/7694', 'training/7696', 'training/7698', 'training/77', 'training/7700', 'training/7702', 'training/7704', 'training/7707', 'training/7709', 'training/7710', 'training/7715', 'training/7716', 'training/7722', 'training/7723', 'training/7725', 'training/7726', 'training/7728', 'training/7729', 'training/773', 'training/7730', 'training/7732', 'training/7733', 'training/7734', 'training/7735', 'training/7736', 'training/7737', 'training/7738', 'training/7739', 'training/774', 'training/7742', 'training/7743', 'training/7744', 'training/7746', 'training/7747', 'training/7749', 'training/7752', 'training/7755', 'training/7757', 'training/776', 'training/7761', 'training/7762', 'training/7763', 'training/7764', 'training/7765', 'training/7766', 'training/7767', 'training/7768', 'training/7769', 'training/7771', 'training/7773', 'training/7774', 'training/7775', 'training/7776', 'training/778', 'training/7782', 'training/7784', 'training/7785', 'training/7789', 'training/7790', 'training/7791', 'training/7792', 'training/7795', 'training/7796', 'training/7797', 'training/78', 'training/780', 'training/7802', 'training/7804', 'training/7805', 'training/7807', 'training/7809', 'training/781', 'training/7810', 'training/7813', 'training/7814', 'training/7816', 'training/7817', 'training/7818', 'training/7819', 'training/7820', 'training/7821', 'training/7823', 'training/7824', 'training/7825', 'training/7826', 'training/7828', 'training/783', 'training/7830', 'training/7831', 'training/7835', 'training/7836', 'training/7837', 'training/7838', 'training/7839', 'training/7840', 'training/7841', 'training/7842', 'training/7843', 'training/7845', 'training/7847', 'training/7848', 'training/7850', 'training/7851', 'training/7854', 'training/7855', 'training/7857', 'training/7858', 'training/7859', 'training/7860', 'training/7861', 'training/7862', 'training/7864', 'training/7865', 'training/7866', 'training/7867', 'training/7869', 'training/787', 'training/7870', 'training/7871', 'training/7872', 'training/7873', 'training/7874', 'training/7875', 'training/7876', 'training/7877', 'training/7878', 'training/7879', 'training/7880', 'training/7881', 'training/7883', 'training/7884', 'training/7887', 'training/7888', 'training/7891', 'training/7893', 'training/7894', 'training/7895', 'training/7896', 'training/7897', 'training/7899', 'training/7901', 'training/7902', 'training/7903', 'training/7904', 'training/7907', 'training/791', 'training/7912', 'training/7913', 'training/7914', 'training/7917', 'training/7918', 'training/7920', 'training/7921', 'training/7922', 'training/7924', 'training/7927', 'training/7928', 'training/793', 'training/7930', 'training/7934', 'training/7935', 'training/7937', 'training/7939', 'training/7940', 'training/7942', 'training/7943', 'training/7948', 'training/7949', 'training/7950', 'training/7951', 'training/7953', 'training/7954', 'training/7955', 'training/7956', 'training/7957', 'training/7958', 'training/7959', 'training/7961', 'training/7962', 'training/7963', 'training/7964', 'training/7966', 'training/7967', 'training/7968', 'training/7969', 'training/797', 'training/7970', 'training/7971', 'training/7972', 'training/7974', 'training/7975', 'training/7977', 'training/7979', 'training/798', 'training/7980', 'training/7983', 'training/7984', 'training/7985', 'training/7987', 'training/7990', 'training/7991', 'training/7992', 'training/7993', 'training/7994', 'training/7997', 'training/80', 'training/800', 'training/8000', 'training/8001', 'training/8002', 'training/8003', 'training/8004', 'training/8005', 'training/8007', 'training/8008', 'training/8009', 'training/8010', 'training/8011', 'training/8012', 'training/8015', 'training/8016', 'training/8017', 'training/8020', 'training/8021', 'training/8022', 'training/8023', 'training/8025', 'training/8026', 'training/8027', 'training/8028', 'training/8029', 'training/8030', 'training/8032', 'training/8036', 'training/8039', 'training/8040', 'training/8041', 'training/8044', 'training/8045', 'training/8047', 'training/8048', 'training/8050', 'training/8051', 'training/8055', 'training/8056', 'training/8060', 'training/8063', 'training/8064', 'training/8068', 'training/8069', 'training/8074', 'training/8080', 'training/8085', 'training/8086', 'training/8087', 'training/8088', 'training/8089', 'training/8091', 'training/8094', 'training/8096', 'training/8097', 'training/8098', 'training/81', 'training/8100', 'training/8102', 'training/8103', 'training/8105', 'training/8106', 'training/8108', 'training/8109', 'training/811', 'training/8111', 'training/8112', 'training/8113', 'training/8115', 'training/8117', 'training/8119', 'training/8120', 'training/8123', 'training/8125', 'training/8126', 'training/8130', 'training/8131', 'training/8132', 'training/8134', 'training/8135', 'training/8137', 'training/8138', 'training/8140', 'training/8141', 'training/8144', 'training/8145', 'training/8147', 'training/8149', 'training/8151', 'training/8153', 'training/8155', 'training/8156', 'training/8158', 'training/8159', 'training/816', 'training/8160', 'training/8161', 'training/8162', 'training/8163', 'training/8164', 'training/8166', 'training/8167', 'training/8168', 'training/8169', 'training/817', 'training/8172', 'training/8173', 'training/8174', 'training/8176', 'training/8177', 'training/8178', 'training/8179', 'training/818', 'training/8180', 'training/8182', 'training/8184', 'training/8186', 'training/8188', 'training/8189', 'training/8190', 'training/8193', 'training/8194', 'training/8197', 'training/8198', 'training/8199', 'training/82', 'training/820', 'training/8200', 'training/8204', 'training/8205', 'training/8206', 'training/8209', 'training/8210', 'training/8211', 'training/8212', 'training/8213', 'training/8214', 'training/8217', 'training/8218', 'training/8219', 'training/8220', 'training/8221', 'training/8222', 'training/8223', 'training/8224', 'training/8225', 'training/8226', 'training/8227', 'training/8229', 'training/8234', 'training/8236', 'training/8240', 'training/8244', 'training/8245', 'training/8246', 'training/8247', 'training/8252', 'training/8253', 'training/8254', 'training/8255', 'training/8257', 'training/8258', 'training/8259', 'training/8262', 'training/8264', 'training/8269', 'training/8270', 'training/8273', 'training/8275', 'training/8276', 'training/8279', 'training/828', 'training/8286', 'training/8287', 'training/8288', 'training/8289', 'training/829', 'training/8291', 'training/8292', 'training/8293', 'training/8294', 'training/8296', 'training/8297', 'training/8298', 'training/8299', 'training/83', 'training/830', 'training/8300', 'training/8302', 'training/8306', 'training/8308', 'training/8309', 'training/8311', 'training/8313', 'training/8314', 'training/8317', 'training/8318', 'training/8319', 'training/8320', 'training/8322', 'training/8326', 'training/8327', 'training/833', 'training/8331', 'training/8334', 'training/8335', 'training/8337', 'training/8338', 'training/8339', 'training/834', 'training/8340', 'training/8342', 'training/8343', 'training/8344', 'training/8347', 'training/8349', 'training/835', 'training/8350', 'training/8351', 'training/8353', 'training/8355', 'training/8359', 'training/836', 'training/8361', 'training/8363', 'training/8364', 'training/8366', 'training/8367', 'training/8368', 'training/837', 'training/8370', 'training/8373', 'training/8374', 'training/8378', 'training/8387', 'training/8388', 'training/839', 'training/8391', 'training/8394', 'training/8396', 'training/8399', 'training/840', 'training/8400', 'training/8401', 'training/8402', 'training/8405', 'training/8406', 'training/8407', 'training/8409', 'training/8413', 'training/8415', 'training/8416', 'training/842', 'training/8421', 'training/8422', 'training/8424', 'training/8425', 'training/8426', 'training/8427', 'training/8428', 'training/8429', 'training/843', 'training/8430', 'training/8432', 'training/8433', 'training/8435', 'training/8438', 'training/844', 'training/8440', 'training/8441', 'training/8443', 'training/8446', 'training/8447', 'training/8448', 'training/8449', 'training/8451', 'training/8453', 'training/8454', 'training/8457', 'training/8458', 'training/846', 'training/8467', 'training/8472', 'training/8475', 'training/8478', 'training/8479', 'training/848', 'training/8480', 'training/8481', 'training/8487', 'training/8488', 'training/8489', 'training/849', 'training/8490', 'training/8491', 'training/8493', 'training/8496', 'training/8497', 'training/85', 'training/850', 'training/8501', 'training/8502', 'training/8506', 'training/8509', 'training/851', 'training/8510', 'training/8512', 'training/8513', 'training/8514', 'training/8516', 'training/8518', 'training/852', 'training/8520', 'training/8521', 'training/8522', 'training/8526', 'training/8528', 'training/853', 'training/8530', 'training/8533', 'training/8534', 'training/8535', 'training/8536', 'training/8540', 'training/8541', 'training/8543', 'training/8544', 'training/8545', 'training/8546', 'training/8547', 'training/855', 'training/8553', 'training/8554', 'training/8555', 'training/8556', 'training/8558', 'training/8559', 'training/856', 'training/8561', 'training/8562', 'training/8563', 'training/8565', 'training/8567', 'training/8569', 'training/857', 'training/8571', 'training/8572', 'training/8574', 'training/8577', 'training/8578', 'training/8579', 'training/8580', 'training/8581', 'training/8582', 'training/8584', 'training/8585', 'training/8586', 'training/8587', 'training/8588', 'training/859', 'training/8590', 'training/8591', 'training/8592', 'training/8595', 'training/8596', 'training/8597', 'training/8598', 'training/8599', 'training/86', 'training/8600', 'training/8602', 'training/8603', 'training/8604', 'training/8605', 'training/8606', 'training/8607', 'training/8608', 'training/8609', 'training/861', 'training/8610', 'training/8611', 'training/8612', 'training/8613', 'training/8614', 'training/8615', 'training/8616', 'training/8617', 'training/8618', 'training/8619', 'training/8621', 'training/8623', 'training/8624', 'training/8628', 'training/8629', 'training/8630', 'training/8632', 'training/8635', 'training/8636', 'training/8637', 'training/8638', 'training/8641', 'training/8643', 'training/8644', 'training/865', 'training/8654', 'training/8656', 'training/8657', 'training/8658', 'training/866', 'training/8661', 'training/8662', 'training/8663', 'training/8664', 'training/8665', 'training/8666', 'training/8667', 'training/8668', 'training/867', 'training/8670', 'training/8671', 'training/8672', 'training/8673', 'training/8674', 'training/8675', 'training/8676', 'training/8677', 'training/8678', 'training/868', 'training/8681', 'training/8683', 'training/8684', 'training/8685', 'training/8686', 'training/8688', 'training/8689', 'training/8690', 'training/8691', 'training/8692', 'training/8694', 'training/8696', 'training/8699', 'training/87', 'training/870', 'training/8701', 'training/8702', 'training/8704', 'training/8705', 'training/8706', 'training/8707', 'training/8708', 'training/8709', 'training/8710', 'training/8711', 'training/8713', 'training/8714', 'training/8716', 'training/8717', 'training/872', 'training/8722', 'training/8723', 'training/8724', 'training/8725', 'training/8726', 'training/8728', 'training/873', 'training/8730', 'training/8731', 'training/8732', 'training/8733', 'training/8734', 'training/8735', 'training/8736', 'training/8738', 'training/874', 'training/8740', 'training/8741', 'training/8742', 'training/8744', 'training/8745', 'training/8746', 'training/8747', 'training/8748', 'training/8749', 'training/875', 'training/8750', 'training/8755', 'training/8756', 'training/8757', 'training/8758', 'training/8759', 'training/8760', 'training/8761', 'training/8765', 'training/8767', 'training/8768', 'training/8771', 'training/8777', 'training/8778', 'training/8780', 'training/8781', 'training/8784', 'training/8785', 'training/8788', 'training/879', 'training/8791', 'training/8793', 'training/8794', 'training/8795', 'training/8796', 'training/8797', 'training/8799', 'training/880', 'training/8800', 'training/8802', 'training/8806', 'training/8808', 'training/8810', 'training/8812', 'training/8814', 'training/8815', 'training/882', 'training/8820', 'training/8822', 'training/8823', 'training/8826', 'training/8829', 'training/883', 'training/8830', 'training/8835', 'training/8836', 'training/8837', 'training/884', 'training/8845', 'training/8846', 'training/8849', 'training/885', 'training/8850', 'training/8853', 'training/8854', 'training/8855', 'training/8856', 'training/8857', 'training/8858', 'training/8859', 'training/886', 'training/8860', 'training/8861', 'training/8863', 'training/8865', 'training/8866', 'training/8868', 'training/887', 'training/8873', 'training/8877', 'training/8879', 'training/8880', 'training/8882', 'training/8884', 'training/889', 'training/8890', 'training/8892', 'training/8893', 'training/8895', 'training/8898', 'training/8899', 'training/89', 'training/890', 'training/8902', 'training/8903', 'training/8905', 'training/8906', 'training/8908', 'training/8909', 'training/8911', 'training/8912', 'training/8914', 'training/8915', 'training/8916', 'training/8918', 'training/8919', 'training/8922', 'training/8925', 'training/8928', 'training/8930', 'training/8932', 'training/8933', 'training/8935', 'training/894', 'training/8940', 'training/8941', 'training/8943', 'training/8944', 'training/8945', 'training/8946', 'training/8947', 'training/8948', 'training/895', 'training/8950', 'training/8951', 'training/8956', 'training/8959', 'training/896', 'training/8961', 'training/8962', 'training/8964', 'training/8965', 'training/8968', 'training/8969', 'training/897', 'training/8970', 'training/8971', 'training/8972', 'training/8974', 'training/8975', 'training/8976', 'training/8977', 'training/8978', 'training/8979', 'training/8981', 'training/8982', 'training/8983', 'training/8984', 'training/8985', 'training/8986', 'training/8987', 'training/899', 'training/8991', 'training/8992', 'training/8993', 'training/8995', 'training/8996', 'training/8997', 'training/8998', 'training/8999', 'training/9', 'training/900', 'training/9003', 'training/9007', 'training/901', 'training/9010', 'training/9012', 'training/9014', 'training/9015', 'training/9018', 'training/9020', 'training/9021', 'training/9022', 'training/9025', 'training/9027', 'training/9029', 'training/903', 'training/9030', 'training/9031', 'training/9032', 'training/9033', 'training/9034', 'training/9036', 'training/9039', 'training/904', 'training/9040', 'training/9041', 'training/9044', 'training/9045', 'training/9047', 'training/9048', 'training/9049', 'training/9051', 'training/9053', 'training/9054', 'training/9055', 'training/9056', 'training/9058', 'training/9059', 'training/9060', 'training/9061', 'training/9064', 'training/9065', 'training/9066', 'training/9067', 'training/9068', 'training/9069', 'training/9072', 'training/9073', 'training/9074', 'training/9075', 'training/9076', 'training/9077', 'training/9079', 'training/908', 'training/9081', 'training/9087', 'training/9088', 'training/9090', 'training/9091', 'training/9093', 'training/9094', 'training/9095', 'training/9097', 'training/9098', 'training/9100', 'training/9101', 'training/9102', 'training/9103', 'training/9104', 'training/9107', 'training/9108', 'training/9110', 'training/9111', 'training/9112', 'training/9113', 'training/9115', 'training/9116', 'training/9117', 'training/9118', 'training/9120', 'training/9124', 'training/9127', 'training/9128', 'training/9129', 'training/913', 'training/9131', 'training/9132', 'training/9133', 'training/9134', 'training/9135', 'training/9137', 'training/9138', 'training/9139', 'training/9142', 'training/9143', 'training/9146', 'training/9147', 'training/9149', 'training/915', 'training/9152', 'training/9153', 'training/9155', 'training/9156', 'training/9158', 'training/9159', 'training/9160', 'training/9161', 'training/9162', 'training/9163', 'training/9164', 'training/9165', 'training/9166', 'training/9170', 'training/9171', 'training/9172', 'training/9175', 'training/9177', 'training/9178', 'training/918', 'training/9181', 'training/9182', 'training/9184', 'training/9187', 'training/9189', 'training/9190', 'training/9192', 'training/9193', 'training/9194', 'training/9195', 'training/9196', 'training/9197', 'training/92', 'training/920', 'training/9201', 'training/9202', 'training/9203', 'training/9204', 'training/9205', 'training/9206', 'training/9207', 'training/9208', 'training/921', 'training/9210', 'training/9213', 'training/9214', 'training/9216', 'training/9217', 'training/9218', 'training/922', 'training/9220', 'training/9222', 'training/9224', 'training/9228', 'training/9229', 'training/9230', 'training/9231', 'training/9232', 'training/9234', 'training/9235', 'training/9237', 'training/9238', 'training/9239', 'training/924', 'training/9240', 'training/9242', 'training/9243', 'training/9246', 'training/925', 'training/9250', 'training/9252', 'training/9253', 'training/9255', 'training/9258', 'training/9259', 'training/926', 'training/9260', 'training/9261', 'training/9263', 'training/9264', 'training/9265', 'training/9266', 'training/9267', 'training/9268', 'training/9270', 'training/9271', 'training/9272', 'training/9273', 'training/9274', 'training/9277', 'training/9278', 'training/9279', 'training/9280', 'training/9282', 'training/9283', 'training/9284', 'training/9285', 'training/9287', 'training/9288', 'training/929', 'training/9290', 'training/9293', 'training/9294', 'training/9295', 'training/9296', 'training/9299', 'training/93', 'training/930', 'training/9301', 'training/9302', 'training/9304', 'training/9305', 'training/9306', 'training/9308', 'training/9311', 'training/9312', 'training/9313', 'training/9314', 'training/9315', 'training/9316', 'training/932', 'training/9324', 'training/9326', 'training/9327', 'training/9328', 'training/9330', 'training/9332', 'training/9333', 'training/9334', 'training/9335', 'training/9336', 'training/9337', 'training/9338', 'training/9339', 'training/934', 'training/9343', 'training/9345', 'training/9346', 'training/9348', 'training/9349', 'training/9352', 'training/9354', 'training/9356', 'training/9357', 'training/9361', 'training/9362', 'training/9363', 'training/9364', 'training/9365', 'training/9366', 'training/9369', 'training/937', 'training/9371', 'training/9372', 'training/9373', 'training/9374', 'training/9377', 'training/9378', 'training/938', 'training/9381', 'training/9382', 'training/9383', 'training/9385', 'training/9388', 'training/9389', 'training/939', 'training/9392', 'training/9393', 'training/9397', 'training/9398', 'training/9399', 'training/94', 'training/940', 'training/9403', 'training/9405', 'training/9406', 'training/9408', 'training/941', 'training/9410', 'training/9412', 'training/9413', 'training/9414', 'training/9415', 'training/9417', 'training/942', 'training/9422', 'training/9423', 'training/9425', 'training/9426', 'training/9427', 'training/9428', 'training/9429', 'training/943', 'training/9431', 'training/9432', 'training/9433', 'training/9434', 'training/9435', 'training/9436', 'training/9437', 'training/9438', 'training/944', 'training/9441', 'training/9443', 'training/9444', 'training/9445', 'training/945', 'training/9450', 'training/9453', 'training/9454', 'training/9463', 'training/9465', 'training/9469', 'training/9470', 'training/9472', 'training/9473', 'training/9475', 'training/9477', 'training/9478', 'training/9479', 'training/9484', 'training/9486', 'training/9487', 'training/9488', 'training/9489', 'training/949', 'training/9491', 'training/9493', 'training/9497', 'training/9498', 'training/9499', 'training/95', 'training/9502', 'training/9503', 'training/9505', 'training/9509', 'training/9510', 'training/9511', 'training/9515', 'training/9519', 'training/952', 'training/9521', 'training/9525', 'training/9526', 'training/9527', 'training/953', 'training/9530', 'training/9531', 'training/9532', 'training/9534', 'training/9535', 'training/9538', 'training/9539', 'training/9543', 'training/9544', 'training/9547', 'training/9549', 'training/955', 'training/9550', 'training/9551', 'training/9554', 'training/9556', 'training/9557', 'training/9558', 'training/9559', 'training/9560', 'training/9561', 'training/9562', 'training/9563', 'training/9565', 'training/9566', 'training/9570', 'training/9572', 'training/9573', 'training/9576', 'training/9577', 'training/9578', 'training/958', 'training/9580', 'training/9582', 'training/9583', 'training/9585', 'training/9587', 'training/9588', 'training/9590', 'training/9592', 'training/9597', 'training/9598', 'training/9599', 'training/96', 'training/960', 'training/9600', 'training/9603', 'training/9604', 'training/9605', 'training/9606', 'training/9607', 'training/9608', 'training/9610', 'training/9611', 'training/9612', 'training/9613', 'training/9614', 'training/9615', 'training/9617', 'training/9618', 'training/9619', 'training/9625', 'training/9626', 'training/9628', 'training/963', 'training/9634', 'training/9635', 'training/9637', 'training/9638', 'training/9639', 'training/9640', 'training/9641', 'training/9642', 'training/9644', 'training/9647', 'training/9650', 'training/9652', 'training/9654', 'training/9656', 'training/9657', 'training/9661', 'training/9667', 'training/9668', 'training/9671', 'training/9674', 'training/9675', 'training/9677', 'training/9678', 'training/968', 'training/9680', 'training/9681', 'training/9682', 'training/9686', 'training/9689', 'training/969', 'training/9697', 'training/9698', 'training/9699', 'training/97', 'training/9700', 'training/9701', 'training/9704', 'training/9705', 'training/9706', 'training/9707', 'training/971', 'training/9712', 'training/9718', 'training/972', 'training/9720', 'training/9723', 'training/9727', 'training/9728', 'training/9729', 'training/9730', 'training/9731', 'training/9733', 'training/9734', 'training/9735', 'training/9736', 'training/9737', 'training/9738', 'training/974', 'training/9741', 'training/9742', 'training/9744', 'training/9745', 'training/9746', 'training/9747', 'training/9748', 'training/9749', 'training/9751', 'training/9752', 'training/9753', 'training/9754', 'training/9755', 'training/9756', 'training/976', 'training/9760', 'training/9761', 'training/9763', 'training/9764', 'training/9767', 'training/9768', 'training/9769', 'training/977', 'training/9770', 'training/9771', 'training/9772', 'training/9773', 'training/9777', 'training/9779', 'training/978', 'training/9781', 'training/9782', 'training/9783', 'training/9784', 'training/9787', 'training/9792', 'training/9793', 'training/9795', 'training/9797', 'training/9799', 'training/98', 'training/9801', 'training/9804', 'training/9805', 'training/9807', 'training/9809', 'training/981', 'training/9810', 'training/9812', 'training/9814', 'training/9815', 'training/9816', 'training/9818', 'training/982', 'training/9821', 'training/9822', 'training/9823', 'training/9824', 'training/9825', 'training/9827', 'training/9829', 'training/983', 'training/9833', 'training/9834', 'training/9836', 'training/9837', 'training/9839', 'training/984', 'training/9841', 'training/9844', 'training/9847', 'training/9848', 'training/9849', 'training/985', 'training/9850', 'training/9851', 'training/9852', 'training/9853', 'training/9855', 'training/9857', 'training/9858', 'training/986', 'training/9860', 'training/9861', 'training/9862', 'training/9864', 'training/9865', 'training/9866', 'training/9867', 'training/9868', 'training/9869', 'training/9871', 'training/9872', 'training/9874', 'training/9875', 'training/9878', 'training/988', 'training/9880', 'training/9884', 'training/9891', 'training/9892', 'training/9893', 'training/9894', 'training/9896', 'training/9897', 'training/99', 'training/9901', 'training/9902', 'training/9903', 'training/9904', 'training/9905', 'training/9906', 'training/9907', 'training/9909', 'training/991', 'training/9912', 'training/9913', 'training/9914', 'training/9915', 'training/9918', 'training/9919', 'training/9920', 'training/9923', 'training/9925', 'training/9926', 'training/9927', 'training/9928', 'training/9929', 'training/9930', 'training/9933', 'training/9934', 'training/9936', 'training/9937', 'training/9939', 'training/9940', 'training/9941', 'training/9942', 'training/9943', 'training/9946', 'training/9947', 'training/995', 'training/9952', 'training/9953', 'training/9954', 'training/9955', 'training/9956', 'training/9957', 'training/9958', 'training/9959', 'training/9961', 'training/9963', 'training/9964', 'training/9965', 'training/9967', 'training/9970', 'training/9971', 'training/9972', 'training/9973', 'training/9974', 'training/9975', 'training/9976', 'training/9977', 'training/9978', 'training/998', 'training/9981', 'training/9982', 'training/9984', 'training/9985', 'training/9988', 'training/9989', 'training/999', 'training/9992', 'training/9993', 'training/9994', 'training/9995']\n"
     ]
    }
   ],
   "source": [
    "from nltk.corpus import *\n",
    "print(names.fileids())\n",
    "print(reuters.fileids())"
   ]
  },
  {
   "cell_type": "code",
   "execution_count": null,
   "metadata": {
    "id": "ni-4gm2r1pIX"
   },
   "outputs": [],
   "source": [
    "print(names.readme())\n",
    "print(reuters.readme())"
   ]
  },
  {
   "cell_type": "code",
   "execution_count": null,
   "metadata": {
    "colab": {
     "base_uri": "https://localhost:8080/",
     "height": 683
    },
    "executionInfo": {
     "elapsed": 1106,
     "status": "ok",
     "timestamp": 1639476810548,
     "user": {
      "displayName": "Tasanawan Soonklang",
      "photoUrl": "https://lh3.googleusercontent.com/a-/AOh14GhBB34ul0Gnc90lVKcRi2775F8xagUqJeiNKe5B=s64",
      "userId": "12824326183520981875"
     },
     "user_tz": -420
    },
    "id": "q7MEpaoA1pIY",
    "outputId": "8d836e08-5b84-42d3-cd39-5cc0f181a562"
   },
   "outputs": [
    {
     "name": "stdout",
     "output_type": "stream",
     "text": [
      "15\n",
      "adventure 29\n",
      "belles_lettres 75\n",
      "editorial 27\n",
      "fiction 29\n",
      "government 30\n",
      "hobbies 36\n",
      "humor 9\n",
      "learned 80\n",
      "lore 48\n",
      "mystery 24\n",
      "news 44\n",
      "religion 17\n",
      "reviews 17\n",
      "romance 29\n",
      "science_fiction 6\n",
      "69342\n",
      "56658\n",
      "<FreqDist with 7583 samples and 56658 outcomes>\n",
      "[('the', 3780), ('and', 1706), ('a', 1432), ('of', 1327), ('to', 1322), ('he', 1283), ('was', 919), ('in', 892), ('his', 846), ('i', 652), ('it', 637), ('had', 592), ('that', 533), ('on', 469), ('her', 468), ('you', 446), ('with', 420), ('him', 415), ('she', 377), ('for', 358), ('at', 342), ('as', 338), ('but', 316), ('they', 305), ('said', 288), ('out', 273), ('from', 270), ('were', 251), ('this', 239), ('up', 227), ('me', 210), ('not', 203), ('would', 194), ('there', 192), ('all', 191), ('my', 189), ('be', 188), ('one', 183), ('into', 180), ('no', 173), ('when', 173), ('back', 166), ('man', 166), ('an', 165), ('their', 162), ('them', 156), ('by', 156), ('could', 154), ('down', 154), ('what', 149)]\n",
      "3780\n"
     ]
    },
    {
     "data": {
      "image/png": "[encoded data removed]",
      "text/plain": [
       "<Figure size 432x288 with 1 Axes>"
      ]
     },
     "metadata": {
      "needs_background": "light"
     },
     "output_type": "display_data"
    }
   ],
   "source": [
    "import nltk\n",
    "from nltk.corpus import brown\n",
    "print(len(brown.categories()))\n",
    "for group in brown.categories():\n",
    "    print(group,len(brown.fileids(categories = group)))\n",
    "    \n",
    "adventure = brown.words(categories = \"adventure\")\n",
    "print(len(adventure))\n",
    "\n",
    "vocabs = [w.lower() for w in adventure if w.isalpha()]\n",
    "print(len(vocabs))\n",
    "#vocabs = sorted(set(vocabs))\n",
    "#print(len(vocabs))\n",
    "#print(vocabs)\n",
    "\n",
    "freq = nltk.FreqDist(vocabs)\n",
    "print(freq)\n",
    "#for key in freq:\n",
    "#    print(key, freq[key])\n",
    "\n",
    "print(freq.most_common(50))\n",
    "print(freq['the'])\n",
    "freq.plot(50, cumulative=True)"
   ]
  },
  {
   "cell_type": "code",
   "execution_count": null,
   "metadata": {
    "colab": {
     "base_uri": "https://localhost:8080/"
    },
    "executionInfo": {
     "elapsed": 3680,
     "status": "ok",
     "timestamp": 1639478488889,
     "user": {
      "displayName": "Tasanawan Soonklang",
      "photoUrl": "https://lh3.googleusercontent.com/a-/AOh14GhBB34ul0Gnc90lVKcRi2775F8xagUqJeiNKe5B=s64",
      "userId": "12824326183520981875"
     },
     "user_tz": -420
    },
    "id": "vQur3fwh1pIY",
    "outputId": "b17deb21-5f32-4ca1-8315-87dd4d0fe686"
   },
   "outputs": [
    {
     "name": "stdout",
     "output_type": "stream",
     "text": [
      "[('adventure', 'dan'), ('adventure', 'morgan'), ('adventure', 'told'), ('adventure', 'himself'), ('adventure', 'he'), ('adventure', 'would'), ('adventure', 'forget'), ('adventure', 'ann'), ('adventure', 'turner'), ('adventure', '.'), ('adventure', 'he'), ('adventure', 'was'), ('adventure', 'well'), ('adventure', 'rid'), ('adventure', 'of'), ('adventure', 'her'), ('adventure', '.'), ('adventure', 'he'), ('adventure', 'certainly'), ('adventure', \"didn't\"), ('adventure', 'want'), ('adventure', 'a'), ('adventure', 'wife'), ('adventure', 'who'), ('adventure', 'was'), ('adventure', 'fickle'), ('adventure', 'as'), ('adventure', 'ann'), ('adventure', '.'), ('adventure', 'if'), ('adventure', 'he'), ('adventure', 'had'), ('adventure', 'married'), ('adventure', 'her'), ('adventure', ','), ('adventure', \"he'd\"), ('adventure', 'have'), ('adventure', 'been'), ('adventure', 'asking'), ('adventure', 'for'), ('adventure', 'trouble'), ('adventure', '.'), ('adventure', 'but'), ('adventure', 'all'), ('adventure', 'of'), ('adventure', 'this'), ('adventure', 'was'), ('adventure', 'rationalization'), ('adventure', '.'), ('adventure', 'sometimes'), ('adventure', 'he'), ('adventure', 'woke'), ('adventure', 'up'), ('adventure', 'in'), ('adventure', 'the'), ('adventure', 'middle'), ('adventure', 'of'), ('adventure', 'the'), ('adventure', 'night'), ('adventure', 'thinking'), ('adventure', 'of'), ('adventure', 'ann'), ('adventure', ','), ('adventure', 'and'), ('adventure', 'then'), ('adventure', 'could'), ('adventure', 'not'), ('adventure', 'get'), ('adventure', 'back'), ('adventure', 'to'), ('adventure', 'sleep'), ('adventure', '.'), ('adventure', 'his'), ('adventure', 'plans'), ('adventure', 'and'), ('adventure', 'dreams'), ('adventure', 'had'), ('adventure', 'revolved'), ('adventure', 'around'), ('adventure', 'her'), ('adventure', 'so'), ('adventure', 'much'), ('adventure', 'and'), ('adventure', 'for'), ('adventure', 'so'), ('adventure', 'long'), ('adventure', 'that'), ('adventure', 'now'), ('adventure', 'he'), ('adventure', 'felt'), ('adventure', 'as'), ('adventure', 'if'), ('adventure', 'he'), ('adventure', 'had'), ('adventure', 'nothing'), ('adventure', '.'), ('adventure', 'the'), ('adventure', 'easiest'), ('adventure', 'thing'), ('adventure', 'would')]\n"
     ]
    }
   ],
   "source": [
    "vocabs = []\n",
    "for group in brown.categories():\n",
    "#    print(group)\n",
    "    for word in brown.words(categories=group):\n",
    "        vocabs.append((group, word.lower()))\n",
    "\n",
    "#vocabs = [(group, word.lower()) for group in brown.categories() for word in brown.words(categories=group)]\n",
    "print(vocabs[:100])"
   ]
  },
  {
   "cell_type": "code",
   "execution_count": null,
   "metadata": {
    "colab": {
     "base_uri": "https://localhost:8080/"
    },
    "executionInfo": {
     "elapsed": 1073,
     "status": "ok",
     "timestamp": 1639478858448,
     "user": {
      "displayName": "Tasanawan Soonklang",
      "photoUrl": "https://lh3.googleusercontent.com/a-/AOh14GhBB34ul0Gnc90lVKcRi2775F8xagUqJeiNKe5B=s64",
      "userId": "12824326183520981875"
     },
     "user_tz": -420
    },
    "id": "I9LHF5-v1pIY",
    "outputId": "41f5c92c-991a-4530-d751-98c393c58dd2"
   },
   "outputs": [
    {
     "name": "stdout",
     "output_type": "stream",
     "text": [
      "15\n",
      "['adventure', 'belles_lettres', 'editorial', 'fiction', 'government', 'hobbies', 'humor', 'learned', 'lore', 'mystery', 'news', 'religion', 'reviews', 'romance', 'science_fiction']\n",
      "adventure 3780\n",
      "belles_lettres 10756\n",
      "editorial 3961\n",
      "fiction 3792\n",
      "government 4621\n",
      "hobbies 4758\n",
      "humor 1027\n",
      "learned 12537\n",
      "lore 6975\n",
      "mystery 2817\n",
      "news 6386\n",
      "religion 2480\n",
      "reviews 2370\n",
      "romance 2988\n",
      "science_fiction 723\n"
     ]
    }
   ],
   "source": [
    "cfd = nltk.ConditionalFreqDist(vocabs)\n",
    "print(len(cfd.conditions()))\n",
    "print(cfd.conditions())\n",
    "\n",
    "for category in cfd.conditions():\n",
    "    print(category, cfd[category]['the'])"
   ]
  },
  {
   "cell_type": "code",
   "execution_count": null,
   "metadata": {
    "colab": {
     "base_uri": "https://localhost:8080/"
    },
    "executionInfo": {
     "elapsed": 496,
     "status": "ok",
     "timestamp": 1639479854624,
     "user": {
      "displayName": "Tasanawan Soonklang",
      "photoUrl": "https://lh3.googleusercontent.com/a-/AOh14GhBB34ul0Gnc90lVKcRi2775F8xagUqJeiNKe5B=s64",
      "userId": "12824326183520981875"
     },
     "user_tz": -420
    },
    "id": "Igx97TJk1pIY",
    "outputId": "9559a7c0-a44e-496e-dfc6-da88d67eac3f"
   },
   "outputs": [
    {
     "name": "stdout",
     "output_type": "stream",
     "text": [
      "[('citizen', '1789'), ('citizen', '1789'), ('citizen', '1789'), ('people', '1789'), ('citizen', '1789'), ('people', '1789'), ('citizen', '1789'), ('america', '1789'), ('people', '1789'), ('america', '1789'), ('people', '1789'), ('citizen', '1793'), ('people', '1793'), ('america', '1793'), ('america', '1797'), ('people', '1797'), ('people', '1797'), ('people', '1797'), ('people', '1797'), ('america', '1797'), ('citizen', '1797'), ('people', '1797'), ('citizen', '1797'), ('people', '1797'), ('people', '1797'), ('people', '1797'), ('america', '1797'), ('people', '1797'), ('people', '1797'), ('people', '1797'), ('america', '1797'), ('citizen', '1797'), ('people', '1797'), ('citizen', '1797'), ('people', '1797'), ('people', '1797'), ('people', '1797'), ('america', '1797'), ('citizen', '1797'), ('people', '1797'), ('america', '1797'), ('citizen', '1797'), ('america', '1797'), ('people', '1797'), ('people', '1797'), ('people', '1797'), ('america', '1797'), ('people', '1797'), ('citizen', '1801'), ('citizen', '1801'), ('citizen', '1801'), ('citizen', '1801'), ('people', '1801'), ('citizen', '1801'), ('citizen', '1801'), ('people', '1801'), ('citizen', '1801'), ('citizen', '1805'), ('citizen', '1805'), ('citizen', '1805'), ('citizen', '1805'), ('america', '1805'), ('citizen', '1805'), ('citizen', '1805'), ('citizen', '1805'), ('citizen', '1805'), ('citizen', '1805'), ('citizen', '1805'), ('people', '1809'), ('citizen', '1809'), ('people', '1813'), ('citizen', '1813'), ('america', '1813'), ('people', '1813'), ('citizen', '1813'), ('citizen', '1813'), ('people', '1813'), ('citizen', '1813'), ('citizen', '1817'), ('people', '1817'), ('citizen', '1817'), ('people', '1817'), ('citizen', '1817'), ('citizen', '1817'), ('citizen', '1817'), ('citizen', '1817'), ('people', '1817'), ('people', '1817'), ('people', '1817'), ('people', '1817'), ('people', '1817'), ('people', '1817'), ('citizen', '1817'), ('people', '1817'), ('citizen', '1817'), ('citizen', '1817'), ('citizen', '1817'), ('people', '1817'), ('people', '1817'), ('people', '1817'), ('citizen', '1817'), ('citizen', '1817'), ('america', '1817'), ('people', '1817'), ('people', '1817'), ('citizen', '1817'), ('people', '1817'), ('citizen', '1817'), ('citizen', '1821'), ('citizen', '1821'), ('people', '1821'), ('citizen', '1821'), ('citizen', '1821'), ('citizen', '1821'), ('america', '1821'), ('citizen', '1821'), ('citizen', '1821'), ('citizen', '1821'), ('america', '1821'), ('people', '1821'), ('citizen', '1821'), ('citizen', '1821'), ('citizen', '1821'), ('people', '1821'), ('citizen', '1821'), ('people', '1821'), ('people', '1821'), ('people', '1821'), ('people', '1821'), ('people', '1821'), ('people', '1821'), ('people', '1821'), ('citizen', '1821'), ('people', '1821'), ('citizen', '1821'), ('citizen', '1821'), ('citizen', '1825'), ('people', '1825'), ('people', '1825'), ('people', '1825'), ('people', '1825'), ('people', '1825'), ('citizen', '1825'), ('people', '1825'), ('citizen', '1825'), ('people', '1825'), ('citizen', '1829'), ('people', '1829'), ('people', '1829'), ('people', '1829'), ('people', '1829'), ('citizen', '1829'), ('citizen', '1833'), ('america', '1833'), ('people', '1833'), ('people', '1833'), ('people', '1833'), ('people', '1833'), ('people', '1833'), ('people', '1833'), ('people', '1833'), ('citizen', '1833'), ('america', '1833'), ('people', '1833'), ('citizen', '1833'), ('people', '1833'), ('citizen', '1837'), ('people', '1837'), ('citizen', '1837'), ('people', '1837'), ('people', '1837'), ('citizen', '1837'), ('people', '1837'), ('people', '1837'), ('people', '1837'), ('people', '1837'), ('citizen', '1837'), ('america', '1837'), ('people', '1837'), ('people', '1837'), ('people', '1837'), ('people', '1837'), ('america', '1837'), ('citizen', '1837'), ('people', '1837'), ('people', '1837'), ('people', '1837'), ('citizen', '1837'), ('citizen', '1837'), ('people', '1837'), ('people', '1837'), ('people', '1837'), ('people', '1837'), ('people', '1837'), ('people', '1837'), ('citizen', '1841'), ('people', '1841'), ('people', '1841'), ('people', '1841'), ('people', '1841'), ('people', '1841'), ('citizen', '1841'), ('america', '1841'), ('citizen', '1841'), ('citizen', '1841'), ('america', '1841'), ('citizen', '1841'), ('people', '1841'), ('citizen', '1841'), ('people', '1841'), ('people', '1841'), ('citizen', '1841'), ('citizen', '1841'), ('people', '1841'), ('people', '1841'), ('people', '1841'), ('people', '1841'), ('people', '1841'), ('people', '1841'), ('people', '1841'), ('people', '1841'), ('people', '1841'), ('citizen', '1841'), ('citizen', '1841'), ('america', '1841'), ('citizen', '1841'), ('citizen', '1841'), ('america', '1841'), ('citizen', '1841'), ('people', '1841'), ('people', '1841'), ('america', '1841'), ('citizen', '1841'), ('citizen', '1841'), ('america', '1841'), ('citizen', '1841'), ('people', '1841'), ('america', '1841'), ('citizen', '1841'), ('citizen', '1841'), ('citizen', '1841'), ('citizen', '1841'), ('citizen', '1841'), ('citizen', '1841'), ('citizen', '1841'), ('citizen', '1841'), ('citizen', '1841'), ('citizen', '1841'), ('people', '1841'), ('citizen', '1841'), ('citizen', '1841'), ('citizen', '1841'), ('people', '1841'), ('citizen', '1841'), ('people', '1841'), ('people', '1841'), ('people', '1841'), ('people', '1841'), ('people', '1841'), ('people', '1841'), ('people', '1841'), ('people', '1841'), ('people', '1841'), ('people', '1841'), ('citizen', '1841'), ('citizen', '1841'), ('citizen', '1841'), ('people', '1841'), ('citizen', '1841'), ('citizen', '1841'), ('citizen', '1841'), ('people', '1841'), ('people', '1841'), ('people', '1841'), ('citizen', '1841'), ('people', '1841'), ('citizen', '1841'), ('people', '1841'), ('citizen', '1845'), ('people', '1845'), ('people', '1845'), ('people', '1845'), ('people', '1845'), ('citizen', '1845'), ('people', '1845'), ('people', '1845'), ('citizen', '1845'), ('people', '1845'), ('citizen', '1845'), ('citizen', '1845'), ('people', '1845'), ('citizen', '1845'), ('citizen', '1845'), ('people', '1845'), ('people', '1845'), ('citizen', '1845'), ('citizen', '1845'), ('citizen', '1845'), ('people', '1845'), ('people', '1845'), ('people', '1845'), ('people', '1845'), ('citizen', '1845'), ('people', '1845'), ('people', '1845'), ('america', '1849'), ('people', '1849'), ('people', '1849'), ('america', '1849'), ('people', '1849'), ('citizen', '1849'), ('citizen', '1849'), ('people', '1853'), ('citizen', '1853'), ('people', '1853'), ('people', '1853'), ('citizen', '1853'), ('america', '1853'), ('citizen', '1853'), ('america', '1853'), ('citizen', '1853'), ('people', '1853'), ('people', '1853'), ('people', '1853'), ('citizen', '1857'), ('people', '1857'), ('america', '1857'), ('people', '1857'), ('citizen', '1857'), ('people', '1857'), ('people', '1857'), ('people', '1857'), ('citizen', '1857'), ('people', '1857'), ('people', '1857'), ('people', '1857'), ('people', '1857'), ('people', '1857'), ('citizen', '1857'), ('citizen', '1857'), ('citizen', '1857'), ('america', '1857'), ('citizen', '1857'), ('people', '1857'), ('people', '1857'), ('america', '1857'), ('people', '1857'), ('citizen', '1861'), ('people', '1861'), ('citizen', '1861'), ('citizen', '1861'), ('citizen', '1861'), ('america', '1861'), ('people', '1861'), ('people', '1861'), ('citizen', '1861'), ('people', '1861'), ('people', '1861'), ('people', '1861'), ('citizen', '1861'), ('people', '1861'), ('people', '1861'), ('people', '1861'), ('people', '1861'), ('people', '1861'), ('citizen', '1861'), ('people', '1861'), ('people', '1861'), ('people', '1861'), ('people', '1861'), ('people', '1861'), ('people', '1861'), ('america', '1861'), ('people', '1861'), ('people', '1861'), ('people', '1861'), ('america', '1865'), ('citizen', '1869'), ('people', '1869'), ('people', '1869'), ('citizen', '1869'), ('citizen', '1869'), ('citizen', '1869'), ('citizen', '1869'), ('citizen', '1873'), ('people', '1873'), ('people', '1873'), ('citizen', '1873'), ('citizen', '1873'), ('people', '1873'), ('people', '1873'), ('people', '1873'), ('people', '1873'), ('people', '1873'), ('citizen', '1877'), ('citizen', '1877'), ('citizen', '1877'), ('people', '1877'), ('citizen', '1877'), ('citizen', '1877'), ('people', '1877'), ('citizen', '1877'), ('people', '1877'), ('citizen', '1877'), ('people', '1877'), ('people', '1877'), ('people', '1877'), ('citizen', '1877'), ('america', '1877'), ('people', '1877'), ('people', '1877'), ('citizen', '1877'), ('people', '1877'), ('citizen', '1881'), ('people', '1881'), ('people', '1881'), ('people', '1881'), ('people', '1881'), ('people', '1881'), ('citizen', '1881'), ('people', '1881'), ('people', '1881'), ('people', '1881'), ('citizen', '1881'), ('people', '1881'), ('people', '1881'), ('people', '1881'), ('citizen', '1881'), ('citizen', '1881'), ('citizen', '1881'), ('citizen', '1881'), ('people', '1881'), ('people', '1881'), ('people', '1881'), ('people', '1881'), ('people', '1881'), ('america', '1881'), ('america', '1881'), ('people', '1881'), ('citizen', '1881'), ('people', '1881'), ('people', '1881'), ('citizen', '1881'), ('people', '1881'), ('people', '1881'), ('citizen', '1885'), ('people', '1885'), ('citizen', '1885'), ('people', '1885'), ('people', '1885'), ('people', '1885'), ('citizen', '1885'), ('citizen', '1885'), ('people', '1885'), ('people', '1885'), ('people', '1885'), ('citizen', '1885'), ('citizen', '1885'), ('people', '1885'), ('people', '1885'), ('citizen', '1885'), ('people', '1885'), ('america', '1885'), ('people', '1885'), ('people', '1885'), ('citizen', '1885'), ('people', '1885'), ('people', '1885'), ('people', '1885'), ('america', '1885'), ('people', '1885'), ('citizen', '1885'), ('america', '1885'), ('citizen', '1885'), ('people', '1885'), ('citizen', '1885'), ('america', '1885'), ('citizen', '1885'), ('citizen', '1885'), ('people', '1885'), ('citizen', '1889'), ('people', '1889'), ('people', '1889'), ('people', '1889'), ('people', '1889'), ('people', '1889'), ('people', '1889'), ('citizen', '1889'), ('people', '1889'), ('people', '1889'), ('people', '1889'), ('people', '1889'), ('people', '1889'), ('people', '1889'), ('people', '1889'), ('america', '1889'), ('people', '1889'), ('people', '1889'), ('people', '1889'), ('people', '1889'), ('people', '1889'), ('people', '1889'), ('citizen', '1889'), ('citizen', '1889'), ('citizen', '1889'), ('citizen', '1889'), ('citizen', '1889'), ('america', '1889'), ('citizen', '1889'), ('citizen', '1889'), ('america', '1889'), ('people', '1889'), ('america', '1889'), ('america', '1889'), ('citizen', '1889'), ('citizen', '1889'), ('people', '1889'), ('america', '1889'), ('people', '1889'), ('people', '1889'), ('people', '1889'), ('citizen', '1889'), ('people', '1889'), ('people', '1889'), ('people', '1889'), ('people', '1889'), ('people', '1889'), ('citizen', '1893'), ('people', '1893'), ('america', '1893'), ('citizen', '1893'), ('people', '1893'), ('people', '1893'), ('people', '1893'), ('people', '1893'), ('people', '1893'), ('america', '1893'), ('america', '1893'), ('citizen', '1893'), ('people', '1893'), ('people', '1893'), ('citizen', '1893'), ('people', '1893'), ('america', '1893'), ('people', '1893'), ('citizen', '1893'), ('people', '1893'), ('people', '1893'), ('people', '1893'), ('people', '1893'), ('america', '1893'), ('citizen', '1893'), ('citizen', '1893'), ('citizen', '1893'), ('america', '1893'), ('citizen', '1893'), ('people', '1893'), ('people', '1893'), ('people', '1893'), ('citizen', '1893'), ('america', '1893'), ('america', '1893'), ('people', '1893'), ('people', '1893'), ('people', '1893'), ('people', '1893'), ('america', '1893'), ('people', '1893'), ('citizen', '1897'), ('people', '1897'), ('america', '1897'), ('people', '1897'), ('citizen', '1897'), ('people', '1897'), ('people', '1897'), ('america', '1897'), ('america', '1897'), ('people', '1897'), ('people', '1897'), ('people', '1897'), ('people', '1897'), ('people', '1897'), ('america', '1897'), ('people', '1897'), ('america', '1897'), ('people', '1897'), ('citizen', '1897'), ('citizen', '1897'), ('people', '1897'), ('citizen', '1897'), ('people', '1897'), ('citizen', '1897'), ('citizen', '1897'), ('citizen', '1897'), ('people', '1897'), ('america', '1897'), ('america', '1897'), ('america', '1897'), ('people', '1897'), ('america', '1897'), ('citizen', '1897'), ('people', '1897'), ('people', '1897'), ('people', '1897'), ('people', '1897'), ('people', '1897'), ('citizen', '1897'), ('people', '1897'), ('people', '1897'), ('people', '1897'), ('people', '1897'), ('people', '1897'), ('citizen', '1901'), ('america', '1901'), ('people', '1901'), ('america', '1901'), ('people', '1901'), ('america', '1901'), ('people', '1901'), ('people', '1901'), ('america', '1901'), ('people', '1901'), ('citizen', '1901'), ('america', '1901'), ('people', '1901'), ('people', '1901'), ('america', '1901'), ('people', '1901'), ('people', '1901'), ('people', '1901'), ('people', '1901'), ('people', '1901'), ('america', '1901'), ('citizen', '1905'), ('people', '1905'), ('people', '1905'), ('people', '1905'), ('people', '1905'), ('people', '1905'), ('people', '1905'), ('citizen', '1909'), ('america', '1909'), ('people', '1909'), ('people', '1909'), ('america', '1909'), ('america', '1909'), ('citizen', '1909'), ('citizen', '1909'), ('people', '1909'), ('citizen', '1909'), ('america', '1909'), ('america', '1909'), ('america', '1909'), ('america', '1909'), ('america', '1909'), ('people', '1909'), ('citizen', '1909'), ('america', '1909'), ('people', '1909'), ('america', '1909'), ('america', '1909'), ('people', '1909'), ('america', '1909'), ('people', '1909'), ('citizen', '1909'), ('people', '1913'), ('people', '1913'), ('citizen', '1917'), ('people', '1917'), ('people', '1917'), ('people', '1917'), ('people', '1917'), ('citizen', '1917'), ('america', '1917'), ('america', '1917'), ('people', '1917'), ('people', '1917'), ('citizen', '1917'), ('people', '1917'), ('people', '1917'), ('america', '1917'), ('america', '1917'), ('america', '1921'), ('america', '1921'), ('america', '1921'), ('america', '1921'), ('america', '1921'), ('people', '1921'), ('people', '1921'), ('america', '1921'), ('america', '1921'), ('america', '1921'), ('people', '1921'), ('america', '1921'), ('people', '1921'), ('america', '1921'), ('people', '1921'), ('america', '1921'), ('people', '1921'), ('america', '1921'), ('citizen', '1921'), ('people', '1921'), ('people', '1921'), ('people', '1921'), ('america', '1921'), ('people', '1921'), ('citizen', '1921'), ('america', '1921'), ('america', '1921'), ('citizen', '1921'), ('citizen', '1921'), ('people', '1921'), ('america', '1921'), ('america', '1921'), ('america', '1921'), ('people', '1921'), ('america', '1921'), ('america', '1921'), ('america', '1921'), ('america', '1921'), ('citizen', '1921'), ('america', '1921'), ('citizen', '1921'), ('america', '1921'), ('america', '1925'), ('america', '1925'), ('people', '1925'), ('america', '1925'), ('america', '1925'), ('america', '1925'), ('people', '1925'), ('people', '1925'), ('citizen', '1925'), ('america', '1925'), ('america', '1925'), ('citizen', '1925'), ('people', '1925'), ('america', '1925'), ('people', '1925'), ('people', '1925'), ('people', '1925'), ('people', '1925'), ('people', '1925'), ('people', '1925'), ('people', '1925'), ('people', '1925'), ('people', '1925'), ('people', '1925'), ('people', '1925'), ('citizen', '1925'), ('citizen', '1925'), ('people', '1925'), ('america', '1925'), ('citizen', '1925'), ('america', '1925'), ('america', '1925'), ('america', '1929'), ('citizen', '1929'), ('people', '1929'), ('america', '1929'), ('people', '1929'), ('people', '1929'), ('america', '1929'), ('people', '1929'), ('citizen', '1929'), ('citizen', '1929'), ('citizen', '1929'), ('citizen', '1929'), ('citizen', '1929'), ('citizen', '1929'), ('citizen', '1929'), ('citizen', '1929'), ('citizen', '1929'), ('people', '1929'), ('people', '1929'), ('people', '1929'), ('people', '1929'), ('citizen', '1929'), ('america', '1929'), ('people', '1929'), ('people', '1929'), ('america', '1929'), ('people', '1929'), ('people', '1929'), ('america', '1929'), ('america', '1929'), ('america', '1929'), ('america', '1929'), ('people', '1929'), ('america', '1929'), ('america', '1929'), ('people', '1929'), ('people', '1929'), ('citizen', '1929'), ('people', '1929'), ('america', '1929'), ('people', '1929'), ('people', '1929'), ('america', '1933'), ('people', '1933'), ('citizen', '1933'), ('people', '1933'), ('people', '1933'), ('people', '1933'), ('people', '1933'), ('america', '1933'), ('people', '1933'), ('people', '1933'), ('people', '1933'), ('people', '1937'), ('people', '1937'), ('america', '1937'), ('america', '1937'), ('people', '1937'), ('people', '1937'), ('people', '1937'), ('america', '1937'), ('people', '1937'), ('citizen', '1937'), ('america', '1937'), ('citizen', '1937'), ('people', '1937'), ('people', '1937'), ('people', '1937'), ('people', '1937'), ('america', '1937'), ('people', '1937'), ('people', '1941'), ('people', '1941'), ('people', '1941'), ('people', '1941'), ('america', '1941'), ('people', '1941'), ('america', '1941'), ('america', '1941'), ('people', '1941'), ('people', '1941'), ('america', '1941'), ('america', '1941'), ('people', '1941'), ('citizen', '1941'), ('america', '1941'), ('america', '1941'), ('america', '1941'), ('america', '1941'), ('people', '1941'), ('america', '1941'), ('america', '1941'), ('america', '1941'), ('america', '1945'), ('america', '1945'), ('citizen', '1945'), ('people', '1945'), ('people', '1945'), ('citizen', '1949'), ('america', '1949'), ('people', '1949'), ('people', '1949'), ('people', '1949'), ('america', '1949'), ('people', '1949'), ('america', '1949'), ('people', '1949'), ('people', '1949'), ('people', '1949'), ('people', '1949'), ('people', '1949'), ('people', '1949'), ('people', '1949'), ('people', '1949'), ('people', '1949'), ('people', '1949'), ('people', '1949'), ('people', '1949'), ('people', '1949'), ('people', '1949'), ('people', '1949'), ('people', '1949'), ('people', '1949'), ('america', '1949'), ('people', '1953'), ('citizen', '1953'), ('people', '1953'), ('citizen', '1953'), ('citizen', '1953'), ('people', '1953'), ('people', '1953'), ('america', '1953'), ('people', '1953'), ('america', '1953'), ('people', '1953'), ('people', '1953'), ('people', '1953'), ('america', '1953'), ('america', '1953'), ('citizen', '1953'), ('citizen', '1953'), ('people', '1953'), ('people', '1953'), ('people', '1953'), ('people', '1953'), ('people', '1953'), ('people', '1953'), ('people', '1953'), ('people', '1953'), ('people', '1953'), ('people', '1953'), ('citizen', '1953'), ('citizen', '1953'), ('america', '1953'), ('america', '1953'), ('people', '1957'), ('people', '1957'), ('people', '1957'), ('america', '1957'), ('people', '1957'), ('america', '1957'), ('people', '1957'), ('people', '1957'), ('people', '1957'), ('people', '1957'), ('people', '1957'), ('america', '1957'), ('people', '1957'), ('america', '1957'), ('america', '1957'), ('america', '1957'), ('america', '1957'), ('people', '1957'), ('people', '1957'), ('people', '1957'), ('people', '1957'), ('people', '1957'), ('citizen', '1961'), ('america', '1961'), ('people', '1961'), ('america', '1961'), ('citizen', '1961'), ('america', '1961'), ('america', '1961'), ('people', '1961'), ('america', '1961'), ('citizen', '1961'), ('america', '1961'), ('citizen', '1961'), ('america', '1961'), ('citizen', '1961'), ('people', '1965'), ('people', '1965'), ('citizen', '1965'), ('citizen', '1965'), ('people', '1965'), ('america', '1965'), ('people', '1965'), ('people', '1965'), ('america', '1965'), ('citizen', '1965'), ('america', '1965'), ('america', '1965'), ('citizen', '1965'), ('america', '1965'), ('people', '1965'), ('america', '1965'), ('america', '1965'), ('america', '1965'), ('america', '1965'), ('america', '1965'), ('people', '1965'), ('people', '1965'), ('people', '1965'), ('america', '1969'), ('citizen', '1969'), ('people', '1969'), ('america', '1969'), ('people', '1969'), ('america', '1969'), ('america', '1969'), ('people', '1969'), ('america', '1969'), ('people', '1969'), ('america', '1969'), ('people', '1969'), ('people', '1969'), ('america', '1969'), ('people', '1969'), ('people', '1969'), ('people', '1969'), ('people', '1969'), ('people', '1969'), ('people', '1969'), ('people', '1969'), ('america', '1969'), ('america', '1969'), ('people', '1969'), ('people', '1969'), ('america', '1969'), ('citizen', '1973'), ('america', '1973'), ('america', '1973'), ('america', '1973'), ('america', '1973'), ('america', '1973'), ('america', '1973'), ('america', '1973'), ('america', '1973'), ('people', '1973'), ('america', '1973'), ('people', '1973'), ('america', '1973'), ('america', '1973'), ('people', '1973'), ('people', '1973'), ('people', '1973'), ('america', '1973'), ('people', '1973'), ('america', '1973'), ('america', '1973'), ('america', '1973'), ('america', '1973'), ('america', '1973'), ('america', '1973'), ('america', '1973'), ('america', '1973'), ('america', '1973'), ('america', '1973'), ('america', '1973'), ('people', '1977'), ('america', '1977'), ('america', '1977'), ('people', '1977'), ('america', '1977'), ('people', '1977'), ('people', '1977'), ('people', '1977'), ('people', '1977'), ('america', '1977'), ('people', '1977'), ('america', '1977'), ('citizen', '1981'), ('citizen', '1981'), ('people', '1981'), ('people', '1981'), ('people', '1981'), ('america', '1981'), ('people', '1981'), ('people', '1981'), ('america', '1981'), ('america', '1981'), ('america', '1981'), ('america', '1981'), ('america', '1981'), ('america', '1981'), ('people', '1981'), ('people', '1981'), ('people', '1981'), ('citizen', '1981'), ('america', '1981'), ('america', '1981'), ('america', '1981'), ('america', '1981'), ('people', '1981'), ('america', '1981'), ('america', '1981'), ('america', '1981'), ('america', '1981'), ('america', '1981'), ('citizen', '1985'), ('people', '1985'), ('america', '1985'), ('america', '1985'), ('people', '1985'), ('people', '1985'), ('people', '1985'), ('people', '1985'), ('people', '1985'), ('america', '1985'), ('citizen', '1985'), ('america', '1985'), ('america', '1985'), ('citizen', '1985'), ('america', '1985'), ('america', '1985'), ('america', '1985'), ('people', '1985'), ('people', '1985'), ('america', '1985'), ('america', '1985'), ('people', '1985'), ('america', '1985'), ('america', '1985'), ('citizen', '1985'), ('citizen', '1985'), ('people', '1985'), ('america', '1985'), ('people', '1985'), ('america', '1985'), ('citizen', '1985'), ('people', '1985'), ('america', '1985'), ('america', '1985'), ('people', '1985'), ('america', '1985'), ('people', '1985'), ('people', '1985'), ('people', '1985'), ('america', '1985'), ('america', '1985'), ('america', '1985'), ('people', '1985'), ('america', '1985'), ('citizen', '1989'), ('america', '1989'), ('people', '1989'), ('people', '1989'), ('people', '1989'), ('america', '1989'), ('citizen', '1989'), ('america', '1989'), ('people', '1989'), ('america', '1989'), ('people', '1989'), ('people', '1989'), ('america', '1989'), ('america', '1989'), ('people', '1989'), ('america', '1989'), ('america', '1989'), ('america', '1989'), ('america', '1989'), ('citizen', '1989'), ('america', '1989'), ('citizen', '1993'), ('america', '1993'), ('america', '1993'), ('america', '1993'), ('america', '1993'), ('america', '1993'), ('america', '1993'), ('america', '1993'), ('america', '1993'), ('people', '1993'), ('america', '1993'), ('people', '1993'), ('america', '1993'), ('people', '1993'), ('citizen', '1993'), ('america', '1993'), ('people', '1993'), ('people', '1993'), ('america', '1993'), ('america', '1993'), ('america', '1993'), ('america', '1993'), ('america', '1993'), ('people', '1993'), ('america', '1993'), ('america', '1993'), ('people', '1993'), ('people', '1993'), ('america', '1993'), ('people', '1993'), ('people', '1993'), ('america', '1993'), ('people', '1993'), ('america', '1993'), ('america', '1993'), ('america', '1993'), ('america', '1993'), ('america', '1993'), ('america', '1993'), ('people', '1993'), ('america', '1993'), ('america', '1993'), ('america', '1993'), ('america', '1993'), ('america', '1993'), ('america', '1993'), ('america', '1993'), ('citizen', '1997'), ('america', '1997'), ('america', '1997'), ('america', '1997'), ('america', '1997'), ('america', '1997'), ('citizen', '1997'), ('people', '1997'), ('people', '1997'), ('america', '1997'), ('citizen', '1997'), ('america', '1997'), ('people', '1997'), ('america', '1997'), ('america', '1997'), ('citizen', '1997'), ('citizen', '1997'), ('people', '1997'), ('america', '1997'), ('people', '1997'), ('america', '1997'), ('people', '1997'), ('people', '1997'), ('people', '1997'), ('america', '1997'), ('america', '1997'), ('america', '1997'), ('america', '1997'), ('america', '1997'), ('citizen', '1997'), ('people', '1997'), ('america', '1997'), ('citizen', '1997'), ('america', '1997'), ('citizen', '1997'), ('america', '1997'), ('citizen', '1997'), ('america', '1997'), ('america', '1997'), ('america', '1997'), ('people', '1997'), ('america', '1997'), ('america', '1997'), ('citizen', '1997'), ('america', '1997'), ('america', '1997'), ('america', '1997'), ('america', '1997'), ('america', '1997'), ('people', '1997'), ('america', '1997'), ('america', '1997'), ('citizen', '2001'), ('america', '2001'), ('america', '2001'), ('people', '2001'), ('america', '2001'), ('america', '2001'), ('america', '2001'), ('citizen', '2001'), ('america', '2001'), ('citizen', '2001'), ('america', '2001'), ('citizen', '2001'), ('citizen', '2001'), ('america', '2001'), ('america', '2001'), ('america', '2001'), ('america', '2001'), ('america', '2001'), ('america', '2001'), ('america', '2001'), ('america', '2001'), ('america', '2001'), ('america', '2001'), ('citizen', '2001'), ('america', '2001'), ('citizen', '2001'), ('citizen', '2001'), ('citizen', '2001'), ('citizen', '2001'), ('america', '2001'), ('citizen', '2001'), ('america', '2001'), ('citizen', '2005'), ('america', '2005'), ('america', '2005'), ('citizen', '2005'), ('america', '2005'), ('america', '2005'), ('america', '2005'), ('people', '2005'), ('america', '2005'), ('america', '2005'), ('people', '2005'), ('america', '2005'), ('america', '2005'), ('people', '2005'), ('america', '2005'), ('people', '2005'), ('america', '2005'), ('people', '2005'), ('america', '2005'), ('citizen', '2005'), ('america', '2005'), ('america', '2005'), ('america', '2005'), ('citizen', '2005'), ('america', '2005'), ('america', '2005'), ('america', '2005'), ('citizen', '2005'), ('america', '2005'), ('people', '2005'), ('citizen', '2005'), ('america', '2005'), ('america', '2005'), ('people', '2005'), ('america', '2005'), ('america', '2005'), ('america', '2005'), ('america', '2005'), ('america', '2005'), ('america', '2005'), ('america', '2005'), ('citizen', '2005'), ('america', '2005'), ('america', '2005'), ('citizen', '2009'), ('america', '2009'), ('america', '2009'), ('people', '2009'), ('america', '2009'), ('america', '2009'), ('america', '2009'), ('america', '2009'), ('america', '2009'), ('people', '2009'), ('people', '2009'), ('america', '2009'), ('people', '2009'), ('america', '2009'), ('people', '2009'), ('people', '2009'), ('america', '2009'), ('america', '2009'), ('people', '2009'), ('america', '2009'), ('citizen', '2009'), ('america', '2009'), ('people', '2009'), ('america', '2009'), ('america', '2009'), ('citizen', '2013'), ('america', '2013'), ('people', '2013'), ('people', '2013'), ('people', '2013'), ('america', '2013'), ('people', '2013'), ('america', '2013'), ('people', '2013'), ('america', '2013'), ('america', '2013'), ('america', '2013'), ('people', '2013'), ('america', '2013'), ('america', '2013'), ('america', '2013'), ('citizen', '2013'), ('america', '2013'), ('people', '2013'), ('citizen', '2013'), ('america', '2013'), ('people', '2013'), ('america', '2013'), ('america', '2013'), ('people', '2013'), ('citizen', '2013'), ('people', '2013'), ('america', '2013'), ('america', '2013'), ('people', '2013'), ('citizen', '2013'), ('america', '2013'), ('america', '2013'), ('america', '2013'), ('citizen', '2013'), ('citizen', '2013'), ('citizen', '2013'), ('america', '2013'), ('america', '2017'), ('people', '2017'), ('citizen', '2017'), ('america', '2017'), ('people', '2017'), ('america', '2017'), ('people', '2017'), ('people', '2017'), ('people', '2017'), ('citizen', '2017'), ('america', '2017'), ('america', '2017'), ('people', '2017'), ('people', '2017'), ('citizen', '2017'), ('america', '2017'), ('people', '2017'), ('citizen', '2017'), ('america', '2017'), ('america', '2017'), ('america', '2017'), ('america', '2017'), ('america', '2017'), ('america', '2017'), ('america', '2017'), ('america', '2017'), ('america', '2017'), ('america', '2017'), ('people', '2017'), ('america', '2017'), ('america', '2017'), ('america', '2017'), ('america', '2017'), ('america', '2017'), ('people', '2017'), ('america', '2017'), ('america', '2017'), ('america', '2017'), ('america', '2017'), ('america', '2017'), ('america', '2017'), ('america', '2017'), ('america', '2017'), ('america', '2017'), ('america', '2017'), ('america', '2017'), ('america', '2017'), ('america', '2017'), ('america', '2017'), ('america', '2021'), ('america', '2021'), ('america', '2021'), ('america', '2021'), ('people', '2021'), ('people', '2021'), ('people', '2021'), ('america', '2021'), ('america', '2021'), ('people', '2021'), ('people', '2021'), ('people', '2021'), ('america', '2021'), ('america', '2021'), ('america', '2021'), ('people', '2021'), ('america', '2021'), ('people', '2021'), ('america', '2021'), ('america', '2021'), ('america', '2021'), ('america', '2021'), ('america', '2021'), ('america', '2021'), ('america', '2021'), ('america', '2021'), ('people', '2021'), ('america', '2021'), ('america', '2021'), ('america', '2021'), ('people', '2021'), ('america', '2021'), ('america', '2021'), ('citizen', '2021'), ('america', '2021'), ('america', '2021'), ('america', '2021'), ('america', '2021'), ('america', '2021'), ('people', '2021'), ('america', '2021'), ('america', '2021'), ('america', '2021'), ('america', '2021'), ('america', '2021'), ('america', '2021'), ('america', '2021'), ('america', '2021'), ('america', '2021'), ('america', '2021'), ('america', '2021'), ('america', '2021')]\n"
     ]
    }
   ],
   "source": [
    "from nltk.corpus import inaugural\n",
    "\n",
    "#print([filename[:4] for filename in inaugural.fileids()])\n",
    "focus = ['america', 'citizen','people']\n",
    "vocabs = [(target, filename[:4]) \\\n",
    "          for filename in inaugural.fileids() \\\n",
    "             for word in inaugural.words(filename) \\\n",
    "                 for target in focus \\\n",
    "                    if word.lower().startswith(target)]\n",
    "\n",
    "print(vocabs)"
   ]
  },
  {
   "cell_type": "code",
   "execution_count": null,
   "metadata": {
    "colab": {
     "base_uri": "https://localhost:8080/",
     "height": 401
    },
    "executionInfo": {
     "elapsed": 1222,
     "status": "ok",
     "timestamp": 1639479864967,
     "user": {
      "displayName": "Tasanawan Soonklang",
      "photoUrl": "https://lh3.googleusercontent.com/a-/AOh14GhBB34ul0Gnc90lVKcRi2775F8xagUqJeiNKe5B=s64",
      "userId": "12824326183520981875"
     },
     "user_tz": -420
    },
    "id": "CEOvqILJ1pIY",
    "outputId": "59d2227e-f6b4-4cac-f33e-3ea858d47be0"
   },
   "outputs": [
    {
     "name": "stdout",
     "output_type": "stream",
     "text": [
      "['citizen', 'people', 'america']\n"
     ]
    },
    {
     "data": {
      "image/png": "[encoded data removed]",
      "text/plain": [
       "<Figure size 432x288 with 1 Axes>"
      ]
     },
     "metadata": {
      "needs_background": "light"
     },
     "output_type": "display_data"
    },
    {
     "name": "stdout",
     "output_type": "stream",
     "text": [
      "        1789 1793 1797 1801 1805 1809 1813 1817 1821 1825 1829 1833 1837 1841 1845 1849 1853 1857 1861 1865 1869 1873 1877 1881 1885 1889 1893 1897 1901 1905 1909 1913 1917 1921 1925 1929 1933 1937 1941 1945 1949 1953 1957 1961 1965 1969 1973 1977 1981 1985 1989 1993 1997 2001 2005 2009 2013 2017 2021 \n",
      "america    2    1    8    0    1    0    1    1    2    0    0    2    2    7    0    2    2    3    2    1    0    0    1    2    4    6    9    9    7    0   12    0    4   24   11   12    2    5   12    2    4    6    7    7   10   10   23    5   16   21   11   33   31   20   30   15   19   35   40 \n",
      "citizen    5    1    6    7   10    1    4   14   15    3    2    3    7   38   11    2    4    7    7    0    5    3    9    9   13   12   10   10    2    1    6    0    3    6    5   12    1    2    1    1    1    7    0    5    4    1    1    0    3    6    3    2   10   11    7    2    8    4    1 \n",
      " people    4    1   20    2    0    1    3   15   11    7    4    9   20   38   16    3    6   13   20    0    2    7    9   21   18   29   22   25   12    6    7    2    8   12   16   18    8   11    9    2   21   18   15    2    9   15    6    7    9   17    7   12   11    1    7    8   11   10   11 \n"
     ]
    }
   ],
   "source": [
    "import nltk\n",
    "cfd_inaugural = nltk.ConditionalFreqDist(vocabs)\n",
    "print(cfd_inaugural.conditions())\n",
    "#years = [filename[:4] for filename in inaugural.fileids()]\n",
    "#for year in years:\n",
    "#    print(year, cfd_inaugural['america'][year])\n",
    "cfd_inaugural.plot()\n",
    "cfd_inaugural.tabulate()"
   ]
  },
  {
   "cell_type": "code",
   "execution_count": null,
   "metadata": {
    "colab": {
     "base_uri": "https://localhost:8080/",
     "height": 401
    },
    "executionInfo": {
     "elapsed": 1171,
     "status": "ok",
     "timestamp": 1639479703422,
     "user": {
      "displayName": "Tasanawan Soonklang",
      "photoUrl": "https://lh3.googleusercontent.com/a-/AOh14GhBB34ul0Gnc90lVKcRi2775F8xagUqJeiNKe5B=s64",
      "userId": "12824326183520981875"
     },
     "user_tz": -420
    },
    "id": "mQadXCTj1pIZ",
    "outputId": "06262c7e-c90e-430e-a753-bd45e3c2cf49"
   },
   "outputs": [
    {
     "name": "stdout",
     "output_type": "stream",
     "text": [
      "['citizen', 'america']\n"
     ]
    },
    {
     "data": {
      "image/png": "[encoded data removed]",
      "text/plain": [
       "<Figure size 432x288 with 1 Axes>"
      ]
     },
     "metadata": {
      "needs_background": "light"
     },
     "output_type": "display_data"
    },
    {
     "name": "stdout",
     "output_type": "stream",
     "text": [
      "None\n",
      "2021 2017 1993 1997 2005 1921 1973 1985 2001 2013 1981 2009 1909 1929 1941 1925 1989 1965 1969 1893 1897 1797 1841 1901 1957 1961 1889 1953 1937 1977 1885 1917 1949 1857 1789 1821 1833 1837 1849 1853 1861 1881 1933 1945 1793 1805 1813 1817 1865 1877 \n",
      "  40   35   33   31   30   24   23   21   20   19   16   15   12   12   12   11   11   10   10    9    9    8    7    7    7    7    6    6    5    5    4    4    4    3    2    2    2    2    2    2    2    2    2    2    1    1    1    1    1    1 \n",
      "None\n"
     ]
    }
   ],
   "source": [
    "print(cfd_inaugural.conditions())\n",
    "print(cfd_inaugural['citizen'].plot())\n",
    "print(cfd_inaugural['america'].tabulate())\n"
   ]
  },
  {
   "cell_type": "markdown",
   "metadata": {
    "id": "LTlu4qcZ1pIZ"
   },
   "source": [
    "## 2.2 การเข้าถึงและใช้งานคลังคำ\n",
    "\n",
    "คลังคำ (lexicon/lexical resource) เป็นการรวบรวมศัพท์ที่อาจเป็นคำหรือวลี และข้อมูลที่เกี่ยวข้องกับศัพท์นั้นเข้าไว้ด้วย ตัวอย่างข้อมูลที่เกี่ยวข้องกับศัพท์ เช่น หน้าที่ของคำ ความหมายของคำ \n",
    "\n",
    "NLTK มีคลังคำที่จำเป็นให้ใช้งาน ในหัวข้อนี้จะแสดงตัวอย่างการเข้าถึงและใช้งานคลังคำบางส่วน ดังต่อไปนี้\n",
    "-  Wordlist\n",
    "-  Stopwords\n",
    "-  CMUDict\n",
    "-  Names\n",
    "-  WordNet"
   ]
  },
  {
   "cell_type": "code",
   "execution_count": null,
   "metadata": {
    "colab": {
     "base_uri": "https://localhost:8080/"
    },
    "executionInfo": {
     "elapsed": 531,
     "status": "ok",
     "timestamp": 1639480546830,
     "user": {
      "displayName": "Tasanawan Soonklang",
      "photoUrl": "https://lh3.googleusercontent.com/a-/AOh14GhBB34ul0Gnc90lVKcRi2775F8xagUqJeiNKe5B=s64",
      "userId": "12824326183520981875"
     },
     "user_tz": -420
    },
    "id": "HRSD4ggmntV4",
    "outputId": "53ffc511-cd90-4092-9bd1-0dc6553f8a31"
   },
   "outputs": [
    {
     "name": "stdout",
     "output_type": "stream",
     "text": [
      "236736\n",
      "['a', 'a', 'aa', 'aal', 'aalii', 'aam', 'aani', 'aardvark', 'aardwolf', 'aaron', 'aaronic', 'aaronical', 'aaronite', 'aaronitic', 'aaru', 'ab', 'aba', 'ababdeh', 'ababua', 'abac', 'abaca', 'abacate', 'abacay', 'abacinate', 'abacination', 'abaciscus', 'abacist', 'aback', 'abactinal', 'abactinally', 'abaction', 'abactor', 'abaculus', 'abacus', 'abadite', 'abaff', 'abaft', 'abaisance', 'abaiser', 'abaissed', 'abalienate', 'abalienation', 'abalone', 'abama', 'abampere', 'abandon', 'abandonable', 'abandoned', 'abandonedly', 'abandonee', 'abandoner', 'abandonment', 'abanic', 'abantes', 'abaptiston', 'abarambo', 'abaris', 'abarthrosis', 'abarticular', 'abarticulation', 'abas', 'abase', 'abased', 'abasedly', 'abasedness', 'abasement', 'abaser', 'abasgi', 'abash', 'abashed', 'abashedly', 'abashedness', 'abashless', 'abashlessly', 'abashment', 'abasia', 'abasic', 'abask', 'abassin', 'abastardize', 'abatable', 'abate', 'abatement', 'abater', 'abatis', 'abatised', 'abaton', 'abator', 'abattoir', 'abatua', 'abature', 'abave', 'abaxial', 'abaxile', 'abaze', 'abb', 'abba', 'abbacomes', 'abbacy', 'abbadide', 'abbas', 'abbasi', 'abbassi', 'abbasside', 'abbatial', 'abbatical', 'abbess', 'abbey', 'abbeystede', 'abbie', 'abbot', 'abbotcy', 'abbotnullius', 'abbotship', 'abbreviate', 'abbreviately', 'abbreviation', 'abbreviator', 'abbreviatory', 'abbreviature', 'abby', 'abcoulomb', 'abdal', 'abdat', 'abderian', 'abderite', 'abdest', 'abdicable', 'abdicant', 'abdicate', 'abdication', 'abdicative', 'abdicator', 'abdiel', 'abditive', 'abditory', 'abdomen', 'abdominal', 'abdominales', 'abdominalian', 'abdominally', 'abdominoanterior', 'abdominocardiac', 'abdominocentesis', 'abdominocystic', 'abdominogenital', 'abdominohysterectomy', 'abdominohysterotomy', 'abdominoposterior', 'abdominoscope']\n"
     ]
    }
   ],
   "source": [
    "from nltk.corpus import *\n",
    "print(len(words.words()))\n",
    "wordlist = [w.lower() for w in words.words()]\n",
    "print(wordlist[:150])"
   ]
  },
  {
   "cell_type": "code",
   "execution_count": null,
   "metadata": {
    "colab": {
     "base_uri": "https://localhost:8080/",
     "height": 218
    },
    "executionInfo": {
     "elapsed": 337,
     "status": "error",
     "timestamp": 1639480702882,
     "user": {
      "displayName": "Tasanawan Soonklang",
      "photoUrl": "https://lh3.googleusercontent.com/a-/AOh14GhBB34ul0Gnc90lVKcRi2775F8xagUqJeiNKe5B=s64",
      "userId": "12824326183520981875"
     },
     "user_tz": -420
    },
    "id": "ChXKm5ocoSyn",
    "outputId": "9279e6b6-c1fa-40ab-b8a2-accf440ea408"
   },
   "outputs": [
    {
     "ename": "AttributeError",
     "evalue": "ignored",
     "output_type": "error",
     "traceback": [
      "\u001b[0;31m---------------------------------------------------------------------------\u001b[0m",
      "\u001b[0;31mAttributeError\u001b[0m                            Traceback (most recent call last)",
      "\u001b[0;32m<ipython-input-85-4c80d0d77b51>\u001b[0m in \u001b[0;36m<module>\u001b[0;34m()\u001b[0m\n\u001b[0;32m----> 1\u001b[0;31m \u001b[0minaugural\u001b[0m \u001b[0;34m=\u001b[0m \u001b[0minaugural\u001b[0m\u001b[0;34m.\u001b[0m\u001b[0mwords\u001b[0m\u001b[0;34m(\u001b[0m\u001b[0;34m)\u001b[0m\u001b[0;34m\u001b[0m\u001b[0;34m\u001b[0m\u001b[0m\n\u001b[0m\u001b[1;32m      2\u001b[0m \u001b[0;32mfor\u001b[0m \u001b[0mword\u001b[0m \u001b[0;32min\u001b[0m \u001b[0minaugural\u001b[0m\u001b[0;34m:\u001b[0m\u001b[0;34m\u001b[0m\u001b[0;34m\u001b[0m\u001b[0m\n\u001b[1;32m      3\u001b[0m   \u001b[0;32mif\u001b[0m \u001b[0mword\u001b[0m\u001b[0;34m.\u001b[0m\u001b[0mlower\u001b[0m\u001b[0;34m(\u001b[0m\u001b[0;34m)\u001b[0m \u001b[0;32mnot\u001b[0m \u001b[0;32min\u001b[0m \u001b[0mwordlist\u001b[0m\u001b[0;34m:\u001b[0m\u001b[0;34m\u001b[0m\u001b[0;34m\u001b[0m\u001b[0m\n\u001b[1;32m      4\u001b[0m     \u001b[0mprint\u001b[0m\u001b[0;34m(\u001b[0m\u001b[0mword\u001b[0m\u001b[0;34m)\u001b[0m\u001b[0;34m\u001b[0m\u001b[0;34m\u001b[0m\u001b[0m\n",
      "\u001b[0;31mAttributeError\u001b[0m: 'ConcatenatedCorpusView' object has no attribute 'words'"
     ]
    }
   ],
   "source": [
    "inaugural = inaugural.words()\n",
    "for word in inaugural:\n",
    "  if word.lower() not in wordlist:\n",
    "    print(word)"
   ]
  },
  {
   "cell_type": "code",
   "execution_count": null,
   "metadata": {
    "colab": {
     "base_uri": "https://localhost:8080/"
    },
    "executionInfo": {
     "elapsed": 348,
     "status": "ok",
     "timestamp": 1639480679996,
     "user": {
      "displayName": "Tasanawan Soonklang",
      "photoUrl": "https://lh3.googleusercontent.com/a-/AOh14GhBB34ul0Gnc90lVKcRi2775F8xagUqJeiNKe5B=s64",
      "userId": "12824326183520981875"
     },
     "user_tz": -420
    },
    "id": "b3n4hkGX1pIZ",
    "outputId": "24d09488-4c26-4659-defd-a61b763927d6"
   },
   "outputs": [
    {
     "name": "stdout",
     "output_type": "stream",
     "text": [
      "จำนวน token ทั้งหมดใน inaugural corpus = 138299 คำ\n",
      "ตัวอย่าง token\n",
      "['among', 'and', 'and', 'anxieties', 'by', 'citizens', 'could', 'day', 'event', 'fellow', 'filled', 'greater', 'hand', 'have', 'house', 'incident', 'life', 'me', 'month', 'no', 'notification', 'of', 'of', 'of', 'of', 'of', 'on', 'on', 'one', 'order', 'present', 'received', 'representatives', 'senate', 'than', 'that', 'the', 'the', 'the', 'the', 'the', 'the', 'the', 'to', 'transmitted', 'vicissitudes', 'was', 'which', 'with', 'your'] \n",
      "\n",
      "['a', 'abandon', 'abandoned', 'abandonment', 'abate', 'abdicated', 'abeyance', 'abhorring', 'abide', 'abiding', 'abilities', 'ability', 'abject', 'able', 'ably', 'abnormal', 'abode', 'abodes', 'abolish', 'abolished', 'abolishing', 'aboriginal', 'aborigines', 'abound', 'abounding', 'abounds', 'about', 'above', 'abraham', 'abreast', 'abridging', 'abroad', 'absence', 'absent', 'absolute', 'absolutely', 'absolutism', 'absorb', 'absorbed', 'absorbing', 'absorbs', 'abstain', 'abstaining', 'abstract', 'abstractions', 'absurd', 'abundance', 'abundant', 'abundantly', 'abuse'] \n",
      "\n",
      "จำนวน word type ทั้งหมดใน inaugural corpus = 9201 คำ\n",
      "ตัวอย่าง word type\n",
      "['a', 'abandon', 'abandoned', 'abandonment', 'abate', 'abdicated', 'abeyance', 'abhorring', 'abide', 'abiding', 'abilities', 'ability', 'abject', 'able', 'ably', 'abnormal', 'abode', 'abodes', 'abolish', 'abolished', 'abolishing', 'aboriginal', 'aborigines', 'abound', 'abounding', 'abounds', 'about', 'above', 'abraham', 'abreast', 'abridging', 'abroad', 'absence', 'absent', 'absolute', 'absolutely', 'absolutism', 'absorb', 'absorbed', 'absorbing', 'absorbs', 'abstain', 'abstaining', 'abstract', 'abstractions', 'absurd', 'abundance', 'abundant', 'abundantly', 'abuse'] \n",
      "\n",
      "จำนวน word type ทั้งหมดใน inaugural corpus = 9201 คำ\n",
      "ตัวอย่าง word type\n",
      "['a', 'abandon', 'abandoned', 'abandonment', 'abate', 'abdicated', 'abeyance', 'abhorring', 'abide', 'abiding', 'abilities', 'ability', 'abject', 'able', 'ably', 'abnormal', 'abode', 'abodes', 'abolish', 'abolished', 'abolishing', 'aboriginal', 'aborigines', 'abound', 'abounding', 'abounds', 'about', 'above', 'abraham', 'abreast', 'abridging', 'abroad', 'absence', 'absent', 'absolute', 'absolutely', 'absolutism', 'absorb', 'absorbed', 'absorbing', 'absorbs', 'abstain', 'abstaining', 'abstract', 'abstractions', 'absurd', 'abundance', 'abundant', 'abundantly', 'abuse'] \n",
      "\n",
      "ตัวอย่างคำศัพท์และความถี่\n",
      "[('the', 10195), ('of', 7185), ('and', 5409), ('to', 4601), ('in', 2829), ('a', 2294), ('our', 2224), ('we', 1839), ('that', 1820), ('be', 1505), ('is', 1490), ('it', 1402), ('for', 1229), ('by', 1093), ('have', 1032), ('which', 1007), ('not', 980), ('with', 971), ('as', 971), ('will', 943), ('i', 883), ('this', 875), ('all', 844), ('are', 826), ('their', 763), ('but', 669), ('has', 633), ('government', 600), ('people', 594), ('from', 577), ('its', 573), ('or', 564), ('on', 545), ('my', 521), ('us', 502), ('been', 496), ('can', 494), ('no', 470), ('they', 464), ('so', 404), ('an', 392), ('who', 381), ('must', 374), ('upon', 371), ('at', 357), ('great', 346), ('world', 346), ('may', 343), ('those', 339), ('states', 335)]\n"
     ]
    }
   ],
   "source": [
    "#ตัวอย่างการสร้างคลังคำอย่างง่าย เช่น ตัวแปร vocab, word_freq\n",
    "token = [w.lower() for w in nltk.corpus.inaugural.words() if w.isalpha()]\n",
    "vocab = sorted(set(token))\n",
    "word_freq = nltk.FreqDist(token)\n",
    "\n",
    "print(\"จำนวน token ทั้งหมดใน inaugural corpus =\", len(token), \"คำ\")\n",
    "print(\"ตัวอย่าง token\")\n",
    "print(sorted(token[:50]),\"\\n\")\n",
    "print(sorted(vocab[:50]),\"\\n\")\n",
    "\n",
    "#ตัวอย่างคลังคำศัพท์ที่สร้างจาก inaugural corpus\n",
    "print(\"จำนวน word type ทั้งหมดใน inaugural corpus =\",len(vocab), \"คำ\")\n",
    "print(\"ตัวอย่าง word type\")\n",
    "print(vocab[:50],\"\\n\")\n",
    "\n",
    "#ตัวอย่างคลังคำศัพท์และความถี่ที่สร้างจาก inaugural corpus\n",
    "print(\"จำนวน word type ทั้งหมดใน inaugural corpus =\",len(word_freq), \"คำ\")\n",
    "print(\"ตัวอย่าง word type\")\n",
    "print(sorted([w for w in word_freq.keys()])[:50],\"\\n\")\n",
    "print(\"ตัวอย่างคำศัพท์และความถี่\")\n",
    "print([(w,f) for (w,f) in word_freq.most_common(50)])"
   ]
  },
  {
   "cell_type": "markdown",
   "metadata": {
    "id": "_tt78b2U1pIZ"
   },
   "source": [
    "<img src = \"http://www.nltk.org/images/lexicon.png\" align=right width=\"350\"  />\n",
    "\n",
    "### Lexicon terminology\n",
    "\n",
    "- lexical entry \n",
    "- lemma/headword\n",
    "- gross/sense definition\n",
    "- part of speech/lexical category\n",
    "- homonyms\n",
    "\n"
   ]
  },
  {
   "cell_type": "markdown",
   "metadata": {
    "id": "RzmMMJFl1pIZ"
   },
   "source": [
    "### Wordlist Corpora\n",
    "\n",
    "เป็นคลังคำแบบง่ายที่เก็บเฉพาะคำศัพท์ เช่น\n",
    "\n",
    "-  word corpus (nltk.corpus.words)\n",
    "-  stopwords corpus (nltk.corpus.stopwords)\n",
    "-  names corpus (nltk.corpus.names)"
   ]
  },
  {
   "cell_type": "markdown",
   "metadata": {
    "id": "FQ508nS61pIa"
   },
   "source": [
    "#### Word corpus"
   ]
  },
  {
   "cell_type": "code",
   "execution_count": null,
   "metadata": {
    "id": "vd2JOPkD1pIa",
    "outputId": "478a1810-3e6d-464f-eb92-a70e00504804",
    "scrolled": false
   },
   "outputs": [
    {
     "name": "stdout",
     "output_type": "stream",
     "text": [
      "236736\n",
      "['A', 'a', 'aa', 'aal', 'aalii', 'aam', 'Aani', 'aardvark', 'aardwolf', 'Aaron', 'Aaronic', 'Aaronical', 'Aaronite', 'Aaronitic', 'Aaru', 'Ab', 'aba', 'Ababdeh', 'Ababua', 'abac', 'abaca', 'abacate', 'abacay', 'abacinate', 'abacination', 'abaciscus', 'abacist', 'aback', 'abactinal', 'abactinally', 'abaction', 'abactor', 'abaculus', 'abacus', 'Abadite', 'abaff', 'abaft', 'abaisance', 'abaiser', 'abaissed', 'abalienate', 'abalienation', 'abalone', 'Abama', 'abampere', 'abandon', 'abandonable', 'abandoned', 'abandonedly', 'abandonee', 'abandoner', 'abandonment', 'Abanic', 'Abantes', 'abaptiston', 'Abarambo', 'Abaris', 'abarthrosis', 'abarticular', 'abarticulation', 'abas', 'abase', 'abased', 'abasedly', 'abasedness', 'abasement', 'abaser', 'Abasgi', 'abash', 'abashed', 'abashedly', 'abashedness', 'abashless', 'abashlessly', 'abashment', 'abasia', 'abasic', 'abask', 'Abassin', 'abastardize', 'abatable', 'abate', 'abatement', 'abater', 'abatis', 'abatised', 'abaton', 'abator', 'abattoir', 'Abatua', 'abature', 'abave', 'abaxial', 'abaxile', 'abaze', 'abb', 'Abba', 'abbacomes', 'abbacy', 'Abbadide']\n"
     ]
    }
   ],
   "source": [
    "from nltk.corpus import words\n",
    "print(len(words.words()))\n",
    "print(words.words()[:100])\n"
   ]
  },
  {
   "cell_type": "markdown",
   "metadata": {
    "id": "4KPFPQaE1pIa"
   },
   "source": [
    "#### Stopwords corpus"
   ]
  },
  {
   "cell_type": "code",
   "execution_count": null,
   "metadata": {
    "id": "GmhauWec1pIa",
    "outputId": "792528f7-911e-4578-e288-71f1c1b2860a"
   },
   "outputs": [
    {
     "name": "stdout",
     "output_type": "stream",
     "text": [
      "179\n",
      "['i', 'me', 'my', 'myself', 'we', 'our', 'ours', 'ourselves', 'you', \"you're\", \"you've\", \"you'll\", \"you'd\", 'your', 'yours', 'yourself', 'yourselves', 'he', 'him', 'his', 'himself', 'she', \"she's\", 'her', 'hers', 'herself', 'it', \"it's\", 'its', 'itself', 'they', 'them', 'their', 'theirs', 'themselves', 'what', 'which', 'who', 'whom', 'this', 'that', \"that'll\", 'these', 'those', 'am', 'is', 'are', 'was', 'were', 'be', 'been', 'being', 'have', 'has', 'had', 'having', 'do', 'does', 'did', 'doing', 'a', 'an', 'the', 'and', 'but', 'if', 'or', 'because', 'as', 'until', 'while', 'of', 'at', 'by', 'for', 'with', 'about', 'against', 'between', 'into', 'through', 'during', 'before', 'after', 'above', 'below', 'to', 'from', 'up', 'down', 'in', 'out', 'on', 'off', 'over', 'under', 'again', 'further', 'then', 'once', 'here', 'there', 'when', 'where', 'why', 'how', 'all', 'any', 'both', 'each', 'few', 'more', 'most', 'other', 'some', 'such', 'no', 'nor', 'not', 'only', 'own', 'same', 'so', 'than', 'too', 'very', 's', 't', 'can', 'will', 'just', 'don', \"don't\", 'should', \"should've\", 'now', 'd', 'll', 'm', 'o', 're', 've', 'y', 'ain', 'aren', \"aren't\", 'couldn', \"couldn't\", 'didn', \"didn't\", 'doesn', \"doesn't\", 'hadn', \"hadn't\", 'hasn', \"hasn't\", 'haven', \"haven't\", 'isn', \"isn't\", 'ma', 'mightn', \"mightn't\", 'mustn', \"mustn't\", 'needn', \"needn't\", 'shan', \"shan't\", 'shouldn', \"shouldn't\", 'wasn', \"wasn't\", 'weren', \"weren't\", 'won', \"won't\", 'wouldn', \"wouldn't\"]\n",
      "you're\n",
      "you've\n",
      "you'll\n",
      "you'd\n",
      "she's\n",
      "it's\n",
      "that'll\n",
      "has\n",
      "having\n",
      "don't\n",
      "should've\n",
      "ll\n",
      "ve\n",
      "ain\n",
      "aren\n",
      "aren't\n",
      "couldn\n",
      "couldn't\n",
      "didn\n",
      "didn't\n",
      "doesn\n",
      "doesn't\n",
      "hadn\n",
      "hadn't\n",
      "hasn\n",
      "hasn't\n",
      "haven't\n",
      "isn\n",
      "isn't\n",
      "mightn\n",
      "mightn't\n",
      "mustn\n",
      "mustn't\n",
      "needn\n",
      "needn't\n",
      "shan't\n",
      "shouldn\n",
      "shouldn't\n",
      "wasn\n",
      "wasn't\n",
      "weren\n",
      "weren't\n",
      "won't\n",
      "wouldn\n",
      "wouldn't\n"
     ]
    }
   ],
   "source": [
    "from nltk.corpus import stopwords\n",
    "print(len(stopwords.words('english')))\n",
    "print(stopwords.words('english'))\n",
    "\n",
    "#stopword ที่ไม่ปรากฏในคลังคำ word corpus\n",
    "\n",
    "for w in stopwords.words('english'):\n",
    "    if w not in words.words():\n",
    "        print(w)"
   ]
  },
  {
   "cell_type": "markdown",
   "metadata": {
    "id": "NinSfUVZ1pIa"
   },
   "source": [
    "#### Names corpus"
   ]
  },
  {
   "cell_type": "code",
   "execution_count": null,
   "metadata": {
    "id": "9yPSxDkW1pIa",
    "outputId": "8702a12b-b5c1-4ef2-c608-ad7f81a9d430"
   },
   "outputs": [
    {
     "name": "stdout",
     "output_type": "stream",
     "text": [
      "ไฟล์ใน corpus\n",
      "['female.txt', 'male.txt'] \n",
      "\n",
      "จำนวนชื่อทั้งหมด:  7944 \n",
      "\n",
      "จำนวนชื่อผู้ชาย: 2943\n",
      "['Aamir', 'Aaron', 'Abbey', 'Abbie', 'Abbot', 'Abbott', 'Abby', 'Abdel', 'Abdul', 'Abdulkarim', 'Abdullah', 'Abe', 'Abel', 'Abelard', 'Abner', 'Abraham', 'Abram', 'Ace', 'Adair', 'Adam', 'Adams', 'Addie', 'Adger', 'Aditya', 'Adlai', 'Adnan', 'Adolf', 'Adolfo', 'Adolph', 'Adolphe', 'Adolpho', 'Adolphus', 'Adrian', 'Adrick', 'Adrien', 'Agamemnon', 'Aguinaldo', 'Aguste', 'Agustin', 'Aharon', 'Ahmad', 'Ahmed', 'Ahmet', 'Ajai', 'Ajay', 'Al', 'Alaa', 'Alain', 'Alan', 'Alasdair'] \n",
      "\n",
      "จำนวนชื่อผู้หญิง: 5001\n",
      "['Abagael', 'Abagail', 'Abbe', 'Abbey', 'Abbi', 'Abbie', 'Abby', 'Abigael', 'Abigail', 'Abigale', 'Abra', 'Acacia', 'Ada', 'Adah', 'Adaline', 'Adara', 'Addie', 'Addis', 'Adel', 'Adela', 'Adelaide', 'Adele', 'Adelice', 'Adelina', 'Adelind', 'Adeline', 'Adella', 'Adelle', 'Adena', 'Adey', 'Adi', 'Adiana', 'Adina', 'Adora', 'Adore', 'Adoree', 'Adorne', 'Adrea', 'Adria', 'Adriaens', 'Adrian', 'Adriana', 'Adriane', 'Adrianna', 'Adrianne', 'Adrien', 'Adriena', 'Adrienne', 'Aeriel', 'Aeriela']\n"
     ]
    }
   ],
   "source": [
    "names = nltk.corpus.names\n",
    "print(\"ไฟล์ใน corpus\")\n",
    "print(names.fileids(),\"\\n\")\n",
    "print(\"จำนวนชื่อทั้งหมด: \",len(names.words()),\"\\n\")\n",
    "\n",
    "male_names = names.words('male.txt')\n",
    "female_names = names.words('female.txt')\n",
    "print(\"จำนวนชื่อผู้ชาย:\" ,len(male_names))\n",
    "print(male_names[:50],'\\n')\n",
    "print(\"จำนวนชื่อผู้หญิง:\" ,len(female_names))\n",
    "print(female_names[:50])"
   ]
  },
  {
   "cell_type": "markdown",
   "metadata": {
    "id": "iR-7xWU61pIb"
   },
   "source": [
    "### ตัวอย่างการใช้งาน"
   ]
  },
  {
   "cell_type": "code",
   "execution_count": null,
   "metadata": {
    "id": "T34SL4mn1pIb"
   },
   "outputs": [],
   "source": [
    "def unusual_words(text):\n",
    "    text_vocab = set(w.lower() for w in text if w.isalpha())\n",
    "    english_vocab = set(w.lower() for w in nltk.corpus.words.words())\n",
    "    unusual = text_vocab - english_vocab\n",
    "    return sorted(unusual)"
   ]
  },
  {
   "cell_type": "code",
   "execution_count": null,
   "metadata": {
    "id": "nX9Q59pO1pIb",
    "outputId": "f89969ef-e476-4e32-e78b-adfdedb721cd"
   },
   "outputs": [
    {
     "name": "stdout",
     "output_type": "stream",
     "text": [
      "1601\n"
     ]
    },
    {
     "data": {
      "text/plain": [
       "['abbeyland',\n",
       " 'abhorred',\n",
       " 'abilities',\n",
       " 'abounded',\n",
       " 'abridgement',\n",
       " 'abused',\n",
       " 'abuses',\n",
       " 'accents',\n",
       " 'accepting',\n",
       " 'accommodations',\n",
       " 'accompanied',\n",
       " 'accounted',\n",
       " 'accounts',\n",
       " 'accustomary',\n",
       " 'aches',\n",
       " 'acknowledging',\n",
       " 'acknowledgment',\n",
       " 'acknowledgments',\n",
       " 'acquaintances',\n",
       " 'acquiesced',\n",
       " 'acquitted',\n",
       " 'acquitting',\n",
       " 'acted',\n",
       " 'actions',\n",
       " 'adapted',\n",
       " 'adding',\n",
       " 'additions',\n",
       " 'addressed',\n",
       " 'addresses',\n",
       " 'addressing',\n",
       " 'adhering',\n",
       " 'adieus',\n",
       " 'adjusting',\n",
       " 'administering',\n",
       " 'admirers',\n",
       " 'admires',\n",
       " 'admitting',\n",
       " 'adorned',\n",
       " 'advances',\n",
       " 'advantages',\n",
       " 'affairs',\n",
       " 'affections',\n",
       " 'affects',\n",
       " 'affixed',\n",
       " 'afflictions',\n",
       " 'afforded',\n",
       " 'affording',\n",
       " 'ages',\n",
       " 'agitated',\n",
       " 'agonies',\n",
       " 'ailments',\n",
       " 'aimed',\n",
       " 'alarms',\n",
       " 'alienated',\n",
       " 'alighted',\n",
       " 'alleged',\n",
       " 'allenham',\n",
       " 'allowances',\n",
       " 'allowed',\n",
       " 'allowing',\n",
       " 'alluded',\n",
       " 'alterations',\n",
       " 'altered',\n",
       " 'altering',\n",
       " 'amended',\n",
       " 'amounted',\n",
       " 'amusements',\n",
       " 'ankles',\n",
       " 'annamaria',\n",
       " 'annexed',\n",
       " 'announced',\n",
       " 'announcing',\n",
       " 'annuities',\n",
       " 'annum',\n",
       " 'answered',\n",
       " 'answering',\n",
       " 'answers',\n",
       " 'anticipated',\n",
       " 'anticipating',\n",
       " 'anticipations',\n",
       " 'anymore',\n",
       " 'apartments',\n",
       " 'apologies',\n",
       " 'apologising',\n",
       " 'apologized',\n",
       " 'appearances',\n",
       " 'appeared',\n",
       " 'appearing',\n",
       " 'appeased',\n",
       " 'appetites',\n",
       " 'applauded',\n",
       " 'applying',\n",
       " 'appointed',\n",
       " 'apprehended',\n",
       " 'apprehensions',\n",
       " 'approached',\n",
       " 'approved',\n",
       " 'arbour',\n",
       " 'ardour',\n",
       " 'arguments',\n",
       " 'arranged',\n",
       " 'arrangements',\n",
       " 'arranging',\n",
       " 'arrived',\n",
       " 'arrives',\n",
       " 'arriving',\n",
       " 'ascended',\n",
       " 'ascertained',\n",
       " 'asked',\n",
       " 'asking',\n",
       " 'assembled',\n",
       " 'assemblies',\n",
       " 'asserted',\n",
       " 'assertions',\n",
       " 'assiduities',\n",
       " 'assisted',\n",
       " 'assisting',\n",
       " 'associating',\n",
       " 'assurances',\n",
       " 'astonished',\n",
       " 'atoned',\n",
       " 'atoning',\n",
       " 'attaching',\n",
       " 'attachments',\n",
       " 'attacked',\n",
       " 'attacks',\n",
       " 'attained',\n",
       " 'attempted',\n",
       " 'attempting',\n",
       " 'attempts',\n",
       " 'attendants',\n",
       " 'attended',\n",
       " 'attending',\n",
       " 'attentions',\n",
       " 'attracted',\n",
       " 'attractions',\n",
       " 'attributed',\n",
       " 'attributing',\n",
       " 'auditors',\n",
       " 'augmenting',\n",
       " 'austen',\n",
       " 'authorised',\n",
       " 'authors',\n",
       " 'availed',\n",
       " 'avignon',\n",
       " 'avoided',\n",
       " 'avoiding',\n",
       " 'awaited',\n",
       " 'awakened',\n",
       " 'awaking',\n",
       " 'bags',\n",
       " 'balls',\n",
       " 'banished',\n",
       " 'barouches',\n",
       " 'bathed',\n",
       " 'bears',\n",
       " 'beasts',\n",
       " 'beauties',\n",
       " 'became',\n",
       " 'bedrooms',\n",
       " 'beds',\n",
       " 'befallen',\n",
       " 'befalls',\n",
       " 'befell',\n",
       " 'began',\n",
       " 'begged',\n",
       " 'begins',\n",
       " 'behaved',\n",
       " 'beings',\n",
       " 'believed',\n",
       " 'believes',\n",
       " 'belonged',\n",
       " 'belongs',\n",
       " 'benefited',\n",
       " 'bequeathed',\n",
       " 'berkeley',\n",
       " 'bestowed',\n",
       " 'betrayed',\n",
       " 'betraying',\n",
       " 'biased',\n",
       " 'blackest',\n",
       " 'blameable',\n",
       " 'blessings',\n",
       " 'blights',\n",
       " 'blossoms',\n",
       " 'blundered',\n",
       " 'blushed',\n",
       " 'blushes',\n",
       " 'bolder',\n",
       " 'bones',\n",
       " 'bonomi',\n",
       " 'books',\n",
       " 'booksellers',\n",
       " 'borrowed',\n",
       " 'bottoms',\n",
       " 'boys',\n",
       " 'breakfasting',\n",
       " 'bribing',\n",
       " 'brightened',\n",
       " 'brighter',\n",
       " 'bringing',\n",
       " 'brings',\n",
       " 'broader',\n",
       " 'brothers',\n",
       " 'bruised',\n",
       " 'buildings',\n",
       " 'bursts',\n",
       " 'buying',\n",
       " 'called',\n",
       " 'calls',\n",
       " 'calming',\n",
       " 'candles',\n",
       " 'candour',\n",
       " 'canvassing',\n",
       " 'cards',\n",
       " 'cares',\n",
       " 'caresses',\n",
       " 'careys',\n",
       " 'carriages',\n",
       " 'carries',\n",
       " 'cases',\n",
       " 'casts',\n",
       " 'cats',\n",
       " 'caused',\n",
       " 'ceased',\n",
       " 'ceasing',\n",
       " 'censured',\n",
       " 'centre',\n",
       " 'certainties',\n",
       " 'chagrined',\n",
       " 'chairs',\n",
       " 'chambers',\n",
       " 'chanced',\n",
       " 'changed',\n",
       " 'changes',\n",
       " 'changing',\n",
       " 'characters',\n",
       " 'charged',\n",
       " 'charmed',\n",
       " 'charms',\n",
       " 'cheated',\n",
       " 'checking',\n",
       " 'cheeks',\n",
       " 'cheerfuller',\n",
       " 'cherished',\n",
       " 'cherries',\n",
       " 'children',\n",
       " 'choked',\n",
       " 'chuse',\n",
       " 'chusing',\n",
       " 'circles',\n",
       " 'circumstances',\n",
       " 'civilities',\n",
       " 'claimed',\n",
       " 'claiming',\n",
       " 'claims',\n",
       " 'clarke',\n",
       " 'cleared',\n",
       " 'cleveland',\n",
       " 'clogged',\n",
       " 'closing',\n",
       " 'clouds',\n",
       " 'coats',\n",
       " 'collecting',\n",
       " 'coloured',\n",
       " 'colouring',\n",
       " 'combe',\n",
       " 'comforted',\n",
       " 'comforts',\n",
       " 'comings',\n",
       " 'commanded',\n",
       " 'commands',\n",
       " 'commended',\n",
       " 'comments',\n",
       " 'commissioned',\n",
       " 'commonest',\n",
       " 'communicated',\n",
       " 'companions',\n",
       " 'compared',\n",
       " 'compares',\n",
       " 'comparisons',\n",
       " 'complained',\n",
       " 'complaining',\n",
       " 'complaints',\n",
       " 'completed',\n",
       " 'compliments',\n",
       " 'comprehended',\n",
       " 'concealing',\n",
       " 'concerns',\n",
       " 'concessions',\n",
       " 'concluded',\n",
       " 'conclusions',\n",
       " 'conditions',\n",
       " 'conducted',\n",
       " 'confessed',\n",
       " 'confidante',\n",
       " 'conforming',\n",
       " 'congratulated',\n",
       " 'congratulating',\n",
       " 'congratulations',\n",
       " 'conjectured',\n",
       " 'conjectures',\n",
       " 'conjecturing',\n",
       " 'connections',\n",
       " 'conquests',\n",
       " 'consented',\n",
       " 'consequences',\n",
       " 'considerations',\n",
       " 'considers',\n",
       " 'consisted',\n",
       " 'consists',\n",
       " 'consoled',\n",
       " 'conspired',\n",
       " 'constantia',\n",
       " 'consulted',\n",
       " 'contained',\n",
       " 'containing',\n",
       " 'contend',\n",
       " 'contenting',\n",
       " 'continuing',\n",
       " 'contradicted',\n",
       " 'contrasted',\n",
       " 'contributed',\n",
       " 'contributing',\n",
       " 'contrived',\n",
       " 'contrives',\n",
       " 'contriving',\n",
       " 'controlled',\n",
       " 'conveniences',\n",
       " 'conversations',\n",
       " 'conversed',\n",
       " 'conversing',\n",
       " 'conveyed',\n",
       " 'conveying',\n",
       " 'copying',\n",
       " 'cordials',\n",
       " 'cottages',\n",
       " 'counsellor',\n",
       " 'counteracted',\n",
       " 'couples',\n",
       " 'courted',\n",
       " 'courting',\n",
       " 'courtland',\n",
       " 'cousins',\n",
       " 'cowper',\n",
       " 'cows',\n",
       " 'coxcombs',\n",
       " 'cramps',\n",
       " 'created',\n",
       " 'creating',\n",
       " 'creatures',\n",
       " 'cries',\n",
       " 'crimsoned',\n",
       " 'curtsying',\n",
       " 'cutlets',\n",
       " 'danced',\n",
       " 'dances',\n",
       " 'dared',\n",
       " 'darker',\n",
       " 'dartford',\n",
       " 'dashwood',\n",
       " 'dashwoods',\n",
       " 'daughters',\n",
       " 'davies',\n",
       " 'dawdled',\n",
       " 'dawlish',\n",
       " 'dawned',\n",
       " 'dearer',\n",
       " 'dearest',\n",
       " 'debated',\n",
       " 'debts',\n",
       " 'deceived',\n",
       " 'deciding',\n",
       " 'decisions',\n",
       " 'declares',\n",
       " 'declaring',\n",
       " 'declining',\n",
       " 'deemed',\n",
       " 'deeper',\n",
       " 'deepest',\n",
       " 'defects',\n",
       " 'defended',\n",
       " 'deficiencies',\n",
       " 'degrees',\n",
       " 'delaford',\n",
       " 'delayed',\n",
       " 'delays',\n",
       " 'deliberating',\n",
       " 'delicacies',\n",
       " 'delighful',\n",
       " 'delineated',\n",
       " 'delivered',\n",
       " 'demanded',\n",
       " 'demands',\n",
       " 'demonstrations',\n",
       " 'demur',\n",
       " 'denied',\n",
       " 'dennison',\n",
       " 'denoted',\n",
       " 'denoting',\n",
       " 'departing',\n",
       " 'depended',\n",
       " 'depends',\n",
       " 'deprived',\n",
       " 'described',\n",
       " 'describing',\n",
       " 'deserts',\n",
       " 'deserves',\n",
       " 'designs',\n",
       " 'desiring',\n",
       " 'despatch',\n",
       " 'despatching',\n",
       " 'despised',\n",
       " 'despising',\n",
       " 'destroyed',\n",
       " 'destroys',\n",
       " 'detaining',\n",
       " 'detected',\n",
       " 'detecting',\n",
       " 'determining',\n",
       " 'deterred',\n",
       " 'detested',\n",
       " 'devolved',\n",
       " 'died',\n",
       " 'dies',\n",
       " 'differed',\n",
       " 'differing',\n",
       " 'difficulties',\n",
       " 'dimensions',\n",
       " 'diminished',\n",
       " 'dined',\n",
       " 'dinners',\n",
       " 'directing',\n",
       " 'directions',\n",
       " 'disagreements',\n",
       " 'disappeared',\n",
       " 'disappointments',\n",
       " 'disapproved',\n",
       " 'disapproves',\n",
       " 'disapproving',\n",
       " 'discarded',\n",
       " 'discharged',\n",
       " 'disclaiming',\n",
       " 'disclosing',\n",
       " 'discontents',\n",
       " 'discovering',\n",
       " 'discussions',\n",
       " 'disgraced',\n",
       " 'disinherited',\n",
       " 'disliked',\n",
       " 'dismissed',\n",
       " 'dismounted',\n",
       " 'dispatched',\n",
       " 'dispatches',\n",
       " 'dispersing',\n",
       " 'disposing',\n",
       " 'disputes',\n",
       " 'disqualifications',\n",
       " 'disregarded',\n",
       " 'dissembling',\n",
       " 'dissented',\n",
       " 'distresses',\n",
       " 'distrusts',\n",
       " 'diverted',\n",
       " 'doatingly',\n",
       " 'donavan',\n",
       " 'doomed',\n",
       " 'dooming',\n",
       " 'doors',\n",
       " 'dorsetshire',\n",
       " 'doubted',\n",
       " 'doubts',\n",
       " 'douceur',\n",
       " 'downs',\n",
       " 'dr',\n",
       " 'drains',\n",
       " 'drawings',\n",
       " 'draws',\n",
       " 'dreaded',\n",
       " 'dreading',\n",
       " 'dreaming',\n",
       " 'dresses',\n",
       " 'drives',\n",
       " 'dropped',\n",
       " 'drops',\n",
       " 'drury',\n",
       " 'duets',\n",
       " 'duties',\n",
       " 'earlier',\n",
       " 'earliest',\n",
       " 'earned',\n",
       " 'ears',\n",
       " 'echoed',\n",
       " 'editions',\n",
       " 'edtions',\n",
       " 'effected',\n",
       " 'effecting',\n",
       " 'effusions',\n",
       " 'ellison',\n",
       " 'ellisons',\n",
       " 'eloping',\n",
       " 'eluded',\n",
       " 'embellishments',\n",
       " 'embraced',\n",
       " 'embraces',\n",
       " 'employments',\n",
       " 'enabled',\n",
       " 'enamoured',\n",
       " 'encouraged',\n",
       " 'encouragements',\n",
       " 'encroachments',\n",
       " 'encumbered',\n",
       " 'endeavoring',\n",
       " 'endeavors',\n",
       " 'endeavour',\n",
       " 'endeavoured',\n",
       " 'endeavouring',\n",
       " 'endeavours',\n",
       " 'endowed',\n",
       " 'ends',\n",
       " 'endured',\n",
       " 'enfeebled',\n",
       " 'enforcing',\n",
       " 'engagements',\n",
       " 'england',\n",
       " 'enjoyed',\n",
       " 'enjoyments',\n",
       " 'enquired',\n",
       " 'enquiries',\n",
       " 'enquiring',\n",
       " 'ensued',\n",
       " 'ensured',\n",
       " 'entered',\n",
       " 'entertained',\n",
       " 'entitled',\n",
       " 'entreated',\n",
       " 'entreaties',\n",
       " 'entrusted',\n",
       " 'equalled',\n",
       " 'equals',\n",
       " 'erred',\n",
       " 'errors',\n",
       " 'escaped',\n",
       " 'esq',\n",
       " 'establishing',\n",
       " 'esteemed',\n",
       " 'esteeming',\n",
       " 'esteems',\n",
       " 'estimating',\n",
       " 'estranged',\n",
       " 'evenings',\n",
       " 'events',\n",
       " 'evils',\n",
       " 'examined',\n",
       " 'exceeded',\n",
       " 'excellencies',\n",
       " 'exchanged',\n",
       " 'exclaimed',\n",
       " 'exclamations',\n",
       " 'excused',\n",
       " 'excuses',\n",
       " 'exercised',\n",
       " 'exercising',\n",
       " 'exerted',\n",
       " 'exertions',\n",
       " 'exeter',\n",
       " 'exhilarated',\n",
       " 'existed',\n",
       " 'expectations',\n",
       " 'expected',\n",
       " 'expecting',\n",
       " 'expects',\n",
       " 'expenses',\n",
       " 'experiencing',\n",
       " 'explained',\n",
       " 'explanations',\n",
       " 'expressing',\n",
       " 'expressions',\n",
       " 'extolling',\n",
       " 'extorted',\n",
       " 'extorting',\n",
       " 'extremest',\n",
       " 'eyeing',\n",
       " 'eyes',\n",
       " 'faces',\n",
       " 'facts',\n",
       " 'failed',\n",
       " 'falls',\n",
       " 'familiarized',\n",
       " 'families',\n",
       " 'fancying',\n",
       " 'fates',\n",
       " 'fatigued',\n",
       " 'fatigues',\n",
       " 'faults',\n",
       " 'favour',\n",
       " 'favourable',\n",
       " 'favourite',\n",
       " 'favourites',\n",
       " 'fearing',\n",
       " 'fears',\n",
       " 'features',\n",
       " 'feelings',\n",
       " 'feels',\n",
       " 'feet',\n",
       " 'felicitations',\n",
       " 'females',\n",
       " 'ferrars',\n",
       " 'fetches',\n",
       " 'fettered',\n",
       " 'finds',\n",
       " 'finest',\n",
       " 'fingers',\n",
       " 'flattered',\n",
       " 'flatteries',\n",
       " 'flowed',\n",
       " 'fluctuating',\n",
       " 'flushed',\n",
       " 'foibles',\n",
       " 'followed',\n",
       " 'follows',\n",
       " 'fond',\n",
       " 'footsteps',\n",
       " 'forebodings',\n",
       " 'foreplanned',\n",
       " 'foresaw',\n",
       " 'foreseeing',\n",
       " 'foreseen',\n",
       " 'forfeited',\n",
       " 'forfeiting',\n",
       " 'forgave',\n",
       " 'forgiven',\n",
       " 'forms',\n",
       " 'forsaking',\n",
       " 'fortunes',\n",
       " 'forwarded',\n",
       " 'foundations',\n",
       " 'founded',\n",
       " 'fowls',\n",
       " 'friendliest',\n",
       " 'friends',\n",
       " 'frightens',\n",
       " 'froid',\n",
       " 'frosts',\n",
       " 'fulfil',\n",
       " 'fulfilled',\n",
       " 'fullest',\n",
       " 'gained',\n",
       " 'gales',\n",
       " 'gardens',\n",
       " 'garrets',\n",
       " 'gates',\n",
       " 'gathered',\n",
       " 'generations',\n",
       " 'gentlemen',\n",
       " 'gigs',\n",
       " 'gilberts',\n",
       " 'girls',\n",
       " 'gives',\n",
       " 'glances',\n",
       " 'gloried',\n",
       " 'gloves',\n",
       " 'godby',\n",
       " 'goings',\n",
       " 'goodby',\n",
       " 'governed',\n",
       " 'gowns',\n",
       " 'graces',\n",
       " 'grandmothers',\n",
       " 'granted',\n",
       " 'greatest',\n",
       " 'grieves',\n",
       " 'grows',\n",
       " 'guardians',\n",
       " 'guessed',\n",
       " 'guests',\n",
       " 'guided',\n",
       " 'guineas',\n",
       " 'habits',\n",
       " 'hallooing',\n",
       " 'hands',\n",
       " 'handsomer',\n",
       " 'handsomest',\n",
       " 'hang',\n",
       " 'hanover',\n",
       " 'happened',\n",
       " 'happens',\n",
       " 'hardened',\n",
       " 'hardships',\n",
       " 'harley',\n",
       " 'has',\n",
       " 'hastened',\n",
       " 'hastening',\n",
       " 'hated',\n",
       " 'hates',\n",
       " 'hating',\n",
       " 'having',\n",
       " 'hazarded',\n",
       " 'hazarding',\n",
       " 'heads',\n",
       " 'heard',\n",
       " 'hears',\n",
       " 'heightened',\n",
       " 'heightening',\n",
       " 'heights',\n",
       " 'heirs',\n",
       " 'held',\n",
       " 'hens',\n",
       " 'henshawe',\n",
       " 'hesitated',\n",
       " 'hiding',\n",
       " 'hills',\n",
       " 'hinted',\n",
       " 'hints',\n",
       " 'hoarded',\n",
       " 'holborn',\n",
       " 'holburn',\n",
       " 'holds',\n",
       " 'holidays',\n",
       " 'homes',\n",
       " 'honeysuckles',\n",
       " 'honiton',\n",
       " 'honour',\n",
       " 'honourable',\n",
       " 'honourably',\n",
       " 'honoured',\n",
       " 'honours',\n",
       " 'hopes',\n",
       " 'hoping',\n",
       " 'horrors',\n",
       " 'horses',\n",
       " 'hours',\n",
       " 'houses',\n",
       " 'howsever',\n",
       " 'humbled',\n",
       " 'humiliations',\n",
       " 'humored',\n",
       " 'humoured',\n",
       " 'humouring',\n",
       " 'hunted',\n",
       " 'hunters',\n",
       " 'hunts',\n",
       " 'hurrying',\n",
       " 'husbands',\n",
       " 'huswifes',\n",
       " 'ideas',\n",
       " 'idled',\n",
       " 'idolized',\n",
       " 'ii',\n",
       " 'imaginations',\n",
       " 'imagined',\n",
       " 'imagining',\n",
       " 'imbibed',\n",
       " 'immoveable',\n",
       " 'imparted',\n",
       " 'imperfections',\n",
       " 'implied',\n",
       " 'implies',\n",
       " 'impoverished',\n",
       " 'impoverishing',\n",
       " 'improved',\n",
       " 'improvements',\n",
       " 'imputed',\n",
       " 'inclinations',\n",
       " 'inclined',\n",
       " 'inclosing',\n",
       " 'including',\n",
       " 'incommoded',\n",
       " 'inconveniences',\n",
       " 'increased',\n",
       " 'incurred',\n",
       " 'incurring',\n",
       " 'indulged',\n",
       " 'infants',\n",
       " 'inflicted',\n",
       " 'inflicting',\n",
       " 'influenced',\n",
       " 'inforce',\n",
       " 'inforced',\n",
       " 'informing',\n",
       " 'inhabitants',\n",
       " 'inhabiting',\n",
       " 'inheriting',\n",
       " 'injuries',\n",
       " 'inquired',\n",
       " 'inquiries',\n",
       " 'insinuations',\n",
       " 'insisted',\n",
       " 'installed',\n",
       " 'instigated',\n",
       " 'instructions',\n",
       " 'insulted',\n",
       " 'intends',\n",
       " 'intentions',\n",
       " 'intents',\n",
       " 'interests',\n",
       " 'interposed',\n",
       " 'interspersed',\n",
       " 'intervals',\n",
       " 'interviews',\n",
       " 'intimated',\n",
       " 'introduced',\n",
       " 'introducing',\n",
       " 'intruded',\n",
       " 'invented',\n",
       " 'inventing',\n",
       " 'invitations',\n",
       " 'invited',\n",
       " 'irritated',\n",
       " 'irritates',\n",
       " 'issued',\n",
       " 'jealousies',\n",
       " 'jenning',\n",
       " 'jennings',\n",
       " 'jewels',\n",
       " 'jilting',\n",
       " 'joined',\n",
       " 'joked',\n",
       " 'jokes',\n",
       " 'joking',\n",
       " 'joys',\n",
       " 'judged',\n",
       " 'judging',\n",
       " 'judgments',\n",
       " 'jumbled',\n",
       " 'justified',\n",
       " 'keeps',\n",
       " 'keys',\n",
       " 'kicked',\n",
       " 'kinder',\n",
       " 'kindest',\n",
       " 'kingham',\n",
       " 'kissed',\n",
       " 'kisses',\n",
       " 'knees',\n",
       " 'knives',\n",
       " 'knows',\n",
       " 'laboured',\n",
       " 'lamentations',\n",
       " 'lamps',\n",
       " 'lanes',\n",
       " 'languages',\n",
       " 'larger',\n",
       " 'largest',\n",
       " 'lasted',\n",
       " 'laughed',\n",
       " 'laughs',\n",
       " 'leagued',\n",
       " 'legacies',\n",
       " 'lengthened',\n",
       " 'lengths',\n",
       " 'lessened',\n",
       " 'lessening',\n",
       " 'letters',\n",
       " 'letting',\n",
       " 'lies',\n",
       " 'lifted',\n",
       " 'lightened',\n",
       " 'liked',\n",
       " 'likes',\n",
       " 'limbs',\n",
       " 'limits',\n",
       " 'lines',\n",
       " 'lingered',\n",
       " 'lingering',\n",
       " 'lips',\n",
       " 'listened',\n",
       " 'lives',\n",
       " 'livings',\n",
       " 'll',\n",
       " 'lodges',\n",
       " 'loitered',\n",
       " 'lombardy',\n",
       " 'london',\n",
       " 'longed',\n",
       " 'longest',\n",
       " 'longstaple',\n",
       " 'looked',\n",
       " 'looks',\n",
       " 'loved',\n",
       " 'lovers',\n",
       " 'loves',\n",
       " 'lowered',\n",
       " 'lurking',\n",
       " 'magna',\n",
       " 'maids',\n",
       " 'maintained',\n",
       " 'makes',\n",
       " 'mama',\n",
       " 'managed',\n",
       " 'marlborough',\n",
       " 'marriages',\n",
       " 'marries',\n",
       " 'matters',\n",
       " 'maxims',\n",
       " 'meadows',\n",
       " 'meals',\n",
       " 'means',\n",
       " 'meantime',\n",
       " 'measures',\n",
       " 'medicines',\n",
       " 'meditated',\n",
       " 'meditations',\n",
       " 'meetings',\n",
       " 'mentioned',\n",
       " 'mentioning',\n",
       " 'merest',\n",
       " 'merits',\n",
       " 'merrier',\n",
       " 'messages',\n",
       " 'middleton',\n",
       " 'middletons',\n",
       " 'militated',\n",
       " 'minds',\n",
       " 'minutes',\n",
       " 'misapplied',\n",
       " 'misinformed',\n",
       " 'missed',\n",
       " 'misses',\n",
       " 'mistakes',\n",
       " 'mixing',\n",
       " 'modestest',\n",
       " 'mohrs',\n",
       " 'moments',\n",
       " 'months',\n",
       " 'mosquitoes',\n",
       " 'mothers',\n",
       " 'motives',\n",
       " 'moved',\n",
       " 'murmurings',\n",
       " 'muttered',\n",
       " 'nabobs',\n",
       " 'named',\n",
       " 'names',\n",
       " 'natured',\n",
       " 'nearer',\n",
       " 'needed',\n",
       " 'neglected',\n",
       " 'neighbour',\n",
       " 'neighbourhood',\n",
       " 'neighbouring',\n",
       " 'neighbourly',\n",
       " 'neighbours',\n",
       " 'nerves',\n",
       " 'nests',\n",
       " 'nettles',\n",
       " 'newer',\n",
       " 'newspapers',\n",
       " 'nicest',\n",
       " 'nieces',\n",
       " 'nipped',\n",
       " 'nodded',\n",
       " 'nods',\n",
       " 'noisier',\n",
       " 'notes',\n",
       " 'noticed',\n",
       " 'noticing',\n",
       " 'notions',\n",
       " 'nt',\n",
       " 'nurses',\n",
       " 'obeyed',\n",
       " 'objected',\n",
       " 'objections',\n",
       " 'objects',\n",
       " 'obligations',\n",
       " 'observations',\n",
       " 'observed',\n",
       " 'obstacles',\n",
       " 'obstructed',\n",
       " 'obtained',\n",
       " 'obtaining',\n",
       " 'obviated',\n",
       " 'obviating',\n",
       " 'occasioned',\n",
       " 'occasions',\n",
       " 'occupations',\n",
       " 'occupied',\n",
       " 'occurred',\n",
       " 'oddest',\n",
       " 'offence',\n",
       " 'offences',\n",
       " 'offending',\n",
       " 'offered',\n",
       " 'offices',\n",
       " 'oftener',\n",
       " 'oftenest',\n",
       " 'oldest',\n",
       " 'olives',\n",
       " 'omitted',\n",
       " 'ones',\n",
       " 'opened',\n",
       " 'opinions',\n",
       " 'opportunities',\n",
       " 'ordained',\n",
       " 'orders',\n",
       " 'originated',\n",
       " 'ornamented',\n",
       " 'ornaments',\n",
       " 'others',\n",
       " 'outdone',\n",
       " ...]"
      ]
     },
     "execution_count": 28,
     "metadata": {},
     "output_type": "execute_result"
    }
   ],
   "source": [
    "print(len(unusual_words(nltk.corpus.gutenberg.words('austen-sense.txt'))))\n",
    "unusual_words(nltk.corpus.gutenberg.words('austen-sense.txt'))"
   ]
  },
  {
   "cell_type": "code",
   "execution_count": null,
   "metadata": {
    "id": "-Slk0zoC1pIb",
    "outputId": "2767f386-2cc1-4907-e1fb-505382ef2d8f"
   },
   "outputs": [
    {
     "name": "stdout",
     "output_type": "stream",
     "text": [
      "2095\n"
     ]
    },
    {
     "data": {
      "text/plain": [
       "['aaaaaaaaaaaaaaaaa',\n",
       " 'aaahhhh',\n",
       " 'abortions',\n",
       " 'abou',\n",
       " 'abourted',\n",
       " 'abs',\n",
       " 'ack',\n",
       " 'acros',\n",
       " 'actualy',\n",
       " 'adams',\n",
       " 'adds',\n",
       " 'adduser',\n",
       " 'adjusts',\n",
       " 'adoted',\n",
       " 'adreniline',\n",
       " 'ads',\n",
       " 'adults',\n",
       " 'afe',\n",
       " 'affairs',\n",
       " 'affari',\n",
       " 'affects',\n",
       " 'afk',\n",
       " 'agaibn',\n",
       " 'ages',\n",
       " 'aggravated',\n",
       " 'agurlwithbigguns',\n",
       " 'ahah',\n",
       " 'ahahah',\n",
       " 'ahahh',\n",
       " 'ahahha',\n",
       " 'ahh',\n",
       " 'ahhah',\n",
       " 'ahhahahaha',\n",
       " 'ahhh',\n",
       " 'ahhhh',\n",
       " 'ahhhhhh',\n",
       " 'ahhhhhhhhhhhhhh',\n",
       " 'aiiiiiiiiiiiiiiiiiiiiiiii',\n",
       " 'aiken',\n",
       " 'aime',\n",
       " 'akdt',\n",
       " 'akon',\n",
       " 'akron',\n",
       " 'akst',\n",
       " 'aligator',\n",
       " 'allergies',\n",
       " 'allo',\n",
       " 'allowed',\n",
       " 'aloha',\n",
       " 'alohaaa',\n",
       " 'alohas',\n",
       " 'alot',\n",
       " 'alotta',\n",
       " 'alternatives',\n",
       " 'alterz',\n",
       " 'alwys',\n",
       " 'alzheimers',\n",
       " 'amazingness',\n",
       " 'americans',\n",
       " 'anithing',\n",
       " 'ans',\n",
       " 'answering',\n",
       " 'answers',\n",
       " 'antidepressants',\n",
       " 'anygirl',\n",
       " 'anymore',\n",
       " 'anythin',\n",
       " 'anytime',\n",
       " 'anyyyyyyyyyyyyyyyyy',\n",
       " 'aok',\n",
       " 'apoligize',\n",
       " 'appearently',\n",
       " 'appears',\n",
       " 'applaudes',\n",
       " 'appleton',\n",
       " 'appologise',\n",
       " 'appologize',\n",
       " 'aqwesome',\n",
       " 'arggghhh',\n",
       " 'argh',\n",
       " 'armtnpeat',\n",
       " 'arrested',\n",
       " 'arrived',\n",
       " 'arround',\n",
       " 'asked',\n",
       " 'askin',\n",
       " 'asking',\n",
       " 'asks',\n",
       " 'asl',\n",
       " 'asnwer',\n",
       " 'asses',\n",
       " 'asshole',\n",
       " 'assholes',\n",
       " 'asss',\n",
       " 'assumes',\n",
       " 'aterry',\n",
       " 'atl',\n",
       " 'attempted',\n",
       " 'attracted',\n",
       " 'aussies',\n",
       " 'awesomee',\n",
       " 'awesomes',\n",
       " 'awrighty',\n",
       " 'awsome',\n",
       " 'aww',\n",
       " 'awww',\n",
       " 'awwww',\n",
       " 'awwwwww',\n",
       " 'awwwwwww',\n",
       " 'awwwwwwwwww',\n",
       " 'aynawy',\n",
       " 'az',\n",
       " 'azerbaijan',\n",
       " 'baaaaalllllllliiiiiiinnnnnnnnnnn',\n",
       " 'babay',\n",
       " 'babblein',\n",
       " 'babes',\n",
       " 'babies',\n",
       " 'babiess',\n",
       " 'babycakeses',\n",
       " 'bachelorette',\n",
       " 'backatchya',\n",
       " 'backfrontsidewaysandallaroundtheworld',\n",
       " 'backroom',\n",
       " 'bacl',\n",
       " 'bagels',\n",
       " 'bahahahaa',\n",
       " 'bak',\n",
       " 'balad',\n",
       " 'balck',\n",
       " 'ballin',\n",
       " 'balls',\n",
       " 'bandito',\n",
       " 'bandsaw',\n",
       " 'banjoes',\n",
       " 'banned',\n",
       " 'baord',\n",
       " 'barbie',\n",
       " 'barbieee',\n",
       " 'bares',\n",
       " 'barfights',\n",
       " 'barks',\n",
       " 'bbbbbyyyyyyyeeeeeeeee',\n",
       " 'bbiam',\n",
       " 'bbl',\n",
       " 'bbs',\n",
       " 'bc',\n",
       " 'beachhhh',\n",
       " 'beams',\n",
       " 'beans',\n",
       " 'bears',\n",
       " 'beatles',\n",
       " 'beats',\n",
       " 'beattles',\n",
       " 'beckley',\n",
       " 'beeeeehave',\n",
       " 'beeehave',\n",
       " 'bein',\n",
       " 'beleive',\n",
       " 'belongings',\n",
       " 'benz',\n",
       " 'beuty',\n",
       " 'bf',\n",
       " 'bi',\n",
       " 'biatch',\n",
       " 'biebsa',\n",
       " 'bied',\n",
       " 'bigest',\n",
       " 'biiiatch',\n",
       " 'biiiiiitch',\n",
       " 'bikes',\n",
       " 'bio',\n",
       " 'biographys',\n",
       " 'birdgang',\n",
       " 'birfday',\n",
       " 'bishes',\n",
       " 'bitches',\n",
       " 'bitdh',\n",
       " 'bites',\n",
       " 'biyatch',\n",
       " 'bj',\n",
       " 'blankie',\n",
       " 'blazed',\n",
       " 'blech',\n",
       " 'blessings',\n",
       " 'blew',\n",
       " 'bloe',\n",
       " 'blondes',\n",
       " 'bloooooooood',\n",
       " 'bloooooooooood',\n",
       " 'bloooooooooooood',\n",
       " 'blowjob',\n",
       " 'bodies',\n",
       " 'boed',\n",
       " 'boght',\n",
       " 'boi',\n",
       " 'boing',\n",
       " 'boinked',\n",
       " 'bones',\n",
       " 'boning',\n",
       " 'booboo',\n",
       " 'boobs',\n",
       " 'books',\n",
       " 'boooooooooooglyyyyyy',\n",
       " 'bootay',\n",
       " 'booyah',\n",
       " 'borat',\n",
       " 'bored',\n",
       " 'bothering',\n",
       " 'bounced',\n",
       " 'bouncers',\n",
       " 'bouts',\n",
       " 'boyfriend',\n",
       " 'boys',\n",
       " 'boyz',\n",
       " 'brady',\n",
       " 'brakes',\n",
       " 'brb',\n",
       " 'brbbb',\n",
       " 'breaks',\n",
       " 'brightened',\n",
       " 'brings',\n",
       " 'bro',\n",
       " 'brooklyn',\n",
       " 'brothers',\n",
       " 'brrrrrrr',\n",
       " 'bruises',\n",
       " 'brwn',\n",
       " 'btw',\n",
       " 'bucks',\n",
       " 'buddyyyyyy',\n",
       " 'bugs',\n",
       " 'buh',\n",
       " 'builds',\n",
       " 'bulls',\n",
       " 'bumber',\n",
       " 'bumped',\n",
       " 'burger',\n",
       " 'burito',\n",
       " 'burns',\n",
       " 'burpin',\n",
       " 'burps',\n",
       " 'burried',\n",
       " 'burryed',\n",
       " 'buses',\n",
       " 'buying',\n",
       " 'bwahahahahahahahahahaha',\n",
       " 'bwhaha',\n",
       " 'byb',\n",
       " 'byeee',\n",
       " 'byeeee',\n",
       " 'byeeeeeeee',\n",
       " 'byeeeeeeeeeeeee',\n",
       " 'byes',\n",
       " 'caan',\n",
       " 'caint',\n",
       " 'caiuse',\n",
       " 'cakes',\n",
       " 'cali',\n",
       " 'called',\n",
       " 'callifornia',\n",
       " 'calls',\n",
       " 'cams',\n",
       " 'canadaian',\n",
       " 'canadain',\n",
       " 'canehda',\n",
       " 'caps',\n",
       " 'cardinals',\n",
       " 'cardnials',\n",
       " 'cards',\n",
       " 'cares',\n",
       " 'cars',\n",
       " 'casts',\n",
       " 'catches',\n",
       " 'categories',\n",
       " 'catterick',\n",
       " 'caused',\n",
       " 'cdt',\n",
       " 'cepn',\n",
       " 'cereals',\n",
       " 'chamillionaire',\n",
       " 'changed',\n",
       " 'changing',\n",
       " 'chanop',\n",
       " 'chanowner',\n",
       " 'chathide',\n",
       " 'chatland',\n",
       " 'chatr',\n",
       " 'chatroom',\n",
       " 'chats',\n",
       " 'chatt',\n",
       " 'chatted',\n",
       " 'chattin',\n",
       " 'chcken',\n",
       " 'cheaking',\n",
       " 'checkin',\n",
       " 'checking',\n",
       " 'checks',\n",
       " 'cheeeez',\n",
       " 'cheers',\n",
       " 'cheking',\n",
       " 'chews',\n",
       " 'chica',\n",
       " 'chickens',\n",
       " 'chics',\n",
       " 'chik',\n",
       " 'children',\n",
       " 'chineese',\n",
       " 'chingy',\n",
       " 'choc',\n",
       " 'chocha',\n",
       " 'chococake',\n",
       " 'choices',\n",
       " 'chokes',\n",
       " 'chops',\n",
       " 'chp',\n",
       " 'chuckles',\n",
       " 'chunks',\n",
       " 'churches',\n",
       " 'ciao',\n",
       " 'ciara',\n",
       " 'cigars',\n",
       " 'ciggareets',\n",
       " 'ck',\n",
       " 'claws',\n",
       " 'cleared',\n",
       " 'cleveland',\n",
       " 'clicked',\n",
       " 'clients',\n",
       " 'clinicals',\n",
       " 'clooney',\n",
       " 'closes',\n",
       " 'clubs',\n",
       " 'cmon',\n",
       " 'cnnecticut',\n",
       " 'co',\n",
       " 'coconuts',\n",
       " 'coem',\n",
       " 'coffe',\n",
       " 'coggieeee',\n",
       " 'com',\n",
       " 'combo',\n",
       " 'comenting',\n",
       " 'comin',\n",
       " 'commanded',\n",
       " 'comments',\n",
       " 'comon',\n",
       " 'comp',\n",
       " 'complains',\n",
       " 'completly',\n",
       " 'compliments',\n",
       " 'compoud',\n",
       " 'comprende',\n",
       " 'comps',\n",
       " 'computers',\n",
       " 'computor',\n",
       " 'concernin',\n",
       " 'confessed',\n",
       " 'confusing',\n",
       " 'confusting',\n",
       " 'congrat',\n",
       " 'congrats',\n",
       " 'connecticutt',\n",
       " 'constituents',\n",
       " 'contast',\n",
       " 'contemplating',\n",
       " 'controll',\n",
       " 'controllers',\n",
       " 'controllin',\n",
       " 'controlling',\n",
       " 'convo',\n",
       " 'conway',\n",
       " 'cookie',\n",
       " 'cookies',\n",
       " 'coolcat',\n",
       " 'coonarsee',\n",
       " 'cooooooooookiiiiiiiiiiiieeeeeeeeeeee',\n",
       " 'copone',\n",
       " 'cops',\n",
       " 'costumes',\n",
       " 'cottons',\n",
       " 'coudl',\n",
       " 'coughed',\n",
       " 'coughs',\n",
       " 'cougs',\n",
       " 'couldnt',\n",
       " 'counts',\n",
       " 'coupons',\n",
       " 'courst',\n",
       " 'covers',\n",
       " 'coworkers',\n",
       " 'cpr',\n",
       " 'cramps',\n",
       " 'crashed',\n",
       " 'creme',\n",
       " 'cries',\n",
       " 'cripos',\n",
       " 'crosses',\n",
       " 'csi',\n",
       " 'cst',\n",
       " 'ct',\n",
       " 'ctrl',\n",
       " 'cuddlicious',\n",
       " 'cuffed',\n",
       " 'cums',\n",
       " 'cuppers',\n",
       " 'curls',\n",
       " 'currious',\n",
       " 'cus',\n",
       " 'cusion',\n",
       " 'cutes',\n",
       " 'cuz',\n",
       " 'cya',\n",
       " 'cyas',\n",
       " 'cyber',\n",
       " 'czeching',\n",
       " 'daamn',\n",
       " 'dahlin',\n",
       " 'damnit',\n",
       " 'dances',\n",
       " 'danes',\n",
       " 'dangit',\n",
       " 'darlin',\n",
       " 'darlings',\n",
       " 'darwin',\n",
       " 'dat',\n",
       " 'dated',\n",
       " 'daughters',\n",
       " 'daveeee',\n",
       " 'davis',\n",
       " 'dawg',\n",
       " 'dawnstar',\n",
       " 'dayum',\n",
       " 'dd',\n",
       " 'deals',\n",
       " 'deaths',\n",
       " 'decades',\n",
       " 'deceived',\n",
       " 'deciding',\n",
       " 'declaw',\n",
       " 'declawed',\n",
       " 'deeper',\n",
       " 'definately',\n",
       " 'definitley',\n",
       " 'defragging',\n",
       " 'defrags',\n",
       " 'degrees',\n",
       " 'deleware',\n",
       " 'delivers',\n",
       " 'dem',\n",
       " 'democrats',\n",
       " 'denver',\n",
       " 'denzel',\n",
       " 'deop',\n",
       " 'depeche',\n",
       " 'depends',\n",
       " 'descriminate',\n",
       " 'despie',\n",
       " 'despises',\n",
       " 'detroit',\n",
       " 'didnts',\n",
       " 'died',\n",
       " 'dies',\n",
       " 'diggin',\n",
       " 'dik',\n",
       " 'dipset',\n",
       " 'dirrrrty',\n",
       " 'diseast',\n",
       " 'disocvered',\n",
       " 'dissing',\n",
       " 'divorced',\n",
       " 'dj',\n",
       " 'dl',\n",
       " 'dman',\n",
       " 'docs',\n",
       " 'doggies',\n",
       " 'doin',\n",
       " 'dojn',\n",
       " 'dokey',\n",
       " 'dokken',\n",
       " 'dollars',\n",
       " 'dolls',\n",
       " 'donno',\n",
       " 'dontcha',\n",
       " 'donuts',\n",
       " 'dood',\n",
       " 'doody',\n",
       " 'doors',\n",
       " 'dork',\n",
       " 'dotn',\n",
       " 'doublewide',\n",
       " 'douchebag',\n",
       " 'doupt',\n",
       " 'downloaded',\n",
       " 'downloading',\n",
       " 'downnnnnn',\n",
       " 'downs',\n",
       " 'dr',\n",
       " 'drags',\n",
       " 'dratts',\n",
       " 'dreaded',\n",
       " 'dreammm',\n",
       " 'dreams',\n",
       " 'drinks',\n",
       " 'driveby',\n",
       " 'drivers',\n",
       " 'drivin',\n",
       " 'drools',\n",
       " 'dropped',\n",
       " 'drops',\n",
       " 'drugs',\n",
       " 'dryer',\n",
       " 'dsklgjsdk',\n",
       " 'du',\n",
       " 'duh',\n",
       " 'dumbass',\n",
       " 'dummmm',\n",
       " 'dunkin',\n",
       " 'dunno',\n",
       " 'dvd',\n",
       " 'dya',\n",
       " 'dyed',\n",
       " 'dyslexic',\n",
       " 'earplugs',\n",
       " 'earrings',\n",
       " 'ears',\n",
       " 'eay',\n",
       " 'ebay',\n",
       " 'edgewood',\n",
       " 'edmonton',\n",
       " 'eeeeeeeeewwwwwwww',\n",
       " 'eeeek',\n",
       " 'eeek',\n",
       " 'eeekk',\n",
       " 'eeewww',\n",
       " 'eeewwwwww',\n",
       " 'eeww',\n",
       " 'eggs',\n",
       " 'ehh',\n",
       " 'eitther',\n",
       " 'elbows',\n",
       " 'elected',\n",
       " 'elections',\n",
       " 'elev',\n",
       " 'ello',\n",
       " 'elo',\n",
       " 'email',\n",
       " 'eng',\n",
       " 'england',\n",
       " 'enjoys',\n",
       " 'enters',\n",
       " 'entitled',\n",
       " 'enuf',\n",
       " 'enuff',\n",
       " 'ep',\n",
       " 'erics',\n",
       " 'erm',\n",
       " 'eroticaust',\n",
       " 'errrrr',\n",
       " 'escaped',\n",
       " 'est',\n",
       " 'este',\n",
       " 'estefan',\n",
       " 'estra',\n",
       " 'eticket',\n",
       " 'euphamisms',\n",
       " 'evah',\n",
       " 'everbody',\n",
       " 'everone',\n",
       " 'evertonr',\n",
       " 'everytime',\n",
       " 'ewedding',\n",
       " 'eww',\n",
       " 'ewww',\n",
       " 'ewwww',\n",
       " 'ewwwww',\n",
       " 'ewwwwww',\n",
       " 'ewwwwwww',\n",
       " 'exchanged',\n",
       " 'exchanging',\n",
       " 'excitin',\n",
       " 'excuuuuuuse',\n",
       " 'experimenting',\n",
       " 'extensions',\n",
       " 'extras',\n",
       " 'exwife',\n",
       " 'eyes',\n",
       " 'facilitated',\n",
       " 'fails',\n",
       " 'fairbanks',\n",
       " 'fallout',\n",
       " 'falls',\n",
       " 'fallz',\n",
       " 'farms',\n",
       " 'fart',\n",
       " 'farting',\n",
       " 'farts',\n",
       " 'fav',\n",
       " 'fawk',\n",
       " 'fawked',\n",
       " 'fawker',\n",
       " 'fck',\n",
       " 'febe',\n",
       " 'feeds',\n",
       " 'feelings',\n",
       " 'feels',\n",
       " 'feet',\n",
       " 'fella',\n",
       " 'fellows',\n",
       " 'females',\n",
       " 'femine',\n",
       " 'fer',\n",
       " 'fergalicious',\n",
       " 'fergie',\n",
       " 'fetterline',\n",
       " 'fettish',\n",
       " 'ff',\n",
       " 'fiddles',\n",
       " 'files',\n",
       " 'fillin',\n",
       " 'finds',\n",
       " 'finers',\n",
       " 'fingers',\n",
       " 'firs',\n",
       " 'fishercat',\n",
       " 'fishercats',\n",
       " 'fishers',\n",
       " 'fishin',\n",
       " 'fits',\n",
       " 'fkajslf',\n",
       " 'fl',\n",
       " 'flames',\n",
       " 'flashed',\n",
       " 'flattered',\n",
       " 'flatts',\n",
       " 'flavors',\n",
       " 'flippin',\n",
       " 'flirts',\n",
       " 'fliuds',\n",
       " 'flops',\n",
       " 'fluids',\n",
       " 'fock',\n",
       " 'foley',\n",
       " 'folks',\n",
       " 'fongul',\n",
       " 'foothills',\n",
       " 'footprints',\n",
       " 'foreplay',\n",
       " 'forgets',\n",
       " 'forwads',\n",
       " 'foxes',\n",
       " 'foxwoods',\n",
       " 'fractured',\n",
       " 'fragged',\n",
       " 'fraggle',\n",
       " 'frags',\n",
       " 'freaing',\n",
       " 'freaked',\n",
       " 'freakin',\n",
       " 'freaking',\n",
       " 'freaks',\n",
       " 'freeeezinggg',\n",
       " 'freeezinggggg',\n",
       " 'freesbee',\n",
       " 'freind',\n",
       " 'frenchkiss',\n",
       " 'friends',\n",
       " 'fries',\n",
       " 'frm',\n",
       " 'froogle',\n",
       " 'frst',\n",
       " 'frustrating',\n",
       " 'ft',\n",
       " 'fuck',\n",
       " 'fucker',\n",
       " 'fuckin',\n",
       " 'fucking',\n",
       " 'fucks',\n",
       " 'fuddahnut',\n",
       " 'fuked',\n",
       " 'fulfilling',\n",
       " 'futurama',\n",
       " 'fwd',\n",
       " 'gaaaaaaay',\n",
       " 'gagas',\n",
       " 'gags',\n",
       " 'gained',\n",
       " 'gals',\n",
       " 'gamefly',\n",
       " 'games',\n",
       " 'garciae',\n",
       " 'gaspppp',\n",
       " 'gawd',\n",
       " 'gayoholic',\n",
       " 'gays',\n",
       " 'geeks',\n",
       " 'gees',\n",
       " 'geesh',\n",
       " 'geeshh',\n",
       " 'geeshhh',\n",
       " 'geessh',\n",
       " 'geeze',\n",
       " 'gente',\n",
       " 'gentlemen',\n",
       " 'gets',\n",
       " 'gettign',\n",
       " 'gettin',\n",
       " 'gettysburg',\n",
       " 'gezzz',\n",
       " 'gf',\n",
       " 'gguyyyzzzz',\n",
       " 'ghet',\n",
       " 'giggles',\n",
       " 'girlfriend',\n",
       " 'girls',\n",
       " 'giva',\n",
       " 'gives',\n",
       " 'givs',\n",
       " 'glitches',\n",
       " 'gm',\n",
       " 'gn',\n",
       " 'gng',\n",
       " 'goddamn',\n",
       " 'goin',\n",
       " 'goneee',\n",
       " 'gonna',\n",
       " 'goodbye',\n",
       " 'goodie',\n",
       " 'goodnight',\n",
       " 'goodnite',\n",
       " 'google',\n",
       " 'gooo',\n",
       " 'goooooo',\n",
       " 'gorda',\n",
       " 'gotaa',\n",
       " 'goths',\n",
       " 'gotta',\n",
       " 'gottsa',\n",
       " 'grabs',\n",
       " 'gracemont',\n",
       " 'grea',\n",
       " 'greetings',\n",
       " 'gret',\n",
       " 'grettings',\n",
       " 'grilfriend',\n",
       " 'grins',\n",
       " 'gritt',\n",
       " 'grlz',\n",
       " 'groups',\n",
       " 'grrl',\n",
       " 'grrr',\n",
       " 'grrrrrring',\n",
       " 'grrrrrrrr',\n",
       " 'grrrrrrrrr',\n",
       " 'grrrrrrrrrrrrrrrrr',\n",
       " 'gs',\n",
       " 'gtg',\n",
       " 'guns',\n",
       " 'gurlie',\n",
       " 'gurls',\n",
       " 'gurrrrl',\n",
       " 'guts',\n",
       " 'guys',\n",
       " 'guyz',\n",
       " 'guyzz',\n",
       " 'haaa',\n",
       " 'hafta',\n",
       " 'haha',\n",
       " 'hahaaa',\n",
       " 'hahaaaa',\n",
       " 'hahah',\n",
       " 'hahaha',\n",
       " 'hahahaa',\n",
       " 'hahahah',\n",
       " 'hahahaha',\n",
       " 'hahahahaaa',\n",
       " 'hahahahahaha',\n",
       " 'hahahahahahaha',\n",
       " 'hahahahahahahahahahahahahahahaha',\n",
       " 'hahahhahah',\n",
       " 'hahhaa',\n",
       " 'hahhahahaha',\n",
       " 'hairs',\n",
       " 'halfa',\n",
       " 'hallo',\n",
       " 'handheld',\n",
       " 'handing',\n",
       " 'hands',\n",
       " 'handyman',\n",
       " 'hang',\n",
       " 'hangin',\n",
       " 'hangs',\n",
       " 'happend',\n",
       " 'happened',\n",
       " 'happens',\n",
       " 'happpy',\n",
       " 'harley',\n",
       " 'hartford',\n",
       " 'has',\n",
       " 'haters',\n",
       " 'hates',\n",
       " 'hav',\n",
       " 'havin',\n",
       " 'having',\n",
       " 'hawaii',\n",
       " 'hawt',\n",
       " 'hb',\n",
       " 'headach',\n",
       " 'headlights',\n",
       " 'heads',\n",
       " 'heard',\n",
       " 'hearin',\n",
       " 'hearthechatters',\n",
       " 'heee',\n",
       " 'heeee',\n",
       " 'heeeey',\n",
       " 'heeheeheeheeheehee',\n",
       " 'heh',\n",
       " 'heheh',\n",
       " 'hehehe',\n",
       " 'hehehee',\n",
       " 'hehehehe',\n",
       " 'hel',\n",
       " 'helloooo',\n",
       " 'hellos',\n",
       " 'helped',\n",
       " 'hendrix',\n",
       " 'heroes',\n",
       " 'hertory',\n",
       " 'hes',\n",
       " 'heya',\n",
       " 'heyheyhey',\n",
       " 'heys',\n",
       " 'heyy',\n",
       " 'heyyy',\n",
       " 'heyyyy',\n",
       " 'heyyyyy',\n",
       " 'heyyyyyy',\n",
       " 'heyyyyyyy',\n",
       " 'heyyyyyyyy',\n",
       " 'heyyyyyyyyy',\n",
       " 'heyyyyyyyyyy',\n",
       " 'heyyyyyyyyyyyyyy',\n",
       " 'hfglhs',\n",
       " 'hgey',\n",
       " 'hgfhgfjgf',\n",
       " 'hhaaaaatttee',\n",
       " 'hheeyy',\n",
       " 'hheeyyy',\n",
       " 'hheeyyyyyyyyyyyyyyyyyyyyyyyyyyyyyyyyyyyyyyyyyyyyyyy',\n",
       " 'hhehe',\n",
       " 'hiding',\n",
       " 'hih',\n",
       " 'hii',\n",
       " 'hiii',\n",
       " 'hiiii',\n",
       " 'hio',\n",
       " 'hiom',\n",
       " 'hissy',\n",
       " 'hits',\n",
       " 'hitting',\n",
       " 'hix',\n",
       " 'hiy',\n",
       " 'hiya',\n",
       " 'hiyas',\n",
       " 'hm',\n",
       " 'hmm',\n",
       " 'hmmm',\n",
       " 'hmmmm',\n",
       " 'hmmmmm',\n",
       " 'hmmmmmmm',\n",
       " 'hmmmmmmmm',\n",
       " 'hmmmmmmmmmm',\n",
       " 'hmph',\n",
       " 'hogs',\n",
       " 'hohohohhohhoo',\n",
       " 'hola',\n",
       " 'holdin',\n",
       " 'holds',\n",
       " 'holocaustyourmom',\n",
       " 'hom',\n",
       " 'homeade',\n",
       " 'homeboys',\n",
       " 'homes',\n",
       " 'homies',\n",
       " 'homophobic',\n",
       " 'hoo',\n",
       " 'hooo',\n",
       " 'hooooo',\n",
       " 'hopin',\n",
       " 'hoping',\n",
       " 'horace',\n",
       " 'horriable',\n",
       " 'horrified',\n",
       " 'hots',\n",
       " 'hott',\n",
       " 'hottie',\n",
       " 'hotties',\n",
       " 'hours',\n",
       " 'houses',\n",
       " 'hows',\n",
       " 'howz',\n",
       " 'hpa',\n",
       " 'hr',\n",
       " 'hrs',\n",
       " 'http',\n",
       " 'hubbys',\n",
       " 'hugggs',\n",
       " 'huggs',\n",
       " 'huggss',\n",
       " 'hugs',\n",
       " 'hugss',\n",
       " 'hugsss',\n",
       " 'hugsssss',\n",
       " 'hugsssssssss',\n",
       " 'hugzzzzzzz',\n",
       " 'humm',\n",
       " 'hummmm',\n",
       " 'humple',\n",
       " 'hunters',\n",
       " 'huskers',\n",
       " 'husteling',\n",
       " 'huuuuuuuuuuuuuuuuuuuuuuuuuuuuuuuuuuugz',\n",
       " 'hx',\n",
       " 'hyy',\n",
       " 'iamahotnip',\n",
       " 'iamahotniplickme',\n",
       " 'iamahotnipwithhotnippics',\n",
       " 'iamahotnipwithpics',\n",
       " 'icky',\n",
       " 'ico',\n",
       " 'idiots',\n",
       " 'idnt',\n",
       " 'ifr',\n",
       " 'ignored',\n",
       " 'ignoring',\n",
       " 'ihavehotnips',\n",
       " 'ii',\n",
       " 'il',\n",
       " 'illin',\n",
       " 'im',\n",
       " 'images',\n",
       " 'imhave',\n",
       " 'imma',\n",
       " 'immersed',\n",
       " 'impaired',\n",
       " 'impared',\n",
       " 'impressed',\n",
       " 'indiantown',\n",
       " 'infor',\n",
       " 'inhales',\n",
       " 'injureis',\n",
       " 'innit',\n",
       " 'innocense',\n",
       " 'insuklting',\n",
       " 'internet',\n",
       " 'intersting',\n",
       " 'invisiable',\n",
       " 'involves',\n",
       " 'irc',\n",
       " 'irl',\n",
       " 'isnt',\n",
       " 'issues',\n",
       " 'italians',\n",
       " 'italy',\n",
       " 'itches',\n",
       " 'items',\n",
       " 'itz',\n",
       " 'ive',\n",
       " 'iz',\n",
       " 'ja',\n",
       " 'jackie',\n",
       " 'jacking',\n",
       " 'jajajaaa',\n",
       " 'jammed',\n",
       " 'jammers',\n",
       " 'jammies',\n",
       " 'jayse',\n",
       " 'jerimiah',\n",
       " 'jerkettes',\n",
       " 'jerketts',\n",
       " 'jerks',\n",
       " 'jeter',\n",
       " 'jk',\n",
       " 'johnson',\n",
       " 'johny',\n",
       " 'joined',\n",
       " 'jokes',\n",
       " 'joking',\n",
       " 'jonesboro',\n",
       " 'jordison',\n",
       " 'joshy',\n",
       " 'jr',\n",
       " 'jrz',\n",
       " 'jto',\n",
       " 'jucilicious',\n",
       " 'judges',\n",
       " 'jujubees',\n",
       " 'jumpin',\n",
       " 'jumps',\n",
       " ...]"
      ]
     },
     "execution_count": 27,
     "metadata": {},
     "output_type": "execute_result"
    }
   ],
   "source": [
    "print(len(unusual_words(nltk.corpus.nps_chat.words())))\n",
    "unusual_words(nltk.corpus.nps_chat.words())"
   ]
  },
  {
   "cell_type": "code",
   "execution_count": null,
   "metadata": {
    "id": "ewjPfIbG1pIb"
   },
   "outputs": [],
   "source": [
    "def content_fraction(text):\n",
    "    stopwords = nltk.corpus.stopwords.words('english')\n",
    "    content = [w for w in text if w.lower() not in stopwords]\n",
    "    return len(content) / len(text)"
   ]
  },
  {
   "cell_type": "code",
   "execution_count": null,
   "metadata": {
    "id": "DTZUFx5D1pIb",
    "outputId": "1b1e830c-c099-4415-8614-0d6b77c424cd"
   },
   "outputs": [
    {
     "data": {
      "text/plain": [
       "0.735240435097661"
      ]
     },
     "execution_count": 35,
     "metadata": {},
     "output_type": "execute_result"
    }
   ],
   "source": [
    "content_fraction(nltk.corpus.reuters.words())"
   ]
  },
  {
   "cell_type": "markdown",
   "metadata": {
    "id": "26zBfF4P1pIc"
   },
   "source": [
    "<img src=\"http://www.nltk.org/images/target.png\">"
   ]
  },
  {
   "cell_type": "code",
   "execution_count": null,
   "metadata": {
    "id": "23zbNiWg1pIc",
    "outputId": "d43c0e17-89b1-4124-e20a-bf2ba5eaff2b"
   },
   "outputs": [
    {
     "name": "stdout",
     "output_type": "stream",
     "text": [
      "['girl', 'girn', 'giro', 'glor', 'goer', 'gore', 'grin', 'inro', 'iron', 'lier', 'lire', 'loir', 'lore', 'lori', 'lorn', 'noir', 'nori', 'ogre', 'oner', 'orle', 'over', 'rein', 'rile', 'rine', 'ring', 'rive', 'roil', 'role', 'rone', 'rove', 'veri', 'vier', 'vire', 'virl', 'girl', 'iron', 'over', 'ring']\n"
     ]
    }
   ],
   "source": [
    "puzzle_letters = nltk.FreqDist('egivrvonl')\n",
    "obligatory = 'r'\n",
    "wordlist = nltk.corpus.words.words()\n",
    "print([w for w in wordlist if len(w) == 4  \\\n",
    "                   and obligatory in w     \\\n",
    "                   and nltk.FreqDist(w) <= puzzle_letters])"
   ]
  },
  {
   "cell_type": "code",
   "execution_count": null,
   "metadata": {
    "id": "9AdZtMwe1pIc",
    "outputId": "5ff76884-5b51-4b14-c146-d15bbea3739b"
   },
   "outputs": [
    {
     "name": "stdout",
     "output_type": "stream",
     "text": [
      "['Abbey', 'Abbie', 'Abby', 'Addie', 'Adrian', 'Adrien', 'Ajay', 'Alex', 'Alexis', 'Alfie', 'Ali', 'Alix', 'Allie', 'Allyn', 'Andie', 'Andrea', 'Andy', 'Angel', 'Angie', 'Ariel', 'Ashley', 'Aubrey', 'Augustine', 'Austin', 'Averil', 'Barrie', 'Barry', 'Beau', 'Bennie', 'Benny', 'Bernie', 'Bert', 'Bertie', 'Bill', 'Billie', 'Billy', 'Blair', 'Blake', 'Bo', 'Bobbie', 'Bobby', 'Brandy', 'Brett', 'Britt', 'Brook', 'Brooke', 'Brooks', 'Bryn', 'Cal', 'Cam', 'Cammy', 'Carey', 'Carlie', 'Carlin', 'Carmine', 'Carroll', 'Cary', 'Caryl', 'Casey', 'Cass', 'Cat', 'Cecil', 'Chad', 'Chris', 'Chrissy', 'Christian', 'Christie', 'Christy', 'Clair', 'Claire', 'Clare', 'Claude', 'Clem', 'Clemmie', 'Cody', 'Connie', 'Constantine', 'Corey', 'Corrie', 'Cory', 'Courtney', 'Cris', 'Daffy', 'Dale', 'Dallas', 'Dana', 'Dani', 'Daniel', 'Dannie', 'Danny', 'Darby', 'Darcy', 'Darryl', 'Daryl', 'Deane', 'Del', 'Dell', 'Demetris', 'Dennie', 'Denny', 'Devin', 'Devon', 'Dion', 'Dionis', 'Dominique', 'Donnie', 'Donny', 'Dorian', 'Dory', 'Drew', 'Eddie', 'Eddy', 'Edie', 'Elisha', 'Emmy', 'Erin', 'Esme', 'Evelyn', 'Felice', 'Fran', 'Francis', 'Frank', 'Frankie', 'Franky', 'Fred', 'Freddie', 'Freddy', 'Gabriel', 'Gabriell', 'Gail', 'Gale', 'Gay', 'Gayle', 'Gene', 'George', 'Georgia', 'Georgie', 'Geri', 'Germaine', 'Gerri', 'Gerry', 'Gill', 'Ginger', 'Glen', 'Glenn', 'Grace', 'Gretchen', 'Gus', 'Haleigh', 'Haley', 'Hannibal', 'Harley', 'Hazel', 'Heath', 'Henrie', 'Hilary', 'Hillary', 'Holly', 'Ike', 'Ikey', 'Ira', 'Isa', 'Isador', 'Isadore', 'Jackie', 'Jaime', 'Jamie', 'Jan', 'Jean', 'Jere', 'Jermaine', 'Jerrie', 'Jerry', 'Jess', 'Jesse', 'Jessie', 'Jo', 'Jodi', 'Jodie', 'Jody', 'Joey', 'Jordan', 'Juanita', 'Jude', 'Judith', 'Judy', 'Julie', 'Justin', 'Karel', 'Kellen', 'Kelley', 'Kelly', 'Kelsey', 'Kerry', 'Kim', 'Kip', 'Kirby', 'Kit', 'Kris', 'Kyle', 'Lane', 'Lanny', 'Lauren', 'Laurie', 'Lee', 'Leigh', 'Leland', 'Lesley', 'Leslie', 'Lin', 'Lind', 'Lindsay', 'Lindsey', 'Lindy', 'Lonnie', 'Loren', 'Lorne', 'Lorrie', 'Lou', 'Luce', 'Lyn', 'Lynn', 'Maddie', 'Maddy', 'Marietta', 'Marion', 'Marlo', 'Martie', 'Marty', 'Mattie', 'Matty', 'Maurise', 'Max', 'Maxie', 'Mead', 'Meade', 'Mel', 'Meredith', 'Merle', 'Merrill', 'Merry', 'Meryl', 'Michal', 'Michel', 'Michele', 'Mickie', 'Micky', 'Millicent', 'Morgan', 'Morlee', 'Muffin', 'Nat', 'Nichole', 'Nickie', 'Nicky', 'Niki', 'Nikki', 'Noel', 'Ollie', 'Page', 'Paige', 'Pat', 'Patrice', 'Patsy', 'Pattie', 'Patty', 'Pen', 'Pennie', 'Penny', 'Perry', 'Phil', 'Pooh', 'Quentin', 'Quinn', 'Randi', 'Randie', 'Randy', 'Ray', 'Regan', 'Reggie', 'Rene', 'Rey', 'Ricki', 'Rickie', 'Ricky', 'Rikki', 'Robbie', 'Robin', 'Ronnie', 'Ronny', 'Rory', 'Ruby', 'Sal', 'Sam', 'Sammy', 'Sandy', 'Sascha', 'Sasha', 'Saundra', 'Sayre', 'Scotty', 'Sean', 'Shaine', 'Shane', 'Shannon', 'Shaun', 'Shawn', 'Shay', 'Shayne', 'Shea', 'Shelby', 'Shell', 'Shelley', 'Sibyl', 'Simone', 'Sonnie', 'Sonny', 'Stacy', 'Sunny', 'Sydney', 'Tabbie', 'Tabby', 'Tallie', 'Tally', 'Tammie', 'Tammy', 'Tate', 'Ted', 'Teddie', 'Teddy', 'Terri', 'Terry', 'Theo', 'Tim', 'Timmie', 'Timmy', 'Tobe', 'Tobie', 'Toby', 'Tommie', 'Tommy', 'Tony', 'Torey', 'Trace', 'Tracey', 'Tracie', 'Tracy', 'Val', 'Vale', 'Valentine', 'Van', 'Vin', 'Vinnie', 'Vinny', 'Virgie', 'Wallie', 'Wallis', 'Wally', 'Whitney', 'Willi', 'Willie', 'Willy', 'Winnie', 'Winny', 'Wynn']\n"
     ]
    }
   ],
   "source": [
    "print([w for w in male_names if w in female_names])"
   ]
  },
  {
   "cell_type": "code",
   "execution_count": null,
   "metadata": {
    "id": "afr3ussj1pIc",
    "outputId": "5e0ffdca-23de-430b-8c22-b4fabb82a9e9"
   },
   "outputs": [
    {
     "data": {
      "image/png": "[encoded data removed]",
      "text/plain": [
       "<Figure size 432x288 with 1 Axes>"
      ]
     },
     "metadata": {
      "needs_background": "light"
     },
     "output_type": "display_data"
    }
   ],
   "source": [
    "cfd = nltk.ConditionalFreqDist( \\\n",
    "           (fileid, name[-1])   \\\n",
    "           for fileid in names.fileids() \\\n",
    "           for name in names.words(fileid))\n",
    "cfd.plot()"
   ]
  },
  {
   "cell_type": "markdown",
   "metadata": {
    "id": "t8U1qvGz1pIc"
   },
   "source": [
    "### A Pronouncing Dictionary\n",
    "\n",
    "เก็บคำและคำอ่าน (phones/list of phonetic codes) ดูความหมายแต่ละสัญลักษณ์ได้ที่ http://en.wikipedia.org/wiki/Arpabet"
   ]
  },
  {
   "cell_type": "code",
   "execution_count": 1,
   "metadata": {
    "colab": {
     "base_uri": "https://localhost:8080/",
     "height": 236
    },
    "executionInfo": {
     "elapsed": 22,
     "status": "error",
     "timestamp": 1642683271004,
     "user": {
      "displayName": "Tasanawan Soonklang",
      "photoUrl": "https://lh3.googleusercontent.com/a-/AOh14GhBB34ul0Gnc90lVKcRi2775F8xagUqJeiNKe5B=s64",
      "userId": "12824326183520981875"
     },
     "user_tz": -420
    },
    "id": "vTHuKMhe1pIc",
    "outputId": "5da423e3-ba8d-483f-977e-4bb1545f5504"
   },
   "outputs": [
    {
     "ename": "NameError",
     "evalue": "ignored",
     "output_type": "error",
     "traceback": [
      "\u001b[0;31m---------------------------------------------------------------------------\u001b[0m",
      "\u001b[0;31mNameError\u001b[0m                                 Traceback (most recent call last)",
      "\u001b[0;32m<ipython-input-1-c9360986d1d5>\u001b[0m in \u001b[0;36m<module>\u001b[0;34m()\u001b[0m\n\u001b[0;32m----> 1\u001b[0;31m \u001b[0mentries\u001b[0m \u001b[0;34m=\u001b[0m \u001b[0mnltk\u001b[0m\u001b[0;34m.\u001b[0m\u001b[0mcorpus\u001b[0m\u001b[0;34m.\u001b[0m\u001b[0mcmudict\u001b[0m\u001b[0;34m.\u001b[0m\u001b[0mentries\u001b[0m\u001b[0;34m(\u001b[0m\u001b[0;34m)\u001b[0m\u001b[0;34m\u001b[0m\u001b[0;34m\u001b[0m\u001b[0m\n\u001b[0m\u001b[1;32m      2\u001b[0m \u001b[0mprint\u001b[0m\u001b[0;34m(\u001b[0m\u001b[0mlen\u001b[0m\u001b[0;34m(\u001b[0m\u001b[0mentries\u001b[0m\u001b[0;34m)\u001b[0m\u001b[0;34m)\u001b[0m\u001b[0;34m\u001b[0m\u001b[0;34m\u001b[0m\u001b[0m\n\u001b[1;32m      3\u001b[0m \u001b[0;34m\u001b[0m\u001b[0m\n\u001b[1;32m      4\u001b[0m \u001b[0;32mfor\u001b[0m \u001b[0mentry\u001b[0m \u001b[0;32min\u001b[0m \u001b[0mentries\u001b[0m\u001b[0;34m[\u001b[0m\u001b[0;36m42371\u001b[0m\u001b[0;34m:\u001b[0m\u001b[0;36m42379\u001b[0m\u001b[0;34m]\u001b[0m\u001b[0;34m:\u001b[0m\u001b[0;34m\u001b[0m\u001b[0;34m\u001b[0m\u001b[0m\n\u001b[1;32m      5\u001b[0m     \u001b[0mprint\u001b[0m\u001b[0;34m(\u001b[0m\u001b[0mentry\u001b[0m\u001b[0;34m)\u001b[0m\u001b[0;34m\u001b[0m\u001b[0;34m\u001b[0m\u001b[0m\n",
      "\u001b[0;31mNameError\u001b[0m: name 'nltk' is not defined"
     ]
    }
   ],
   "source": [
    "entries = nltk.corpus.cmudict.entries()\n",
    "print(len(entries))\n",
    "\n",
    "for entry in entries[42371:42379]:\n",
    "    print(entry)"
   ]
  },
  {
   "cell_type": "code",
   "execution_count": null,
   "metadata": {
    "executionInfo": {
     "elapsed": 10,
     "status": "aborted",
     "timestamp": 1642683270997,
     "user": {
      "displayName": "Tasanawan Soonklang",
      "photoUrl": "https://lh3.googleusercontent.com/a-/AOh14GhBB34ul0Gnc90lVKcRi2775F8xagUqJeiNKe5B=s64",
      "userId": "12824326183520981875"
     },
     "user_tz": -420
    },
    "id": "XFoCCZ4A1pId"
   },
   "outputs": [],
   "source": [
    "for word, pron in entries: \n",
    "    if len(pron) == 3: \n",
    "        ph1, ph2, ph3 = pron\n",
    "        if ph1 == 'P' and ph3 == 'T':\n",
    "            print(word, ph2, )"
   ]
  },
  {
   "cell_type": "code",
   "execution_count": null,
   "metadata": {
    "executionInfo": {
     "elapsed": 11,
     "status": "aborted",
     "timestamp": 1642683270998,
     "user": {
      "displayName": "Tasanawan Soonklang",
      "photoUrl": "https://lh3.googleusercontent.com/a-/AOh14GhBB34ul0Gnc90lVKcRi2775F8xagUqJeiNKe5B=s64",
      "userId": "12824326183520981875"
     },
     "user_tz": -420
    },
    "id": "PqBFYN2A1pId"
   },
   "outputs": [],
   "source": [
    "syllable = ['N', 'IH0', 'K', 'S']\n",
    "print([word for word, pron in entries if pron[-4:] == syllable])"
   ]
  },
  {
   "cell_type": "code",
   "execution_count": null,
   "metadata": {
    "executionInfo": {
     "elapsed": 12,
     "status": "aborted",
     "timestamp": 1642683270999,
     "user": {
      "displayName": "Tasanawan Soonklang",
      "photoUrl": "https://lh3.googleusercontent.com/a-/AOh14GhBB34ul0Gnc90lVKcRi2775F8xagUqJeiNKe5B=s64",
      "userId": "12824326183520981875"
     },
     "user_tz": -420
    },
    "id": "wNgs9W_K1pId"
   },
   "outputs": [],
   "source": [
    "print([w for w, pron in entries if pron[-1] == 'M' and w[-1] == 'n'])"
   ]
  },
  {
   "cell_type": "code",
   "execution_count": null,
   "metadata": {
    "executionInfo": {
     "elapsed": 12,
     "status": "aborted",
     "timestamp": 1642683271000,
     "user": {
      "displayName": "Tasanawan Soonklang",
      "photoUrl": "https://lh3.googleusercontent.com/a-/AOh14GhBB34ul0Gnc90lVKcRi2775F8xagUqJeiNKe5B=s64",
      "userId": "12824326183520981875"
     },
     "user_tz": -420
    },
    "id": "PROsz9av1pId"
   },
   "outputs": [],
   "source": [
    "def stress(pron):\n",
    "    return [char for phone in pron for char in phone if char.isdigit()]\n",
    "\n",
    "print(stress(['F', 'AY1', 'ER0', 'B', 'AO2', 'L']))\n",
    "\n",
    "print([w for w, pron in entries if stress(pron) == ['0', '1', '0', '2', '0']])"
   ]
  },
  {
   "cell_type": "code",
   "execution_count": null,
   "metadata": {
    "executionInfo": {
     "elapsed": 12,
     "status": "aborted",
     "timestamp": 1642683271000,
     "user": {
      "displayName": "Tasanawan Soonklang",
      "photoUrl": "https://lh3.googleusercontent.com/a-/AOh14GhBB34ul0Gnc90lVKcRi2775F8xagUqJeiNKe5B=s64",
      "userId": "12824326183520981875"
     },
     "user_tz": -420
    },
    "id": "OQSR3S111pId"
   },
   "outputs": [],
   "source": [
    "def syllable(word):\n",
    "    prondict = nltk.corpus.cmudict.dict()\n",
    "    print(prondict[word])\n",
    "    return len(stress(prondict[word][0]))\n",
    "\n",
    "print(syllable('fir'))\n",
    "print(syllable('fire'))"
   ]
  },
  {
   "cell_type": "code",
   "execution_count": null,
   "metadata": {
    "executionInfo": {
     "elapsed": 13,
     "status": "aborted",
     "timestamp": 1642683271001,
     "user": {
      "displayName": "Tasanawan Soonklang",
      "photoUrl": "https://lh3.googleusercontent.com/a-/AOh14GhBB34ul0Gnc90lVKcRi2775F8xagUqJeiNKe5B=s64",
      "userId": "12824326183520981875"
     },
     "user_tz": -420
    },
    "id": "cYCVj0MR1pId"
   },
   "outputs": [],
   "source": [
    "print([w for w, pron in entries if stress(pron) == ['0', '2', '0', '1', '0']])"
   ]
  },
  {
   "cell_type": "code",
   "execution_count": null,
   "metadata": {
    "executionInfo": {
     "elapsed": 13,
     "status": "aborted",
     "timestamp": 1642683271001,
     "user": {
      "displayName": "Tasanawan Soonklang",
      "photoUrl": "https://lh3.googleusercontent.com/a-/AOh14GhBB34ul0Gnc90lVKcRi2775F8xagUqJeiNKe5B=s64",
      "userId": "12824326183520981875"
     },
     "user_tz": -420
    },
    "id": "MBY7iufU1pId"
   },
   "outputs": [],
   "source": [
    "p3 = [(pron[0]+'-'+pron[2], word) \n",
    "for (word, pron) in entries\n",
    "    if pron[0] == 'P' and len(pron) == 3]\n",
    "\n",
    "cfd = nltk.ConditionalFreqDist(p3)\n",
    "for template in sorted(cfd.conditions()):\n",
    "    if len(cfd[template]) > 10:\n",
    "        words = sorted(cfd[template])\n",
    "        wordstring = ' '.join(words)\n",
    "        print(template, wordstring[:70] + \"...\")"
   ]
  },
  {
   "cell_type": "code",
   "execution_count": null,
   "metadata": {
    "executionInfo": {
     "elapsed": 12,
     "status": "aborted",
     "timestamp": 1642683271001,
     "user": {
      "displayName": "Tasanawan Soonklang",
      "photoUrl": "https://lh3.googleusercontent.com/a-/AOh14GhBB34ul0Gnc90lVKcRi2775F8xagUqJeiNKe5B=s64",
      "userId": "12824326183520981875"
     },
     "user_tz": -420
    },
    "id": "6zfXVFvN1pIe"
   },
   "outputs": [],
   "source": [
    "prondict = nltk.corpus.cmudict.dict()\n",
    "prondict['fire']"
   ]
  },
  {
   "cell_type": "code",
   "execution_count": null,
   "metadata": {
    "executionInfo": {
     "elapsed": 13,
     "status": "aborted",
     "timestamp": 1642683271002,
     "user": {
      "displayName": "Tasanawan Soonklang",
      "photoUrl": "https://lh3.googleusercontent.com/a-/AOh14GhBB34ul0Gnc90lVKcRi2775F8xagUqJeiNKe5B=s64",
      "userId": "12824326183520981875"
     },
     "user_tz": -420
    },
    "id": "QSB7r9fV1pIe"
   },
   "outputs": [],
   "source": [
    "prondict['blog']"
   ]
  },
  {
   "cell_type": "code",
   "execution_count": null,
   "metadata": {
    "executionInfo": {
     "elapsed": 12,
     "status": "aborted",
     "timestamp": 1642683271002,
     "user": {
      "displayName": "Tasanawan Soonklang",
      "photoUrl": "https://lh3.googleusercontent.com/a-/AOh14GhBB34ul0Gnc90lVKcRi2775F8xagUqJeiNKe5B=s64",
      "userId": "12824326183520981875"
     },
     "user_tz": -420
    },
    "id": "9I99rl_-1pIe"
   },
   "outputs": [],
   "source": [
    "prondict['blog'] = [['B', 'L', 'AA1', 'G']]\n",
    "prondict['blog']"
   ]
  },
  {
   "cell_type": "code",
   "execution_count": null,
   "metadata": {
    "executionInfo": {
     "elapsed": 13,
     "status": "aborted",
     "timestamp": 1642683271003,
     "user": {
      "displayName": "Tasanawan Soonklang",
      "photoUrl": "https://lh3.googleusercontent.com/a-/AOh14GhBB34ul0Gnc90lVKcRi2775F8xagUqJeiNKe5B=s64",
      "userId": "12824326183520981875"
     },
     "user_tz": -420
    },
    "id": "2HTEtM6p1pIe"
   },
   "outputs": [],
   "source": [
    "text = ['natural', 'language', 'processing']\n",
    "print([ph for w in text for ph in prondict[w][0]])"
   ]
  },
  {
   "cell_type": "code",
   "execution_count": null,
   "metadata": {
    "executionInfo": {
     "elapsed": 13,
     "status": "aborted",
     "timestamp": 1642683271003,
     "user": {
      "displayName": "Tasanawan Soonklang",
      "photoUrl": "https://lh3.googleusercontent.com/a-/AOh14GhBB34ul0Gnc90lVKcRi2775F8xagUqJeiNKe5B=s64",
      "userId": "12824326183520981875"
     },
     "user_tz": -420
    },
    "id": "8Vifwm2a1pIe"
   },
   "outputs": [],
   "source": []
  }
 ],
 "metadata": {
  "colab": {
   "name": "Accessing text corpora and lexical resources.ipynb",
   "provenance": []
  },
  "kernelspec": {
   "display_name": "Python 3 (ipykernel)",
   "language": "python",
   "name": "python3"
  },
  "language_info": {
   "codemirror_mode": {
    "name": "ipython",
    "version": 3
   },
   "file_extension": ".py",
   "mimetype": "text/x-python",
   "name": "python",
   "nbconvert_exporter": "python",
   "pygments_lexer": "ipython3",
   "version": "3.11.5"
  }
 },
 "nbformat": 4,
 "nbformat_minor": 1
}
