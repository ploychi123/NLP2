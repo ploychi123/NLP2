{
 "cells": [
  {
   "cell_type": "code",
   "execution_count": null,
   "metadata": {
    "id": "8uHaWgODuqE3",
    "outputId": "14357433-7576-4f24-f605-958c49d405bc"
   },
   "outputs": [
    {
     "name": "stdout",
     "output_type": "stream",
     "text": [
      "['a', 'aa', 'aal', 'aalii', 'aam', 'aardvark', 'aardwolf', 'aba', 'abac', 'abaca', 'abacate', 'abacay', 'abacinate', 'abacination', 'abaciscus', 'abacist', 'aback', 'abactinal', 'abactinally', 'abaction', 'abactor', 'abaculus', 'abacus', 'abaff', 'abaft', 'abaisance', 'abaiser', 'abaissed', 'abalienate', 'abalienation', 'abalone', 'abampere', 'abandon', 'abandonable', 'abandoned', 'abandonedly', 'abandonee', 'abandoner', 'abandonment', 'abaptiston', 'abarthrosis', 'abarticular', 'abarticulation', 'abas', 'abase', 'abased', 'abasedly', 'abasedness', 'abasement', 'abaser', 'abash', 'abashed', 'abashedly', 'abashedness', 'abashless', 'abashlessly', 'abashment', 'abasia', 'abasic', 'abask', 'abastardize', 'abatable', 'abate', 'abatement', 'abater', 'abatis', 'abatised', 'abaton', 'abator', 'abattoir', 'abature', 'abave', 'abaxial', 'abaxile', 'abaze', 'abb', 'abbacomes', 'abbacy', 'abbas', 'abbasi', 'abbassi', 'abbatial', 'abbatical', 'abbess', 'abbey', 'abbeystede', 'abbot', 'abbotcy', 'abbotnullius', 'abbotship', 'abbreviate', 'abbreviately', 'abbreviation', 'abbreviator', 'abbreviatory', 'abbreviature', 'abcoulomb', 'abdal', 'abdat', 'abdest']\n"
     ]
    }
   ],
   "source": [
    "\n",
    "import nltk, re\n",
    "\n",
    "wordlist = [w for w in nltk.corpus.words.words('en') if w.islower()]\n",
    "print(wordlist[:100])"
   ]
  },
  {
   "cell_type": "code",
   "execution_count": null,
   "metadata": {
    "id": "MMEA732duqE9",
    "outputId": "79d0a981-b5bf-4fe5-e565-f6b4256140ce"
   },
   "outputs": [
    {
     "name": "stdout",
     "output_type": "stream",
     "text": [
      "['abaissed', 'abandoned', 'abased', 'abashed', 'abatised', 'abed', 'aborted', 'abridged', 'abscessed', 'absconded', 'absorbed', 'abstracted', 'abstricted', 'accelerated', 'accepted', 'accidented', 'accoladed', 'accolated', 'accomplished', 'accosted', 'accredited', 'accursed', 'accused', 'accustomed', 'acetated', 'acheweed', 'aciculated', 'aciliated', 'acknowledged', 'acorned', 'acquainted', 'acquired', 'acquisited', 'acred', 'aculeated', 'addebted', 'added', 'addicted', 'addlebrained', 'addleheaded', 'addlepated', 'addorsed', 'adempted', 'adfected', 'adjoined', 'admired', 'admitted', 'adnexed', 'adopted', 'adossed', 'adreamed', 'adscripted', 'aduncated', 'advanced', 'advised', 'aeried', 'aethered', 'afeared', 'affected', 'affectioned', 'affined', 'afflicted', 'affricated', 'affrighted', 'affronted', 'aforenamed', 'afterfeed', 'aftershafted', 'afterthoughted', 'afterwitted', 'agazed', 'aged', 'agglomerated', 'aggrieved', 'agminated', 'agnamed', 'agonied', 'agreed', 'agueweed', 'ahungered', 'aiguilletted', 'ailweed', 'airbrained', 'airified', 'aiseweed', 'aisled', 'alarmed', 'alated', 'alimonied', 'aliped', 'alleyed', 'allied', 'alligatored', 'allseed', 'almsdeed', 'aloed', 'altared', 'alveolated', 'amazed', 'ameed']\n"
     ]
    }
   ],
   "source": [
    "word_ed =[w for w in wordlist if re.search('ed$', w)]\n",
    "print(word_ed[:100])"
   ]
  },
  {
   "cell_type": "code",
   "execution_count": null,
   "metadata": {
    "id": "J-ViRxcIuqE9",
    "outputId": "61a0aaee-36ab-424c-af77-091bfdd12de0"
   },
   "outputs": [
    {
     "name": "stdout",
     "output_type": "stream",
     "text": [
      "['abjectly', 'adjuster', 'dejected', 'dejectly', 'injector', 'majestic', 'objectee', 'objector', 'rejecter', 'rejector', 'unjilted', 'unjolted', 'unjustly']\n"
     ]
    }
   ],
   "source": [
    "word_8jt = [w for w in wordlist if re.search('^..j..t..$', w)]\n",
    "print(word_8jt)"
   ]
  },
  {
   "cell_type": "code",
   "execution_count": null,
   "metadata": {
    "id": "Qknh82tVuqE-",
    "outputId": "c86f9e87-7635-447e-f1a8-4e5e52078486"
   },
   "outputs": [
    {
     "name": "stdout",
     "output_type": "stream",
     "text": [
      "['abjectedness', 'abjection', 'abjective', 'abjectly', 'abjectness', 'adjection', 'adjectional', 'adjectival', 'adjectivally', 'adjective']\n"
     ]
    }
   ],
   "source": [
    "word_8jt = [w for w in wordlist if re.search('..j..t..', w)]\n",
    "print(word_8jt[:10])"
   ]
  },
  {
   "cell_type": "code",
   "execution_count": null,
   "metadata": {
    "id": "qfGdoTfOuqE-",
    "outputId": "624142dc-7324-4a10-d15c-2967660e0510"
   },
   "outputs": [
    {
     "name": "stdout",
     "output_type": "stream",
     "text": [
      "['email', 'e-mail', 'emails', 'e-mails']\n"
     ]
    }
   ],
   "source": [
    "wlist = ['email', 'e-mail', 'emails', 'e-mails', \\\n",
    "         'electonic mail', 'electonic-mail','electonic mails', 'electonic-mails' ]\n",
    "print([w for w in wlist if re.search('^e-?mails?$', w)])"
   ]
  },
  {
   "cell_type": "code",
   "execution_count": null,
   "metadata": {
    "id": "EX_kmECKuqE_",
    "outputId": "484906f7-d9ef-4388-aa83-4ad82b06a6d9"
   },
   "outputs": [
    {
     "name": "stdout",
     "output_type": "stream",
     "text": [
      "['gold', 'golf', 'hold', 'hole']\n"
     ]
    }
   ],
   "source": [
    "textonyms = [w for w in wordlist if re.search('^[ghi][mno][jlk][def]$', w)]\n",
    "print(textonyms)"
   ]
  },
  {
   "cell_type": "code",
   "execution_count": null,
   "metadata": {
    "id": "gWPY0b4QuqFA",
    "outputId": "8960605c-5abf-4646-c032-10fd98287e73"
   },
   "outputs": [
    {
     "name": "stdout",
     "output_type": "stream",
     "text": [
      "257 ['g', 'ghoom', 'gig', 'giggling', 'gigolo', 'gilim', 'gill', 'gilling', 'gilo', 'gim', 'gin', 'ging', 'gingili', 'gink', 'ginkgo', 'ginning', 'gio', 'glink', 'glom', 'glonoin', 'gloom', 'glooming', 'gnomon', 'go', 'gog', 'gogo', 'goi', 'going', 'gol', 'goli', 'gon', 'gong', 'gonion', 'goo', 'googol', 'gook', 'gool', 'goon', 'h', 'hi', 'high', 'hill', 'him', 'hin', 'hing', 'hinoki', 'ho', 'hog', 'hoggin', 'hogling', 'hoi', 'hoin', 'holing', 'holl', 'hollin', 'hollo', 'hollong', 'holm', 'homo', 'homologon', 'hong', 'honk', 'hook', 'hoon', 'i', 'igloo', 'ihi', 'ilk', 'ill', 'imi', 'imino', 'immi', 'in', 'ing', 'ingoing', 'inion', 'ink', 'inkling', 'inlook', 'inn', 'inning', 'io', 'ion', 'j', 'jhool', 'jig', 'jing', 'jingling', 'jingo', 'jinjili', 'jink', 'jinn', 'jinni', 'jo', 'jog', 'johnin', 'join', 'joining', 'joll', 'joom', 'k', 'kiki', 'kil', 'kilhig', 'kilim', 'kill', 'killing', 'kiln', 'kilo', 'kim', 'kimono', 'kin', 'king', 'kingling', 'kink', 'kino', 'klom', 'knoll', 'ko', 'kohl', 'koi', 'koil', 'koilon', 'koinon', 'kokil', 'kokio', 'koko', 'kokoon', 'kolo', 'kolokolo', 'kon', 'kongoni', 'konini', 'l', 'li', 'lignin', 'liin', 'likin', 'liking', 'liknon', 'lill', 'lim', 'liming', 'limn', 'limonin', 'lin', 'ling', 'lingo', 'linin', 'lining', 'link', 'linking', 'linn', 'lino', 'linolin', 'linon', 'lion', 'lo', 'log', 'loggin', 'logging', 'login', 'logion', 'logoi', 'loin', 'loll', 'long', 'longing', 'loo', 'look', 'looking', 'loom', 'looming', 'loon', 'm', 'mho', 'mi', 'mig', 'miglio', 'mignon', 'mijl', 'mil', 'milk', 'milking', 'mill', 'milling', 'million', 'milo', 'mim', 'min', 'ming', 'minikin', 'minim', 'mining', 'minion', 'mink', 'minning', 'mino', 'mo', 'mog', 'mogo', 'moho', 'moil', 'moiling', 'moio', 'mojo', 'moki', 'moko', 'momo', 'mon', 'mong', 'monk', 'mono', 'moo', 'mooing', 'mool', 'moon', 'mooning', 'n', 'ni', 'nig', 'niggling', 'nigh', 'nil', 'nim', 'ninon', 'niog', 'no', 'nog', 'noggin', 'nogging', 'noil', 'noll', 'nolo', 'non', 'nonillion', 'nonion', 'nook', 'nooking', 'noon', 'nooning', 'o', 'oh', 'ohm', 'oho', 'oii', 'oil', 'oki', 'olio', 'olm', 'om', 'on', 'ongoing', 'onion', 'onlook', 'onlooking', 'oolong']\n"
     ]
    }
   ],
   "source": [
    "finger_twisters = [w for w in wordlist if re.search('^[ghijklmno]+$', w)]\n",
    "print(len(finger_twisters),finger_twisters)"
   ]
  },
  {
   "cell_type": "code",
   "execution_count": null,
   "metadata": {
    "id": "s_s3TrX3uqFA",
    "outputId": "cc2cfc25-2dc1-44bd-8590-9655566480fa"
   },
   "outputs": [
    {
     "name": "stdout",
     "output_type": "stream",
     "text": [
      "257 ['g', 'ghoom', 'gig', 'giggling', 'gigolo', 'gilim', 'gill', 'gilling', 'gilo', 'gim', 'gin', 'ging', 'gingili', 'gink', 'ginkgo', 'ginning', 'gio', 'glink', 'glom', 'glonoin', 'gloom', 'glooming', 'gnomon', 'go', 'gog', 'gogo', 'goi', 'going', 'gol', 'goli', 'gon', 'gong', 'gonion', 'goo', 'googol', 'gook', 'gool', 'goon', 'h', 'hi', 'high', 'hill', 'him', 'hin', 'hing', 'hinoki', 'ho', 'hog', 'hoggin', 'hogling', 'hoi', 'hoin', 'holing', 'holl', 'hollin', 'hollo', 'hollong', 'holm', 'homo', 'homologon', 'hong', 'honk', 'hook', 'hoon', 'i', 'igloo', 'ihi', 'ilk', 'ill', 'imi', 'imino', 'immi', 'in', 'ing', 'ingoing', 'inion', 'ink', 'inkling', 'inlook', 'inn', 'inning', 'io', 'ion', 'j', 'jhool', 'jig', 'jing', 'jingling', 'jingo', 'jinjili', 'jink', 'jinn', 'jinni', 'jo', 'jog', 'johnin', 'join', 'joining', 'joll', 'joom', 'k', 'kiki', 'kil', 'kilhig', 'kilim', 'kill', 'killing', 'kiln', 'kilo', 'kim', 'kimono', 'kin', 'king', 'kingling', 'kink', 'kino', 'klom', 'knoll', 'ko', 'kohl', 'koi', 'koil', 'koilon', 'koinon', 'kokil', 'kokio', 'koko', 'kokoon', 'kolo', 'kolokolo', 'kon', 'kongoni', 'konini', 'l', 'li', 'lignin', 'liin', 'likin', 'liking', 'liknon', 'lill', 'lim', 'liming', 'limn', 'limonin', 'lin', 'ling', 'lingo', 'linin', 'lining', 'link', 'linking', 'linn', 'lino', 'linolin', 'linon', 'lion', 'lo', 'log', 'loggin', 'logging', 'login', 'logion', 'logoi', 'loin', 'loll', 'long', 'longing', 'loo', 'look', 'looking', 'loom', 'looming', 'loon', 'm', 'mho', 'mi', 'mig', 'miglio', 'mignon', 'mijl', 'mil', 'milk', 'milking', 'mill', 'milling', 'million', 'milo', 'mim', 'min', 'ming', 'minikin', 'minim', 'mining', 'minion', 'mink', 'minning', 'mino', 'mo', 'mog', 'mogo', 'moho', 'moil', 'moiling', 'moio', 'mojo', 'moki', 'moko', 'momo', 'mon', 'mong', 'monk', 'mono', 'moo', 'mooing', 'mool', 'moon', 'mooning', 'n', 'ni', 'nig', 'niggling', 'nigh', 'nil', 'nim', 'ninon', 'niog', 'no', 'nog', 'noggin', 'nogging', 'noil', 'noll', 'nolo', 'non', 'nonillion', 'nonion', 'nook', 'nooking', 'noon', 'nooning', 'o', 'oh', 'ohm', 'oho', 'oii', 'oil', 'oki', 'olio', 'olm', 'om', 'on', 'ongoing', 'onion', 'onlook', 'onlooking', 'oolong']\n"
     ]
    }
   ],
   "source": [
    "finger_twisters = [w for w in wordlist if re.search('^[g-o]+$', w)]\n",
    "print(len(finger_twisters),finger_twisters)"
   ]
  },
  {
   "cell_type": "code",
   "execution_count": null,
   "metadata": {
    "id": "BxByb3vTuqFB",
    "outputId": "e86ad73d-7b34-4218-b672-9f4eddd82f51"
   },
   "outputs": [
    {
     "name": "stdout",
     "output_type": "stream",
     "text": [
      "1963 ['a', 'aa', 'aal', 'aam', 'aba', 'abac', 'abaca', 'aback', 'abaff', 'abalone', 'abandon', 'abandonable', 'abandoned', 'abandonee', 'abb', 'abdal', 'abdomen', 'abeam', 'abed', 'abele', 'able', 'abloom', 'abode', 'abolla', 'aboma', 'aboon', 'academe', 'acana', 'acca', 'accede', 'accedence', 'accend', 'accolade', 'accoladed', 'accolle', 'accommodable', 'ace', 'ackman', 'acle', 'acme', 'acne', 'acnodal', 'acnode', 'acock', 'acold', 'acoma', 'acone', 'ad', 'adad', 'adance', 'add', 'adda', 'addable', 'added', 'addend', 'addenda', 'addle', 'ade', 'adead', 'adeem', 'adenocele', 'adenoma', 'adman', 'ado', 'adobe', 'ae', 'aefald', 'aenean', 'aeon', 'aface', 'affa', 'affable', 'aflame', 'afoam', 'ajaja', 'ak', 'aka', 'akala', 'ake', 'akeake', 'akee', 'aknee', 'ako', 'al', 'ala', 'alack', 'alada', 'alala', 'alameda', 'alamo', 'alan', 'aland', 'alb', 'alba', 'alban', 'albe', 'albedo', 'albee', 'alcalde', 'alcanna', 'alclad', 'alco', 'aldane', 'aldol', 'ale', 'aleak', 'alec', 'alee', 'alef', 'alem', 'alemana', 'alemmal', 'alen', 'alf', 'alfa', 'alfaje', 'alfalfa', 'aljoba', 'alk', 'alkane', 'alkene', 'alkenna', 'alkool', 'all', 'allan', 'allbone', 'allele', 'allemand', 'allemande', 'allene', 'allocable', 'alma', 'almanac', 'alme', 'almon', 'almond', 'aln', 'alo', 'alod', 'aloe', 'aloed', 'aloma', 'alone', 'aloof', 'am', 'ama', 'amakebe', 'amala', 'amalaka', 'amba', 'ambalam', 'amban', 'amble', 'ambo', 'ambomalleal', 'ambon', 'ame', 'ameed', 'ameen', 'amen', 'amenable', 'amend', 'amendable', 'amende', 'amene', 'amla', 'amma', 'amman', 'ammo', 'ammonal', 'ammono', 'amoeba', 'amoebae', 'amoebaean', 'amoeban', 'amok', 'amoke', 'amole', 'amomal', 'an', 'ana', 'anabo', 'anaconda', 'anadem', 'anal', 'analemma', 'anam', 'anama', 'anan', 'anana', 'ananda', 'anba', 'ancon', 'anconad', 'anconal', 'ancone', 'anconeal', 'and', 'anda', 'anele', 'anemonal', 'anemone', 'anemonol', 'anend', 'anjan', 'ankee', 'ankle', 'anklebone', 'anklejack', 'anlace', 'ann', 'anna', 'annal', 'annale', 'anneal', 'annona', 'anoa', 'anodal', 'anode', 'anole', 'anon', 'anonol', 'b', 'ba', 'baa', 'baal', 'baba', 'babble', 'babe', 'baboen', 'baboo', 'baboodom', 'baboon', 'bac', 'bacaba', 'bacalao', 'bacao', 'bacca', 'baccae', 'back', 'backband', 'backbone', 'backboned', 'backed', 'backen', 'backfall', 'backfold', 'bacon', 'bad', 'badan', 'baddock', 'bade', 'badland', 'bae', 'baff', 'baffle', 'bajada', 'bajan', 'baka', 'bakal', 'bake', 'baked', 'baken', 'bal', 'balafo', 'balance', 'balanceable', 'balanced', 'balancelle', 'balanceman', 'balanocele', 'balao', 'balboa', 'bald', 'balden', 'bale', 'baleen', 'balk', 'ball', 'ballad', 'ballade', 'ballam', 'ballan', 'balldom', 'balled', 'balloon', 'balm', 'balmacaan', 'balneal', 'balonea', 'baloo', 'bam', 'bamban', 'bamboo', 'ban', 'banaba', 'banak', 'banal', 'banana', 'banc', 'banca', 'bancal', 'banco', 'band', 'banda', 'bandaka', 'bandala', 'bandanna', 'bandannaed', 'bande', 'banded', 'bandle', 'bandman', 'bando', 'bane', 'banjo', 'bank', 'bankable', 'bankbook', 'banked', 'bankman', 'bannock', 'baobab', 'be', 'beacon', 'bead', 'beaded', 'beadle', 'beadledom', 'beadman', 'beak', 'beaked', 'beal', 'beala', 'beam', 'beamed', 'beamman', 'bean', 'beancod', 'beano', 'beback', 'beballed', 'bebed', 'bebled', 'beblood', 'bebloom', 'becall', 'becalm', 'beck', 'beckon', 'beclad', 'becloak', 'becolme', 'becombed', 'become', 'becomma', 'becoom', 'bed', 'bedabble', 'bedad', 'bedamn', 'bedded', 'bedead', 'bedeaf', 'bedeafen', 'bedeck', 'bedel', 'beden', 'bedene', 'bedlam', 'bedman', 'bee', 'beedom', 'beef', 'beek', 'beelol', 'beeman', 'been', 'befall', 'befame', 'befan', 'befanned', 'beflannel', 'beflea', 'befleck', 'befoam', 'befool', 'bejade', 'bejan', 'bejel', 'bekko', 'bel', 'bela', 'belaced', 'beladle', 'belam', 'belanda', 'beld', 'beldam', 'beleaf', 'belee', 'bell', 'belladonna', 'belle', 'belled', 'belledom', 'bellman', 'beloam', 'bema', 'bemad', 'bemadam', 'beman', 'bemeal', 'bemean', 'bemedaled', 'bemedalled', 'bemoan', 'bemoanable', 'bemock', 'bemole', 'bemoon', 'ben', 'bena', 'benab', 'bename', 'benben', 'bend', 'benda', 'bendable', 'bended', 'bene', 'benj', 'benn', 'benne', 'bennel', 'beno', 'beode', 'blab', 'black', 'blackback', 'blackball', 'blackband', 'blackcock', 'blacken', 'blackface', 'blackjack', 'blackland', 'blackneb', 'blackneck', 'blacknob', 'blad', 'blade', 'bladebone', 'bladed', 'blae', 'blaff', 'blake', 'blamable', 'blame', 'blamed', 'blan', 'blanc', 'blanca', 'blanco', 'bland', 'blanda', 'blank', 'blankbook', 'blanked', 'blankeel', 'bleak', 'bleb', 'bleck', 'blee', 'bleed', 'bleekbok', 'blend', 'blende', 'blended', 'blennocele', 'blennoma', 'bleo', 'blo', 'blob', 'blobbed', 'bloc', 'block', 'blockade', 'blocked', 'blockman', 'bloke', 'blonde', 'blood', 'blooded', 'bloodleaf', 'bloom', 'bloomfell', 'bo', 'boa', 'bob', 'boba', 'bobac', 'bobbed', 'bobble', 'bobo', 'bocal', 'bocca', 'boccale', 'bocce', 'boce', 'bock', 'bod', 'bode', 'boden', 'bodle', 'bodock', 'bojo', 'bokadam', 'boke', 'bokom', 'bola', 'bold', 'bolden', 'boldo', 'bole', 'boled', 'bolk', 'boll', 'bolled', 'bollock', 'bolo', 'boloman', 'bom', 'boma', 'bomb', 'bombable', 'bombed', 'bombo', 'bombola', 'bombonne', 'bon', 'bonbon', 'bonce', 'bond', 'bonded', 'bondfolk', 'bondman', 'bone', 'boneblack', 'boned', 'bonk', 'boo', 'boob', 'boobook', 'bood', 'boodle', 'boodledom', 'boof', 'book', 'bookable', 'bookdom', 'booked', 'bookfold', 'bookland', 'bookman', 'bool', 'boom', 'boomable', 'boon', 'boondock', 'boonk', 'c', 'ca', 'caam', 'caama', 'cab', 'caba', 'cabaan', 'caback', 'cabal', 'cabala', 'caban', 'cabana', 'cabble', 'cabda', 'cable', 'cabled', 'cableman', 'cabman', 'cabob', 'cabocle', 'caboodle', 'cabook', 'cacam', 'cacao', 'cack', 'cackle', 'cacodemon', 'cacoon', 'cad', 'cadalene', 'cadamba', 'caddle', 'cade', 'cadelle', 'cadence', 'cadenced', 'cadjan', 'cadlock', 'caeca', 'caecal', 'caeoma', 'caffa', 'caffeol', 'caffeone', 'caffle', 'cajole', 'cake', 'cal', 'calaba', 'calade', 'calamanco', 'calambac', 'calcaneal', 'calced', 'calden', 'calean', 'calendal', 'calf', 'calk', 'call', 'callable', 'callo', 'calm', 'calodemon', 'calomba', 'calomel', 'calool', 'cam', 'camaca', 'caman', 'camb', 'came', 'camel', 'camelback', 'camelman', 'cameo', 'cammed', 'cammock', 'can', 'canaba', 'canada', 'canadol', 'canal', 'canalman', 'canamo', 'cancan', 'cancel', 'cancelable', 'cand', 'candela', 'candle', 'candleball', 'candlebeam', 'candlebomb', 'candock', 'cane', 'canel', 'canella', 'canelo', 'canjac', 'cank', 'canman', 'canna', 'canned', 'cannel', 'cannon', 'cannonade', 'cannoned', 'canoe', 'canoeload', 'canoeman', 'canon', 'canoodle', 'caoba', 'ce', 'cebell', 'cede', 'cee', 'celadon', 'cell', 'cella', 'cellae', 'celled', 'cello', 'cembalo', 'cenacle', 'clack', 'clad', 'cladode', 'clam', 'clamb', 'clambake', 'clame', 'clammed', 'clan', 'clank', 'clanned', 'clead', 'cleaded', 'cleam', 'clean', 'cleanable', 'cleck', 'cled', 'clee', 'cleek', 'cleeked', 'clef', 'clem', 'clemence', 'cloaca', 'cloacal', 'cloacean', 'cloak', 'cloaked', 'cloam', 'cloamen', 'clock', 'clocked', 'clockface', 'clod', 'cloff', 'clomb', 'clomben', 'clonal', 'clone', 'cloof', 'coabode', 'coadjacence', 'coak', 'coal', 'cob', 'cobaea', 'cobbed', 'cobble', 'cobcab', 'coble', 'cobleman', 'cobloaf', 'cobola', 'coca', 'coccal', 'cocco', 'cock', 'cockade', 'cockaded', 'cockal', 'cockbell', 'cocked', 'cockle', 'cockled', 'coco', 'cocoa', 'cocobolo', 'cocoon', 'cod', 'coda', 'codbank', 'coddle', 'code', 'codman', 'codo', 'codol', 'codon', 'coe', 'coecal', 'coed', 'coelom', 'coeloma', 'coembedded', 'coenflame', 'coenobe', 'cofeoffee', 'coff', 'coffee', 'coffeecake', 'coffeeleaf', 'coffle', 'coke', 'cokeman', 'col', 'cola', 'colane', 'colback', 'colcannon', 'cold', 'cole', 'colecannon', 'colk', 'coll', 'colleen', 'collembolan', 'collembole', 'collocal', 'collock', 'coloboma', 'colocola', 'colon', 'colonel', 'colonnade', 'colonnaded', 'coma', 'comal', 'comb', 'combed', 'comble', 'come', 'comeback', 'comedo', 'comma', 'command', 'commandable', 'commando', 'commandoman', 'commeddle', 'commence', 'commenceable', 'commend', 'commendable', 'commendam', 'commode', 'common', 'commonable', 'con', 'conal', 'conamed', 'conceal', 'concealable', 'concealed', 'concede', 'conceded', 'cond', 'condemn', 'condemnable', 'condemned', 'condole', 'condolence', 'condonable', 'condonance', 'condone', 'cone', 'coned', 'coneen', 'confab', 'confocal', 'conjobble', 'conk', 'conkanee', 'conn', 'coo', 'cooba', 'coodle', 'cooee', 'coof', 'cooja', 'cook', 'cookable', 'cookbook', 'cookdom', 'cookee', 'cool', 'coolen', 'coom', 'coomb', 'coon', 'cooncan', 'd', 'da', 'dab', 'dabb', 'dabba', 'dabble', 'dace', 'dad', 'dada', 'daddle', 'daddock', 'dade', 'dado', 'dae', 'daedal', 'daemon', 'daff', 'daffle', 'dak', 'dal', 'dale', 'daleman', 'dalk', 'dallack', 'dalle', 'dam', 'dama', 'daman', 'dame', 'damme', 'damn', 'damnable', 'damned', 'dan', 'dance', 'dand', 'danda', 'dandle', 'dank', 'dannock', 'dao', 'de', 'deacon', 'deaconal', 'dead', 'deaden', 'deadfall', 'deadlock', 'deadman', 'deaf', 'deafen', 'deal', 'dealable', 'dean', 'deb', 'debacle', 'deben', 'decad', 'decadal', 'decade', 'decadence', 'decal', 'decan', 'decanal', 'decane', 'decence', 'decene', 'decennal', 'deck', 'decke', 'decked', 'deckel', 'deckle', 'deckload', 'decode', 'decoke', 'dedo', 'dee', 'deed', 'deedeed', 'deem', 'deface', 'defaceable', 'defalk', 'defame', 'defamed', 'defence', 'defend', 'defendable', 'dekko', 'dekle', 'dele', 'delead', 'delenda', 'delf', 'dell', 'demal', 'demand', 'demandable', 'deme', 'demean', 'demob', 'demoded', 'demon', 'demonland', 'den', 'denda', 'dene', 'deodand', 'do', 'doab', 'doable', 'dob', 'dobbed', 'dobe', 'dobla', 'doblon', 'doc', 'dock', 'docken', 'dockland', 'dockman', 'docmac', 'dod', 'dodd', 'dodded', 'doddle', 'dodecade', 'dodecane', 'dodman', 'dodo', 'doe', 'doff', 'doke', 'dola', 'dolcan', 'dole', 'doll', 'dolldom', 'dollface', 'dolman', 'dolmen', 'dom', 'domal', 'domba', 'dome', 'domn', 'don', 'donable', 'doncella', 'done', 'donee', 'donjon', 'donna', 'doob', 'doodab', 'doodad', 'doodle', 'dooja', 'dook', 'dool', 'doolee', 'doom', 'doombook', 'doon', 'e', 'ea', 'ean', 'ebb', 'ebbman', 'eboe', 'ebon', 'ecad', 'ecanda', 'ecbole', 'ecole', 'eddo', 'edea', 'edema', 'eel', 'eelbob', 'eelcake', 'effable', 'efface', 'effaceable', 'ejoo', 'eke', 'ekka', 'el', 'elance', 'eland', 'elb', 'elcaja', 'eld', 'elf', 'elfenfolk', 'elfland', 'elflock', 'elk', 'ell', 'elle', 'elleck', 'elm', 'elod', 'em', 'emball', 'embalm', 'embank', 'embed', 'emblem', 'emblema', 'embolden', 'embole', 'embolo', 'emcee', 'eme', 'emend', 'emendable', 'emma', 'emoloa', 'en', 'enable', 'enaena', 'enam', 'enamel', 'enameloma', 'encake', 'encefalon', 'encell', 'encloak', 'encode', 'encolden', 'encommon', 'end', 'endable', 'endameba', 'ended', 'endocoele', 'endocone', 'endolemma', 'endome', 'eneclann', 'enema', 'enface', 'enfeeble', 'enfelon', 'enfeoff', 'enfold', 'enfolden', 'enfonced', 'enjamb', 'enjambed', 'enlace', 'enleaf', 'enlock', 'ennead', 'ennoble', 'enodal', 'enol', 'eoan', 'eon', 'f', 'fa', 'fabella', 'fable', 'fabled', 'fabledom', 'fableland', 'facadal', 'facade', 'face', 'faceable', 'faced', 'faceman', 'fack', 'fad', 'fadable', 'faddle', 'fade', 'faded', 'faden', 'fae', 'faff', 'faffle', 'fake', 'falanaka', 'falbala', 'falcade', 'falcon', 'falconelle', 'faldfee', 'fall', 'fallace', 'fallback', 'fallen', 'fam', 'famble', 'fame', 'fan', 'fana', 'fanal', 'fanam', 'fanback', 'fand', 'fandom', 'fanman', 'fannel', 'fanon', 'faon', 'fe', 'feak', 'feal', 'fecal', 'feck', 'fed', 'feddan', 'fee', 'feeable', 'feeble', 'feed', 'feedable', 'feedback', 'feedman', 'feel', 'feelable', 'fell', 'fellable', 'fellen', 'felloe', 'felon', 'female', 'feme', 'fen', 'fenbank', 'fence', 'fend', 'fendable', 'fenland', 'fenman', 'fennec', 'fennel', 'feod', 'feodal', 'feoff', 'feoffee', 'fjeld', 'flack', 'flacked', 'flaff', 'flak', 'flake', 'flam', 'flamb', 'flame', 'flamed', 'flamen', 'flamenco', 'flammable', 'flan', 'flanconade', 'flandan', 'flane', 'flank', 'flanked', 'flannel', 'flanneled', 'flannelleaf', 'flea', 'fleabane', 'fleadock', 'fleam', 'fleck', 'flecken', 'fleckled', 'flecnodal', 'flecnode', 'fled', 'flee', 'fleece', 'fleeceable', 'fleeced', 'flob', 'floc', 'flock', 'flockman', 'flocoon', 'floe', 'flood', 'floodable', 'floodcock', 'flooded', 'foal', 'foam', 'fob', 'focal', 'fod', 'fodda', 'foe', 'foeman', 'fold', 'foldable', 'folded', 'folden', 'fole', 'folk', 'folkland', 'fondak', 'fondle', 'fono', 'foo', 'food', 'fool', 'fooldom', 'j', 'jab', 'jabbed', 'jabble', 'jacal', 'jacana', 'jack', 'jackal', 'jackeen', 'jackman', 'jacko', 'jacobaea', 'jacobaean', 'jade', 'jaded', 'jajman', 'jake', 'jako', 'jam', 'jama', 'jaman', 'jamb', 'jambo', 'jambolan', 'jambone', 'jambool', 'jane', 'jank', 'jann', 'jannock', 'jaob', 'jean', 'jed', 'jedcock', 'jeddock', 'jeel', 'jeff', 'jelab', 'jell', 'jenna', 'jo', 'job', 'jobade', 'jobble', 'jobman', 'jobo', 'jock', 'jocko', 'jodel', 'joe', 'jojoba', 'joke', 'joll', 'joola', 'joom', 'k', 'ka', 'kabel', 'kaka', 'kakkak', 'kakke', 'kala', 'kaladana', 'kalamalo', 'kale', 'kalema', 'kalo', 'kalon', 'kamala', 'kamaloka', 'kamao', 'kambal', 'kame', 'kammalan', 'kan', 'kana', 'kanae', 'kande', 'kandol', 'kanoon', 'kea', 'keb', 'kebab', 'keck', 'keckle', 'ked', 'kedlock', 'keek', 'keel', 'keelblock', 'keeled', 'keelman', 'keen', 'keena', 'keened', 'kef', 'keffel', 'keld', 'kele', 'kelebe', 'kelek', 'kelk', 'kell', 'kella', 'kemb', 'ken', 'kenaf', 'kend', 'kennel', 'kennelman', 'kenno', 'keno', 'klam', 'kleeneboc', 'klom', 'knab', 'knabble', 'knack', 'knead', 'kneadable', 'knee', 'kneed', 'kneel', 'knell', 'knob', 'knobbed', 'knobble', 'knock', 'knockoff', 'knoll', 'ko', 'koa', 'koae', 'koala', 'kob', 'koban', 'kobold', 'koda', 'kodak', 'koel', 'koff', 'kokako', 'kokam', 'kokan', 'koko', 'kokoon', 'kola', 'kolea', 'kolo', 'kolokolo', 'kon', 'kona', 'konak', 'konjak', 'kooka', 'koolokamba', 'l', 'la', 'lab', 'labba', 'label', 'labella', 'lablab', 'lac', 'lacca', 'laccol', 'lace', 'laced', 'laceleaf', 'laceman', 'lack', 'lackland', 'lad', 'laddock', 'lade', 'lademan', 'laden', 'ladle', 'lak', 'lake', 'lakeland', 'lall', 'lalo', 'lam', 'lama', 'lamb', 'lamba', 'lambale', 'lambda', 'lame', 'lamel', 'lamella', 'lammock', 'lan', 'lance', 'lanced', 'lanceman', 'land', 'landamman', 'landbook', 'landed', 'landfall', 'landflood', 'landlock', 'landlocked', 'landlook', 'landman', 'lane', 'lank', 'lea', 'lead', 'leadable', 'leadback', 'leaded', 'leaden', 'leadman', 'leadoff', 'leaf', 'leafdom', 'leafed', 'leafen', 'leak', 'leakance', 'leal', 'lealand', 'leam', 'lean', 'leban', 'lebbek', 'lecama', 'leck', 'led', 'lede', 'leden', 'ledol', 'lee', 'leed', 'leek', 'lek', 'lekane', 'leman', 'lemel', 'lemma', 'lemnad', 'lemon', 'lemonade', 'lenad', 'lend', 'lendable', 'lendee', 'lene', 'leno', 'llama', 'llano', 'lo', 'loa', 'load', 'loaded', 'loaden', 'loaf', 'loam', 'loan', 'loanable', 'lob', 'lobal', 'lobcock', 'lobe', 'lobed', 'lobo', 'lobola', 'loca', 'locable', 'local', 'locale', 'locanda', 'lock', 'lockable', 'locked', 'lockman', 'loco', 'locofoco', 'lod', 'lode', 'lof', 'loka', 'lokao', 'loke', 'loll', 'loma', 'lommock', 'lone', 'loo', 'lood', 'loof', 'look', 'loom', 'loon', 'm', 'ma', 'maam', 'mabolo', 'mac', 'macaco', 'macadam', 'macan', 'macana', 'macao', 'macco', 'mace', 'maceman', 'mack', 'mackle', 'macle', 'macled', 'maco', 'mad', 'madam', 'madame', 'madden', 'maddle', 'made', 'madman', 'mado', 'mae', 'maenad', 'maffle', 'mafoo', 'majo', 'majoon', 'makable', 'make', 'makedom', 'mako', 'mal', 'mala', 'malacon', 'malambo', 'male', 'malella', 'maleo', 'malfed', 'mall', 'malleable', 'malleal', 'mallee', 'malleolable', 'malm', 'malo', 'mamba', 'mambo', 'mamma', 'mammal', 'mammee', 'mammock', 'mammon', 'mammondom', 'mamo', 'man', 'mana', 'manacle', 'manal', 'mancono', 'mand', 'mandala', 'mandola', 'mandom', 'mane', 'maned', 'manjak', 'mank', 'manna', 'mannan', 'mano', 'manoc', 'mao', 'maomao', 'mbalolo', 'me', 'meable', 'mead', 'meak', 'meal', 'mealable', 'mealman', 'mean', 'meaned', 'mecon', 'medal', 'medaled', 'meddle', 'meddlecome', 'meece', 'meed', 'meek', 'meeken', 'mel', 'mela', 'melada', 'melam', 'melamed', 'melano', 'melanoma', 'meld', 'mele', 'melee', 'melena', 'melene', 'mell', 'mellon', 'melodeon', 'meloe', 'melomane', 'melon', 'mem', 'memo', 'men', 'menace', 'menaceable', 'menacme', 'menald', 'mend', 'mendable', 'mendee', 'mendole', 'menfolk', 'mennom', 'mneme', 'mo', 'moan', 'mob', 'mobable', 'mobbable', 'mobed', 'moble', 'mock', 'mockable', 'mockado', 'mocomoco', 'modal', 'mode', 'model', 'modena', 'moellon', 'moff', 'mojo', 'mokaddam', 'moke', 'moko', 'mola', 'molal', 'mold', 'moldable', 'moldmade', 'mole', 'molka', 'molland', 'molle', 'molman', 'momble', 'mome', 'momme', 'momo', 'mon', 'mona', 'monad', 'monadnock', 'monaene', 'monal', 'mone', 'monel', 'monk', 'monkdom', 'mono', 'monobloc', 'monocle', 'monocled', 'moo', 'mood', 'moodle', 'mool', 'moon', 'moonack', 'moonbeam', 'mooncalf', 'mooned', 'moonface', 'moonfaced', 'moonfall', 'moonja', 'moonman', 'n', 'na', 'naa', 'naam', 'nab', 'nabak', 'nabk', 'nabla', 'nable', 'nabob', 'nace', 'nacelle', 'nae', 'nael', 'nak', 'nake', 'naked', 'nako', 'nakoo', 'nam', 'namable', 'namda', 'name', 'nameable', 'nammad', 'nan', 'nana', 'nane', 'nankeen', 'ne', 'nea', 'neal', 'neb', 'neback', 'nebbed', 'nebel', 'neck', 'neckband', 'necked', 'necklace', 'necklaced', 'neckmold', 'nee', 'need', 'needle', 'needlebook', 'needled', 'needleman', 'neeld', 'neele', 'neem', 'nef', 'nema', 'neo', 'neodamode', 'neomodal', 'neon', 'no', 'noa', 'nob', 'nobble', 'noble', 'nobleman', 'nocake', 'nock', 'nod', 'nodal', 'noddle', 'node', 'noded', 'noel', 'noll', 'nolle', 'nolo', 'noma', 'nomad', 'nome', 'nomocanon', 'non', 'nonadecane', 'nonamendable', 'nonane', 'nonbankable', 'nonblack', 'nonblended', 'nonblockaded', 'nonblooded', 'noncallable', 'noncancellable', 'nonce', 'noncock', 'noncom', 'noncome', 'noncommendable', 'noncommonable', 'noncon', 'nonda', 'nondecadence', 'nondecane', 'nondemand', 'nondo', 'none', 'nonene', 'nonflammable', 'nonfocal', 'nonfood', 'nonleaded', 'nonlocal', 'nonmalleable', 'nonmodal', 'nonnoble', 'nonomad', 'noodle', 'noodledom', 'nook', 'nooked', 'noon', 'o', 'oadal', 'oaf', 'oafdom', 'oak', 'oaken', 'oam', 'oban', 'obe', 'oboe', 'obol', 'obole', 'ocean', 'oceaned', 'ock', 'oclock', 'od', 'oda', 'odal', 'odalman', 'odd', 'oddman', 'ode', 'odel', 'odeon', 'odoom', 'oe', 'oenomel', 'of', 'off', 'offal', 'offcome', 'offend', 'offendable', 'offended', 'offlook', 'oka', 'okee', 'olam', 'old', 'olden', 'oldland', 'oleana', 'olena', 'oleo', 'olla', 'ollock', 'olm', 'olomao', 'olona', 'om', 'omao', 'omen', 'omened', 'on', 'ona', 'onca', 'once', 'oncome', 'one', 'onefold', 'onfall', 'onflemed', 'onlook', 'oolak', 'oolemma']\n"
     ]
    }
   ],
   "source": [
    "finger_twisters = [w for w in wordlist if re.search('^[a-fj-o]+$', w)]\n",
    "print(len(finger_twisters),finger_twisters)"
   ]
  },
  {
   "cell_type": "code",
   "execution_count": null,
   "metadata": {
    "id": "eDrVC6-6uqFC",
    "outputId": "86ebac9e-c928-44d6-aa42-3bdd9846c0dc"
   },
   "outputs": [
    {
     "name": "stdout",
     "output_type": "stream",
     "text": [
      "['miiiiiiiiiiiiinnnnnnnnnnneeeeeeeeee', 'miiiiiinnnnnnnnnneeeeeeee', 'mine', 'mmmmmmmmiiiiiiiiinnnnnnnnneeeeeeee']\n"
     ]
    }
   ],
   "source": [
    "chat_words = sorted(set(w for w in nltk.corpus.nps_chat.words()))\n",
    "mine = [w for w in chat_words if re.search('^m+i+n+e+$', w)]\n",
    "print(mine)"
   ]
  },
  {
   "cell_type": "code",
   "execution_count": null,
   "metadata": {
    "id": "2OekvVAguqFC",
    "outputId": "b934f1e3-cd8d-4cd6-af1e-5c5441c99cef"
   },
   "outputs": [
    {
     "name": "stdout",
     "output_type": "stream",
     "text": [
      "['ha', 'haaa', 'hah', 'haha', 'hahaaa', 'hahah', 'hahaha', 'hahahaa', 'hahahah', 'hahahaha', 'hahahahaaa', 'hahahahahaha', 'hahahahahahaha', 'hahahahahahahahahahahahahahahaha', 'hahahhahah', 'hahhahahaha']\n"
     ]
    }
   ],
   "source": [
    "ha = [w for w in chat_words if re.search('^h[ha]+$', w)]\n",
    "print(ha)"
   ]
  },
  {
   "cell_type": "code",
   "execution_count": null,
   "metadata": {
    "id": "9gAtAnl5uqFD",
    "outputId": "9932a9be-466c-4a50-ccea-ed858e360631"
   },
   "outputs": [
    {
     "name": "stdout",
     "output_type": "stream",
     "text": [
      "['0.0085', '0.05', '0.1', '0.16', '0.2', '0.25', '0.28', '0.3', '0.4', '0.5', '0.50', '0.54', '0.56', '0.60', '0.7', '0.82', '0.84', '0.9', '0.95', '0.99', '1.01', '1.1', '1.125', '1.14', '1.1650', '1.17', '1.18', '1.19', '1.2', '1.20', '1.24', '1.25', '1.26', '1.28', '1.35', '1.39', '1.4', '1.457', '1.46', '1.49', '1.5', '1.50', '1.55', '1.56', '1.5755', '1.5805', '1.6', '1.61', '1.637', '1.64', '1.65', '1.7', '1.75', '1.76', '1.8', '1.82', '1.8415', '1.85', '1.8500', '1.9', '1.916', '1.92', '10.19', '10.2', '10.5', '107.03', '107.9', '109.73', '11.10', '11.5', '11.57', '11.6', '11.72', '11.95', '112.9', '113.2', '116.3', '116.4', '116.7', '116.9', '118.6', '12.09', '12.5', '12.52', '12.68', '12.7', '12.82', '12.97', '120.7', '1206.26', '121.6', '126.1', '126.15', '127.03', '129.91', '13.1', '13.15', '13.5', '13.50', '13.625', '13.65', '13.73', '13.8', '13.90', '130.6', '130.7', '131.01', '132.9', '133.7', '133.8', '14.00', '14.13', '14.26', '14.28', '14.43', '14.5', '14.53', '14.54', '14.6', '14.75', '14.99', '141.9', '142.84', '142.85', '143.08', '143.80', '143.93', '148.9', '149.9', '15.5', '150.00', '153.3', '154.2', '16.05', '16.09', '16.125', '16.2', '16.5', '16.68', '16.7', '16.9', '169.9', '17.3', '17.4', '17.5', '17.95', '1738.1', '176.1', '18.3', '18.6', '18.95', '185.9', '188.84', '19.3', '19.50', '19.6', '19.94', '19.95', '191.9', '2.07', '2.1', '2.15', '2.19', '2.2', '2.25', '2.29', '2.3', '2.30', '2.35', '2.375', '2.4', '2.42', '2.44', '2.46', '2.47', '2.5', '2.50', '2.6', '2.62', '2.65', '2.7', '2.75', '2.8', '2.80', '2.87', '2.875', '2.9', '2.95', '20.07', '20.5', '21.1', '21.9', '2141.7', '2160.1', '2163.2', '22.75', '220.45', '221.4', '225.6', '23.25', '23.4', '23.5', '23.72', '234.4', '236.74', '236.79', '24.95', '25.50', '25.6', '251.2', '26.2', '26.5', '26.8', '263.07', '2645.90', '2691.19', '27.1', '27.4', '273.5', '278.7', '28.25', '28.36', '28.4', '28.5', '28.53', '28.6', '29.3', '29.4', '29.9', '292.32', '3.01', '3.04', '3.1', '3.16', '3.18', '3.19', '3.2', '3.20', '3.23', '3.253', '3.28', '3.3', '3.35', '3.375', '3.4', '3.42', '3.43', '3.5', '3.55', '3.6', '3.61', '3.625', '3.7', '3.75', '3.8', '3.80', '3.9', '30.6', '30.9', '319.75', '32.8', '334.5', '34.625', '341.20', '3436.58', '35.2', '35.7', '352.7', '352.9', '35500.64', '35564.43', '36.9', '361.8', '3648.82', '37.3', '37.5', '372.14', '372.9', '374.19', '374.20', '377.60', '38.3', '38.375', '38.5', '38.875', '387.8', '4.1', '4.10', '4.2', '4.25', '4.3', '4.4', '4.5', '4.55', '4.6', '4.7', '4.75', '4.8', '4.875', '4.898', '4.9', '40.21', '41.60', '415.6', '415.8', '42.1', '42.5', '422.5', '43.875', '434.4', '436.01', '446.62', '449.04', '45.2', '45.3', '45.75', '456.64', '46.1', '47.1', '47.125', '47.5', '47.6', '49.9', '494.50', '497.34', '5.1', '5.2180', '5.276', '5.29', '5.3', '5.39', '5.4', '5.435', '5.5', '5.57', '5.6', '5.63', '5.7', '5.70', '5.8', '5.82', '5.9', '5.92', '50.1', '50.38', '50.45', '51.25', '51.6', '55.1', '566.54', '57.50', '57.6', '57.7', '58.64', '59.6', '59.9', '6.03', '6.1', '6.20', '6.21', '6.25', '6.4', '6.40', '6.44', '6.5', '6.50', '6.53', '6.6', '6.7', '6.70', '6.79', '6.84', '6.9', '60.36', '618.1', '62.1', '62.5', '62.625', '63.79', '630.9', '64.5', '66.5', '7.15', '7.2', '7.20', '7.272', '7.3', '7.4', '7.40', '7.422', '7.45', '7.458', '7.5', '7.50', '7.52', '7.55', '7.60', '7.62', '7.63', '7.65', '7.74', '7.78', '7.79', '7.8', '7.80', '7.84', '7.88', '7.90', '7.95', '70.2', '70.7', '705.6', '72.7', '734.9', '737.5', '77.56', '77.6', '77.70', '8.04', '8.06', '8.07', '8.1', '8.12', '8.14', '8.15', '8.19', '8.2', '8.22', '8.25', '8.30', '8.35', '8.45', '8.467', '8.47', '8.48', '8.5', '8.50', '8.53', '8.55', '8.56', '8.575', '8.60', '8.64', '8.65', '8.70', '8.75', '8.9', '80.50', '80.8', '81.8', '811.9', '83.4', '84.29', '84.9', '85.1', '85.7', '86.12', '87.5', '88.32', '89.7', '89.9', '9.3', '9.32', '9.37', '9.45', '9.5', '9.625', '9.75', '9.8', '9.82', '9.9', '92.9', '93.3', '93.9', '94.2', '94.8', '95.09', '96.4', '98.3', '99.1', '99.3']\n"
     ]
    }
   ],
   "source": [
    "wsj = sorted(set(nltk.corpus.treebank.words()))\n",
    "real = [w for w in wsj if re.search('^[0-9]+\\.[0-9]+$', w)]\n",
    "print(real)"
   ]
  },
  {
   "cell_type": "code",
   "execution_count": null,
   "metadata": {
    "id": "45esu9jWuqFD",
    "outputId": "46f167c4-918b-45ab-de95-e1060d87b7a9"
   },
   "outputs": [
    {
     "name": "stdout",
     "output_type": "stream",
     "text": [
      "['C$', 'US$']\n"
     ]
    }
   ],
   "source": [
    "dollar = [w for w in wsj if re.search('^[A-Z]+\\$$', w)]\n",
    "print(dollar)"
   ]
  },
  {
   "cell_type": "code",
   "execution_count": null,
   "metadata": {
    "id": "Ze0JtxofuqFD",
    "outputId": "6190a5f3-5725-417b-921b-73282aadff13"
   },
   "outputs": [
    {
     "name": "stdout",
     "output_type": "stream",
     "text": [
      "['1614', '1637', '1787', '1901', '1903', '1917', '1925', '1929', '1933', '1934', '1948', '1953', '1955', '1956', '1961', '1965', '1966', '1967', '1968', '1969', '1970', '1971', '1972', '1973', '1975', '1976', '1977', '1979', '1980', '1981', '1982', '1983', '1984', '1985', '1986', '1987', '1988', '1989', '1990', '1991', '1992', '1993', '1994', '1995', '1996', '1997', '1998', '1999', '2000', '2005', '2009', '2017', '2019', '2029', '3057', '8300']\n"
     ]
    }
   ],
   "source": [
    "digit4 = [w for w in wsj if re.search('^[0-9]{4,}$', w)]\n",
    "print(digit4)"
   ]
  },
  {
   "cell_type": "code",
   "execution_count": null,
   "metadata": {
    "id": "N1kiRm1ouqFE",
    "outputId": "e0c866c3-6f8d-4184-a4f9-ed5a61bf6aec"
   },
   "outputs": [
    {
     "name": "stdout",
     "output_type": "stream",
     "text": [
      "['10-day', '10-lap', '10-year', '100-share', '12-point', '12-year', '14-hour', '15-day', '150-point', '190-point', '20-point', '20-stock', '21-month', '237-seat', '240-page', '27-year', '30-day', '30-point', '30-share', '30-year', '300-day', '36-day', '36-store', '42-year', '50-state', '500-stock', '52-week', '69-point', '84-month', '87-store', '90-day']\n"
     ]
    }
   ],
   "source": [
    "num_word = [w for w in wsj if re.search('^[0-9]+-[a-z]{3,5}$', w)]\n",
    "print(num_word)"
   ]
  },
  {
   "cell_type": "code",
   "execution_count": null,
   "metadata": {
    "id": "fnj1CyqbuqFE",
    "outputId": "dce00c55-ee7b-4e41-a02a-6b2ac2c7f044"
   },
   "outputs": [
    {
     "name": "stdout",
     "output_type": "stream",
     "text": [
      "['black-and-white', 'bread-and-butter', 'father-in-law', 'machine-gun-toting', 'savings-and-loan']\n"
     ]
    }
   ],
   "source": [
    "what1 = [w for w in wsj if re.search('^[a-z]{5,}-[a-z]{2,3}-[a-z]{,6}$', w)]\n",
    "print(what1)"
   ]
  },
  {
   "cell_type": "code",
   "execution_count": null,
   "metadata": {
    "id": "hqB7Pq6FuqFE",
    "outputId": "dcc482a1-26c2-4a00-a116-716fb43710d1"
   },
   "outputs": [
    {
     "name": "stdout",
     "output_type": "stream",
     "text": [
      "['62%-owned', 'Absorbed', 'According', 'Adopting', 'Advanced', 'Advancing', 'Alfred', 'Allied', 'Annualized', 'Anything', 'Arbitrage-related', 'Arbitraging', 'Asked', 'Assuming', 'Atlanta-based', 'Baking', 'Banking', 'Beginning', 'Beijing', 'Being', 'Bermuda-based', 'Betting', 'Boeing', 'Broadcasting', 'Bucking', 'Buying', 'Calif.-based', 'Change-ringing', 'Citing', 'Concerned', 'Confronted', 'Conn.based', 'Consolidated', 'Continued', 'Continuing', 'Declining', 'Defending', 'Depending', 'Designated', 'Determining', 'Developed', 'Died', 'During', 'Encouraged', 'Encouraging', 'English-speaking', 'Estimated', 'Everything', 'Excluding', 'Exxon-owned', 'Faulding', 'Fed', 'Feeding', 'Filling', 'Filmed', 'Financing', 'Following', 'Founded', 'Fracturing', 'Francisco-based', 'Fred', 'Funded', 'Funding', 'Generalized', 'Germany-based', 'Getting', 'Guaranteed', 'Having', 'Heating', 'Heightened', 'Holding', 'Housing', 'Illuminating', 'Indeed', 'Indexing', 'Irving', 'Jersey-based', 'Judging', 'Knowing', 'Learning', 'Legislating', 'Leming', 'Limited', 'London-based', 'Manfred', 'Manufacturing', 'Melamed', 'Miami-based', 'Mich.-based', 'Mining', 'Minneapolis-based', 'Mo.-based', 'Mortgage-Backed', 'Moving', 'Muzzling', 'N.J.-based', 'NBC-owned', 'NIH-appointed', 'Named', 'No-Smoking', 'Observing', 'Offering', 'Ohio-based', 'Orleans-based', 'Packaging', 'Performing', 'Philadelphia-based', 'Posted', 'Provided', 'Publishing', 'Purchasing', 'Rated', 'Reached', 'Red', 'Red-blooded', 'Reducing', 'Reed', 'Regarded', 'Rekindled', 'Related', 'Ringing', 'Rolling', 'Sacramento-based', 'Scoring', 'Seattle-based', 'Seed', 'Skilled', 'Smelting', 'Something', 'Spending', 'Standardized', 'Standing', 'Starting', 'Sterling', 'Taking', 'Texas-based', 'Toronto-based', 'Traded', 'Trading', 'Troubled', 'U.N.-supervised', 'U.S.-backed', 'United', 'Used', 'Varying', 'Washington-based', 'Whiting', 'Wilfred', 'Winning', 'Xiaoping', 'York-based', 'Zayed', 'abandoned', 'abating', 'abolishing', 'abortion-related', 'abounding', 'abridging', 'absorbed', 'acceded', 'accelerated', 'accepted', 'accepting', 'according', 'accounted', 'accounting', 'accrued', 'accumulated', 'accused', 'accusing', 'achieved', 'achieving', 'acknowledging', 'acquired', 'acquiring', 'acquisition-minded', 'acted', 'acting', 'adapted', 'adapting', 'added', 'adding', 'addressing', 'adjusted', 'adjusting', 'admitted', 'admitting', 'adopted', 'advanced', 'advancing', 'advertised', 'advertising', 'advised', 'advocated', 'advocating', 'affecting', 'afflicted', 'aggravated', 'agreed', 'agreeing', 'ailing', 'aimed', 'aiming', 'aired', 'airline-related', 'alarmed', 'alienated', 'alleged', 'alleging', 'allocated', 'allowed', 'altered', 'altering', 'amended', 'amending', 'amounted', 'amusing', 'angered', 'announced', 'annoyed', 'annualized', 'answered', 'anti-dumping', 'anticipated', 'anticipating', 'anything', 'apologizing', 'appealing', 'appeared', 'appearing', 'applied', 'appointed', 'approached', 'appropriated', 'approved', 'arched', 'argued', 'arguing', 'arising', 'armed', 'arranged', 'arrested', 'arrived', 'asbestos-related', 'asked', 'asking', 'assassinated', 'assembled', 'asserted', 'asserting', 'assessed', 'assigned', 'assisted', 'associated', 'assumed', 'assuming', 'assured', 'attached', 'attacking', 'attempted', 'attempting', 'attended', 'attending', 'attracted', 'attracting', 'attributed', 'auctioned', 'authorized', 'authorizing', 'automated', 'automotive-lighting', 'averaged', 'averted', 'avoiding', 'awarded', 'awarding', 'backed', 'backing', 'balanced', 'bald-faced', 'balkanized', 'balked', 'balloting', 'bank-backed', 'banking', 'banned', 'banning', 'barking', 'barred', 'based', 'battered', 'battery-operated', 'batting', 'bearing', 'becoming', 'bedding', 'befuddled', 'beginning', 'behaving', 'beheading', 'being', 'beleaguered', 'believed', 'bell-ringing', 'belonging', 'benefited', 'best-selling', 'betting', 'bickering', 'bidding', 'billed', 'billing', 'blamed', 'bled', 'blessing', 'blighted', 'blocked', 'blurred', 'boarding', 'bolstered', 'bombarding', 'booked', 'booming', 'boosted', 'boosting', 'borrowed', 'borrowing', 'botched', 'bothered', 'bounced', 'bowed', 'breaking', 'breathed', 'breathtaking', 'breed', 'bribed', 'bribing', 'briefing', 'brightened', 'bring', 'bringing', 'broad-based', 'broadcasting', 'broadened', 'brokering', 'brushed', 'budding', 'building', 'bundling', 'buoyed', 'burned', 'buying', 'calculated', 'called', 'calling', 'campaigning', 'cancer-causing', 'capitalized', 'capped', 'captivating', 'cared', 'carried', 'carrying', 'cascading', 'casting', 'caused', 'causing', 'cautioned', 'ceiling', 'centralized', 'certified', 'chaired', 'challenging', 'championing', 'change-ringing', 'changed', 'changing', 'characterized', 'characterizing', 'charged', 'charging', 'chastised', 'cheating', 'checking', 'cheerleading', 'chilled', 'choosing', 'chopped', 'circulated', 'cited', 'citing', 'citizen-sparked', 'city-owned', 'claimed', 'claiming', 'clamped', 'clarified', 'clashed', 'classed', 'classified', 'cleaned', 'cleaner-burning', 'cleared', 'clearing', 'clicked', 'climbed', 'climbing', 'clipped', 'clobbered', 'closed', 'closing', 'clothing', 'clouding', 'cluttered', 'co-founded', 'coaching', 'coal-fired', 'coated', 'codified', 'collaborated', 'collapsed', 'collected', 'collecting', 'collective-bargaining', 'colored', 'combined', 'coming', 'commanded', 'commenting', 'committed', 'committing', 'compared', 'compelling', 'competed', 'competing', 'compiled', 'complained', 'complaining', 'completed', 'completing', 'complicated', 'composed', 'composting', 'compressed', 'computer-aided', 'computer-assisted', 'computer-generated', 'computerized', 'computing', 'conceding', 'concentrated', 'concentrating', 'concerned', 'concluded', 'condemned', 'condemning', 'conducted', 'conducting', 'confined', 'confirmed', 'confused', 'connected', 'consented', 'considered', 'considering', 'consisting', 'construed', 'consulting', 'contacted', 'contained', 'containing', 'contesting', 'continued', 'continuing', 'contracted', 'contributed', 'contributing', 'controlled', 'controlling', 'converted', 'converting', 'convicted', 'convinced', 'cooled', 'cooperating', 'copied', 'copying', 'corn-buying', 'corrected', 'correcting', 'cost-cutting', 'cost-sharing', 'counseling', 'counting', 'coupled', 'court-ordered', 'covered', 'covering', 'cranked', 'crashing', 'created', 'creating', 'credit-rating', 'crippled', 'criticized', 'crossed', 'crossing', 'crowded', 'cruising', 'crushed', 'crying', 'cultivated', 'curbed', 'curbing', 'curled', 'current-carrying', 'curtailed', 'cushioned', 'customized', 'cutting', 'damaged', 'damaging', 'dancing', 'darned', 'dashed', 'dating', 'dead-eyed', 'dealing', 'decided', 'declared', 'declaring', 'declined', 'declining', 'decorated', 'decried', 'deducting', 'deemed', 'defeated', 'defended', 'defined', 'defying', 'delayed', 'deliberating', 'delisted', 'delivered', 'delivering', 'demanding', 'demonstrating', 'denied', 'denouncing', 'denying', 'depended', 'depending', 'depleted', 'depressed', 'deprived', 'derived', 'descending', 'described', 'deserving', 'designated', 'designed', 'designing', 'desired', 'despised', 'detailed', 'deteriorated', 'deteriorating', 'determined', 'deterring', 'devastating', 'developed', 'developing', 'devised', 'devoted', 'devouring', 'diagnosed', 'died', 'diluted', 'diming', 'diminished', 'directed', 'directing', 'disaffected', 'disagreed', 'disappointed', 'disappointing', 'disapproved', 'discarded', 'disciplined', 'disclosed', 'disclosing', 'discontinued', 'discontinuing', 'discouraging', 'discovered', 'discussed', 'discussing', 'disembodied', 'dismayed', 'dismissed', 'disposed', 'disputed', 'disseminating', 'distinguished', 'distorted', 'distributed', 'disturbing', 'diversified', 'diversifying', 'divided', 'dividing', 'documented', 'doing', 'doling', 'dollar-denominated', 'dominated', 'dominating', 'doubled', 'doubted', 'downgraded', 'downgrading', 'drafted', 'drawing', 'dreamed', 'dressed', 'drifted', 'drinking', 'driving', 'drooled', 'dropped', 'dubbed', 'duckling', 'dumbfounded', 'dumped', 'during', 'dwindling', 'earned', 'earning', 'eased', 'easing', 'eating', 'echoed', 'edged', 'editing', 'educated', 'elected', 'eliminated', 'eliminating', 'embarrassing', 'embroiled', 'emerged', 'emerging', 'emphasized', 'employed', 'empowered', 'enabled', 'enabling', 'enacted', 'encircling', 'enclosed', 'encouraging', 'encroaching', 'ended', 'ending', 'endorsed', 'engaged', 'engaging', 'engineered', 'engineering', 'enhanced', 'enjoyed', 'enjoying', 'enlarged', 'enraged', 'ensnarled', 'entangled', 'entered', 'entering', 'entertaining', 'enticed', 'entitled', 'entrenched', 'entrusted', 'equaling', 'equipped', 'escalated', 'escaped', 'established', 'establishing', 'estimated', 'evaluated', 'evaluating', 'evaporated', 'evening', 'everything', 'evoking', 'evolved', 'exacerbated', 'examined', 'exceed', 'exceeded', 'exceeding', 'exchanging', 'excited', 'exciting', 'executed', 'executing', 'exercised', 'exerting', 'exhausted', 'exhibited', 'existed', 'existing', 'expanded', 'expanding', 'expected', 'expecting', 'expedited', 'expelled', 'experienced', 'experiencing', 'expired', 'explained', 'explaining', 'exploded', 'export-oriented', 'exposed', 'expressed', 'expressing', 'expunged', 'extended', 'extending', 'exuded', 'eyeing', 'fabled', 'faced', 'facing', 'factoring', 'faded', 'failed', 'failing', 'fainting', 'falling', 'faltered', 'famed', 'family-planning', 'fared', 'fashioned', 'fast-growing', 'fastest-growing', 'fattened', 'favored', 'fawning', 'feared', 'featured', 'featuring', 'fed', 'feed', 'feeling', 'fetching', 'fielded', 'fighting', 'filed', 'filing', 'filled', 'filling', 'finalized', 'financed', 'financing', 'finding', 'fined', 'finished', 'fired', 'firmed', 'fixed', 'fizzled', 'fled', 'fledgling', 'fleeting', 'flirted', 'floated', 'flooded', 'focused', 'focusing', 'folded', 'followed', 'following', 'forced', 'forcing', 'forecasting', 'foreign-led', 'formed', 'forthcoming', 'founded', 'foundering', 'fretted', 'frightened', 'frustrating', 'fueled', 'fueling', 'full-fledged', 'fuming', 'functioning', 'funded', 'funding', 'fundraising', 'futures-related', 'gained', 'gaining', 'galling', 'galvanized', 'gambling', 'gauging', 'generated', 'getting', 'giving', 'going', 'good-hearted', 'good-natured', 'gored', 'government-certified', 'government-funded', 'government-owned', 'graduated', 'granted', 'granting', 'greed', 'gripping', 'growing', 'guaranteed', 'guarding', 'guided', 'gut-wrenching', 'hailed', 'hailing', 'halted', 'hampered', 'handed', 'handled', 'handling', 'happened', 'happening', 'hard-charging', 'hard-drinking', 'hard-hitting', 'harmed', 'harped', 'harvested', 'hauled', 'hauling', 'having', 'headed', 'heading', 'headlined', 'healing', 'hearing', 'heated', 'heating', 'hedging', 'heightened', 'helped', 'helping', 'high-flying', 'high-minded', 'high-polluting', 'high-priced', 'high-rolling', 'high-speed', 'higher-salaried', 'highest-pitched', 'hired', 'hitting', 'holding', 'hoped', 'hosted', 'housing', 'hugging', 'hundred', 'hunted', 'hurting', 'identified', 'ignored', 'ignoring', 'impaired', 'impeding', 'impending', 'implemented', 'implied', 'imported', 'imposed', 'imposing', 'impressed', 'improved', 'improving', 'incentive-backed', 'inched', 'inching', 'included', 'including', 'incorporated', 'increased', 'increasing', 'incurred', 'indeed', 'index-related', 'indicated', 'indicating', 'indulging', 'industrialized', 'industry-supported', 'inflated', 'influenced', 'influencing', 'infringed', 'inherited', 'initialing', 'initiated', 'initiating', 'injecting', 'injuring', 'inkling', 'inquiring', 'inserted', 'insider-trading', 'insinuating', 'insisted', 'inspired', 'installed', 'installing', 'instituted', 'instructed', 'insured', 'integrated', 'intended', 'intentioned', 'interest-bearing', 'interested', 'interesting', 'interrogated', 'interviewed', 'intriguing', 'introduced', 'introducing', 'invented', 'inverted', 'invested', 'investigating', 'investing', 'inviting', 'involved', 'involving', 'issued', 'issuing', 'jeopardizing', 'joined', 'joining', 'judged', 'jumped', 'jumping', 'justified', 'justifying', 'keeping', 'kicked', 'kidnapping', 'killed', 'killing', 'knitted', 'knocked', 'labeled', 'labeling', 'labor-backed', 'lacked', 'lagging', 'land-idling', 'landing', 'lasted', 'lasting', 'lauded', 'laughing', 'launched', 'lawmaking', 'laying', 'leading', 'learned', 'learning', 'leasing', 'leaving', 'led', 'lending', 'lengthened', 'lessening', 'letter-writing', 'letting', 'leveling', 'leveraged', 'leveraging', 'licensed', 'licensing', 'lifted', 'lifting', 'limited', 'limiting', 'limping', 'linked', 'liquidated', 'listed', 'listing', 'living', 'loaded', 'loading', 'located', 'locked', 'long-tenured', 'longstanding', 'looked', 'looking', 'looming', 'losing', 'loved', 'low-priced', 'lower-priced', 'lowered', 'lowering', 'lying', 'machine-gun-toting', 'magnified', 'mailed', 'mailing', 'maintained', 'maintaining', 'making', 'male-dominated', 'managed', 'managing', 'manufactured', 'manufacturing', 'marching', 'market-based', 'market-oriented', 'marketed', 'marketing', 'matched', 'matching', 'materialized', 'mating', 'maturing', 'meaning', 'measured', 'meatpacking', 'medium-sized', 'meeting', 'melt-textured', 'mentioned', 'merchandising', 'merged', 'merger-related', 'midsized', 'milked', 'mind-boggling', 'mining', 'minority-owned', 'minted', 'mired', 'missed', 'mixed', 'mobilizing', 'moderated', 'mollified', 'money-losing', 'monied', 'morale-damaging', 'more-advanced', 'morning', 'mortgage-backed', 'mortgage-based', 'mortgaged', 'mounted', 'moved', 'moving', 'mudslinging', 'muffled', 'mulling', 'multiplying', 'murdered', 'muscling', 'muted', 'muzzling', 'named', 'naming', 'narrowed', 'need', 'needed', 'needing', 'negotiated', 'negotiating', 'neighboring', 'networking', 'newspaper-printing', 'nominated', 'non-encapsulating', 'nonrecurring', 'notched', 'noted', 'nothing', 'noticed', 'noticing', 'notified', 'noting', 'notwithstanding', 'nullified', 'numbered', 'nurtured', 'obligated', 'observed', 'obsessed', 'obtained', 'obtaining', 'occupying', 'occurred', 'odd-sounding', 'offending', 'offered', 'offering', 'offsetting', 'old-fashioned', 'omitted', 'ongoing', 'opened', 'opening', 'operated', 'operating', 'opposed', 'orchestrated', 'ordered', 'ordering', 'organized', 'oriented', 'outdistanced', 'outlawed', 'outlawing', 'outnumbered', 'outpaced', 'outraged', 'outstanding', 'overcrowding', 'overleveraged', 'overpaying', 'overpriced', 'overriding', 'overstated', 'overused', 'overvalued', 'owed', 'owned', 'owning', 'packaging', 'packed', 'painted', 'painting', 'parched', 'parking', 'participated', 'parts-engineering', 'passed', 'passing', 'patented', 'paying', 'peaked', 'pealing', 'peddling', 'pegged', 'pending', 'perceived', 'performed', 'performing', 'permitted', 'permitting', 'phasing', 'photocopying', 'picked', 'picking', 'pinning', 'pitting', 'placed', 'placing', 'plagued', 'planned', 'planning', 'planted', 'planting', 'played', 'playing', 'pleaded', 'pleased', 'pledged', 'plugged', 'plummeted', 'plunged', 'plunging', 'pointed', 'pointing', 'polarized', 'policy-making', 'polled', 'populated', 'portrayed', 'posing', 'positioned', 'possessed', 'post-hearing', 'posted', 'posting', 'postponed', 'poured', 'practiced', 'practicing', 'praised', 'pre-approved', 'pre-cooked', 'pre-existing', 'preapproved', 'predicated', 'predicted', 'predicting', 'preferred', 'prepared', 'presented', 'preserving', 'pressed', 'pressing', 'pressured', 'prevailing', 'preventing', 'price-depressing', 'priced', 'pricing', 'printed', 'privileged', 'processing', 'produced', 'producing', 'profit-taking', 'profited', 'program-trading', 'programming', 'prohibited', 'prohibiting', 'prolonged', 'promised', 'promising', 'promoting', 'prompted', 'propelling', 'proposed', 'proposing', 'prosecuted', 'prosecuting', 'protected', 'protecting', 'protracted', 'proved', 'provided', 'providing', 'proving', 'provoked', 'prying', 'publicized', 'published', 'publishing', 'pulled', 'pulling', 'pumping', 'punishing', 'purchased', 'purchasing', 'purhasing', 'pursued', 'pushed', 'pushing', 'putting', 'puzzled', 'qualified', 'quashing', 'questioned', 'queuing', 'quipped', 'quitting', 'quoted', 'quoting', 'raced', 'racing', 'railing', 'raised', 'raising', 'rallying', 'ranged', 'ranging', 'ranked', 'rarefied', 'raring', 'ratcheting', 'rated', 'ratified', 'rating', 'rationed', 'reached', 'reaching', 'reacted', 'reading', 'reaffirmed', 'realized', 'reallocated', 'reaped', 'reaping', 'reasoning', 'reassuring', 'rebounding', 'rebuffed', 'rebuilding', 'rebuked', 'recalling', 'received', 'receiving', 'recession-inspired', 'reciting', 'reclaimed', 'recognizing', 'recommended', 'recommending', 'record-keeping', 'recorded', 'recouped', 'recovered', 'recovering', 'recruited', 'recruiting', 'rectified', 'recycled', 'red', 'redeemed', 'redeeming', 'redistributing', 'reduced', 'reducing', 'reeling', 'referred', 'referring', 'refitting', 'reflected', 'reflecting', 'refocusing', 'refreshing', 'refunded', 'refunding', 'refused', 'regarded', 'regarding', 'regimented', 'registered', 'regulated', 'regulating', 'reimbursed', 'reinstating', 'rejected', 'related', 'relating', 'relaunched', 'released', 'relegated', 'relied', 'relieved', 'remained', 'remaining', 'remarked', 'reminded', 'remodeling', 'removed', 'removing', 'rendering', 'renewed', 'renewing', 'renovated', 'reopened', 'reorganized', 'repaired', 'replaced', 'replacing', 'replicated', 'replicating', 'reported', 'reporting', 'represented', 'representing', 'repriced', 'requested', 'requesting', 'required', 'requiring', 'rescheduled', 'researching', 'reserved', 'reshaping', 'resigned', 'resigning', 'resisting', 'resolved', 'respected', 'responded', 'responding', 'restored', 'restricting', 'restructured', 'restructuring', 'resulted', 'resulting', 'retailing', 'retained', 'retaining', 'retaliating', 'retired', 'retiring', 'retraced', 'returned', 'returning', 'reversed', 'reviewed', 'reviewing', 'revised', 'revising', 'revived', 'rewarding', 'riding', 'rigged', 'ring', 'ringing', 'rising', 'robbed', 'rolled', 'rolling', 'romanticized', 'rooted', 'ruled', 'ruling', 'rumored', 'running', 'rushed', 'rusted', 'sacked', 'sacrificing', 'safeguarding', 'sagged', 'sagging', 'satisfying', 'saved', 'saving', 'saying', 'scared', 'scaring', 'scattered', 'scheduled', 'school-sponsored', 'scrambled', 'scrambling', 'scrapped', 'screened', 'screwed', 'scrutinizing', 'searched', 'searching', 'seasoned', 'secured', 'securities-based', 'seeing', 'seeking', 'seemed', 'segmenting', 'seized', 'selected', 'self-aggrandizing', 'self-perpetuating', 'self-serving', 'selling', 'sending', 'sentencing', 'served', 'serviced', 'servicing', 'serving', 'setting', 'settled', 'shaded', 'shaping', 'shared', 'shed', 'shedding', 'shipbuilding', 'shipped', 'shipping', 'shirt-sleeved', 'shopped', 'shopping', 'shoring', 'short-lived', 'showed', 'showing', 'shrinking', 'signaling', 'signed', 'signifying', 'signing', 'single-handed', 'singled', 'sitting', 'sketching', 'skidded', 'skilled', 'skipped', 'skyrocketed', 'slashing', 'slated', 'slaying', 'sleeping', 'sliding', 'slipped', 'slowed', 'slowing', 'smattering', 'smoking', 'smothering', 'snaking', 'snapped', 'sneaked', 'so-called', 'soared', 'soaring', 'softening', 'soliciting', 'solved', 'something', 'sometimes-exhausting', 'sophisticated', 'sorting', 'sounded', 'sounding', 'soured', 'sparing', 'sparked', 'sparking', 'speaking', 'specialized', 'specializing', 'specified', 'speculated', 'speculating', 'speed', 'spending', 'spilling', 'spooked', 'sports-oriented', 'spotted', 'sprawling', 'spring', 'spurned', 'spurred', 'spurring', 'sputtered', 'squeezed', 'stabbed', 'stacked', 'stacking', 'staggering', 'standardized', 'standing', 'started', 'starting', 'startling', 'state-appointed', 'state-owned', 'state-supervised', 'stated', 'stayed', 'staying', 'stemmed', 'stemming', 'stepped', 'stepping', 'stereotyped', 'sterling', 'sticking', 'stimulated', 'stimulating', 'stirred', 'stock-picking', 'stoked', 'stopped', 'stored', 'strapped', 'strengthened', 'stressed', 'stressing', 'stretched', 'stretching', 'striking', 'string', 'stripped', 'striving', 'strong-willed', 'structured', 'struggled', 'struggling', 'studied', 'studying', 'stunned', 'subdued', 'subjecting', 'subordinated', 'subpoenaed', 'substance-abusing', 'succeed', 'succeeded', 'succeeding', 'sued', 'suffered', 'suffering', 'suggested', 'suing', 'summoned', 'superimposed', 'supported', 'surfaced', 'surged', 'surprised', 'surprising', 'surrendered', 'surrounding', 'surveyed', 'surviving', 'suspended', 'sustained', 'swapped', 'swapping', 'sweeping', 'sweetened', 'swelling', 'swing', 'switched', 'synchronized', 'tailored', 'tailoring', 'taking', 'talked', 'talking', 'tanked', 'tapping', 'targeted', 'targeting', 'teaching', 'teetering', 'telling', 'tempted', 'tendered', 'tendering', 'termed', 'terminated', 'test-coaching', 'tested', 'testing', 'thin-lipped', 'thing', 'thinking', 'thirtysomething', 'threatened', 'thumbing', 'tie-breaking', 'tied', 'tightened', 'tightening', 'timing', 'tired', 'top-selling', 'top-yielding', 'topped', 'totaled', 'totaling', 'touched', 'touted', 'traced', 'tracked', 'tracking', 'traded', 'trading', 'trafficking', 'trailed', 'trained', 'training', 'transacting', 'transferring', 'transformed', 'transforming', 'transporting', 'travel-related', 'traveled', 'traveling', 'treated', 'treating', 'tried', 'triggered', 'trimmed', 'trimming', 'triple-A-rated', 'tripled', 'troubled', 'truth-in-lending', 'trying', 'tumbled', 'turned', 'turning', 'twinned', 'twisting', 'two-tiered', 'unabated', 'unaffiliated', 'unanticipated', 'unauthorized', 'unchanged', 'uncharted', 'uncompensated', 'uncomplaining', 'unconsolidated', 'undelivered', 'undercutting', 'undergoing', 'underlying', 'underperforming', 'underprivileged', 'understanding', 'undertaking', 'undisclosed', 'unenticing', 'unexpected', 'unfettered', 'unfilled', 'unfocused', 'unfounded', 'unfunded', 'unimpeded', 'unjustified', 'unlabeled', 'unleashed', 'unloaded', 'unmarked', 'unneeded', 'unpublished', 'unraveling', 'unrealized', 'unresolved', 'unrestricted', 'unsecured', 'unsettled', 'unsettling', 'unsolicited', 'unspecified', 'unstinting', 'untrained', 'unveiled', 'unwanted', 'unwashed', 'unwilling', 'upsetting', 'urged', 'urging', 'used', 'ushered', 'ushering', 'using', 'uttering', 'valued', 'varied', 'varying', 'ventilated', 'vested', 'video-viewing', 'viewed', 'viewing', 'violated', 'violating', 'visited', 'visiting', 'voted', 'voting', 'vowed', 'waited', 'waiting', 'waived', 'waiving', 'walking', 'wallowing', 'wanted', 'wanting', 'war-damaged', 'war-rationed', 'warehousing', 'warming', 'warned', 'warning', 'wasted', 'watched', 'watching', 'weakening', 'wedded', 'weighed', 'weighing', 'welcomed', 'well-connected', 'when-issued', 'whipping', 'whirling', 'willing', 'winding', 'wine-buying', 'wine-making', 'winning', 'wooing', 'word-processing', 'worked', 'working', 'worried', 'worrying', 'worsening', 'wrecking', 'wrenching', 'wrestling', 'writing', 'wrongdoing', 'yen-denominated', 'yet-to-be-formed', 'yielded', 'yielding', 'yttrium-containing', 'zoomed']\n"
     ]
    }
   ],
   "source": [
    "what2 = [w for w in wsj if re.search('(ed|ing)$', w)]\n",
    "print(what2)"
   ]
  },
  {
   "cell_type": "code",
   "execution_count": null,
   "metadata": {
    "id": "vIwvpGRSuqFF",
    "outputId": "86b7fd3e-5f47-4565-b347-5ef218ce724f"
   },
   "outputs": [
    {
     "name": "stdout",
     "output_type": "stream",
     "text": [
      "['wait']\n"
     ]
    }
   ],
   "source": [
    "what3 = [w for w in wsj if re.search('^w(i|e|ai|oo)+t$', w)]\n",
    "print(what3)"
   ]
  },
  {
   "cell_type": "markdown",
   "metadata": {
    "id": "C2aEQbJyuqFF"
   },
   "source": [
    "## Useful Applications of Regular Expressions\n",
    "\n",
    "#### Extracting Word Pieces"
   ]
  },
  {
   "cell_type": "code",
   "execution_count": null,
   "metadata": {
    "id": "-W8sJckauqFG",
    "outputId": "3de9f389-82fb-4d7b-f4cb-e5d7611b1eda"
   },
   "outputs": [
    {
     "name": "stdout",
     "output_type": "stream",
     "text": [
      "16\n",
      "['u', 'e', 'a', 'i', 'a', 'i', 'i', 'i', 'e', 'i', 'a', 'i', 'o', 'i', 'o', 'u']\n"
     ]
    }
   ],
   "source": [
    "word = 'supercalifragilisticexpialidocious'\n",
    "vowels = re.findall(r'[aeiou]', word)\n",
    "print(len(vowels))\n",
    "print(vowels)"
   ]
  },
  {
   "cell_type": "code",
   "execution_count": null,
   "metadata": {
    "id": "rf_T2z4ZuqFG",
    "outputId": "14da5571-0d49-4be4-d460-90a8a39e131e"
   },
   "outputs": [
    {
     "data": {
      "text/plain": [
       "[('aiia', 1), ('ueui', 1)]"
      ]
     },
     "execution_count": 83,
     "metadata": {},
     "output_type": "execute_result"
    }
   ],
   "source": [
    "wsj = sorted(set(nltk.corpus.treebank.words()))\n",
    "fd = nltk.FreqDist(vs for word in wsj for vs in re.findall(r'[aeiou]{4,}', word))\n",
    "fd.most_common(10)"
   ]
  },
  {
   "cell_type": "code",
   "execution_count": null,
   "metadata": {
    "id": "g2__oL3EuqFH",
    "outputId": "2556a0b4-a59f-4ca2-9c9e-e703d2a30565"
   },
   "outputs": [
    {
     "name": "stdout",
     "output_type": "stream",
     "text": [
      "[2009, 12, 31]\n"
     ]
    }
   ],
   "source": [
    "print([int(n) for n in re.findall(r'[0-9]{2,4}', '2009-12-31')])"
   ]
  },
  {
   "cell_type": "code",
   "execution_count": null,
   "metadata": {
    "id": "Oo4p_iYguqFH",
    "outputId": "9a11dfa0-1345-46bb-88ee-3f866fdbeab6"
   },
   "outputs": [
    {
     "name": "stdout",
     "output_type": "stream",
     "text": [
      "['k', 'r', 'v', 's', 't', 'p']\n",
      "    a   e   i   o   u \n",
      "k 418 148  94 420 173 \n",
      "p  83  31 105  34  51 \n",
      "r 187  63  84  89  79 \n",
      "s   0   0 100   2   1 \n",
      "t  47   8   0 148  37 \n",
      "v  93  27 105  48  49 \n",
      "None\n"
     ]
    }
   ],
   "source": [
    "rotokas_words = nltk.corpus.toolbox.words('rotokas.dic')\n",
    "cvs = [cv for w in rotokas_words for cv in re.findall(r'[ptksvr][aeiou]', w)]\n",
    "cfd = nltk.ConditionalFreqDist(cvs)\n",
    "print(cfd.conditions())\n",
    "print(cfd.tabulate())"
   ]
  },
  {
   "cell_type": "code",
   "execution_count": null,
   "metadata": {
    "id": "yOb0qRlKuqFH",
    "outputId": "0c8ad0c3-1c0e-40ee-bb08-19ac9160ad8f"
   },
   "outputs": [
    {
     "name": "stdout",
     "output_type": "stream",
     "text": [
      "['kasuari']\n",
      "['kaapo', 'kaapopato', 'kaipori', 'kaiporipie', 'kaiporivira', 'kapo', 'kapoa', 'kapokao', 'kapokapo', 'kapokapo', 'kapokapoa', 'kapokapoa', 'kapokapora', 'kapokapora', 'kapokaporo', 'kapokaporo', 'kapokari', 'kapokarito', 'kapokoa', 'kapoo', 'kapooto', 'kapoovira', 'kapopaa', 'kaporo', 'kaporo', 'kaporopa', 'kaporoto', 'kapoto', 'karokaropo', 'karopo', 'kepo', 'kepoi', 'keposi', 'kepoto']\n"
     ]
    }
   ],
   "source": [
    "cv_word_pairs = [(cv, w) for w in rotokas_words for cv in re.findall(r'[ptksvr][aeiou]', w)]\n",
    "cv_index = nltk.Index(cv_word_pairs)\n",
    "print(cv_index['su'])\n",
    "print(cv_index['po'])"
   ]
  },
  {
   "cell_type": "code",
   "execution_count": null,
   "metadata": {
    "id": "if-qfLNiuqFI",
    "outputId": "6b02a103-56dc-4905-9d63-436122135b0e"
   },
   "outputs": [
    {
     "name": "stdout",
     "output_type": "stream",
     "text": [
      "process\n"
     ]
    }
   ],
   "source": [
    "def stem(word):\n",
    "    for suffix in ['ing', 'ly', 'ed', 'ious', 'ies', 'ive', 'es', 's', 'ment']:\n",
    "        if word.endswith(suffix):\n",
    "            return word[:-len(suffix)]\n",
    "    return word\n",
    "print(stem('processing'))"
   ]
  },
  {
   "cell_type": "code",
   "execution_count": null,
   "metadata": {
    "id": "JyFaDiVbuqFI",
    "outputId": "83b90381-b85a-4eba-c463-dd2c73d11deb"
   },
   "outputs": [
    {
     "data": {
      "text/plain": [
       "['ing']"
      ]
     },
     "execution_count": 68,
     "metadata": {},
     "output_type": "execute_result"
    }
   ],
   "source": [
    "re.findall(r'^.*(ing|ly|ed|ious|ies|ive|es|s|ment)$', 'processing')"
   ]
  },
  {
   "cell_type": "code",
   "execution_count": null,
   "metadata": {
    "id": "5aeDQYV0uqFI",
    "outputId": "b45f4bc2-72cb-41c2-ad52-c9c6a5765ade"
   },
   "outputs": [
    {
     "data": {
      "text/plain": [
       "[('process', 'ing')]"
      ]
     },
     "execution_count": 69,
     "metadata": {},
     "output_type": "execute_result"
    }
   ],
   "source": [
    "re.findall(r'^(.*)(ing|ly|ed|ious|ies|ive|es|s|ment)$', 'processing')"
   ]
  },
  {
   "cell_type": "code",
   "execution_count": null,
   "metadata": {
    "id": "G37ItVlPuqFI",
    "outputId": "3554855f-e969-4152-c655-fc5068987777"
   },
   "outputs": [
    {
     "data": {
      "text/plain": [
       "[('processe', 's')]"
      ]
     },
     "execution_count": 70,
     "metadata": {},
     "output_type": "execute_result"
    }
   ],
   "source": [
    "re.findall(r'^(.*)(ing|ly|ed|ious|ies|ive|es|s|ment)$', 'processes')"
   ]
  },
  {
   "cell_type": "markdown",
   "metadata": {
    "id": "SgkS1bBZuqFI"
   },
   "source": [
    "'non-greedy' - รับ input ให้ที่สุด"
   ]
  },
  {
   "cell_type": "code",
   "execution_count": null,
   "metadata": {
    "id": "SLSRQIb3uqFJ",
    "outputId": "791e81ad-56d1-48cd-8e73-1c7cfeab07fa"
   },
   "outputs": [
    {
     "data": {
      "text/plain": [
       "[('process', 'es')]"
      ]
     },
     "execution_count": 71,
     "metadata": {},
     "output_type": "execute_result"
    }
   ],
   "source": [
    "re.findall(r'^(.*?)(ing|ly|ed|ious|ies|ive|es|s|ment)$', 'processes')"
   ]
  },
  {
   "cell_type": "code",
   "execution_count": null,
   "metadata": {
    "id": "V3zPhFGYuqFJ",
    "outputId": "08354156-07c5-4f81-c4bd-0e6167aa739c"
   },
   "outputs": [
    {
     "data": {
      "text/plain": [
       "[('language', '')]"
      ]
     },
     "execution_count": 73,
     "metadata": {},
     "output_type": "execute_result"
    }
   ],
   "source": [
    "re.findall(r'^(.*?)(ing|ly|ed|ious|ies|ive|es|s|ment)?$', 'language')"
   ]
  },
  {
   "cell_type": "code",
   "execution_count": null,
   "metadata": {
    "id": "-Insk7WxuqFJ",
    "outputId": "5d26a520-a3d2-4083-dbc9-509d1c413adb"
   },
   "outputs": [
    {
     "name": "stdout",
     "output_type": "stream",
     "text": [
      "['DENNIS', ':', 'Listen', ',', 'strange', 'women', 'ly', 'in', 'pond', 'distribut', 'sword', 'i', 'no', 'basi', 'for', 'a', 'system', 'of', 'govern', '.', 'Supreme', 'execut', 'power', 'deriv', 'from', 'a', 'mandate', 'from', 'the', 'mass', ',', 'not', 'from', 'some', 'farcical', 'aquatic', 'ceremony', '.']\n"
     ]
    }
   ],
   "source": [
    "def stem(word):\n",
    "    regexp = r'^(.*?)(ing|ly|ed|ious|ies|ive|es|s|ment)?$'\n",
    "    stem, suffix = re.findall(regexp, word)[0]\n",
    "    return stem\n",
    "\n",
    "raw = \"\"\"DENNIS: Listen, strange women lying in ponds distributing swords \\\n",
    "is no basis for a system of government.  Supreme executive power derives from \\\n",
    "a mandate from the masses, not from some farcical aquatic ceremony.\"\"\"\n",
    "tokens = nltk.word_tokenize(raw)\n",
    "print([stem(t) for t in tokens])"
   ]
  }
 ],
 "metadata": {
  "colab": {
   "name": "regex.ipynb",
   "provenance": []
  },
  "kernelspec": {
   "display_name": "Python 3 (ipykernel)",
   "language": "python",
   "name": "python3"
  },
  "language_info": {
   "codemirror_mode": {
    "name": "ipython",
    "version": 3
   },
   "file_extension": ".py",
   "mimetype": "text/x-python",
   "name": "python",
   "nbconvert_exporter": "python",
   "pygments_lexer": "ipython3",
   "version": "3.11.5"
  }
 },
 "nbformat": 4,
 "nbformat_minor": 1
}
