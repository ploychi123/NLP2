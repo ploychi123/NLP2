{
 "cells": [
  {
   "cell_type": "markdown",
   "id": "bd7d3617",
   "metadata": {},
   "source": [
    "1. 630710438 พรชิตา สุขใจ\n",
    "2. 630710439 พรดนัย โมชัย"
   ]
  },
  {
   "cell_type": "code",
   "execution_count": 1,
   "id": "4e34785b",
   "metadata": {},
   "outputs": [
    {
     "data": {
      "text/plain": [
       "'4.3.2'"
      ]
     },
     "execution_count": 1,
     "metadata": {},
     "output_type": "execute_result"
    }
   ],
   "source": [
    "import gensim\n",
    "gensim.__version__"
   ]
  },
  {
   "cell_type": "code",
   "execution_count": 2,
   "id": "fb02cc7a",
   "metadata": {},
   "outputs": [],
   "source": [
    "import pandas as pd\n",
    "import numpy as np\n",
    "import re\n",
    "from numpy.linalg import norm\n",
    "from gensim.models import Word2Vec\n",
    "from nltk.tokenize import word_tokenize\n",
    "from sklearn.feature_extraction.text import CountVectorizer\n",
    "from sklearn.metrics.pairwise import cosine_similarity\n"
   ]
  },
  {
   "cell_type": "markdown",
   "id": "4c031584",
   "metadata": {},
   "source": [
    "แหล่งที่มาข้อมูล : https://www.azlyrics.com/c/charlieputh.html?fbclid=IwAR0JSn4zCJIAODzVHRhDIUrZ4nJP9YpPRUXnHUzYXNx-G2BHdcV2mBDd2ew"
   ]
  },
  {
   "cell_type": "code",
   "execution_count": 3,
   "id": "04b1123a",
   "metadata": {},
   "outputs": [],
   "source": [
    "df = pd.read_csv(\"C:/Users/User/Google Drive/NLP/charlie_puth.csv\")"
   ]
  },
  {
   "cell_type": "code",
   "execution_count": 4,
   "id": "811b8c0c",
   "metadata": {},
   "outputs": [
    {
     "data": {
      "text/html": [
       "<div>\n",
       "<style scoped>\n",
       "    .dataframe tbody tr th:only-of-type {\n",
       "        vertical-align: middle;\n",
       "    }\n",
       "\n",
       "    .dataframe tbody tr th {\n",
       "        vertical-align: top;\n",
       "    }\n",
       "\n",
       "    .dataframe thead th {\n",
       "        text-align: right;\n",
       "    }\n",
       "</style>\n",
       "<table border=\"1\" class=\"dataframe\">\n",
       "  <thead>\n",
       "    <tr style=\"text-align: right;\">\n",
       "      <th></th>\n",
       "      <th>Artist</th>\n",
       "      <th>Lyrics</th>\n",
       "      <th>Song</th>\n",
       "    </tr>\n",
       "  </thead>\n",
       "  <tbody>\n",
       "    <tr>\n",
       "      <th>0</th>\n",
       "      <td>Charlie Puth</td>\n",
       "      <td>There's a moment when you find out Who your...</td>\n",
       "      <td>The Moment</td>\n",
       "    </tr>\n",
       "    <tr>\n",
       "      <th>1</th>\n",
       "      <td>Charlie Puth</td>\n",
       "      <td>Its 10 p.m. and I am missing My seventh son...</td>\n",
       "      <td>I Suck At Writing Lyrics</td>\n",
       "    </tr>\n",
       "    <tr>\n",
       "      <th>2</th>\n",
       "      <td>Charlie Puth</td>\n",
       "      <td>Ohh Yeah  I don't wanna hurt you baby, no m...</td>\n",
       "      <td>I Don't Wanna Hurt You Baby (Acoustic)</td>\n",
       "    </tr>\n",
       "    <tr>\n",
       "      <th>3</th>\n",
       "      <td>Charlie Puth</td>\n",
       "      <td>Ohh Doo doo doo doo doo Right next to you  ...</td>\n",
       "      <td>Next To You</td>\n",
       "    </tr>\n",
       "    <tr>\n",
       "      <th>4</th>\n",
       "      <td>Charlie Puth</td>\n",
       "      <td>Oh-oh Doo doo doo doo doo Doo doo doo doo d...</td>\n",
       "      <td>Time Passes By</td>\n",
       "    </tr>\n",
       "    <tr>\n",
       "      <th>...</th>\n",
       "      <td>...</td>\n",
       "      <td>...</td>\n",
       "      <td>...</td>\n",
       "    </tr>\n",
       "    <tr>\n",
       "      <th>97</th>\n",
       "      <td>Charlie Puth</td>\n",
       "      <td>You shout it out But I can't hear a word yo...</td>\n",
       "      <td>Titanium</td>\n",
       "    </tr>\n",
       "    <tr>\n",
       "      <th>98</th>\n",
       "      <td>Charlie Puth</td>\n",
       "      <td>I'll miss you singing Stevie Wonder Isn't s...</td>\n",
       "      <td>Two Months</td>\n",
       "    </tr>\n",
       "    <tr>\n",
       "      <th>99</th>\n",
       "      <td>Charlie Puth</td>\n",
       "      <td>Red cups and sweaty bodies everywhere Hands...</td>\n",
       "      <td>We Can't Stop</td>\n",
       "    </tr>\n",
       "    <tr>\n",
       "      <th>100</th>\n",
       "      <td>Charlie Puth</td>\n",
       "      <td>I took her out to dinner I thought I'd had ...</td>\n",
       "      <td>When She Kissed Me</td>\n",
       "    </tr>\n",
       "    <tr>\n",
       "      <th>101</th>\n",
       "      <td>Charlie Puth</td>\n",
       "      <td>This goes out to the most beautiful girl th...</td>\n",
       "      <td>Your Name (The Ukulele Song)</td>\n",
       "    </tr>\n",
       "  </tbody>\n",
       "</table>\n",
       "<p>102 rows × 3 columns</p>\n",
       "</div>"
      ],
      "text/plain": [
       "            Artist                                             Lyrics  \\\n",
       "0    Charlie Puth      There's a moment when you find out Who your...   \n",
       "1    Charlie Puth      Its 10 p.m. and I am missing My seventh son...   \n",
       "2    Charlie Puth      Ohh Yeah  I don't wanna hurt you baby, no m...   \n",
       "3    Charlie Puth      Ohh Doo doo doo doo doo Right next to you  ...   \n",
       "4    Charlie Puth      Oh-oh Doo doo doo doo doo Doo doo doo doo d...   \n",
       "..             ...                                                ...   \n",
       "97   Charlie Puth      You shout it out But I can't hear a word yo...   \n",
       "98   Charlie Puth      I'll miss you singing Stevie Wonder Isn't s...   \n",
       "99   Charlie Puth      Red cups and sweaty bodies everywhere Hands...   \n",
       "100  Charlie Puth      I took her out to dinner I thought I'd had ...   \n",
       "101  Charlie Puth      This goes out to the most beautiful girl th...   \n",
       "\n",
       "                                        Song  \n",
       "0                                The Moment   \n",
       "1                  I Suck At Writing Lyrics   \n",
       "2    I Don't Wanna Hurt You Baby (Acoustic)   \n",
       "3                               Next To You   \n",
       "4                            Time Passes By   \n",
       "..                                       ...  \n",
       "97                                 Titanium   \n",
       "98                               Two Months   \n",
       "99                            We Can't Stop   \n",
       "100                      When She Kissed Me   \n",
       "101            Your Name (The Ukulele Song)   \n",
       "\n",
       "[102 rows x 3 columns]"
      ]
     },
     "execution_count": 4,
     "metadata": {},
     "output_type": "execute_result"
    }
   ],
   "source": [
    "df"
   ]
  },
  {
   "cell_type": "code",
   "execution_count": 5,
   "id": "6ee65910",
   "metadata": {},
   "outputs": [],
   "source": [
    "df = df.applymap(lambda x: x.lower() if type(x) == str else x)"
   ]
  },
  {
   "cell_type": "code",
   "execution_count": 6,
   "id": "cf843642",
   "metadata": {},
   "outputs": [],
   "source": [
    "df['english_lang'] = df['Lyrics'].apply(lambda x: all(char.isascii() for char in x))"
   ]
  },
  {
   "cell_type": "code",
   "execution_count": 7,
   "id": "8caab97a",
   "metadata": {},
   "outputs": [],
   "source": [
    "df['Lyrics'] = df['Lyrics'].apply(lambda x: re.sub(r'[^a-zA-Z\\s\\']', '', x))"
   ]
  },
  {
   "cell_type": "code",
   "execution_count": 8,
   "id": "e5b54b73",
   "metadata": {},
   "outputs": [
    {
     "data": {
      "text/plain": [
       "array([ True, False])"
      ]
     },
     "execution_count": 8,
     "metadata": {},
     "output_type": "execute_result"
    }
   ],
   "source": [
    "df['english_lang'].unique()"
   ]
  },
  {
   "cell_type": "code",
   "execution_count": 9,
   "id": "787531d7",
   "metadata": {},
   "outputs": [
    {
     "data": {
      "text/html": [
       "<div>\n",
       "<style scoped>\n",
       "    .dataframe tbody tr th:only-of-type {\n",
       "        vertical-align: middle;\n",
       "    }\n",
       "\n",
       "    .dataframe tbody tr th {\n",
       "        vertical-align: top;\n",
       "    }\n",
       "\n",
       "    .dataframe thead th {\n",
       "        text-align: right;\n",
       "    }\n",
       "</style>\n",
       "<table border=\"1\" class=\"dataframe\">\n",
       "  <thead>\n",
       "    <tr style=\"text-align: right;\">\n",
       "      <th></th>\n",
       "      <th>Artist</th>\n",
       "      <th>Lyrics</th>\n",
       "      <th>Song</th>\n",
       "      <th>english_lang</th>\n",
       "    </tr>\n",
       "  </thead>\n",
       "  <tbody>\n",
       "    <tr>\n",
       "      <th>6</th>\n",
       "      <td>charlie puth</td>\n",
       "      <td>oh darling i know you're taken something 'b...</td>\n",
       "      <td>i won't tell a soul</td>\n",
       "      <td>False</td>\n",
       "    </tr>\n",
       "    <tr>\n",
       "      <th>14</th>\n",
       "      <td>charlie puth</td>\n",
       "      <td>charlie puth we don't talk anymore we don't ...</td>\n",
       "      <td>we don't talk anymore</td>\n",
       "      <td>False</td>\n",
       "    </tr>\n",
       "    <tr>\n",
       "      <th>15</th>\n",
       "      <td>charlie puth</td>\n",
       "      <td>i'd stroll into a bank and put a ski mask o...</td>\n",
       "      <td>my gospel</td>\n",
       "      <td>False</td>\n",
       "    </tr>\n",
       "    <tr>\n",
       "      <th>57</th>\n",
       "      <td>charlie puth</td>\n",
       "      <td>'cause i'm all that you want girl all that ...</td>\n",
       "      <td>bon appã©tit</td>\n",
       "      <td>False</td>\n",
       "    </tr>\n",
       "    <tr>\n",
       "      <th>73</th>\n",
       "      <td>charlie puth</td>\n",
       "      <td>oh im facing the bottle oh for all of my pr...</td>\n",
       "      <td>instagram models</td>\n",
       "      <td>False</td>\n",
       "    </tr>\n",
       "    <tr>\n",
       "      <th>76</th>\n",
       "      <td>charlie puth</td>\n",
       "      <td>stole my heart and i fell for you always kn...</td>\n",
       "      <td>l.u.v.</td>\n",
       "      <td>False</td>\n",
       "    </tr>\n",
       "  </tbody>\n",
       "</table>\n",
       "</div>"
      ],
      "text/plain": [
       "           Artist                                             Lyrics  \\\n",
       "6   charlie puth      oh darling i know you're taken something 'b...   \n",
       "14  charlie puth     charlie puth we don't talk anymore we don't ...   \n",
       "15  charlie puth      i'd stroll into a bank and put a ski mask o...   \n",
       "57  charlie puth      'cause i'm all that you want girl all that ...   \n",
       "73  charlie puth      oh im facing the bottle oh for all of my pr...   \n",
       "76  charlie puth      stole my heart and i fell for you always kn...   \n",
       "\n",
       "                      Song  english_lang  \n",
       "6     i won't tell a soul          False  \n",
       "14  we don't talk anymore          False  \n",
       "15              my gospel          False  \n",
       "57           bon appã©tit          False  \n",
       "73       instagram models          False  \n",
       "76                 l.u.v.          False  "
      ]
     },
     "execution_count": 9,
     "metadata": {},
     "output_type": "execute_result"
    }
   ],
   "source": [
    "df[df['english_lang'] == False]"
   ]
  },
  {
   "cell_type": "code",
   "execution_count": 10,
   "id": "ea000695",
   "metadata": {},
   "outputs": [],
   "source": [
    "df['tokenizer'] = df['Lyrics'].apply(word_tokenize)"
   ]
  },
  {
   "cell_type": "code",
   "execution_count": 11,
   "id": "27020b9f",
   "metadata": {},
   "outputs": [
    {
     "data": {
      "text/html": [
       "<div>\n",
       "<style scoped>\n",
       "    .dataframe tbody tr th:only-of-type {\n",
       "        vertical-align: middle;\n",
       "    }\n",
       "\n",
       "    .dataframe tbody tr th {\n",
       "        vertical-align: top;\n",
       "    }\n",
       "\n",
       "    .dataframe thead th {\n",
       "        text-align: right;\n",
       "    }\n",
       "</style>\n",
       "<table border=\"1\" class=\"dataframe\">\n",
       "  <thead>\n",
       "    <tr style=\"text-align: right;\">\n",
       "      <th></th>\n",
       "      <th>Artist</th>\n",
       "      <th>Lyrics</th>\n",
       "      <th>Song</th>\n",
       "      <th>english_lang</th>\n",
       "      <th>tokenizer</th>\n",
       "    </tr>\n",
       "  </thead>\n",
       "  <tbody>\n",
       "    <tr>\n",
       "      <th>0</th>\n",
       "      <td>charlie puth</td>\n",
       "      <td>there's a moment when you find out who your...</td>\n",
       "      <td>the moment</td>\n",
       "      <td>True</td>\n",
       "      <td>[there, 's, a, moment, when, you, find, out, w...</td>\n",
       "    </tr>\n",
       "    <tr>\n",
       "      <th>1</th>\n",
       "      <td>charlie puth</td>\n",
       "      <td>its  pm and i am missing my seventh song fo...</td>\n",
       "      <td>i suck at writing lyrics</td>\n",
       "      <td>True</td>\n",
       "      <td>[its, pm, and, i, am, missing, my, seventh, so...</td>\n",
       "    </tr>\n",
       "    <tr>\n",
       "      <th>2</th>\n",
       "      <td>charlie puth</td>\n",
       "      <td>ohh yeah  i don't wanna hurt you baby no mo...</td>\n",
       "      <td>i don't wanna hurt you baby (acoustic)</td>\n",
       "      <td>True</td>\n",
       "      <td>[ohh, yeah, i, do, n't, wan, na, hurt, you, ba...</td>\n",
       "    </tr>\n",
       "    <tr>\n",
       "      <th>3</th>\n",
       "      <td>charlie puth</td>\n",
       "      <td>ohh doo doo doo doo doo right next to you  ...</td>\n",
       "      <td>next to you</td>\n",
       "      <td>True</td>\n",
       "      <td>[ohh, doo, doo, doo, doo, doo, right, next, to...</td>\n",
       "    </tr>\n",
       "    <tr>\n",
       "      <th>4</th>\n",
       "      <td>charlie puth</td>\n",
       "      <td>ohoh doo doo doo doo doo doo doo doo doo do...</td>\n",
       "      <td>time passes by</td>\n",
       "      <td>True</td>\n",
       "      <td>[ohoh, doo, doo, doo, doo, doo, doo, doo, doo,...</td>\n",
       "    </tr>\n",
       "    <tr>\n",
       "      <th>...</th>\n",
       "      <td>...</td>\n",
       "      <td>...</td>\n",
       "      <td>...</td>\n",
       "      <td>...</td>\n",
       "      <td>...</td>\n",
       "    </tr>\n",
       "    <tr>\n",
       "      <th>97</th>\n",
       "      <td>charlie puth</td>\n",
       "      <td>you shout it out but i can't hear a word yo...</td>\n",
       "      <td>titanium</td>\n",
       "      <td>True</td>\n",
       "      <td>[you, shout, it, out, but, i, ca, n't, hear, a...</td>\n",
       "    </tr>\n",
       "    <tr>\n",
       "      <th>98</th>\n",
       "      <td>charlie puth</td>\n",
       "      <td>i'll miss you singing stevie wonder isn't s...</td>\n",
       "      <td>two months</td>\n",
       "      <td>True</td>\n",
       "      <td>[i, 'll, miss, you, singing, stevie, wonder, i...</td>\n",
       "    </tr>\n",
       "    <tr>\n",
       "      <th>99</th>\n",
       "      <td>charlie puth</td>\n",
       "      <td>red cups and sweaty bodies everywhere hands...</td>\n",
       "      <td>we can't stop</td>\n",
       "      <td>True</td>\n",
       "      <td>[red, cups, and, sweaty, bodies, everywhere, h...</td>\n",
       "    </tr>\n",
       "    <tr>\n",
       "      <th>100</th>\n",
       "      <td>charlie puth</td>\n",
       "      <td>i took her out to dinner i thought i'd had ...</td>\n",
       "      <td>when she kissed me</td>\n",
       "      <td>True</td>\n",
       "      <td>[i, took, her, out, to, dinner, i, thought, i,...</td>\n",
       "    </tr>\n",
       "    <tr>\n",
       "      <th>101</th>\n",
       "      <td>charlie puth</td>\n",
       "      <td>this goes out to the most beautiful girl th...</td>\n",
       "      <td>your name (the ukulele song)</td>\n",
       "      <td>True</td>\n",
       "      <td>[this, goes, out, to, the, most, beautiful, gi...</td>\n",
       "    </tr>\n",
       "  </tbody>\n",
       "</table>\n",
       "<p>102 rows × 5 columns</p>\n",
       "</div>"
      ],
      "text/plain": [
       "            Artist                                             Lyrics  \\\n",
       "0    charlie puth      there's a moment when you find out who your...   \n",
       "1    charlie puth      its  pm and i am missing my seventh song fo...   \n",
       "2    charlie puth      ohh yeah  i don't wanna hurt you baby no mo...   \n",
       "3    charlie puth      ohh doo doo doo doo doo right next to you  ...   \n",
       "4    charlie puth      ohoh doo doo doo doo doo doo doo doo doo do...   \n",
       "..             ...                                                ...   \n",
       "97   charlie puth      you shout it out but i can't hear a word yo...   \n",
       "98   charlie puth      i'll miss you singing stevie wonder isn't s...   \n",
       "99   charlie puth      red cups and sweaty bodies everywhere hands...   \n",
       "100  charlie puth      i took her out to dinner i thought i'd had ...   \n",
       "101  charlie puth      this goes out to the most beautiful girl th...   \n",
       "\n",
       "                                        Song  english_lang  \\\n",
       "0                                the moment           True   \n",
       "1                  i suck at writing lyrics           True   \n",
       "2    i don't wanna hurt you baby (acoustic)           True   \n",
       "3                               next to you           True   \n",
       "4                            time passes by           True   \n",
       "..                                       ...           ...   \n",
       "97                                 titanium           True   \n",
       "98                               two months           True   \n",
       "99                            we can't stop           True   \n",
       "100                      when she kissed me           True   \n",
       "101            your name (the ukulele song)           True   \n",
       "\n",
       "                                             tokenizer  \n",
       "0    [there, 's, a, moment, when, you, find, out, w...  \n",
       "1    [its, pm, and, i, am, missing, my, seventh, so...  \n",
       "2    [ohh, yeah, i, do, n't, wan, na, hurt, you, ba...  \n",
       "3    [ohh, doo, doo, doo, doo, doo, right, next, to...  \n",
       "4    [ohoh, doo, doo, doo, doo, doo, doo, doo, doo,...  \n",
       "..                                                 ...  \n",
       "97   [you, shout, it, out, but, i, ca, n't, hear, a...  \n",
       "98   [i, 'll, miss, you, singing, stevie, wonder, i...  \n",
       "99   [red, cups, and, sweaty, bodies, everywhere, h...  \n",
       "100  [i, took, her, out, to, dinner, i, thought, i,...  \n",
       "101  [this, goes, out, to, the, most, beautiful, gi...  \n",
       "\n",
       "[102 rows x 5 columns]"
      ]
     },
     "execution_count": 11,
     "metadata": {},
     "output_type": "execute_result"
    }
   ],
   "source": [
    "df"
   ]
  },
  {
   "cell_type": "code",
   "execution_count": 12,
   "id": "883ff5a5",
   "metadata": {},
   "outputs": [],
   "source": [
    "df['length_word'] = df['tokenizer'].apply(len)"
   ]
  },
  {
   "cell_type": "code",
   "execution_count": 13,
   "id": "1d9b8d26",
   "metadata": {},
   "outputs": [
    {
     "data": {
      "text/html": [
       "<div>\n",
       "<style scoped>\n",
       "    .dataframe tbody tr th:only-of-type {\n",
       "        vertical-align: middle;\n",
       "    }\n",
       "\n",
       "    .dataframe tbody tr th {\n",
       "        vertical-align: top;\n",
       "    }\n",
       "\n",
       "    .dataframe thead th {\n",
       "        text-align: right;\n",
       "    }\n",
       "</style>\n",
       "<table border=\"1\" class=\"dataframe\">\n",
       "  <thead>\n",
       "    <tr style=\"text-align: right;\">\n",
       "      <th></th>\n",
       "      <th>Artist</th>\n",
       "      <th>Lyrics</th>\n",
       "      <th>Song</th>\n",
       "      <th>english_lang</th>\n",
       "      <th>tokenizer</th>\n",
       "      <th>length_word</th>\n",
       "    </tr>\n",
       "  </thead>\n",
       "  <tbody>\n",
       "    <tr>\n",
       "      <th>0</th>\n",
       "      <td>charlie puth</td>\n",
       "      <td>there's a moment when you find out who your...</td>\n",
       "      <td>the moment</td>\n",
       "      <td>True</td>\n",
       "      <td>[there, 's, a, moment, when, you, find, out, w...</td>\n",
       "      <td>190</td>\n",
       "    </tr>\n",
       "    <tr>\n",
       "      <th>1</th>\n",
       "      <td>charlie puth</td>\n",
       "      <td>its  pm and i am missing my seventh song fo...</td>\n",
       "      <td>i suck at writing lyrics</td>\n",
       "      <td>True</td>\n",
       "      <td>[its, pm, and, i, am, missing, my, seventh, so...</td>\n",
       "      <td>283</td>\n",
       "    </tr>\n",
       "    <tr>\n",
       "      <th>2</th>\n",
       "      <td>charlie puth</td>\n",
       "      <td>ohh yeah  i don't wanna hurt you baby no mo...</td>\n",
       "      <td>i don't wanna hurt you baby (acoustic)</td>\n",
       "      <td>True</td>\n",
       "      <td>[ohh, yeah, i, do, n't, wan, na, hurt, you, ba...</td>\n",
       "      <td>421</td>\n",
       "    </tr>\n",
       "    <tr>\n",
       "      <th>3</th>\n",
       "      <td>charlie puth</td>\n",
       "      <td>ohh doo doo doo doo doo right next to you  ...</td>\n",
       "      <td>next to you</td>\n",
       "      <td>True</td>\n",
       "      <td>[ohh, doo, doo, doo, doo, doo, right, next, to...</td>\n",
       "      <td>311</td>\n",
       "    </tr>\n",
       "    <tr>\n",
       "      <th>4</th>\n",
       "      <td>charlie puth</td>\n",
       "      <td>ohoh doo doo doo doo doo doo doo doo doo do...</td>\n",
       "      <td>time passes by</td>\n",
       "      <td>True</td>\n",
       "      <td>[ohoh, doo, doo, doo, doo, doo, doo, doo, doo,...</td>\n",
       "      <td>257</td>\n",
       "    </tr>\n",
       "    <tr>\n",
       "      <th>...</th>\n",
       "      <td>...</td>\n",
       "      <td>...</td>\n",
       "      <td>...</td>\n",
       "      <td>...</td>\n",
       "      <td>...</td>\n",
       "      <td>...</td>\n",
       "    </tr>\n",
       "    <tr>\n",
       "      <th>97</th>\n",
       "      <td>charlie puth</td>\n",
       "      <td>you shout it out but i can't hear a word yo...</td>\n",
       "      <td>titanium</td>\n",
       "      <td>True</td>\n",
       "      <td>[you, shout, it, out, but, i, ca, n't, hear, a...</td>\n",
       "      <td>157</td>\n",
       "    </tr>\n",
       "    <tr>\n",
       "      <th>98</th>\n",
       "      <td>charlie puth</td>\n",
       "      <td>i'll miss you singing stevie wonder isn't s...</td>\n",
       "      <td>two months</td>\n",
       "      <td>True</td>\n",
       "      <td>[i, 'll, miss, you, singing, stevie, wonder, i...</td>\n",
       "      <td>254</td>\n",
       "    </tr>\n",
       "    <tr>\n",
       "      <th>99</th>\n",
       "      <td>charlie puth</td>\n",
       "      <td>red cups and sweaty bodies everywhere hands...</td>\n",
       "      <td>we can't stop</td>\n",
       "      <td>True</td>\n",
       "      <td>[red, cups, and, sweaty, bodies, everywhere, h...</td>\n",
       "      <td>408</td>\n",
       "    </tr>\n",
       "    <tr>\n",
       "      <th>100</th>\n",
       "      <td>charlie puth</td>\n",
       "      <td>i took her out to dinner i thought i'd had ...</td>\n",
       "      <td>when she kissed me</td>\n",
       "      <td>True</td>\n",
       "      <td>[i, took, her, out, to, dinner, i, thought, i,...</td>\n",
       "      <td>338</td>\n",
       "    </tr>\n",
       "    <tr>\n",
       "      <th>101</th>\n",
       "      <td>charlie puth</td>\n",
       "      <td>this goes out to the most beautiful girl th...</td>\n",
       "      <td>your name (the ukulele song)</td>\n",
       "      <td>True</td>\n",
       "      <td>[this, goes, out, to, the, most, beautiful, gi...</td>\n",
       "      <td>365</td>\n",
       "    </tr>\n",
       "  </tbody>\n",
       "</table>\n",
       "<p>102 rows × 6 columns</p>\n",
       "</div>"
      ],
      "text/plain": [
       "            Artist                                             Lyrics  \\\n",
       "0    charlie puth      there's a moment when you find out who your...   \n",
       "1    charlie puth      its  pm and i am missing my seventh song fo...   \n",
       "2    charlie puth      ohh yeah  i don't wanna hurt you baby no mo...   \n",
       "3    charlie puth      ohh doo doo doo doo doo right next to you  ...   \n",
       "4    charlie puth      ohoh doo doo doo doo doo doo doo doo doo do...   \n",
       "..             ...                                                ...   \n",
       "97   charlie puth      you shout it out but i can't hear a word yo...   \n",
       "98   charlie puth      i'll miss you singing stevie wonder isn't s...   \n",
       "99   charlie puth      red cups and sweaty bodies everywhere hands...   \n",
       "100  charlie puth      i took her out to dinner i thought i'd had ...   \n",
       "101  charlie puth      this goes out to the most beautiful girl th...   \n",
       "\n",
       "                                        Song  english_lang  \\\n",
       "0                                the moment           True   \n",
       "1                  i suck at writing lyrics           True   \n",
       "2    i don't wanna hurt you baby (acoustic)           True   \n",
       "3                               next to you           True   \n",
       "4                            time passes by           True   \n",
       "..                                       ...           ...   \n",
       "97                                 titanium           True   \n",
       "98                               two months           True   \n",
       "99                            we can't stop           True   \n",
       "100                      when she kissed me           True   \n",
       "101            your name (the ukulele song)           True   \n",
       "\n",
       "                                             tokenizer  length_word  \n",
       "0    [there, 's, a, moment, when, you, find, out, w...          190  \n",
       "1    [its, pm, and, i, am, missing, my, seventh, so...          283  \n",
       "2    [ohh, yeah, i, do, n't, wan, na, hurt, you, ba...          421  \n",
       "3    [ohh, doo, doo, doo, doo, doo, right, next, to...          311  \n",
       "4    [ohoh, doo, doo, doo, doo, doo, doo, doo, doo,...          257  \n",
       "..                                                 ...          ...  \n",
       "97   [you, shout, it, out, but, i, ca, n't, hear, a...          157  \n",
       "98   [i, 'll, miss, you, singing, stevie, wonder, i...          254  \n",
       "99   [red, cups, and, sweaty, bodies, everywhere, h...          408  \n",
       "100  [i, took, her, out, to, dinner, i, thought, i,...          338  \n",
       "101  [this, goes, out, to, the, most, beautiful, gi...          365  \n",
       "\n",
       "[102 rows x 6 columns]"
      ]
     },
     "execution_count": 13,
     "metadata": {},
     "output_type": "execute_result"
    }
   ],
   "source": [
    "df"
   ]
  },
  {
   "cell_type": "code",
   "execution_count": 14,
   "id": "d64e172c",
   "metadata": {},
   "outputs": [
    {
     "name": "stdout",
     "output_type": "stream",
     "text": [
      "Minimum Length Word 146\n",
      "Maximunm Length Word 637\n",
      "Average Length Word 347\n"
     ]
    }
   ],
   "source": [
    "print(\"Minimum Length Word\",df['length_word'].min())\n",
    "print(\"Maximunm Length Word\",df['length_word'].max())\n",
    "print(\"Average Length Word\",int(df['length_word'].mean()))"
   ]
  },
  {
   "cell_type": "markdown",
   "id": "ac29cbc5",
   "metadata": {},
   "source": [
    "# Train Word2Vec model with data web scraping"
   ]
  },
  {
   "cell_type": "markdown",
   "id": "9374d94e",
   "metadata": {},
   "source": [
    "- default value of min_count=5\n",
    "- vector_size is the number of dimensions (N) of the N-dimensional space that gensim Word2Vec maps the words onto."
   ]
  },
  {
   "cell_type": "code",
   "execution_count": 15,
   "id": "153c5f73",
   "metadata": {},
   "outputs": [],
   "source": [
    "modelword2vec = Word2Vec(sentences=df['tokenizer'], vector_size=int(df['length_word'].mean()), window=5, min_count=5, workers=4)"
   ]
  },
  {
   "cell_type": "markdown",
   "id": "0ef8ac42",
   "metadata": {},
   "source": [
    "word \n",
    "- baby\n",
    "- beautiful"
   ]
  },
  {
   "cell_type": "code",
   "execution_count": 16,
   "id": "98c553a9",
   "metadata": {},
   "outputs": [
    {
     "name": "stdout",
     "output_type": "stream",
     "text": [
      "Cosine Similarity:  0.99867696\n",
      "Model Similarity:   0.99867696\n"
     ]
    }
   ],
   "source": [
    "vec_baby = modelword2vec.wv['baby']\n",
    "vec_beautiful = modelword2vec.wv['beautiful']\n",
    "cosine = np.dot(vec_baby,vec_beautiful)/(norm(vec_baby)*norm(vec_beautiful))\n",
    "print(\"Cosine Similarity: \", cosine)\n",
    "\n",
    "print(\"Model Similarity:  \", modelword2vec.wv.similarity('baby','beautiful'))"
   ]
  },
  {
   "cell_type": "code",
   "execution_count": 17,
   "id": "6fc5d9d2",
   "metadata": {},
   "outputs": [
    {
     "data": {
      "text/plain": [
       "[('know', 0.999595046043396),\n",
       " ('how', 0.9995772838592529),\n",
       " ('more', 0.9995602369308472),\n",
       " ('ever', 0.9995595812797546),\n",
       " ('miss', 0.9995383024215698),\n",
       " ('he', 0.9995322823524475),\n",
       " ('really', 0.9995176196098328),\n",
       " ('keep', 0.9995153546333313),\n",
       " ('ai', 0.999511182308197),\n",
       " ('myself', 0.9995027780532837),\n",
       " ('another', 0.9995015859603882),\n",
       " ('even', 0.999493420124054),\n",
       " ('did', 0.9994879961013794),\n",
       " ('say', 0.9994861483573914),\n",
       " ('is', 0.9994827508926392),\n",
       " ('why', 0.9994769096374512),\n",
       " ('so', 0.9994679093360901),\n",
       " ('leave', 0.9994663000106812),\n",
       " ('when', 0.9994619488716125),\n",
       " ('would', 0.9994558095932007)]"
      ]
     },
     "execution_count": 17,
     "metadata": {},
     "output_type": "execute_result"
    }
   ],
   "source": [
    "modelword2vec.wv.most_similar('baby', topn=20)"
   ]
  },
  {
   "cell_type": "markdown",
   "id": "d43ab44f",
   "metadata": {},
   "source": [
    "# เรียกใช้ pre-trained model ของ word2vec "
   ]
  },
  {
   "cell_type": "code",
   "execution_count": 18,
   "id": "919570b3",
   "metadata": {},
   "outputs": [],
   "source": [
    "import gensim.downloader as api\n",
    "#โหลด pre-trained Word2Vec จาก Google News\n",
    "model = api.load('word2vec-google-news-300')"
   ]
  },
  {
   "cell_type": "markdown",
   "id": "9ab5c75c",
   "metadata": {},
   "source": [
    "# Synonym"
   ]
  },
  {
   "cell_type": "code",
   "execution_count": 27,
   "id": "2e4bf0b4",
   "metadata": {},
   "outputs": [
    {
     "name": "stdout",
     "output_type": "stream",
     "text": [
      "1.คำศัพท์ Synonym ที่แปลว่า สวย งดงาม ดีงาม เลิศ : 0.26816192269325256\n",
      "2.คำศัพท์ Synonym ที่แปลว่า มีความสุข ปลื้ม สบายใจ สุขสม : 0.23426812887191772\n",
      "3.คำศัพท์ synonym ที่แปลว่า ความโกรธ ไม่ชอบ ขัดเคือง เสียใจ : 0.22215387225151062\n",
      "4.คำศัพท์ synonym ที่แปลว่า กลัว, เกรง, เกลียด, ตระหนก,เครียด : 0.30024874210357666\n",
      "5.คำศัพท์ Synonym ที่แปลว่า ความสับสน ยุ่งเหยิง งงงวย ความทุลักทุเล : 0.31179922819137573\n",
      "6.คำศัพท์ Synonym ที่แปลว่า ภาวะซึมเศร้า ห่อเหี่ยว ท้อถอย : 0.01573185995221138\n",
      "7.คำศัพท์ Synonym ที่แปลว่า ตรงกันข้าม แปลกประหลาด : 0.23361623287200928\n",
      "8.คำศัพท์ Synonym ที่แปลว่า ความสามารถ : 0.46027469635009766\n",
      "9.คำศัพท์ Synonym ที่แปลว่า ได้รับ: 0.3165584206581116\n",
      "10.คำศัพท์ Synonym ที่แปลว่า เห็นด้วย : 0.1876089870929718\n"
     ]
    }
   ],
   "source": [
    "print(f\"1.คำศัพท์ Synonym ที่แปลว่า สวย งดงาม ดีงาม เลิศ : {model.similarity('Charming', 'Pretty')}\")\n",
    "print(f\"2.คำศัพท์ Synonym ที่แปลว่า มีความสุข ปลื้ม สบายใจ สุขสม : {model.similarity('Happy', 'Energetic')}\")\n",
    "print(f\"3.คำศัพท์ synonym ที่แปลว่า ความโกรธ ไม่ชอบ ขัดเคือง เสียใจ : {model.similarity('Anger', 'Aggravated')}\")\n",
    "print(f\"4.คำศัพท์ synonym ที่แปลว่า กลัว, เกรง, เกลียด, ตระหนก,เครียด : {model.similarity('Fear', 'Anxious')}\")\n",
    "print(f\"5.คำศัพท์ Synonym ที่แปลว่า ความสับสน ยุ่งเหยิง งงงวย ความทุลักทุเล : {model.similarity('Confusion', 'Ambivalent')}\")\n",
    "print(f\"6.คำศัพท์ Synonym ที่แปลว่า ภาวะซึมเศร้า ห่อเหี่ยว ท้อถอย : {model.similarity('Depression', 'Dejected')}\")\n",
    "print(f\"7.คำศัพท์ Synonym ที่แปลว่า ตรงกันข้าม แปลกประหลาด : {model.similarity('Contradictory', 'Capricious')}\")\n",
    "print(f\"8.คำศัพท์ Synonym ที่แปลว่า ความสามารถ : {model.similarity('abilities', 'capability')}\")\n",
    "print(f\"9.คำศัพท์ Synonym ที่แปลว่า ได้รับ: {model.similarity('get', 'accept')}\")\n",
    "print(f\"10.คำศัพท์ Synonym ที่แปลว่า เห็นด้วย : {model.similarity('agree', 'assent')}\")"
   ]
  },
  {
   "cell_type": "code",
   "execution_count": 61,
   "id": "74f469de",
   "metadata": {},
   "outputs": [
    {
     "name": "stdout",
     "output_type": "stream",
     "text": [
      "Accuracy: 40.00%\n"
     ]
    }
   ],
   "source": [
    "# ข้อมูลทดสอบ\n",
    "test_data = [\n",
    "    {'word1': 'Fear', 'word2': 'Anxious', 'expected_similarity': 0.3},\n",
    "    {'word1': 'Charming', 'word2': 'Pretty', 'expected_similarity': 0.3},\n",
    "    {'word1': 'Happy', 'word2': 'Energetic', 'expected_similarity': 0.3},\n",
    "    {'word1': 'Anger', 'word2': 'Aggravated', 'expected_similarity': 0.3},\n",
    "    {'word1': 'Confusion', 'word2': 'Ambivalent', 'expected_similarity': 0.3},\n",
    "    {'word1': 'Depression', 'word2': 'Dejected', 'expected_similarity': 0.3},\n",
    "    {'word1': 'Contradictory', 'word2': 'Capricious', 'expected_similarity': 0.3},\n",
    "    {'word1': 'abilities', 'word2': 'capability', 'expected_similarity': 0.3},\n",
    "    {'word1': 'get', 'word2': 'accept', 'expected_similarity': 0.3},\n",
    "    {'word1': 'agree', 'word2': 'assent', 'expected_similarity': 0.3} \n",
    "]\n",
    "\n",
    "\n",
    "# ทดสอบโมเดล\n",
    "correct_predictions = 0\n",
    "total_tests = len(test_data)\n",
    "\n",
    "for test_case in test_data:\n",
    "    word1 = test_case['word1']\n",
    "    word2 = test_case['word2']\n",
    "    expected_similarity = test_case['expected_similarity']\n",
    "\n",
    "    try:\n",
    "        # ทำนายความคล้ายคลึง\n",
    "        similarity_score = model.similarity(word1, word2)\n",
    "\n",
    "        # เปรียบเทียบกับค่าความคล้ายที่คาดหวัง\n",
    "        if similarity_score >= expected_similarity:\n",
    "            correct_predictions += 1\n",
    "\n",
    "    except KeyError as e:\n",
    "        print(f\"Word '{e}' not present in the vocabulary.\")\n",
    "\n",
    "# คำนวณค่า accuracy\n",
    "accuracy = correct_predictions / total_tests\n",
    "print(f\"Accuracy: {accuracy * 100:.2f}%\")"
   ]
  },
  {
   "cell_type": "markdown",
   "id": "a184a82e",
   "metadata": {},
   "source": [
    "แหล่งที่มาโจทย์\n",
    "- https://xchangeenglish.com/blog/find-vocabulary-synonym/\n",
    "- https://interpass.in.th/common-synonyms-found-in-exam/"
   ]
  },
  {
   "cell_type": "markdown",
   "id": "6d81a9a1",
   "metadata": {},
   "source": [
    "# Analogy"
   ]
  },
  {
   "cell_type": "code",
   "execution_count": 55,
   "id": "a86b65f7",
   "metadata": {},
   "outputs": [
    {
     "name": "stdout",
     "output_type": "stream",
     "text": [
      "1.general : gen_eral\n",
      "2.impartial : unbiased\n",
      "3.mask : forehead\n",
      "4.splinter : splinter_faction\n",
      "5.pattern : patterns\n",
      "6.brave : courageous\n",
      "7.author : develop\n",
      "8.huge : large\n",
      "9.computer : computers\n",
      "10.anger : crash\n",
      "11.king : queen\n"
     ]
    }
   ],
   "source": [
    "analogy_result1 = model.most_similar(positive=['court', 'general'], negative=['judge'], topn=1)\n",
    "print(f\"1.general : {analogy_result1[0][0]}\")\n",
    "\n",
    "analogy_result2 = model.most_similar(positive=['idle', 'impartial'], negative=['industrious'], topn=1)\n",
    "print(f\"2.impartial : {analogy_result2[0][0]}\")\n",
    "\n",
    "analogy_result3 = model.most_similar(positive=['hand', 'mask'], negative=['gauntlet'], topn=1)\n",
    "print(f\"3.mask : {analogy_result3[0][0]}\")\n",
    "\n",
    "analogy_result4 = model.most_similar(positive=['bread', 'splinter'], negative=['crumb'], topn=1)\n",
    "print(f\"4.splinter : {analogy_result4[0][0]}\")\n",
    "\n",
    "analogy_result5 = model.most_similar(positive=['emotion', 'pattern'], negative=['depression'], topn=1)\n",
    "print(f\"5.pattern : {analogy_result5[0][0]}\")\n",
    "\n",
    "analogy_result6 = model.most_similar(positive=['bad', 'brave'], negative=['good'], topn=1)\n",
    "print(f\"6.brave : {analogy_result6[0][0]}\")\n",
    "\n",
    "analogy_result7 = model.most_similar(positive=['build', 'author'], negative=['carpenter'], topn=1)\n",
    "print(f\"7.author : {analogy_result7[0][0]}\")\n",
    "\n",
    "analogy_result8 = model.most_similar(positive=['small', 'huge'], negative=['short'], topn=1)\n",
    "print(f\"8.huge : {analogy_result8[0][0]}\")\n",
    "\n",
    "analogy_result9 = model.most_similar(positive=['eye', 'computer'], negative=['face'], topn=1)\n",
    "print(f\"9.computer : {analogy_result9[0][0]}\")\n",
    "\n",
    "analogy_result10 = model.most_similar(positive=['accident', 'anger'], negative=['careless'], topn=1)\n",
    "print(f\"10.anger : {analogy_result10[0][0]}\")\n",
    "\n",
    "analogy_result11 = model.most_similar(positive=['woman', 'king'], negative=['man'], topn=1)\n",
    "print(f\"11.king : {analogy_result11[0][0]}\")"
   ]
  },
  {
   "cell_type": "code",
   "execution_count": 66,
   "id": "63ce02ee",
   "metadata": {},
   "outputs": [
    {
     "name": "stdout",
     "output_type": "stream",
     "text": [
      "Accuracy: 70.00%\n"
     ]
    }
   ],
   "source": [
    "from gensim.models import KeyedVectors\n",
    "\n",
    "#โจทย์ Analogy 10 ข้อ\n",
    "test_pairs = [\n",
    "    (\"judge\", \"court\", \"general\", \"gen_eral\"),\n",
    "    (\"industrious\", \"idle\", \"impartial\", \"unbiased\"),\n",
    "    (\"gauntlet\", \"hand\", \"mask\", \"forehead\"),\n",
    "    (\"crumb\", \"bread\", \"splinter\", \"splinter_faction\"),\n",
    "    (\"depression\", \"emotion\", \"pattern\", \"patterns\"),\n",
    "    (\"good\", \"bad\", \"brave\", \"courageous\"),\n",
    "    (\"carpenter\", \"build\", \"author\", \"develop\"),\n",
    "    (\"short\", \"small\", \"huge\", \"large\"),\n",
    "    (\"face\", \"eye\", \"computer\", \"computers\"),\n",
    "    (\"careless\", \"accident\", \"anger\", \"crash\")\n",
    "    \n",
    "]\n",
    "\n",
    "# นับจำนวนคำทดสอบที่ทำนายถูกต้อง\n",
    "correct_predictions = 0\n",
    "\n",
    "# ทดสอบโมเดล\n",
    "for pair in test_pairs:\n",
    "    word1, word1_similar, word2, word2_similar = pair\n",
    "    try:\n",
    "        # ทำนายความคล้ายคลึง\n",
    "        similarity_score = model.similarity(word2, word2_similar)\n",
    "        \n",
    "        # เปรียบเทียบกับคำตอบที่คาดหวัง\n",
    "        if similarity_score > 0.5:  \n",
    "            correct_predictions += 1\n",
    "    except KeyError as e:\n",
    "        print(f\"Word '{e}' not present in the vocabulary.\")\n",
    "\n",
    "# คำนวณค่า accuracy\n",
    "accuracy = correct_predictions / len(test_pairs)\n",
    "print(f\"Accuracy: {accuracy * 100:.2f}%\")\n"
   ]
  },
  {
   "cell_type": "markdown",
   "id": "55fdb85b",
   "metadata": {},
   "source": [
    "แหล่งที่มาโจทย์\n",
    "- https://www.opendurian.com/exercises/gat_eng_mar_52/21/\n",
    "- https://wordwall.net/th/resource/5056295/analogy"
   ]
  },
  {
   "cell_type": "markdown",
   "id": "72d52682",
   "metadata": {},
   "source": [
    "# Doesn't match "
   ]
  },
  {
   "cell_type": "code",
   "execution_count": 35,
   "id": "259fefc4",
   "metadata": {},
   "outputs": [
    {
     "name": "stdout",
     "output_type": "stream",
     "text": [
      "1.The word that doesn't match: eradicate\n",
      "2.The word that doesn't match: offspring\n",
      "3.The word that doesn't match: entangle\n",
      "4.The word that doesn't match: priority\n",
      "5.The word that doesn't match: contingent\n",
      "6.The word that doesn't match: ponder\n",
      "7.The word that doesn't match: composed\n",
      "8.The word that doesn't match: prosperity\n",
      "9.The word that doesn't match: chest\n",
      "10.The word that doesn't match: carbon\n"
     ]
    }
   ],
   "source": [
    "print(f\"1.The word that doesn't match: {model.doesnt_match(['hoard', 'collect', 'eradicate', 'accumulate'])}\")\n",
    "print(f\"2.The word that doesn't match: {model.doesnt_match(['offspring', 'beginning', 'commencement', 'infancy'])}\")\n",
    "print(f\"3.The word that doesn't match: {model.doesnt_match(['advertise', 'entangle', 'publicize', 'circulate'])}\")\n",
    "print(f\"4.The word that doesn't match: {model.doesnt_match(['attraction', 'enticement', 'priority', 'lure'])}\")\n",
    "print(f\"5.The word that doesn't match: {model.doesnt_match(['contingent', 'coherent', 'accidental', 'haphazard'])}\")\n",
    "print(f\"6.The word that doesn't match: {model.doesnt_match(['disentangle', 'solve', 'resolve', 'ponder'])}\")\n",
    "print(f\"7.The word that doesn't match: {model.doesnt_match(['composed', 'arbitrary', 'random', 'indulgent'])}\")\n",
    "print(f\"8.The word that doesn't match: {model.doesnt_match(['prosperity', 'accommodation', 'home', 'residence'])}\")\n",
    "print(f\"9.The word that doesn't match: {model.doesnt_match(['ear', 'lip', 'nose', 'chest'])}\")\n",
    "print(f\"10.The word that doesn't match: {model.doesnt_match(['copper', 'iron', 'aluminum', 'carbon'])}\")"
   ]
  },
  {
   "cell_type": "code",
   "execution_count": 67,
   "id": "d09433fc",
   "metadata": {},
   "outputs": [
    {
     "name": "stdout",
     "output_type": "stream",
     "text": [
      "Accuracy: 90.00%\n"
     ]
    }
   ],
   "source": [
    "# Sample dataset with labeled examples\n",
    "doesnt_match_data = [\n",
    "    (['hoard', 'collect', 'eradicate', 'accumulate'], 'eradicate'),\n",
    "    (['offspring', 'beginning', 'commencement', 'infancy'], 'offspring'),\n",
    "    (['advertise', 'entangle', 'publicize', 'circulate'], 'entangle'),\n",
    "    (['attraction', 'enticement', 'priority', 'lure'], 'priority'),\n",
    "    (['contingent', 'coherent', 'accidental', 'haphazard'], 'coherent'),\n",
    "    (['disentangle', 'solve', 'resolve', 'ponder'], 'ponder'),\n",
    "    (['composed', 'arbitrary', 'random', 'indulgent'], 'composed'),\n",
    "    (['prosperity', 'accommodation', 'home', 'residence'], 'prosperity'),\n",
    "    (['ear', 'lip', 'nose', 'chest'], 'chest'),\n",
    "    (['copper', 'iron', 'aluminum', 'carbon'], 'carbon')\n",
    "]\n",
    "\n",
    "# Test the \"Doesn't match\" task and calculate accuracy\n",
    "correct_predictions = 0\n",
    "total_examples = len(doesnt_match_data)\n",
    "\n",
    "for example, expected_answer in doesnt_match_data:\n",
    "    try:\n",
    "        result = model.doesnt_match(example)\n",
    "        \n",
    "        # Check if the result matches the expected answer\n",
    "        if result == expected_answer:\n",
    "            correct_predictions += 1\n",
    "    except ValueError as e:\n",
    "        print(f\"Error: {e}\")\n",
    "\n",
    "# Calculate accuracy\n",
    "accuracy = correct_predictions / total_examples\n",
    "print(f\"Accuracy: {accuracy * 100:.2f}%\")\n"
   ]
  },
  {
   "cell_type": "markdown",
   "id": "7de59e48",
   "metadata": {},
   "source": [
    "แหล่งที่มาโจทย์\n",
    "- https://view.officeapps.live.com/op/view.aspx?src=https%3A%2F%2Fpitukpong.files.wordpress.com%2F2013%2F07%2Fe0b882e0b989e0b8ade0b8aae0b8ade0b89a-analogy-e0b980e0b89be0b987e0b899e0b882e0b989e0b8ade0b8aae0b8ade0b89ae0b897e0b8b5e0b988e0b8a7e0b8b1.doc&wdOrigin=BROWSELINK"
   ]
  }
 ],
 "metadata": {
  "kernelspec": {
   "display_name": "Python 3 (ipykernel)",
   "language": "python",
   "name": "python3"
  },
  "language_info": {
   "codemirror_mode": {
    "name": "ipython",
    "version": 3
   },
   "file_extension": ".py",
   "mimetype": "text/x-python",
   "name": "python",
   "nbconvert_exporter": "python",
   "pygments_lexer": "ipython3",
   "version": "3.11.5"
  }
 },
 "nbformat": 4,
 "nbformat_minor": 5
}
