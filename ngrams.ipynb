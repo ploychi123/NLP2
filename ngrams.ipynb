{
 "cells": [
  {
   "cell_type": "markdown",
   "metadata": {},
   "source": [
    "## ตัวอย่าง ngrams ระดับตัวอักษร และระดับคำ"
   ]
  },
  {
   "cell_type": "code",
   "execution_count": 38,
   "metadata": {},
   "outputs": [
    {
     "name": "stdout",
     "output_type": "stream",
     "text": [
      "[('f', 'o'), ('o', 'o'), ('o', ' '), (' ', 'b'), ('b', 'a'), ('a', 'r'), ('r', ' '), (' ', 's'), ('s', 'e'), ('e', 'n'), ('n', 't'), ('t', 'e'), ('e', 'n'), ('n', 'c'), ('c', 'e')]\n",
      "fo, oo, o ,  b, ba, ar, r ,  s, se, en, nt, te, en, nc, ce\n",
      "\n",
      "[('f', 'o', 'o'), ('o', 'o', ' '), ('o', ' ', 'b'), (' ', 'b', 'a'), ('b', 'a', 'r'), ('a', 'r', ' '), ('r', ' ', 's'), (' ', 's', 'e'), ('s', 'e', 'n'), ('e', 'n', 't'), ('n', 't', 'e'), ('t', 'e', 'n'), ('e', 'n', 'c'), ('n', 'c', 'e')]\n",
      "foo, oo , o b,  ba, bar, ar , r s,  se, sen, ent, nte, ten, enc, nce\n",
      "\n",
      "[('foo', 'bar'), ('bar', 'sentence')]\n",
      "foo bar, bar sentence\n"
     ]
    }
   ],
   "source": [
    "from nltk import word_tokenize, ngrams\n",
    "s = \"foo bar sentence\"\n",
    "\n",
    "# Character ngrams.\n",
    "char_bigram = list(ngrams(s, 2))\n",
    "print(char_bigram)\n",
    "print(*map(''.join, char_bigram), sep=', ')\n",
    "print()\n",
    "\n",
    "char_trigram = list(ngrams(s, 3))\n",
    "print(char_trigram)\n",
    "print(*map(''.join, char_trigram), sep=', ')\n",
    "print()\n",
    "\n",
    "# Word ngrams.\n",
    "word_bigram = list(ngrams(word_tokenize(s), 2))\n",
    "print(word_bigram)\n",
    "print(*map(' '.join, word_bigram), sep=', ')"
   ]
  },
  {
   "cell_type": "code",
   "execution_count": 39,
   "metadata": {},
   "outputs": [
    {
     "name": "stdout",
     "output_type": "stream",
     "text": [
      "['The', 'family', 'of', 'Dashwood', 'had', 'long', 'been', 'settled', 'in', 'Sussex', '.']\n",
      "The family of Dashwood had long been settled in Sussex .\n",
      "\n",
      "('The', 'family')\n",
      "('family', 'of')\n",
      "('of', 'Dashwood')\n",
      "('Dashwood', 'had')\n",
      "('had', 'long')\n",
      "('long', 'been')\n",
      "('been', 'settled')\n",
      "('settled', 'in')\n",
      "('in', 'Sussex')\n",
      "('Sussex', '.')\n",
      "The family, family of, of Dashwood, Dashwood had, had long, long been, been settled, settled in, in Sussex, Sussex .\n",
      "\n",
      "('The', 'family', 'of')\n",
      "('family', 'of', 'Dashwood')\n",
      "('of', 'Dashwood', 'had')\n",
      "('Dashwood', 'had', 'long')\n",
      "('had', 'long', 'been')\n",
      "('long', 'been', 'settled')\n",
      "('been', 'settled', 'in')\n",
      "('settled', 'in', 'Sussex')\n",
      "('in', 'Sussex', '.')\n",
      "The family of, family of Dashwood, of Dashwood had, Dashwood had long, had long been, long been settled, been settled in, settled in Sussex, in Sussex .\n",
      "\n"
     ]
    }
   ],
   "source": [
    "# ngram ระดับคำ\n",
    "import nltk\n",
    "from nltk.corpus import gutenberg\n",
    "text = gutenberg.sents('austen-sense.txt')[2]\n",
    "print(text)\n",
    "print(*map(''.join, text), sep=' ')\n",
    "print()\n",
    "\n",
    "bigram = list(nltk.bigrams(text))\n",
    "for bi in bigram:\n",
    "    print(bi)\n",
    "print(*map(' '.join, bigram), sep=', ')\n",
    "print()\n",
    "\n",
    "trigram = list(nltk.trigrams(text))\n",
    "for tri in trigram:\n",
    "    print(tri)\n",
    "print(*map(' '.join, trigram), sep=', ')\n",
    "print()"
   ]
  },
  {
   "cell_type": "code",
   "execution_count": 45,
   "metadata": {},
   "outputs": [
    {
     "name": "stdout",
     "output_type": "stream",
     "text": [
      "1\n",
      "3\n",
      "0.3333333333333333\n"
     ]
    }
   ],
   "source": [
    "# จากประโยค \"I am a ....\" ต้องหาว่าคำถัดไปเป็นคำว่าอะไร ลองหาคำนวณหาความน่าจะเป็นของคำถัดไปเป็นคำว่า \"student\" จาก corpus ที่ให้\n",
    "# p(\"student\"|\"I am a\") = c(\"I am a student\") / c(\"I am a\")\n",
    "\n",
    "corpus = [\"I am a police\", \n",
    "          \"I am a student\", \n",
    "          \"I am a doctor\",\n",
    "          \"You are an engineer\", \n",
    "          \"You like to construct things\" ]\n",
    "\n",
    "count_i_am_a_student = sum([text.count(\"I am a student\") for text in corpus])\n",
    "print(count_i_am_a_student)\n",
    "count_i_am_a = sum([text.count(\"I am a\") for text in corpus])\n",
    "print(count_i_am_a)\n",
    "\n",
    "prob_student = count_i_am_a_student / count_i_am_a\n",
    "print(prob_student)"
   ]
  },
  {
   "cell_type": "code",
   "execution_count": 65,
   "metadata": {},
   "outputs": [
    {
     "name": "stdout",
     "output_type": "stream",
     "text": [
      "141575\n",
      "[('[', 'Sense'), ('Sense', 'and'), ('and', 'Sensibility'), ('Sensibility', 'by'), ('by', 'Jane'), ('Jane', 'Austen'), ('Austen', '1811'), ('1811', ']'), (']', 'CHAPTER'), ('CHAPTER', '1')]\n",
      "dear\n"
     ]
    },
    {
     "data": {
      "image/png": "[encoded data removed]",
      "text/plain": [
       "<Figure size 432x288 with 1 Axes>"
      ]
     },
     "metadata": {
      "needs_background": "light"
     },
     "output_type": "display_data"
    },
    {
     "name": "stdout",
     "output_type": "stream",
     "text": [
      "AxesSubplot(0.125,0.125;0.775x0.755)\n",
      "    dear      own   mother    heart     life feelings   sister    power     word  brother \n",
      "      55       35       25       23       14       13       12       11        9        9 \n",
      "None\n"
     ]
    }
   ],
   "source": [
    "import nltk\n",
    "from nltk.corpus import gutenberg\n",
    "\n",
    "all_words = gutenberg.words('austen-sense.txt')\n",
    "bigram = list(nltk.bigrams(all_words))\n",
    "print(len(bigram))\n",
    "print(bigram[:10])\n",
    "\n",
    "cfd = nltk.ConditionalFreqDist(bigram)\n",
    "print(cfd[\"my\"].max())\n",
    "print(cfd[\"my\"].plot(10))\n",
    "print(cfd[\"my\"].tabulate(10))\n"
   ]
  },
  {
   "cell_type": "markdown",
   "metadata": {},
   "source": [
    "### แบบฝึกหัด"
   ]
  },
  {
   "cell_type": "code",
   "execution_count": null,
   "metadata": {},
   "outputs": [],
   "source": [
    "# 1. หาความน่าจะเป็นของประโยคภาษาอังกฤษ 2 ประโยคที่ไม่แน่ใจว่าควรใช้คำว่าอะไร ใน brown corpus โดยใช้ unigram model\n",
    "#    เช่น \"I hear your voice\" และ \"I heard your voice\" (เลือกให้มีคำต่างกันอย่างน้อย 1-2 คำขึ้นไป) กำหนดประโยคขึ้นเอง"
   ]
  },
  {
   "cell_type": "code",
   "execution_count": null,
   "metadata": {},
   "outputs": [],
   "source": [
    "# 2. หาความน่าจะเป็นของประโยคภาษาอังกฤษ 2 ประโยคที่ไม่แน่ใจว่าควรใช้คำว่าอะไร ใน brown corpus โดยใช้  bigram model\n",
    "#    เช่น \"I hear your voice\" และ \"I heard your voice\" (เลือกให้มีคำต่างกันอย่างน้อย 1-2 คำขึ้นไป) กำหนดประโยคขึ้นเอง"
   ]
  },
  {
   "cell_type": "code",
   "execution_count": null,
   "metadata": {},
   "outputs": [],
   "source": [
    "# 3. หา perplexity ของประโยค\n"
   ]
  },
  {
   "cell_type": "code",
   "execution_count": 64,
   "metadata": {},
   "outputs": [],
   "source": [
    "# หาว่าคำใดเป็นคำถัดไปของคำว่า \"fellow ...\" ที่พบได้บ่อยที่สุดใน inaugural corpus โดยใช้ bigram model"
   ]
  },
  {
   "cell_type": "code",
   "execution_count": null,
   "metadata": {},
   "outputs": [],
   "source": [
    "# หา trigram ที่เกิดบ่อยที่สุดใน inaugural corpus"
   ]
  }
 ],
 "metadata": {
  "kernelspec": {
   "display_name": "Python 3 (ipykernel)",
   "language": "python",
   "name": "python3"
  },
  "language_info": {
   "codemirror_mode": {
    "name": "ipython",
    "version": 3
   },
   "file_extension": ".py",
   "mimetype": "text/x-python",
   "name": "python",
   "nbconvert_exporter": "python",
   "pygments_lexer": "ipython3",
   "version": "3.11.5"
  }
 },
 "nbformat": 4,
 "nbformat_minor": 2
}
